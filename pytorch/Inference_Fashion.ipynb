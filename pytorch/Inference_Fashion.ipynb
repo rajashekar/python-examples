{
 "cells": [
  {
   "cell_type": "code",
   "execution_count": 17,
   "metadata": {},
   "outputs": [],
   "source": [
    "import torch\n",
    "from torchvision import datasets, transforms\n",
    "\n",
    "# Define a transform to normalize the data\n",
    "transform = transforms.Compose([transforms.ToTensor(),\n",
    "                              transforms.Normalize((0.5,), (0.5,)),\n",
    "                              ])\n",
    "# Download and load training data\n",
    "trainset = datasets.FashionMNIST('FashionMNIST/', download=True, train=True, transform=transform)\n",
    "trainloader = torch.utils.data.DataLoader(trainset, batch_size=64, shuffle=True)\n",
    "\n",
    "# Download and load the test data\n",
    "testset = datasets.FashionMNIST('FashionMNIST/', download=True, train=False, transform=transform)\n",
    "testloader = torch.utils.data.DataLoader(testset, batch_size=64, shuffle=True)"
   ]
  },
  {
   "cell_type": "code",
   "execution_count": 29,
   "metadata": {},
   "outputs": [
    {
     "name": "stdout",
     "output_type": "stream",
     "text": [
      "torch.Size([64, 1, 28, 28])\n",
      "torch.Size([64])\n"
     ]
    }
   ],
   "source": [
    "images, labels = next(iter(testloader))\n",
    "print(images.shape)\n",
    "print(labels.shape)"
   ]
  },
  {
   "cell_type": "code",
   "execution_count": 32,
   "metadata": {},
   "outputs": [],
   "source": [
    "from torch import nn, optim\n",
    "import torch.nn.functional as F\n",
    "\n",
    "class Classifier(nn.Module):\n",
    "    def __init__(self):\n",
    "        super().__init__()\n",
    "        self.fc1 = nn.Linear(784, 256)\n",
    "        self.fc2 = nn.Linear(256, 128)\n",
    "        self.fc3 = nn.Linear(128, 64)\n",
    "        self.fc4 = nn.Linear(64, 10)\n",
    "        \n",
    "    def forward(self, x):\n",
    "        # make sure input tensor is flattened\n",
    "        x = x.view(x.shape[0],-1)\n",
    "        \n",
    "        x = F.relu(self.fc1(x))\n",
    "        x = F.relu(self.fc2(x))\n",
    "        x = F.relu(self.fc3(x))\n",
    "        x = F.log_softmax(self.fc4(x), dim=1)\n",
    "        \n",
    "        return x"
   ]
  },
  {
   "cell_type": "code",
   "execution_count": 34,
   "metadata": {},
   "outputs": [
    {
     "name": "stdout",
     "output_type": "stream",
     "text": [
      "Classifier(\n",
      "  (fc1): Linear(in_features=784, out_features=256, bias=True)\n",
      "  (fc2): Linear(in_features=256, out_features=128, bias=True)\n",
      "  (fc3): Linear(in_features=128, out_features=64, bias=True)\n",
      "  (fc4): Linear(in_features=64, out_features=10, bias=True)\n",
      ")\n",
      "torch.Size([64, 10])\n"
     ]
    }
   ],
   "source": [
    "model = Classifier()\n",
    "\n",
    "images, labels = next(iter(testloader))\n",
    "\n",
    "print(model)\n",
    "# Get the class probabalities\n",
    "ps = torch.exp(model(images))\n",
    "# Make sure the shape is appropriate, we should get 10 class probabilities for 64 examples\n",
    "print(ps.shape)"
   ]
  },
  {
   "cell_type": "code",
   "execution_count": 55,
   "metadata": {},
   "outputs": [
    {
     "name": "stdout",
     "output_type": "stream",
     "text": [
      "tensor([[6],\n",
      "        [8],\n",
      "        [6],\n",
      "        [6],\n",
      "        [6],\n",
      "        [8],\n",
      "        [8],\n",
      "        [8],\n",
      "        [8],\n",
      "        [8]])\n"
     ]
    }
   ],
   "source": [
    "# Now with above probabilities, ps.topk method returns k highest values\n",
    "# to get most likely class, we use ps.topk(1) since it is nearer to 1?\n",
    "# This returns a tuple of top-k values and the topk indices\n",
    "# if the highest value is the fifth element, we'll get back 4 as the index\n",
    "top_p, top_class = ps.topk(1, dim=1)\n",
    "print(top_class[:10,:])"
   ]
  },
  {
   "cell_type": "code",
   "execution_count": 56,
   "metadata": {},
   "outputs": [
    {
     "name": "stdout",
     "output_type": "stream",
     "text": [
      "torch.Size([64, 1])\n",
      "torch.Size([64, 1])\n"
     ]
    }
   ],
   "source": [
    "print(top_class.shape)\n",
    "print(labels.view(*top_class.shape).shape)"
   ]
  },
  {
   "cell_type": "code",
   "execution_count": 57,
   "metadata": {},
   "outputs": [],
   "source": [
    "equals = top_class == labels.view(*top_class.shape)"
   ]
  },
  {
   "cell_type": "code",
   "execution_count": 58,
   "metadata": {},
   "outputs": [
    {
     "name": "stdout",
     "output_type": "stream",
     "text": [
      "tensor([[False],\n",
      "        [False],\n",
      "        [False],\n",
      "        [False],\n",
      "        [False],\n",
      "        [False],\n",
      "        [False],\n",
      "        [False],\n",
      "        [False],\n",
      "        [False],\n",
      "        [False],\n",
      "        [False],\n",
      "        [False],\n",
      "        [False],\n",
      "        [False],\n",
      "        [False],\n",
      "        [False],\n",
      "        [False],\n",
      "        [False],\n",
      "        [False],\n",
      "        [False],\n",
      "        [False],\n",
      "        [False],\n",
      "        [False],\n",
      "        [False],\n",
      "        [False],\n",
      "        [False],\n",
      "        [False],\n",
      "        [False],\n",
      "        [False],\n",
      "        [False],\n",
      "        [False],\n",
      "        [ True],\n",
      "        [False],\n",
      "        [False],\n",
      "        [False],\n",
      "        [False],\n",
      "        [ True],\n",
      "        [False],\n",
      "        [False],\n",
      "        [False],\n",
      "        [False],\n",
      "        [False],\n",
      "        [ True],\n",
      "        [False],\n",
      "        [False],\n",
      "        [False],\n",
      "        [False],\n",
      "        [False],\n",
      "        [False],\n",
      "        [False],\n",
      "        [False],\n",
      "        [False],\n",
      "        [ True],\n",
      "        [False],\n",
      "        [False],\n",
      "        [False],\n",
      "        [False],\n",
      "        [False],\n",
      "        [False],\n",
      "        [False],\n",
      "        [ True],\n",
      "        [False],\n",
      "        [False]])\n",
      "torch.Size([64, 1])\n"
     ]
    }
   ],
   "source": [
    "print(equals)\n",
    "print(equals.shape)"
   ]
  },
  {
   "cell_type": "code",
   "execution_count": 62,
   "metadata": {},
   "outputs": [
    {
     "name": "stdout",
     "output_type": "stream",
     "text": [
      "Accuracy: 7.8125%\n"
     ]
    }
   ],
   "source": [
    "accuracy = torch.mean(equals.type(torch.FloatTensor))\n",
    "print(f'Accuracy: {accuracy.item()*100}%')"
   ]
  },
  {
   "cell_type": "code",
   "execution_count": 63,
   "metadata": {},
   "outputs": [
    {
     "name": "stdout",
     "output_type": "stream",
     "text": [
      "Epoch: 1/30.. Training Loss: 0.513422.. Test Loss: 0.464.. Test Accuracy: 0.837\n",
      "Epoch: 2/30.. Training Loss: 0.390877.. Test Loss: 0.413.. Test Accuracy: 0.848\n",
      "Epoch: 3/30.. Training Loss: 0.357694.. Test Loss: 0.388.. Test Accuracy: 0.866\n",
      "Epoch: 4/30.. Training Loss: 0.334220.. Test Loss: 0.400.. Test Accuracy: 0.853\n",
      "Epoch: 5/30.. Training Loss: 0.319416.. Test Loss: 0.374.. Test Accuracy: 0.863\n",
      "Epoch: 6/30.. Training Loss: 0.305163.. Test Loss: 0.394.. Test Accuracy: 0.867\n",
      "Epoch: 7/30.. Training Loss: 0.292181.. Test Loss: 0.379.. Test Accuracy: 0.867\n",
      "Epoch: 8/30.. Training Loss: 0.285078.. Test Loss: 0.362.. Test Accuracy: 0.872\n",
      "Epoch: 9/30.. Training Loss: 0.278306.. Test Loss: 0.384.. Test Accuracy: 0.868\n",
      "Epoch: 10/30.. Training Loss: 0.268553.. Test Loss: 0.360.. Test Accuracy: 0.876\n",
      "Epoch: 11/30.. Training Loss: 0.261646.. Test Loss: 0.369.. Test Accuracy: 0.879\n",
      "Epoch: 12/30.. Training Loss: 0.251565.. Test Loss: 0.378.. Test Accuracy: 0.874\n",
      "Epoch: 13/30.. Training Loss: 0.247698.. Test Loss: 0.392.. Test Accuracy: 0.876\n",
      "Epoch: 14/30.. Training Loss: 0.243254.. Test Loss: 0.354.. Test Accuracy: 0.881\n",
      "Epoch: 15/30.. Training Loss: 0.235520.. Test Loss: 0.386.. Test Accuracy: 0.875\n",
      "Epoch: 16/30.. Training Loss: 0.233298.. Test Loss: 0.399.. Test Accuracy: 0.874\n",
      "Epoch: 17/30.. Training Loss: 0.226725.. Test Loss: 0.391.. Test Accuracy: 0.874\n",
      "Epoch: 18/30.. Training Loss: 0.224608.. Test Loss: 0.378.. Test Accuracy: 0.880\n",
      "Epoch: 19/30.. Training Loss: 0.219689.. Test Loss: 0.364.. Test Accuracy: 0.882\n",
      "Epoch: 20/30.. Training Loss: 0.218372.. Test Loss: 0.410.. Test Accuracy: 0.878\n",
      "Epoch: 21/30.. Training Loss: 0.211305.. Test Loss: 0.386.. Test Accuracy: 0.878\n",
      "Epoch: 22/30.. Training Loss: 0.212594.. Test Loss: 0.375.. Test Accuracy: 0.885\n",
      "Epoch: 23/30.. Training Loss: 0.201890.. Test Loss: 0.404.. Test Accuracy: 0.877\n",
      "Epoch: 24/30.. Training Loss: 0.202876.. Test Loss: 0.424.. Test Accuracy: 0.880\n",
      "Epoch: 25/30.. Training Loss: 0.191392.. Test Loss: 0.399.. Test Accuracy: 0.878\n",
      "Epoch: 26/30.. Training Loss: 0.196364.. Test Loss: 0.409.. Test Accuracy: 0.886\n",
      "Epoch: 27/30.. Training Loss: 0.197014.. Test Loss: 0.408.. Test Accuracy: 0.874\n",
      "Epoch: 28/30.. Training Loss: 0.189397.. Test Loss: 0.403.. Test Accuracy: 0.883\n",
      "Epoch: 29/30.. Training Loss: 0.185730.. Test Loss: 0.414.. Test Accuracy: 0.876\n",
      "Epoch: 30/30.. Training Loss: 0.185225.. Test Loss: 0.411.. Test Accuracy: 0.884\n"
     ]
    }
   ],
   "source": [
    "# Above accuracy is based on with any training\n",
    "model = Classifier()\n",
    "criterion = nn.NLLLoss()\n",
    "optimizer = optim.Adam(model.parameters(), lr=0.003)\n",
    "\n",
    "epochs = 30\n",
    "steps = 0\n",
    "\n",
    "train_losses, test_losses = [], []\n",
    "for e in range(epochs):\n",
    "    running_loss = 0\n",
    "    for images, labels in trainloader:\n",
    "        # reset any previous gradients\n",
    "        optimizer.zero_grad()\n",
    "        # forward feed\n",
    "        log_ps = model(images)\n",
    "        # loss\n",
    "        loss = criterion(log_ps, labels)\n",
    "        # backward propagation\n",
    "        loss.backward()\n",
    "        # Update weights\n",
    "        optimizer.step()\n",
    "        \n",
    "        running_loss += loss.item()\n",
    "    else:\n",
    "        ## Implement the validation pass and print out the validation accuracy\n",
    "        test_loss = 0\n",
    "        accuracy = 0\n",
    "        \n",
    "        # Turn off gradients for validation, saves memory and computations\n",
    "        with torch.no_grad():\n",
    "            for images, labels in testloader:\n",
    "                log_ps = model(images)\n",
    "                test_loss += criterion(log_ps, labels)\n",
    "                \n",
    "                ps = torch.exp(log_ps)\n",
    "                top_p, top_class = ps.topk(1, dim=1)\n",
    "                equals = top_class == labels.view(*top_class.shape)\n",
    "                accuracy += torch.mean(equals.type(torch.FloatTensor))\n",
    "                \n",
    "        train_losses.append(running_loss/len(trainloader))\n",
    "        test_losses.append(test_loss/len(testloader))\n",
    "        \n",
    "        print(\"Epoch: {}/{}..\".format(e+1, epochs),\n",
    "              \"Training Loss: {:3f}..\".format(running_loss/len(trainloader)),\n",
    "              \"Test Loss: {:.3f}..\".format(test_loss/len(testloader)),\n",
    "              \"Test Accuracy: {:.3f}\".format(accuracy/len(testloader)))\n",
    "        "
   ]
  },
  {
   "cell_type": "code",
   "execution_count": 64,
   "metadata": {},
   "outputs": [],
   "source": [
    "%matplotlib inline\n",
    "%config InlineBackend.figure_format = 'retina'\n",
    "\n",
    "import matplotlib.pyplot as plt"
   ]
  },
  {
   "cell_type": "code",
   "execution_count": 65,
   "metadata": {},
   "outputs": [
    {
     "data": {
      "text/plain": [
       "<matplotlib.legend.Legend at 0x122a08fd0>"
      ]
     },
     "execution_count": 65,
     "metadata": {},
     "output_type": "execute_result"
    },
    {
     "data": {
      "image/png": "[encoded data removed]",
      "text/plain": [
       "<Figure size 432x288 with 1 Axes>"
      ]
     },
     "metadata": {
      "image/png": {
       "height": 248,
       "width": 380
      },
      "needs_background": "light"
     },
     "output_type": "display_data"
    }
   ],
   "source": [
    "plt.plot(train_losses, label='Training loss')\n",
    "plt.plot(test_losses, label='Validation loss')\n",
    "plt.legend(frameon=False)"
   ]
  },
  {
   "cell_type": "code",
   "execution_count": 67,
   "metadata": {},
   "outputs": [],
   "source": [
    "## Implementing Classifer with dropout to solve above issue\n",
    "class Classifier(nn.Module):\n",
    "    def __init__(self):\n",
    "        super().__init__()\n",
    "        self.fc1 = nn.Linear(784, 256)\n",
    "        self.fc2 = nn.Linear(256, 128)\n",
    "        self.fc3 = nn.Linear(128, 64)\n",
    "        self.fc4 = nn.Linear(64, 10)\n",
    "        \n",
    "        # Dropout module with 0.2 drop probability\n",
    "        self.dropout = nn.Dropout(p=0.2)\n",
    "        \n",
    "    def forward(self, x):\n",
    "        # make sure input tensor is flattened\n",
    "        x = x.view(x.shape[0],-1)\n",
    "        \n",
    "        # Now with dropout\n",
    "        x = self.dropout(F.relu(self.fc1(x)))\n",
    "        x = self.dropout(F.relu(self.fc2(x)))\n",
    "        x = self.dropout(F.relu(self.fc3(x)))\n",
    "        \n",
    "        # output so no dropout here\n",
    "        x = F.log_softmax(self.fc4(x), dim=1)\n",
    "        return x"
   ]
  },
  {
   "cell_type": "code",
   "execution_count": 73,
   "metadata": {},
   "outputs": [
    {
     "name": "stdout",
     "output_type": "stream",
     "text": [
      "Epoch: 1/30.. Training Loss: 0.602.. Test Loss: 0.488.. Test Accuracy : 0.821\n",
      "Epoch: 2/30.. Training Loss: 0.479.. Test Loss: 0.466.. Test Accuracy : 0.835\n",
      "Epoch: 3/30.. Training Loss: 0.448.. Test Loss: 0.439.. Test Accuracy : 0.841\n",
      "Epoch: 4/30.. Training Loss: 0.431.. Test Loss: 0.412.. Test Accuracy : 0.853\n",
      "Epoch: 5/30.. Training Loss: 0.420.. Test Loss: 0.398.. Test Accuracy : 0.860\n",
      "Epoch: 6/30.. Training Loss: 0.408.. Test Loss: 0.397.. Test Accuracy : 0.860\n",
      "Epoch: 7/30.. Training Loss: 0.405.. Test Loss: 0.393.. Test Accuracy : 0.864\n",
      "Epoch: 8/30.. Training Loss: 0.397.. Test Loss: 0.410.. Test Accuracy : 0.857\n",
      "Epoch: 9/30.. Training Loss: 0.387.. Test Loss: 0.396.. Test Accuracy : 0.860\n",
      "Epoch: 10/30.. Training Loss: 0.387.. Test Loss: 0.399.. Test Accuracy : 0.864\n",
      "Epoch: 11/30.. Training Loss: 0.384.. Test Loss: 0.390.. Test Accuracy : 0.864\n",
      "Epoch: 12/30.. Training Loss: 0.383.. Test Loss: 0.385.. Test Accuracy : 0.865\n",
      "Epoch: 13/30.. Training Loss: 0.374.. Test Loss: 0.378.. Test Accuracy : 0.870\n",
      "Epoch: 14/30.. Training Loss: 0.369.. Test Loss: 0.373.. Test Accuracy : 0.871\n",
      "Epoch: 15/30.. Training Loss: 0.365.. Test Loss: 0.379.. Test Accuracy : 0.870\n",
      "Epoch: 16/30.. Training Loss: 0.367.. Test Loss: 0.377.. Test Accuracy : 0.874\n",
      "Epoch: 17/30.. Training Loss: 0.366.. Test Loss: 0.383.. Test Accuracy : 0.869\n",
      "Epoch: 18/30.. Training Loss: 0.362.. Test Loss: 0.372.. Test Accuracy : 0.873\n",
      "Epoch: 19/30.. Training Loss: 0.362.. Test Loss: 0.377.. Test Accuracy : 0.865\n",
      "Epoch: 20/30.. Training Loss: 0.348.. Test Loss: 0.376.. Test Accuracy : 0.875\n",
      "Epoch: 21/30.. Training Loss: 0.357.. Test Loss: 0.385.. Test Accuracy : 0.869\n",
      "Epoch: 22/30.. Training Loss: 0.358.. Test Loss: 0.375.. Test Accuracy : 0.870\n",
      "Epoch: 23/30.. Training Loss: 0.352.. Test Loss: 0.384.. Test Accuracy : 0.863\n",
      "Epoch: 24/30.. Training Loss: 0.349.. Test Loss: 0.399.. Test Accuracy : 0.868\n",
      "Epoch: 25/30.. Training Loss: 0.346.. Test Loss: 0.378.. Test Accuracy : 0.870\n",
      "Epoch: 26/30.. Training Loss: 0.344.. Test Loss: 0.381.. Test Accuracy : 0.866\n",
      "Epoch: 27/30.. Training Loss: 0.354.. Test Loss: 0.377.. Test Accuracy : 0.872\n",
      "Epoch: 28/30.. Training Loss: 0.350.. Test Loss: 0.384.. Test Accuracy : 0.870\n",
      "Epoch: 29/30.. Training Loss: 0.346.. Test Loss: 0.377.. Test Accuracy : 0.874\n",
      "Epoch: 30/30.. Training Loss: 0.338.. Test Loss: 0.372.. Test Accuracy : 0.876\n"
     ]
    }
   ],
   "source": [
    "model = Classifier()\n",
    "criterion = nn.NLLLoss()\n",
    "optimizer = optim.Adam(model.parameters(), lr=0.003)\n",
    "\n",
    "epochs = 30\n",
    "steps = 0\n",
    "\n",
    "train_losses, test_losses = [], []\n",
    "for e in range(epochs):\n",
    "    running_loss = 0\n",
    "    for images, labels in trainloader:\n",
    "        # make sure of no previous gradients\n",
    "        optimizer.zero_grad()\n",
    "        # forward feed\n",
    "        log_ps = model(images)\n",
    "        # calculate loss\n",
    "        loss = criterion(log_ps, labels)\n",
    "        # back prop\n",
    "        loss.backward()\n",
    "        # update the weights\n",
    "        optimizer.step()\n",
    "        \n",
    "        running_loss += loss.item()\n",
    "        \n",
    "    else:\n",
    "        test_loss = 0\n",
    "        accuracy = 0\n",
    "        \n",
    "        # Turn off gradients\n",
    "        with torch.no_grad():\n",
    "            # set model to evaluation mode\n",
    "            model.eval()\n",
    "            for images, labels in testloader:\n",
    "                log_ps = model(images)\n",
    "                test_loss += criterion(log_ps, labels)\n",
    "                \n",
    "                ps = torch.exp(log_ps)\n",
    "                top_p, top_class = ps.topk(1, dim=1)\n",
    "                equals = top_class == labels.view(*top_class.shape)\n",
    "                accuracy += torch.mean(equals.type(torch.FloatTensor))\n",
    "        \n",
    "        # Resume dropouts during training\n",
    "        model.train()\n",
    "        \n",
    "        train_losses.append(running_loss/len(trainloader))\n",
    "        test_losses.append(test_loss/len(testloader))\n",
    "        \n",
    "        print(\"Epoch: {}/{}..\".format(e+1, epochs),\n",
    "              \"Training Loss: {:.3f}..\".format(running_loss/len(trainloader)),\n",
    "              \"Test Loss: {:.3f}..\".format(test_loss/len(testloader)),\n",
    "              \"Test Accuracy : {:.3f}\".format(accuracy/len(testloader)))\n",
    "    "
   ]
  },
  {
   "cell_type": "code",
   "execution_count": 74,
   "metadata": {},
   "outputs": [
    {
     "data": {
      "text/plain": [
       "<matplotlib.legend.Legend at 0x122af4410>"
      ]
     },
     "execution_count": 74,
     "metadata": {},
     "output_type": "execute_result"
    },
    {
     "data": {
      "image/png": "[encoded data removed]",
      "text/plain": [
       "<Figure size 432x288 with 1 Axes>"
      ]
     },
     "metadata": {
      "image/png": {
       "height": 248,
       "width": 380
      },
      "needs_background": "light"
     },
     "output_type": "display_data"
    }
   ],
   "source": [
    "# After dropout verify the loss\n",
    "%matplotlib inline\n",
    "%config InlineBackend.figure_format = 'retina'\n",
    "\n",
    "import matplotlib.pyplot as plt\n",
    "plt.plot(train_losses, label='Training loss')\n",
    "plt.plot(test_losses, label='Validation loss')\n",
    "plt.legend(frameon=False)"
   ]
  }
 ],
 "metadata": {
  "kernelspec": {
   "display_name": "Python 3",
   "language": "python",
   "name": "python3"
  },
  "language_info": {
   "codemirror_mode": {
    "name": "ipython",
    "version": 3
   },
   "file_extension": ".py",
   "mimetype": "text/x-python",
   "name": "python",
   "nbconvert_exporter": "python",
   "pygments_lexer": "ipython3",
   "version": "3.7.4"
  }
 },
 "nbformat": 4,
 "nbformat_minor": 2
}
