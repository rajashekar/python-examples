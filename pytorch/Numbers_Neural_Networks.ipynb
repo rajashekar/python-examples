{
 "cells": [
  {
   "cell_type": "code",
   "execution_count": 7,
   "metadata": {},
   "outputs": [],
   "source": [
    "import numpy as np\n",
    "import torch\n",
    "\n",
    "import matplotlib.pyplot as plt\n",
    "%matplotlib inline\n",
    "%config InlineBackend.figure_format = 'retina'"
   ]
  },
  {
   "cell_type": "code",
   "execution_count": 11,
   "metadata": {},
   "outputs": [],
   "source": [
    "from torchvision import datasets, transforms\n",
    "\n",
    "# Define a transform to normalize the data\n",
    "transform = transforms.Compose([transforms.ToTensor(),\n",
    "                              transforms.Normalize((0.5,), (0.5,)),\n",
    "                              ])\n",
    "\n",
    "# Download and load the training data\n",
    "trainset = datasets.MNIST('MNIST_data/', download=True, transform=transform)\n",
    "trainloader = torch.utils.data.DataLoader(trainset, batch_size=64, shuffle=True)"
   ]
  },
  {
   "cell_type": "code",
   "execution_count": 12,
   "metadata": {},
   "outputs": [
    {
     "name": "stdout",
     "output_type": "stream",
     "text": [
      "<class 'torch.Tensor'>\n",
      "torch.Size([64, 1, 28, 28])\n",
      "torch.Size([64])\n"
     ]
    }
   ],
   "source": [
    "dataiter = iter(trainloader)\n",
    "images, labels = dataiter.next()\n",
    "print(type(images))\n",
    "print(images.shape)\n",
    "print(labels.shape)"
   ]
  },
  {
   "cell_type": "code",
   "execution_count": 13,
   "metadata": {},
   "outputs": [
    {
     "data": {
      "text/plain": [
       "<matplotlib.image.AxesImage at 0x122008490>"
      ]
     },
     "execution_count": 13,
     "metadata": {},
     "output_type": "execute_result"
    },
    {
     "data": {
      "image/png": "[encoded data removed]",
      "text/plain": [
       "<Figure size 432x288 with 1 Axes>"
      ]
     },
     "metadata": {
      "image/png": {
       "height": 248,
       "width": 251
      },
      "needs_background": "light"
     },
     "output_type": "display_data"
    }
   ],
   "source": [
    "plt.imshow(images[1].numpy().squeeze(), cmap='Greys_r')"
   ]
  },
  {
   "cell_type": "code",
   "execution_count": 43,
   "metadata": {},
   "outputs": [
    {
     "name": "stdout",
     "output_type": "stream",
     "text": [
      "tensor([[-1., -1., -1.,  ..., -1., -1., -1.],\n",
      "        [-1., -1., -1.,  ..., -1., -1., -1.],\n",
      "        [-1., -1., -1.,  ..., -1., -1., -1.],\n",
      "        ...,\n",
      "        [-1., -1., -1.,  ..., -1., -1., -1.],\n",
      "        [-1., -1., -1.,  ..., -1., -1., -1.],\n",
      "        [-1., -1., -1.,  ..., -1., -1., -1.]])\n",
      "torch.Size([64, 784])\n",
      "tensor([[ -6.4289, -11.0411,   7.4325,  -2.4903,   1.3512,   0.2174,  11.7834,\n",
      "         -12.8891, -21.5307,  12.5295],\n",
      "        [ -5.8266,  -2.5266,  -0.7514,  -3.6550,  -1.3421,   8.7173,  13.3088,\n",
      "         -13.3390, -17.7390,   8.4856],\n",
      "        [ -4.4364,   1.5828,  -3.8448,  13.3142,  -9.8332,   8.0164,  21.2742,\n",
      "          -7.4496,  -8.0145,   9.7302],\n",
      "        [ -3.5271,   6.2561,  -2.1226,  -7.2738,  -0.8113,  10.4651,  11.3335,\n",
      "         -10.0790, -15.0717,   2.9153],\n",
      "        [  2.9050,  -5.6692,  10.2808,  -4.8717, -10.1304,  15.1468,   5.8452,\n",
      "         -10.8871, -14.2866,  11.4886],\n",
      "        [ -7.7547,  -0.3119,   6.5895,  -8.1980,   1.9337,   5.3365,  16.6351,\n",
      "          -4.4342, -13.2163,   5.1300],\n",
      "        [ -0.7217,   3.5723,   0.8395,  -5.2841,  -2.1278,   7.8534,   2.8838,\n",
      "          -5.3104, -14.7840,   7.2532],\n",
      "        [ -2.2773,  -7.8700,   2.0513,  -3.8055,  -3.8173,   3.1926,  10.8598,\n",
      "         -11.1113, -22.4296,  10.1611],\n",
      "        [ -1.5477,   1.8456,   9.4386,  -2.3178,   2.9495,   5.4556,  14.2325,\n",
      "          -3.9289, -21.6117,   6.0330],\n",
      "        [ -5.0343,   5.6013,   6.4314,  -5.1099,   7.4525,   4.1746,  17.8814,\n",
      "          -8.2501,  -7.7912,   9.4389],\n",
      "        [  5.7365,   5.1720,   9.6182,  -5.5297,   8.4816,   6.2127,   8.9501,\n",
      "         -13.1450, -10.7755,  13.2598],\n",
      "        [  1.6217,  13.2664,  -3.3124,  -9.0787,  -1.2998,   3.6610,  10.9973,\n",
      "          -3.6418, -27.1073,   5.1598],\n",
      "        [-12.1570,   9.4034,   7.1365,   3.4269,   1.2186,   1.1405,  18.7902,\n",
      "         -10.9961, -16.4149,   9.4722],\n",
      "        [  2.8609,  -3.5815,  -2.1248,  -8.6352,   6.6202,   8.4339,  19.4944,\n",
      "          -0.1216, -20.8680,  17.6802],\n",
      "        [  0.1216,  -1.9792,  10.9296,   1.9738,   4.3102,  10.1752,  13.1671,\n",
      "         -12.4530, -16.7735,  13.0739],\n",
      "        [  3.5837,  -6.6470,   6.1193, -14.6857,   1.2805,  -3.5820,   8.6279,\n",
      "          -0.9482, -17.6964,  11.2796],\n",
      "        [ -5.5472,  -3.4891,   1.3904, -11.0777,  -3.1837,  10.8519,  13.0030,\n",
      "         -14.0796, -17.2539,   5.8648],\n",
      "        [ 10.2761,  -3.2939,  -1.0076, -10.2205,   4.5129,  10.9741,  12.3598,\n",
      "         -10.8776, -21.1665,   8.5850],\n",
      "        [ -2.0794,   0.1218,   2.9046,  -8.6686,   4.1678,  12.8452,  20.0381,\n",
      "         -12.6851, -13.3679,  11.4252],\n",
      "        [  1.3125,  -3.0930,   9.3948,  -2.1584,  13.2569,   7.3995,  12.0616,\n",
      "          -6.8896, -20.5116,  31.3578],\n",
      "        [ -9.1649,  -6.5781,   4.3401,   1.1164,   3.2051,   4.3113,  12.7052,\n",
      "          -1.0144, -16.5760,   3.1923],\n",
      "        [ -5.8282,  -5.0450,   6.8211,  -2.3555,  -4.4598,   2.2343,   6.7672,\n",
      "          -7.9647, -15.6899,   1.1312],\n",
      "        [ -4.1506, -11.4874,  -2.0481,  -6.2611,  -0.4483,  -2.8826,  16.2157,\n",
      "          -1.8709,  -9.8962,   3.9584],\n",
      "        [ -1.4489,   0.3574,   6.5763,   1.4293,   1.8393,  11.7315,  14.4394,\n",
      "         -12.1606, -12.7521,  12.0825],\n",
      "        [ -0.0758,   2.9133,   0.8652,  -7.7309,   9.1525,   3.6289,  15.8410,\n",
      "          -9.5204, -16.0933,   2.8165],\n",
      "        [ -5.7384,  -6.6411,   1.3419,  -9.3149,   1.1907,   3.7846,   9.6044,\n",
      "          -8.6317, -16.0357,  13.2555],\n",
      "        [  1.9439,  -3.5636,   4.8535,  -7.6593,  -2.6261,   9.4473,   3.1884,\n",
      "         -12.0701, -24.5335,  11.4601],\n",
      "        [  2.2073,  -0.3194,   6.2649,   2.2936,   6.2642,  -5.2180,  15.2002,\n",
      "          -2.7382, -15.5677,  23.6710],\n",
      "        [  4.6112,   0.6381,  -2.8964,  -7.8232,   0.1569,  -6.0905,  19.6592,\n",
      "         -17.6872, -34.3634,  10.2708],\n",
      "        [  0.2254,  -6.1388,   4.6746,  -4.1075,  -3.3753,   8.7200,  12.5712,\n",
      "          -8.3953, -21.0638,   8.6135],\n",
      "        [ -6.4870,  -1.0548,   0.7270,  -2.8288,  15.0325,   5.3066,   7.7163,\n",
      "          -3.8818,  -4.7190,  23.2214],\n",
      "        [ -4.5554,  -3.6954,  -7.8741,   2.1617,  -6.3119,  -0.4351,   9.3942,\n",
      "          -9.7501, -12.5202,   6.5928],\n",
      "        [ -2.3440,   0.4949,   7.2600,  -2.9163,  -5.7700,  -0.4192,   6.1455,\n",
      "          -6.4553, -10.3615,  13.9962],\n",
      "        [  2.6502,  -2.6413,   3.7440,  -3.3864,   9.5461,   4.2491,  12.6872,\n",
      "          -8.9804, -15.6460,  19.9732],\n",
      "        [ -6.2036,  -7.6762,  11.0819,  -1.5944,   0.3945,   1.2103,   6.4572,\n",
      "          -3.2001, -18.6291,   4.3861],\n",
      "        [  7.5846,   5.8654,   4.5198, -11.1997,   4.7663,   4.7324,  13.5884,\n",
      "          -8.1685,  -8.7504,  13.1022],\n",
      "        [  0.5209,  -2.2282,  -1.0719, -12.8345,  -4.9111,   6.7250,  13.9521,\n",
      "         -11.5465, -16.4437,   5.9789],\n",
      "        [ -3.6997,  -1.3806,  12.0694, -10.3526,  -9.2527,  10.9771,  13.4941,\n",
      "         -13.2398, -19.9295,   9.4186],\n",
      "        [  6.0129,  -2.2299,   1.6409, -11.6967,  13.5544,  -1.6648,   2.9333,\n",
      "          -6.1194, -20.6663,  12.5843],\n",
      "        [ -4.0799,   7.8816,   3.1037,  -2.4694,   0.2526,  15.5865,   8.3196,\n",
      "         -10.3913,   1.5808,   5.3721],\n",
      "        [ -2.7186,  -4.9941,  -0.5984,  -7.6935,  -9.7111,  12.2085,  16.2581,\n",
      "         -17.2090, -23.8473,   7.4646],\n",
      "        [ -6.2728,   0.1717,   1.0202,  -8.9365,   3.5027,  -2.8828,  13.3504,\n",
      "         -16.6321, -22.8431,   8.7011],\n",
      "        [ -9.8379,  -1.7917,  -2.3323,   7.4986,  -3.5929,   8.1147,  11.0662,\n",
      "          -6.3396,  -9.4923,   8.2749],\n",
      "        [  6.4437,  -8.7360,  -2.2956,  -1.7636,  -1.7908,  11.7291,   8.2239,\n",
      "          -9.8295, -29.6173,   1.8007],\n",
      "        [ -2.1214,  -1.0705,   9.8395,  -7.2840,  10.3011,   0.2167,  11.1837,\n",
      "          -6.3988, -11.8388,  20.4710],\n",
      "        [  5.2208, -12.0922,  -2.1670,  -0.1005,   3.4428,   6.4727,   8.9679,\n",
      "         -10.9320, -24.6368,   5.4842],\n",
      "        [ -1.4839,   0.8372,   6.3434,   3.0829,  -4.3639,   3.6829,  10.5893,\n",
      "         -11.4541, -14.9431,  -6.5791],\n",
      "        [ -5.1093,   1.4067,   3.7720, -12.8218,  -7.7534,  12.4565,  16.6983,\n",
      "          -6.8025, -16.2561,  -0.5480],\n",
      "        [  4.3392,   0.8196,   6.5847, -12.2126,   7.4750,   2.4275,   6.4213,\n",
      "          -7.2545, -10.2612,  13.6187],\n",
      "        [ -0.0908,  -4.7144,   7.2884,  -1.2830,  19.1896,  -8.7807,   9.3425,\n",
      "           5.0642, -12.6294,   9.8428],\n",
      "        [ -2.9915,  -9.3948,   5.1351,  -3.1506,  -6.3332,   0.9153,   5.8949,\n",
      "          -4.6032, -20.7315,   8.3337],\n",
      "        [ -1.6459, -11.6809,   3.1389,  -3.4047,  -5.2600,   1.4510,   5.6179,\n",
      "         -10.1594, -18.2621,  -0.5285],\n",
      "        [ -3.4394,  -4.2955,   1.8833,  -5.9469,   0.5545,   2.3438,   0.4825,\n",
      "          -9.5556, -19.8026,  -1.9156],\n",
      "        [ -5.7012,   1.8381,  -2.7043,  -1.2692,   0.2739,   5.9096,  14.7050,\n",
      "         -13.1441, -17.1153,   7.5977],\n",
      "        [ -3.4161,  -4.6332,   3.8852,  -4.0544,  -8.5312,   2.3445,   7.1924,\n",
      "          -6.3345, -19.3862,   0.5251],\n",
      "        [ -0.2219,  -5.6691,  -0.5345,  -8.6291,  -2.5254,  13.1404,  12.5785,\n",
      "         -10.6425, -16.9353,   2.0821],\n",
      "        [ -4.3410,  -9.2401,   5.2826,  -0.8959,  -9.1395,  -3.1823,   6.0454,\n",
      "          -4.5789, -19.9767,   4.6329],\n",
      "        [ -6.6132,  -4.6409,   2.1596, -11.9317,  -2.6612,   8.2510,  20.3108,\n",
      "         -14.3714, -13.8996,  -0.1907],\n",
      "        [  3.1688,  -0.0367,   4.4544,  -0.5486,   0.1643,  10.2527,  15.3929,\n",
      "          -6.1048, -17.3418,   3.1675],\n",
      "        [  9.9124,  -4.3247,  -2.5485,  -0.7957,   2.0621,  -2.5835,  10.5732,\n",
      "          -5.3098, -23.0371,  10.3036],\n",
      "        [ -9.4935, -13.9155,   0.3298,  -5.2709,   8.3881,   5.3228,  16.9175,\n",
      "          -3.7872,  -7.8818,  16.3166],\n",
      "        [  5.6296,  -4.5592,   7.8286,  -2.7958,   4.9673,  12.2821,   7.0689,\n",
      "          -8.7050, -17.4966,   4.6121],\n",
      "        [ -2.6265,  -7.8482,   1.5652,  -3.9250,  -4.4075,  11.0528,  11.9063,\n",
      "         -11.8561, -13.9552,   4.2888],\n",
      "        [ -0.2918,   8.5364,   5.0128,  -5.3350,  -0.4221,   5.9538,  13.1684,\n",
      "         -14.4046, -11.1597,   6.7104]])\n",
      "torch.Size([64, 10])\n"
     ]
    }
   ],
   "source": [
    "# First define activation/sigmoid solution\n",
    "def activation(x):\n",
    "    return 1 / (1 + torch.exp(-x))\n",
    "\n",
    "## our images are 28x28 2D tensors, so conver them to 1D vectors\n",
    "## (64, 1, 28, 28) to have shape of (68, 784) - 28 times 28 is 784 - This is called flattening. \n",
    "## We flattened the 2D images into 1D vectors. \n",
    "inputs = images.view(images.shape[0], -1)\n",
    "print(inputs)\n",
    "print(inputs.shape)\n",
    "\n",
    "# 784 inputs to 256 hidden layers\n",
    "w1 = torch.randn(784,256)\n",
    "b1 = torch.randn(256)\n",
    "\n",
    "# We need 10 output units, one for each digit. \n",
    "# 256 hidden layers to output\n",
    "w2 = torch.randn(256,10)\n",
    "b2 = torch.randn(10)\n",
    "\n",
    "h = activation(torch.mm(inputs, w1) + b1)\n",
    "out = torch.mm(h, w2) + b2\n",
    "print(out)\n",
    "print(out.shape)"
   ]
  },
  {
   "cell_type": "code",
   "execution_count": 33,
   "metadata": {},
   "outputs": [
    {
     "name": "stdout",
     "output_type": "stream",
     "text": [
      "===== torch.exp(out) =====\n",
      "tensor([[1.9813e+03, 1.5757e-05, 4.7632e+07, 1.0729e+00, 1.6245e-05, 2.8442e-02,\n",
      "         1.4875e+09, 3.7619e-02, 2.6313e+03, 1.1134e-05],\n",
      "        [8.0764e+04, 1.5898e-03, 5.9664e+05, 1.4663e-04, 2.6390e+05, 4.9549e-01,\n",
      "         4.5022e+01, 4.1922e-04, 3.4036e+03, 1.1734e-04],\n",
      "        [3.3468e+05, 2.5845e-02, 1.5992e+08, 3.4593e-07, 2.4197e+04, 6.6023e+01,\n",
      "         6.5835e+06, 1.8130e-04, 6.2533e+03, 1.9887e-03],\n",
      "        [6.1141e+08, 2.9376e-04, 2.9762e+06, 5.2143e-03, 5.1983e-01, 1.6972e+02,\n",
      "         4.2322e+06, 1.0060e-02, 7.9134e+02, 1.4215e-05],\n",
      "        [5.7381e+09, 5.4877e-05, 4.0590e+06, 3.6261e-01, 4.5840e-03, 4.4914e+04,\n",
      "         1.1238e+09, 3.3830e-06, 1.3743e+09, 1.0238e-04],\n",
      "        [2.5127e+05, 2.1852e-02, 7.6902e+04, 1.4615e+00, 3.2136e-04, 2.1473e+02,\n",
      "         6.0068e+07, 5.7905e-03, 2.1085e+02, 1.1927e-05],\n",
      "        [8.0502e+06, 9.6782e-06, 1.2392e+06, 1.7009e+03, 2.0682e-03, 4.7476e-02,\n",
      "         1.1108e+09, 2.1125e-04, 9.4784e+01, 1.2485e-06],\n",
      "        [1.3838e+06, 1.2540e-04, 7.2187e+06, 1.8889e-03, 2.4725e+02, 5.6288e-05,\n",
      "         5.5585e+06, 3.2650e-06, 6.4714e-01, 1.5303e-03],\n",
      "        [9.9096e+07, 1.0894e-03, 2.3455e+03, 1.8710e+03, 1.2774e-06, 1.2643e+02,\n",
      "         1.0664e+09, 5.1777e+00, 4.8701e+02, 9.3695e-03],\n",
      "        [1.4745e+07, 1.1169e-01, 2.9077e+01, 8.4855e+02, 5.1688e-07, 7.0105e-01,\n",
      "         2.3572e+08, 9.8184e-02, 2.0083e+03, 1.3193e-06],\n",
      "        [2.7140e+04, 1.3768e-02, 8.7282e+05, 1.5833e+00, 1.0277e-03, 1.1158e+00,\n",
      "         8.1319e+08, 3.0508e-06, 8.6515e+05, 4.5181e-05],\n",
      "        [1.0074e+01, 3.6594e-02, 4.1244e+06, 2.5192e+05, 1.4851e+00, 1.3617e-01,\n",
      "         6.3949e+04, 1.0504e-04, 9.2357e+02, 4.5378e-02],\n",
      "        [1.6780e+02, 3.7124e-01, 1.5342e+03, 4.2731e-03, 2.9854e-05, 1.5933e+01,\n",
      "         2.2518e+10, 4.9284e+00, 1.1339e+05, 1.7484e-04],\n",
      "        [1.3334e+08, 7.8916e-03, 1.0341e+03, 3.7922e+04, 1.1606e-08, 1.1592e-01,\n",
      "         8.1957e+02, 2.4779e+01, 2.0401e+06, 1.0042e+02],\n",
      "        [1.7021e+03, 2.9012e-05, 3.0280e+06, 9.8023e+01, 4.4170e-03, 1.0581e-02,\n",
      "         3.3943e+09, 3.3692e-06, 1.6702e+06, 7.8889e-04],\n",
      "        [9.5119e+09, 1.3398e-05, 7.3565e+05, 1.9788e-02, 1.3162e+00, 1.0666e+02,\n",
      "         6.0505e+01, 6.1530e-05, 1.1547e+06, 4.0884e-03],\n",
      "        [2.0621e+05, 3.9773e-04, 3.0933e+07, 2.5629e-04, 4.6785e+04, 3.0363e-02,\n",
      "         4.2415e+04, 8.1039e-05, 7.3574e+00, 1.9846e-03],\n",
      "        [4.9928e+06, 5.5333e-04, 1.7587e+08, 4.3388e+01, 1.8404e+01, 3.7770e+01,\n",
      "         2.6078e+09, 5.7108e-04, 1.2551e+03, 1.2642e-05],\n",
      "        [3.0191e+04, 1.4681e-04, 4.7849e+02, 1.2598e+04, 1.1773e-05, 3.3067e-01,\n",
      "         1.8933e+07, 2.9171e+01, 2.1562e+03, 6.7182e+01],\n",
      "        [4.4384e+06, 6.5019e-06, 3.5481e+05, 1.2413e+02, 8.9947e-04, 1.1446e-02,\n",
      "         3.1172e+05, 3.8832e-02, 7.1058e+06, 1.1476e-01],\n",
      "        [5.9881e+02, 3.7308e-03, 1.6056e+07, 2.9144e-03, 1.5543e-03, 5.2382e+00,\n",
      "         6.8187e+02, 2.2262e-09, 9.7080e+06, 2.7744e-05],\n",
      "        [2.2112e+06, 1.0440e-01, 3.8996e+08, 9.8240e-03, 8.8887e+00, 1.7375e+01,\n",
      "         2.2045e+03, 1.6752e-05, 2.2353e+04, 1.4540e-07],\n",
      "        [1.3463e+06, 6.1945e-07, 9.4389e+02, 2.5575e+03, 2.2223e-02, 1.0678e+00,\n",
      "         5.7620e+05, 4.5264e-03, 2.8950e+00, 4.9600e-03],\n",
      "        [8.4979e+05, 7.0861e-06, 1.3360e+07, 5.3058e+02, 1.0723e-03, 8.2361e-02,\n",
      "         5.6444e+09, 1.9462e+00, 1.1153e+08, 9.1573e-03],\n",
      "        [2.0025e+04, 1.0843e+00, 7.9397e+02, 8.2731e-02, 6.8796e-01, 8.0254e+00,\n",
      "         1.1391e+05, 4.1800e-06, 1.7446e+03, 1.5467e-05],\n",
      "        [2.7935e+03, 2.4287e-02, 1.9984e+05, 1.5000e-03, 1.3757e-02, 8.2802e-01,\n",
      "         9.7234e+05, 5.6630e-04, 1.7166e+05, 1.4854e-06],\n",
      "        [7.3092e+03, 5.2016e-02, 4.8655e+06, 6.9819e-02, 4.7504e+00, 7.1888e+00,\n",
      "         9.9843e+06, 1.1912e-06, 9.1647e+03, 5.3230e-05],\n",
      "        [8.9648e+07, 1.4837e-03, 2.6130e+03, 4.7049e+06, 6.3362e-02, 3.7501e+00,\n",
      "         7.5513e+04, 7.2260e-04, 6.4454e+03, 5.1172e-09],\n",
      "        [2.9206e+04, 2.9865e-05, 4.7821e+06, 2.0707e+03, 9.0856e-03, 7.5957e-01,\n",
      "         1.3083e+05, 1.4955e-01, 7.1421e+05, 6.1366e-03],\n",
      "        [1.2568e+06, 8.6503e-06, 8.6272e+07, 6.9300e-07, 1.0516e+03, 5.9842e-02,\n",
      "         1.2943e+02, 3.5873e-03, 6.0181e+03, 2.0864e-02],\n",
      "        [7.0688e+02, 1.3264e-06, 2.0621e+07, 1.6918e+00, 1.0356e-02, 1.2000e-01,\n",
      "         5.4304e+08, 1.0291e+02, 5.4374e+06, 4.7613e-09],\n",
      "        [2.5112e+02, 1.8021e-08, 6.6188e+00, 7.3248e-01, 1.3527e+00, 4.2106e+01,\n",
      "         1.6750e+06, 1.9136e-03, 8.6421e+03, 8.0611e-02],\n",
      "        [2.3362e+06, 1.0860e-05, 4.4800e+02, 2.5140e+02, 1.4306e+00, 2.5855e+00,\n",
      "         1.7784e+07, 4.1218e-01, 2.2695e+04, 3.5169e-03],\n",
      "        [2.7044e+05, 2.3449e-06, 7.2898e+04, 4.4085e+01, 9.4593e-05, 1.4938e+04,\n",
      "         3.3758e+05, 1.1152e+00, 3.4852e+08, 5.3077e-04],\n",
      "        [5.1398e+06, 2.3885e-04, 6.4857e+07, 2.7644e-01, 3.0967e-02, 4.6726e+00,\n",
      "         9.6425e+04, 8.4039e-05, 2.0979e+05, 7.7181e-08],\n",
      "        [1.1696e+05, 4.9097e-03, 1.9861e+02, 5.4973e+00, 1.2129e-06, 1.3167e+02,\n",
      "         5.2346e+03, 2.4021e-03, 1.7194e+07, 2.0040e-02],\n",
      "        [6.7962e+03, 3.8404e-03, 6.3805e+05, 1.3735e+00, 1.7454e+02, 2.8248e-02,\n",
      "         1.0632e+08, 4.3625e-05, 2.9005e+01, 1.9996e-02],\n",
      "        [7.7775e+03, 2.3690e-04, 3.5543e+06, 8.6184e-01, 5.4355e-07, 8.0180e+02,\n",
      "         1.2608e+09, 1.2346e-01, 1.0329e+09, 2.0804e-05],\n",
      "        [1.3421e+10, 1.9158e-07, 5.3657e+07, 3.0395e+05, 1.6005e-01, 6.8882e+00,\n",
      "         2.6695e+05, 1.0000e-05, 1.4062e+03, 3.4537e-02],\n",
      "        [4.7932e+05, 4.5595e-03, 1.2120e+10, 4.1752e-05, 1.3288e+01, 2.0032e+00,\n",
      "         1.1385e+05, 3.2372e-09, 5.8104e+05, 6.1500e-06],\n",
      "        [1.0949e+08, 2.3044e+00, 5.5908e+05, 3.7251e-02, 1.6975e+03, 8.2971e-03,\n",
      "         1.4152e+09, 1.6672e-04, 2.7455e+00, 6.8933e-04],\n",
      "        [3.5189e+03, 2.8208e+01, 3.5278e+05, 1.4329e-02, 3.9391e+02, 7.4494e-01,\n",
      "         1.8779e+05, 1.2769e-03, 9.9607e+03, 3.0218e+01],\n",
      "        [4.2517e+05, 7.5807e-06, 4.4145e+04, 2.4770e-01, 4.9421e-03, 8.5437e-02,\n",
      "         7.7009e+05, 7.4483e-05, 1.7728e+07, 1.4332e-03],\n",
      "        [1.2455e+08, 1.1200e-02, 4.5621e+03, 6.6542e+01, 6.4712e+01, 2.8135e-03,\n",
      "         6.3128e+03, 1.3260e-03, 1.1960e+02, 4.2125e+00],\n",
      "        [2.7793e+03, 1.1859e-01, 3.4939e+05, 6.4988e+00, 1.8032e+01, 1.4594e+00,\n",
      "         1.1249e+08, 1.7654e-07, 3.8360e+04, 1.9213e-05],\n",
      "        [3.0211e+06, 3.0388e-04, 2.2732e+03, 3.5092e+00, 2.1637e+00, 1.1532e+02,\n",
      "         2.4333e+06, 1.8184e-02, 8.1696e+01, 8.8658e-04],\n",
      "        [4.3730e+05, 8.2655e-05, 9.5997e+07, 1.5948e-01, 3.4136e+01, 3.2964e-02,\n",
      "         8.4904e+11, 1.2400e-02, 1.2375e+01, 1.9711e-02],\n",
      "        [2.0063e+07, 1.5790e-05, 4.2624e+07, 7.1016e+01, 2.2684e-04, 1.6983e+03,\n",
      "         8.1009e+05, 3.4059e-04, 9.2765e+01, 3.2712e-08],\n",
      "        [5.1800e+04, 4.7409e-03, 7.0243e+08, 8.3273e-03, 6.9460e+00, 1.7773e-05,\n",
      "         2.5351e+06, 9.1159e-09, 1.9228e+02, 5.9388e-06],\n",
      "        [3.1551e+06, 4.6370e-07, 9.9755e+09, 3.4113e+04, 1.0734e-04, 2.4746e+00,\n",
      "         2.5967e+05, 2.7608e+02, 6.2539e+02, 1.0101e+01],\n",
      "        [6.5064e+04, 9.8641e+00, 9.2677e+04, 1.9827e-02, 8.4491e-01, 3.0700e-03,\n",
      "         3.7680e+03, 5.0473e-03, 6.4461e+00, 1.4159e-05],\n",
      "        [2.7062e+04, 2.1085e-03, 2.2160e+05, 9.4605e-01, 1.3640e+02, 3.6895e+00,\n",
      "         5.4513e+03, 6.2549e-06, 3.1386e+02, 1.1124e-04],\n",
      "        [2.4702e+04, 6.0608e-04, 1.6975e+08, 3.2119e-03, 5.5739e+01, 5.2346e+01,\n",
      "         2.6410e+05, 8.8213e-05, 1.4571e+05, 3.2244e-08],\n",
      "        [2.6516e+05, 2.5839e-06, 2.5765e+02, 7.7310e+01, 2.0555e-04, 2.0247e+02,\n",
      "         1.9637e+11, 1.3482e+00, 1.1901e+04, 5.9398e+00],\n",
      "        [1.2029e+07, 1.1203e+00, 5.1174e+03, 5.6730e-02, 1.4589e+01, 8.6989e-03,\n",
      "         4.0423e+06, 4.4597e-04, 8.3548e+01, 2.1246e-05],\n",
      "        [3.1685e+05, 2.9208e-06, 5.9288e+06, 2.7245e-06, 1.7691e+05, 2.7133e-02,\n",
      "         2.8514e+05, 2.0086e-04, 1.2235e+03, 1.7541e-01],\n",
      "        [1.2128e+03, 2.2801e+00, 2.9864e+04, 1.5870e+01, 7.5612e+01, 2.9147e-02,\n",
      "         3.6496e+02, 2.3945e-04, 1.4410e+03, 9.5644e-04],\n",
      "        [2.1950e+05, 7.4323e-01, 2.0211e+04, 1.3603e+00, 4.3196e-04, 6.4060e+03,\n",
      "         4.7991e+01, 1.0059e-03, 6.1161e+02, 1.6511e-02],\n",
      "        [3.8837e+05, 7.3980e-09, 3.4126e+02, 4.2382e+00, 7.8188e-01, 2.4808e+06,\n",
      "         2.6292e+04, 6.2584e-03, 2.2805e+01, 2.5315e-03],\n",
      "        [1.0873e+08, 9.1567e-05, 4.4175e+08, 3.0164e+01, 1.6509e-02, 8.2644e-01,\n",
      "         3.3609e+06, 5.5927e-03, 2.4315e+05, 3.0316e-05],\n",
      "        [2.2907e+06, 2.8365e-07, 6.8320e+10, 1.7867e+03, 3.8505e-07, 6.4520e+01,\n",
      "         1.1261e+06, 1.6293e+01, 2.3302e+04, 1.5395e+00],\n",
      "        [2.2729e+06, 4.2296e-01, 6.7707e+08, 2.8797e+00, 5.1783e+00, 4.7748e-01,\n",
      "         7.5344e+06, 1.8423e-04, 2.0928e+03, 3.5910e-08],\n",
      "        [3.5377e+03, 4.2118e-05, 1.7797e+05, 3.5073e-06, 4.3005e+06, 1.6659e+00,\n",
      "         4.9065e+04, 2.1808e-04, 2.8836e+03, 8.7966e-03],\n",
      "        [2.7830e+07, 1.1120e-05, 2.7334e+01, 3.5534e+04, 9.4222e-02, 2.2742e-03,\n",
      "         1.2380e+10, 2.4501e-02, 1.3455e+03, 3.3464e-05]])\n",
      "===== torch.exp(out).shape =====\n",
      "torch.Size([64, 10])\n",
      "===== torch.sum(torch.exp(out)) =====\n",
      "tensor(1.2280e+12)\n",
      "===== torch.sum(torch.exp(out), dim=1) =====\n",
      "tensor([1.5351e+09, 9.4475e+05, 1.6687e+08, 6.1862e+08, 8.2402e+09, 6.0396e+07,\n",
      "        1.1201e+09, 1.4161e+07, 1.1655e+09, 2.5047e+08, 8.1495e+08, 4.4412e+06,\n",
      "        2.2518e+10, 1.3542e+08, 3.3990e+09, 9.5138e+09, 3.1229e+07, 2.7887e+09,\n",
      "        1.8979e+07, 1.2211e+07, 2.5766e+07, 3.9219e+08, 1.9260e+06, 5.7702e+09,\n",
      "        1.3649e+05, 1.3466e+06, 1.4866e+07, 9.4437e+07, 5.6584e+06, 8.7536e+07,\n",
      "        5.6910e+08, 1.6839e+06, 2.0144e+07, 3.4921e+08, 7.0303e+07, 1.7316e+07,\n",
      "        1.0696e+08, 2.2973e+09, 1.3475e+10, 1.2121e+10, 1.5252e+09, 5.5451e+05,\n",
      "        1.8967e+07, 1.2456e+08, 1.1288e+08, 5.4568e+06, 8.4914e+11, 6.3499e+07,\n",
      "        7.0502e+08, 9.9789e+09, 1.6153e+05, 2.5457e+05, 1.7018e+08, 1.9637e+11,\n",
      "        1.6076e+07, 6.7089e+06, 3.2976e+04, 2.4678e+05, 2.8958e+06, 5.5408e+08,\n",
      "        6.8323e+10, 6.8688e+08, 4.5340e+06, 1.2408e+10])\n",
      "===== torch.sum(torch.exp(out), dim=1).shape =====\n",
      "torch.Size([64])\n",
      "===== torch.exp(x)/torch.sum(torch.exp(x), dim=1) =====\n"
     ]
    },
    {
     "ename": "RuntimeError",
     "evalue": "The size of tensor a (10) must match the size of tensor b (64) at non-singleton dimension 1",
     "output_type": "error",
     "traceback": [
      "\u001b[0;31m---------------------------------------------------------------------------\u001b[0m",
      "\u001b[0;31mRuntimeError\u001b[0m                              Traceback (most recent call last)",
      "\u001b[0;32m<ipython-input-33-afa0323faa32>\u001b[0m in \u001b[0;36m<module>\u001b[0;34m\u001b[0m\n\u001b[1;32m     17\u001b[0m \u001b[0;34m\u001b[0m\u001b[0m\n\u001b[1;32m     18\u001b[0m \u001b[0mprint\u001b[0m\u001b[0;34m(\u001b[0m\u001b[0;34m\"===== torch.exp(x)/torch.sum(torch.exp(x), dim=1) =====\"\u001b[0m\u001b[0;34m)\u001b[0m\u001b[0;34m\u001b[0m\u001b[0;34m\u001b[0m\u001b[0m\n\u001b[0;32m---> 19\u001b[0;31m \u001b[0mprint\u001b[0m\u001b[0;34m(\u001b[0m\u001b[0mtorch\u001b[0m\u001b[0;34m.\u001b[0m\u001b[0mexp\u001b[0m\u001b[0;34m(\u001b[0m\u001b[0mout\u001b[0m\u001b[0;34m)\u001b[0m\u001b[0;34m/\u001b[0m\u001b[0mtorch\u001b[0m\u001b[0;34m.\u001b[0m\u001b[0msum\u001b[0m\u001b[0;34m(\u001b[0m\u001b[0mtorch\u001b[0m\u001b[0;34m.\u001b[0m\u001b[0mexp\u001b[0m\u001b[0;34m(\u001b[0m\u001b[0mout\u001b[0m\u001b[0;34m)\u001b[0m\u001b[0;34m,\u001b[0m \u001b[0mdim\u001b[0m\u001b[0;34m=\u001b[0m\u001b[0;36m1\u001b[0m\u001b[0;34m)\u001b[0m\u001b[0;34m)\u001b[0m \u001b[0;31m# this throws the error\u001b[0m\u001b[0;34m\u001b[0m\u001b[0;34m\u001b[0m\u001b[0m\n\u001b[0m\u001b[1;32m     20\u001b[0m \u001b[0;34m\u001b[0m\u001b[0m\n\u001b[1;32m     21\u001b[0m \u001b[0;31m# HENCE\u001b[0m\u001b[0;34m\u001b[0m\u001b[0;34m\u001b[0m\u001b[0;34m\u001b[0m\u001b[0m\n",
      "\u001b[0;31mRuntimeError\u001b[0m: The size of tensor a (10) must match the size of tensor b (64) at non-singleton dimension 1"
     ]
    }
   ],
   "source": [
    "# Implement softmax function which can squish each input between 0 adn 1 and normalizes the value to give you\n",
    "# a proper probability distribution where the probabilities sum up to one\n",
    "\n",
    "def softmax(x):\n",
    "    return torch.exp(x)/torch.sum(torch.exp(x), dim=1).view(-1,1)\n",
    "\n",
    "print(\"===== torch.exp(out) =====\")\n",
    "print(torch.exp(out)) # This just calculates the exp of out\n",
    "print(\"===== torch.exp(out).shape =====\")\n",
    "print(torch.exp(out).shape) # torch.Size([64, 10])\n",
    "print(\"===== torch.sum(torch.exp(out)) =====\")\n",
    "print(torch.sum(torch.exp(out))) # This sums up every value in matrix - WE DO NOT WANT THIS\n",
    "print(\"===== torch.sum(torch.exp(out), dim=1) =====\")\n",
    "print(torch.sum(torch.exp(out), dim=1)) # This sums up every column in matrix\n",
    "print(\"===== torch.sum(torch.exp(out), dim=1).shape =====\")\n",
    "print(torch.sum(torch.exp(out), dim=1).shape) # torch.Size([64])\n",
    "\n",
    "print(\"===== torch.exp(x)/torch.sum(torch.exp(x), dim=1) =====\") \n",
    "print(torch.exp(out)/torch.sum(torch.exp(out), dim=1)) # this throws the error\n"
   ]
  },
  {
   "cell_type": "code",
   "execution_count": 37,
   "metadata": {},
   "outputs": [
    {
     "name": "stdout",
     "output_type": "stream",
     "text": [
      "===== torch.sum(torch.exp(x), dim=1).view(-1,1) =====\n",
      "tensor([[1.5351e+09],\n",
      "        [9.4475e+05],\n",
      "        [1.6687e+08],\n",
      "        [6.1862e+08],\n",
      "        [8.2402e+09],\n",
      "        [6.0396e+07],\n",
      "        [1.1201e+09],\n",
      "        [1.4161e+07],\n",
      "        [1.1655e+09],\n",
      "        [2.5047e+08],\n",
      "        [8.1495e+08],\n",
      "        [4.4412e+06],\n",
      "        [2.2518e+10],\n",
      "        [1.3542e+08],\n",
      "        [3.3990e+09],\n",
      "        [9.5138e+09],\n",
      "        [3.1229e+07],\n",
      "        [2.7887e+09],\n",
      "        [1.8979e+07],\n",
      "        [1.2211e+07],\n",
      "        [2.5766e+07],\n",
      "        [3.9219e+08],\n",
      "        [1.9260e+06],\n",
      "        [5.7702e+09],\n",
      "        [1.3649e+05],\n",
      "        [1.3466e+06],\n",
      "        [1.4866e+07],\n",
      "        [9.4437e+07],\n",
      "        [5.6584e+06],\n",
      "        [8.7536e+07],\n",
      "        [5.6910e+08],\n",
      "        [1.6839e+06],\n",
      "        [2.0144e+07],\n",
      "        [3.4921e+08],\n",
      "        [7.0303e+07],\n",
      "        [1.7316e+07],\n",
      "        [1.0696e+08],\n",
      "        [2.2973e+09],\n",
      "        [1.3475e+10],\n",
      "        [1.2121e+10],\n",
      "        [1.5252e+09],\n",
      "        [5.5451e+05],\n",
      "        [1.8967e+07],\n",
      "        [1.2456e+08],\n",
      "        [1.1288e+08],\n",
      "        [5.4568e+06],\n",
      "        [8.4914e+11],\n",
      "        [6.3499e+07],\n",
      "        [7.0502e+08],\n",
      "        [9.9789e+09],\n",
      "        [1.6153e+05],\n",
      "        [2.5457e+05],\n",
      "        [1.7018e+08],\n",
      "        [1.9637e+11],\n",
      "        [1.6076e+07],\n",
      "        [6.7089e+06],\n",
      "        [3.2976e+04],\n",
      "        [2.4678e+05],\n",
      "        [2.8958e+06],\n",
      "        [5.5408e+08],\n",
      "        [6.8323e+10],\n",
      "        [6.8688e+08],\n",
      "        [4.5340e+06],\n",
      "        [1.2408e+10]])\n",
      "===== softmax(out) =====\n"
     ]
    }
   ],
   "source": [
    "# HENCE\n",
    "print(\"===== torch.sum(torch.exp(x), dim=1).view(-1,1) =====\") \n",
    "print(torch.sum(torch.exp(out), dim=1).view(-1,1)) # transform to column vector\n",
    "\n",
    "print(\"===== softmax(out) =====\")\n",
    "probabilities = softmax(out)\n"
   ]
  },
  {
   "cell_type": "code",
   "execution_count": 42,
   "metadata": {},
   "outputs": [
    {
     "name": "stdout",
     "output_type": "stream",
     "text": [
      "torch.Size([64, 10])\n",
      "tensor([1.0000, 1.0000, 1.0000, 1.0000, 1.0000, 1.0000, 1.0000, 1.0000, 1.0000,\n",
      "        1.0000, 1.0000, 1.0000, 1.0000, 1.0000, 1.0000, 1.0000, 1.0000, 1.0000,\n",
      "        1.0000, 1.0000, 1.0000, 1.0000, 1.0000, 1.0000, 1.0000, 1.0000, 1.0000,\n",
      "        1.0000, 1.0000, 1.0000, 1.0000, 1.0000, 1.0000, 1.0000, 1.0000, 1.0000,\n",
      "        1.0000, 1.0000, 1.0000, 1.0000, 1.0000, 1.0000, 1.0000, 1.0000, 1.0000,\n",
      "        1.0000, 1.0000, 1.0000, 1.0000, 1.0000, 1.0000, 1.0000, 1.0000, 1.0000,\n",
      "        1.0000, 1.0000, 1.0000, 1.0000, 1.0000, 1.0000, 1.0000, 1.0000, 1.0000,\n",
      "        1.0000])\n"
     ]
    }
   ],
   "source": [
    "# Does it have the right shape? should be (64, 10)\n",
    "print(probabilities.shape)\n",
    "# Does it sum to 1?\n",
    "print (probabilities.sum(dim=1))"
   ]
  },
  {
   "cell_type": "code",
   "execution_count": 45,
   "metadata": {},
   "outputs": [],
   "source": [
    "# Building Network using pytorch\n",
    "from torch import nn\n",
    "\n",
    "class Network(nn.Module):\n",
    "    def __init__(self):\n",
    "        super().__init__()\n",
    "        # Inputs to hidden layer linear transformations\n",
    "        self.hidden = nn.Linear(784, 256)\n",
    "        # Output layer, 10 units - one for each digit\n",
    "        self.output = nn.Linear(256, 10)\n",
    "        \n",
    "        # Define sigmoid activation and softmax output\n",
    "        self.sigmoid = nn.Sigmoid()\n",
    "        self.softmax = nn.Softmax(dim=1)\n",
    "    \n",
    "    def forward(self, x):\n",
    "        # Pass the input tensor through each of our operations\n",
    "        x = self.hidden(x)\n",
    "        x = self.sigmoid(x)\n",
    "        x = self.output(x)\n",
    "        x = self.softmax(x)\n",
    "        \n",
    "        return x"
   ]
  },
  {
   "cell_type": "code",
   "execution_count": 47,
   "metadata": {},
   "outputs": [
    {
     "data": {
      "text/plain": [
       "Network(\n",
       "  (hidden): Linear(in_features=784, out_features=256, bias=True)\n",
       "  (output): Linear(in_features=256, out_features=10, bias=True)\n",
       "  (sigmoid): Sigmoid()\n",
       "  (softmax): Softmax(dim=1)\n",
       ")"
      ]
     },
     "execution_count": 47,
     "metadata": {},
     "output_type": "execute_result"
    }
   ],
   "source": [
    "model = Network()\n",
    "model"
   ]
  },
  {
   "cell_type": "code",
   "execution_count": 49,
   "metadata": {},
   "outputs": [],
   "source": [
    "import torch.nn.functional as F\n",
    "\n",
    "class Network(nn.Module):\n",
    "    def __init__(self):\n",
    "        super().__init__()\n",
    "        # Inputs to hidden layer linear transformation\n",
    "        self.hidden1 = nn.Linear(784,128)\n",
    "        self.hidden2 = nn.Linear(128,64)\n",
    "        self.output = nn.Linear(64, 10)\n",
    "        \n",
    "    def forward(self, x):\n",
    "        # Hidden layer with relu activation\n",
    "        x = F.relu(self.hidden1(x))\n",
    "        x = F.relu(self.hidden2(x))\n",
    "        x = F.softmax(self.output(x), dim=1)\n",
    "        return x"
   ]
  },
  {
   "cell_type": "code",
   "execution_count": 50,
   "metadata": {},
   "outputs": [
    {
     "data": {
      "text/plain": [
       "Network(\n",
       "  (hidden1): Linear(in_features=784, out_features=128, bias=True)\n",
       "  (hidden2): Linear(in_features=128, out_features=64, bias=True)\n",
       "  (output): Linear(in_features=64, out_features=10, bias=True)\n",
       ")"
      ]
     },
     "execution_count": 50,
     "metadata": {},
     "output_type": "execute_result"
    }
   ],
   "source": [
    "model = Network()\n",
    "model"
   ]
  },
  {
   "cell_type": "code",
   "execution_count": 51,
   "metadata": {},
   "outputs": [
    {
     "name": "stdout",
     "output_type": "stream",
     "text": [
      "Parameter containing:\n",
      "tensor([[-0.0296,  0.0015,  0.0289,  ...,  0.0282,  0.0238,  0.0272],\n",
      "        [ 0.0073, -0.0057,  0.0164,  ..., -0.0056, -0.0097,  0.0055],\n",
      "        [ 0.0302, -0.0113, -0.0105,  ...,  0.0110,  0.0150, -0.0227],\n",
      "        ...,\n",
      "        [-0.0026, -0.0134, -0.0199,  ...,  0.0028, -0.0030,  0.0294],\n",
      "        [ 0.0264, -0.0318, -0.0277,  ...,  0.0235,  0.0020, -0.0301],\n",
      "        [-0.0055,  0.0073, -0.0319,  ..., -0.0047, -0.0035, -0.0230]],\n",
      "       requires_grad=True)\n",
      "Parameter containing:\n",
      "tensor([ 1.3761e-02, -3.3605e-03,  2.9489e-02,  3.4692e-02, -2.0832e-02,\n",
      "         2.3475e-02, -2.2735e-02, -2.5507e-02, -3.4994e-02, -3.3977e-03,\n",
      "         1.5690e-02, -2.7902e-02,  1.5837e-03, -1.0398e-02,  3.3992e-02,\n",
      "         7.1446e-03,  2.9624e-02, -2.0032e-03, -2.8145e-02, -1.0426e-02,\n",
      "         2.9980e-02,  3.4237e-02, -2.8837e-02, -2.7901e-02,  3.2859e-02,\n",
      "         3.3700e-02,  5.2145e-03, -2.9165e-02, -1.7328e-02, -1.1189e-02,\n",
      "        -7.8209e-04,  2.9111e-02,  2.8902e-02, -1.1310e-02,  1.7176e-02,\n",
      "        -1.7935e-02, -2.6474e-02,  6.6451e-03, -7.0038e-03, -3.3254e-02,\n",
      "        -2.7384e-03, -2.6435e-02,  2.9649e-02, -5.6009e-03, -2.6526e-02,\n",
      "         9.7902e-03,  7.8475e-03, -3.0936e-02, -2.0501e-02, -1.8411e-03,\n",
      "         5.1125e-03, -2.6597e-02, -5.2631e-03,  2.9452e-02, -1.6564e-02,\n",
      "        -1.0881e-02,  2.1449e-02, -8.2704e-03, -1.7237e-02, -2.2195e-02,\n",
      "         6.8554e-03,  1.7724e-02,  4.9695e-03,  2.5299e-02,  3.0759e-02,\n",
      "        -2.7262e-02,  2.1762e-02, -1.5250e-02, -2.7991e-02, -1.7640e-02,\n",
      "         9.3158e-03,  8.2493e-03, -3.1308e-02,  3.7865e-03,  2.2939e-02,\n",
      "         1.8984e-02, -1.3219e-02,  9.7990e-04, -5.1637e-03,  7.3184e-03,\n",
      "        -1.7768e-02,  3.0586e-02,  1.3050e-02,  1.7067e-02, -2.2444e-02,\n",
      "        -1.6350e-03,  1.9265e-02,  7.4141e-03, -1.6545e-02, -5.3006e-03,\n",
      "         1.2679e-02,  3.2572e-02, -2.7607e-02,  1.2364e-02,  4.0324e-03,\n",
      "         2.2941e-03,  3.4886e-02, -1.3164e-02, -2.5359e-02,  4.7949e-03,\n",
      "         4.1589e-04,  1.6943e-02,  1.2408e-02,  1.7817e-02, -2.7310e-02,\n",
      "         1.4351e-02, -3.2428e-02,  2.9810e-05, -1.9004e-02, -5.4049e-04,\n",
      "         7.9786e-03, -4.5110e-03,  3.1578e-02,  1.7708e-02, -2.7283e-02,\n",
      "         1.6815e-02,  1.1323e-03,  2.6610e-02, -2.3574e-02, -6.3606e-03,\n",
      "        -1.9990e-02,  2.9054e-02, -4.3290e-03,  1.8446e-02, -1.5506e-02,\n",
      "        -2.2888e-02,  7.3433e-03, -1.4102e-02], requires_grad=True)\n"
     ]
    }
   ],
   "source": [
    "print(model.hidden1.weight)\n",
    "print(model.hidden1.bias)"
   ]
  },
  {
   "cell_type": "code",
   "execution_count": 52,
   "metadata": {},
   "outputs": [
    {
     "data": {
      "text/plain": [
       "tensor([0., 0., 0., 0., 0., 0., 0., 0., 0., 0., 0., 0., 0., 0., 0., 0., 0., 0., 0., 0., 0., 0., 0., 0.,\n",
       "        0., 0., 0., 0., 0., 0., 0., 0., 0., 0., 0., 0., 0., 0., 0., 0., 0., 0., 0., 0., 0., 0., 0., 0.,\n",
       "        0., 0., 0., 0., 0., 0., 0., 0., 0., 0., 0., 0., 0., 0., 0., 0., 0., 0., 0., 0., 0., 0., 0., 0.,\n",
       "        0., 0., 0., 0., 0., 0., 0., 0., 0., 0., 0., 0., 0., 0., 0., 0., 0., 0., 0., 0., 0., 0., 0., 0.,\n",
       "        0., 0., 0., 0., 0., 0., 0., 0., 0., 0., 0., 0., 0., 0., 0., 0., 0., 0., 0., 0., 0., 0., 0., 0.,\n",
       "        0., 0., 0., 0., 0., 0., 0., 0.])"
      ]
     },
     "execution_count": 52,
     "metadata": {},
     "output_type": "execute_result"
    }
   ],
   "source": [
    "# For custom initialization, we want to modify these tensors in place. These are actually \n",
    "# autograd Variables, so we need to get back the actual tensors with model.fc1.weight.data. \n",
    "# Once we have the tensors, we can fill them with zeros (for biases) or random normal values.\n",
    "\n",
    "# Set biases to all zeros\n",
    "model.hidden1.bias.data.fill_(0)"
   ]
  },
  {
   "cell_type": "code",
   "execution_count": 54,
   "metadata": {},
   "outputs": [
    {
     "data": {
      "text/plain": [
       "tensor([[-0.0160, -0.0074,  0.0136,  ...,  0.0052,  0.0075, -0.0037],\n",
       "        [ 0.0020,  0.0026, -0.0184,  ...,  0.0138, -0.0057,  0.0011],\n",
       "        [-0.0070,  0.0082, -0.0053,  ..., -0.0028, -0.0020,  0.0066],\n",
       "        ...,\n",
       "        [ 0.0048,  0.0097, -0.0206,  ...,  0.0032, -0.0087, -0.0081],\n",
       "        [-0.0059,  0.0114,  0.0016,  ...,  0.0063, -0.0016, -0.0036],\n",
       "        [-0.0026, -0.0115,  0.0072,  ..., -0.0084,  0.0118,  0.0088]])"
      ]
     },
     "execution_count": 54,
     "metadata": {},
     "output_type": "execute_result"
    }
   ],
   "source": [
    "# sample from random normal with standard dev = 0.01\n",
    "model.hidden1.weight.data.normal_(std=0.01)"
   ]
  },
  {
   "cell_type": "code",
   "execution_count": 55,
   "metadata": {},
   "outputs": [],
   "source": [
    "# Forward pass\n",
    "# Grab some data\n",
    "dataiter = iter(trainloader)\n",
    "images, labels = dataiter.next()\n",
    "\n",
    "# Resize images into a 1D vector, new shape is (batch size, color channels, image pixels)\n",
    "images.resize_(64, 1, 784)\n",
    "\n",
    "# Forward pass through the network\n",
    "img_idx = 0\n",
    "ps = model.forward(images[img_idx,:])"
   ]
  },
  {
   "cell_type": "code",
   "execution_count": 56,
   "metadata": {},
   "outputs": [
    {
     "data": {
      "image/png": "[encoded data removed]",
      "text/plain": [
       "<Figure size 432x648 with 2 Axes>"
      ]
     },
     "metadata": {
      "image/png": {
       "height": 235,
       "width": 424
      },
      "needs_background": "light"
     },
     "output_type": "display_data"
    }
   ],
   "source": [
    "import helper\n",
    "img = images[img_idx]\n",
    "helper.view_classify(img.view(1, 28, 28), ps)"
   ]
  },
  {
   "cell_type": "code",
   "execution_count": 57,
   "metadata": {},
   "outputs": [
    {
     "name": "stdout",
     "output_type": "stream",
     "text": [
      "Sequential(\n",
      "  (0): Linear(in_features=784, out_features=128, bias=True)\n",
      "  (1): ReLU()\n",
      "  (2): Linear(in_features=128, out_features=64, bias=True)\n",
      "  (3): ReLU()\n",
      "  (4): Linear(in_features=64, out_features=10, bias=True)\n",
      "  (5): Softmax(dim=1)\n",
      ")\n"
     ]
    },
    {
     "data": {
      "image/png": "[encoded data removed]",
      "text/plain": [
       "<Figure size 432x648 with 2 Axes>"
      ]
     },
     "metadata": {
      "image/png": {
       "height": 235,
       "width": 424
      },
      "needs_background": "light"
     },
     "output_type": "display_data"
    }
   ],
   "source": [
    "# PyTorch provides a convenient way to build networks \n",
    "# like this where a tensor is passed sequentially through operations,\n",
    "# nn.Sequential (documentation). Using this to build the equivalent network:\n",
    "\n",
    "input_size = 784\n",
    "hidden_sizes = [128, 64]\n",
    "output_size = 10\n",
    "\n",
    "# Build a feed-forward network\n",
    "model = nn.Sequential(nn.Linear(input_size, hidden_sizes[0]),\n",
    "                      nn.ReLU(),\n",
    "                      nn.Linear(hidden_sizes[0], hidden_sizes[1]),\n",
    "                      nn.ReLU(),\n",
    "                      nn.Linear(hidden_sizes[1], output_size),\n",
    "                      nn.Softmax(dim=1))\n",
    "\n",
    "print(model)\n",
    "\n",
    "# Forward pass through the network and display output\n",
    "images, labels = next(iter(trainloader))\n",
    "images.resize_(images.shape[0], 1, 784)\n",
    "ps = model.forward(images[0,:])\n",
    "helper.view_classify(images[0].view(1, 28, 28), ps)"
   ]
  },
  {
   "cell_type": "code",
   "execution_count": 58,
   "metadata": {},
   "outputs": [
    {
     "name": "stdout",
     "output_type": "stream",
     "text": [
      "Linear(in_features=784, out_features=128, bias=True)\n"
     ]
    },
    {
     "data": {
      "text/plain": [
       "Parameter containing:\n",
       "tensor([[ 0.0291, -0.0046, -0.0316,  ..., -0.0062, -0.0155, -0.0008],\n",
       "        [ 0.0341, -0.0132,  0.0150,  ..., -0.0305,  0.0291, -0.0057],\n",
       "        [ 0.0058, -0.0294, -0.0057,  ..., -0.0318, -0.0068,  0.0159],\n",
       "        ...,\n",
       "        [-0.0217,  0.0039, -0.0044,  ...,  0.0086, -0.0354,  0.0248],\n",
       "        [-0.0298,  0.0250,  0.0021,  ..., -0.0273, -0.0230,  0.0326],\n",
       "        [-0.0096, -0.0205,  0.0271,  ..., -0.0044, -0.0174,  0.0032]],\n",
       "       requires_grad=True)"
      ]
     },
     "execution_count": 58,
     "metadata": {},
     "output_type": "execute_result"
    }
   ],
   "source": [
    "print(model[0])\n",
    "model[0].weight"
   ]
  },
  {
   "cell_type": "code",
   "execution_count": 59,
   "metadata": {},
   "outputs": [
    {
     "data": {
      "text/plain": [
       "Sequential(\n",
       "  (fc1): Linear(in_features=784, out_features=128, bias=True)\n",
       "  (relu1): ReLU()\n",
       "  (fc2): Linear(in_features=128, out_features=64, bias=True)\n",
       "  (relu2): ReLU()\n",
       "  (output): Linear(in_features=64, out_features=10, bias=True)\n",
       "  (softmax): Softmax(dim=1)\n",
       ")"
      ]
     },
     "execution_count": 59,
     "metadata": {},
     "output_type": "execute_result"
    }
   ],
   "source": [
    "from collections import OrderedDict\n",
    "model = nn.Sequential(OrderedDict([\n",
    "                        ('fc1', nn.Linear(input_size, hidden_sizes[0])),\n",
    "                        ('relu1', nn.ReLU()),\n",
    "                        ('fc2', nn.Linear(hidden_sizes[0], hidden_sizes[1])),\n",
    "                        ('relu2', nn.ReLU()),\n",
    "                        ('output', nn.Linear(hidden_sizes[1], output_size)),\n",
    "                        ('softmax', nn.Softmax(dim=1))]))\n",
    "model"
   ]
  },
  {
   "cell_type": "code",
   "execution_count": 60,
   "metadata": {},
   "outputs": [
    {
     "name": "stdout",
     "output_type": "stream",
     "text": [
      "Linear(in_features=784, out_features=128, bias=True)\n",
      "Linear(in_features=784, out_features=128, bias=True)\n"
     ]
    }
   ],
   "source": [
    "print(model[0])\n",
    "print(model.fc1)"
   ]
  }
 ],
 "metadata": {
  "kernelspec": {
   "display_name": "Python 3",
   "language": "python",
   "name": "python3"
  },
  "language_info": {
   "codemirror_mode": {
    "name": "ipython",
    "version": 3
   },
   "file_extension": ".py",
   "mimetype": "text/x-python",
   "name": "python",
   "nbconvert_exporter": "python",
   "pygments_lexer": "ipython3",
   "version": "3.7.4"
  }
 },
 "nbformat": 4,
 "nbformat_minor": 2
}
