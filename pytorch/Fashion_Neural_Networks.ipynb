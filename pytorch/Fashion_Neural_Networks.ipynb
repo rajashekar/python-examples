{
 "cells": [
  {
   "cell_type": "code",
   "execution_count": 1,
   "metadata": {},
   "outputs": [
    {
     "name": "stderr",
     "output_type": "stream",
     "text": [
      "\r",
      "0it [00:00, ?it/s]"
     ]
    },
    {
     "name": "stdout",
     "output_type": "stream",
     "text": [
      "Downloading http://fashion-mnist.s3-website.eu-central-1.amazonaws.com/train-images-idx3-ubyte.gz to FashionMNIST/FashionMNIST/raw/train-images-idx3-ubyte.gz\n"
     ]
    },
    {
     "name": "stderr",
     "output_type": "stream",
     "text": [
      " 99%|█████████▉| 26181632/26421880 [00:21<00:00, 1359306.52it/s]"
     ]
    },
    {
     "name": "stdout",
     "output_type": "stream",
     "text": [
      "Extracting FashionMNIST/FashionMNIST/raw/train-images-idx3-ubyte.gz to FashionMNIST/FashionMNIST/raw\n"
     ]
    },
    {
     "name": "stderr",
     "output_type": "stream",
     "text": [
      "\n",
      "0it [00:00, ?it/s]\u001b[A"
     ]
    },
    {
     "name": "stdout",
     "output_type": "stream",
     "text": [
      "Downloading http://fashion-mnist.s3-website.eu-central-1.amazonaws.com/train-labels-idx1-ubyte.gz to FashionMNIST/FashionMNIST/raw/train-labels-idx1-ubyte.gz\n"
     ]
    },
    {
     "name": "stderr",
     "output_type": "stream",
     "text": [
      "\n",
      "  0%|          | 0/29515 [00:00<?, ?it/s]\u001b[A\n",
      "32768it [00:00, 57069.51it/s]                           \u001b[A\n",
      "\n",
      "0it [00:00, ?it/s]\u001b[A"
     ]
    },
    {
     "name": "stdout",
     "output_type": "stream",
     "text": [
      "Extracting FashionMNIST/FashionMNIST/raw/train-labels-idx1-ubyte.gz to FashionMNIST/FashionMNIST/raw\n",
      "Downloading http://fashion-mnist.s3-website.eu-central-1.amazonaws.com/t10k-images-idx3-ubyte.gz to FashionMNIST/FashionMNIST/raw/t10k-images-idx3-ubyte.gz\n"
     ]
    },
    {
     "name": "stderr",
     "output_type": "stream",
     "text": [
      "\n",
      "  0%|          | 0/4422102 [00:00<?, ?it/s]\u001b[A\n",
      "  0%|          | 16384/4422102 [00:00<00:45, 96258.71it/s]\u001b[A\n",
      "  1%|          | 49152/4422102 [00:00<00:38, 113103.18it/s]\u001b[A\n",
      "  2%|▏         | 106496/4422102 [00:00<00:30, 141311.04it/s]\u001b[A\n",
      "  5%|▌         | 229376/4422102 [00:01<00:22, 186020.80it/s]\u001b[A\n",
      "  8%|▊         | 335872/4422102 [00:01<00:17, 233091.95it/s]\u001b[A\n",
      " 14%|█▎        | 598016/4422102 [00:01<00:12, 312337.59it/s]\u001b[A\n",
      " 15%|█▌        | 671744/4422102 [00:01<00:11, 328608.66it/s]\u001b[A\n",
      " 17%|█▋        | 745472/4422102 [00:01<00:10, 365307.92it/s]\u001b[A\n",
      " 23%|██▎       | 1007616/4422102 [00:01<00:07, 471940.79it/s]\u001b[A\n",
      " 27%|██▋       | 1179648/4422102 [00:02<00:05, 562824.51it/s]\u001b[A\n",
      " 31%|███       | 1359872/4422102 [00:02<00:04, 654071.23it/s]\u001b[A\n",
      " 35%|███▌      | 1548288/4422102 [00:02<00:03, 743631.42it/s]\u001b[A\n",
      " 39%|███▉      | 1728512/4422102 [00:02<00:03, 816646.93it/s]\u001b[A\n",
      " 43%|████▎     | 1916928/4422102 [00:02<00:02, 932192.82it/s]\u001b[A\n",
      " 48%|████▊     | 2105344/4422102 [00:02<00:02, 979904.34it/s]\u001b[A\n",
      " 52%|█████▏    | 2310144/4422102 [00:03<00:02, 1029181.04it/s]\u001b[A\n",
      " 57%|█████▋    | 2506752/4422102 [00:03<00:01, 1065453.02it/s]\u001b[A\n",
      " 61%|██████    | 2695168/4422102 [00:03<00:01, 1069592.13it/s]\u001b[A\n",
      " 65%|██████▌   | 2891776/4422102 [00:03<00:01, 1090029.07it/s]\u001b[A\n",
      " 70%|███████   | 3096576/4422102 [00:03<00:01, 1121230.76it/s]\u001b[A\n",
      " 75%|███████▍  | 3301376/4422102 [00:03<00:00, 1143425.47it/s]\u001b[A\n",
      " 79%|███████▉  | 3506176/4422102 [00:04<00:00, 1160720.59it/s]\u001b[A\n",
      " 84%|████████▍ | 3710976/4422102 [00:04<00:00, 1169859.02it/s]\u001b[A\n",
      " 88%|████████▊ | 3907584/4422102 [00:04<00:00, 1166496.59it/s]\u001b[A\n",
      " 93%|█████████▎| 4112384/4422102 [00:04<00:00, 1174872.95it/s]\u001b[A\n",
      "4423680it [00:04, 908930.43it/s]                              \u001b[A\n",
      "\n",
      "0it [00:00, ?it/s]\u001b[A"
     ]
    },
    {
     "name": "stdout",
     "output_type": "stream",
     "text": [
      "Extracting FashionMNIST/FashionMNIST/raw/t10k-images-idx3-ubyte.gz to FashionMNIST/FashionMNIST/raw\n",
      "Downloading http://fashion-mnist.s3-website.eu-central-1.amazonaws.com/t10k-labels-idx1-ubyte.gz to FashionMNIST/FashionMNIST/raw/t10k-labels-idx1-ubyte.gz\n"
     ]
    },
    {
     "name": "stderr",
     "output_type": "stream",
     "text": [
      "\n",
      "8192it [00:00, 22289.04it/s]            \u001b[A"
     ]
    },
    {
     "name": "stdout",
     "output_type": "stream",
     "text": [
      "Extracting FashionMNIST/FashionMNIST/raw/t10k-labels-idx1-ubyte.gz to FashionMNIST/FashionMNIST/raw\n",
      "Processing...\n",
      "Done!\n"
     ]
    },
    {
     "name": "stderr",
     "output_type": "stream",
     "text": [
      "\n",
      "26427392it [00:40, 1359306.52it/s]                              "
     ]
    }
   ],
   "source": [
    "import torch\n",
    "from torchvision import datasets, transforms\n",
    "\n",
    "# Define a transform to normalize the data\n",
    "transform = transforms.Compose([transforms.ToTensor(),\n",
    "                              transforms.Normalize((0.5,), (0.5,)),\n",
    "                              ])\n",
    "# Download and load training data\n",
    "trainset = datasets.FashionMNIST('FashionMNIST/', download=True, train=True, transform=transform)\n",
    "trainloader = torch.utils.data.DataLoader(trainset, batch_size=64, shuffle=True)\n",
    "\n",
    "# Download and load the test data\n",
    "testset = datasets.FashionMNIST('FashionMNIST/', download=True, train=False, transform=transform)\n",
    "testloader = torch.utils.data.DataLoader(testset, batch_size=64, shuffle=True)"
   ]
  },
  {
   "cell_type": "code",
   "execution_count": 5,
   "metadata": {},
   "outputs": [
    {
     "data": {
      "image/png": "[encoded data removed]",
      "text/plain": [
       "<Figure size 432x288 with 1 Axes>"
      ]
     },
     "metadata": {
      "needs_background": "light"
     },
     "output_type": "display_data"
    }
   ],
   "source": [
    "import helper\n",
    "image, label = next(iter(trainloader))\n",
    "helper.imshow(image[0,:]);"
   ]
  },
  {
   "cell_type": "code",
   "execution_count": 11,
   "metadata": {},
   "outputs": [
    {
     "name": "stdout",
     "output_type": "stream",
     "text": [
      "Training loss: 2.16055723726114\n",
      "Training loss: 1.2984613841022257\n",
      "Training loss: 0.8577378961577344\n",
      "Training loss: 0.7165661313767626\n",
      "Training loss: 0.6449566468882408\n"
     ]
    }
   ],
   "source": [
    "# Build network model\n",
    "from torch import nn\n",
    "from torch import optim\n",
    "import torch.nn.functional as F\n",
    "\n",
    "model = nn.Sequential(nn.Linear(784, 256),\n",
    "                      nn.ReLU(),\n",
    "                      nn.Linear(256, 128),\n",
    "                      nn.ReLU(),\n",
    "                      nn.Linear(128, 64),\n",
    "                      nn.ReLU(),\n",
    "                      nn.Linear(64, 10),\n",
    "                      nn.LogSoftmax(dim=1))\n",
    "\n",
    "criterion = nn.NLLLoss()\n",
    "optimizer = optim.SGD(model.parameters(), lr=0.003)\n",
    "\n",
    "epochs = 5\n",
    "for e in range(epochs):\n",
    "    running_loss = 0\n",
    "    for images, labels in trainloader:\n",
    "        # Flatten FashionMNIST images into a 784 long vector\n",
    "        images = images.view(images.shape[0],-1)\n",
    "        # Reset past gradients\n",
    "        optimizer.zero_grad()\n",
    "        # feed forward\n",
    "        output = model.forward(images)\n",
    "        # get loss\n",
    "        loss = criterion(output, labels)\n",
    "        # backword propagation\n",
    "        loss.backward()\n",
    "        # update weights\n",
    "        optimizer.step()\n",
    "        running_loss += loss.item()\n",
    "    else:\n",
    "        print(f\"Training loss: {running_loss/len(trainloader)}\")"
   ]
  },
  {
   "cell_type": "code",
   "execution_count": 16,
   "metadata": {},
   "outputs": [
    {
     "data": {
      "image/png": "[encoded data removed]",
      "text/plain": [
       "<Figure size 432x648 with 2 Axes>"
      ]
     },
     "metadata": {
      "image/png": {
       "height": 216,
       "width": 424
      },
      "needs_background": "light"
     },
     "output_type": "display_data"
    }
   ],
   "source": [
    "%matplotlib inline\n",
    "%config InlineBackend.figure_format = 'retina'\n",
    "\n",
    "# Test my network\n",
    "dataiter = iter(testloader)\n",
    "images, labels = dataiter.next()\n",
    "img = images[0]\n",
    "# Convert 2D image to ID vector\n",
    "img = img.resize_(1, 784)\n",
    "\n",
    "# Turn off gradients to speed up this part\n",
    "with torch.no_grad():\n",
    "    logits = model.forward(img)\n",
    "\n",
    "# Calculate the class probabilities softmax for the image\n",
    "ps = F.softmax(logits, dim=1)\n",
    "helper.view_classify(img.view(1, 28, 28), ps, version='Fashion')"
   ]
  }
 ],
 "metadata": {
  "kernelspec": {
   "display_name": "Python 3",
   "language": "python",
   "name": "python3"
  },
  "language_info": {
   "codemirror_mode": {
    "name": "ipython",
    "version": 3
   },
   "file_extension": ".py",
   "mimetype": "text/x-python",
   "name": "python",
   "nbconvert_exporter": "python",
   "pygments_lexer": "ipython3",
   "version": "3.7.4"
  }
 },
 "nbformat": 4,
 "nbformat_minor": 2
}
