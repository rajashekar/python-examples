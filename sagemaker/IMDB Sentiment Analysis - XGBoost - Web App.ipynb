{
 "cells": [
  {
   "cell_type": "markdown",
   "metadata": {},
   "source": [
    "# Sentiment Analysis Web App\n",
    "\n",
    "_Deep Learning Nanodegree Program | Deployment_\n",
    "\n",
    "---\n",
    "\n",
    "In this notebook we will use Amazon's SageMaker service to construct a random tree model to predict the sentiment of a movie review. In addition, we will deploy this model to an endpoint and construct a very simple web app which will interact with our model's deployed endpoint.\n",
    "\n",
    "## General Outline\n",
    "\n",
    "Typically, when using a notebook instance with SageMaker, you will proceed through the following steps. Of course, not every step will need to be done with each project. Also, there is quite a lot of room for variation in many of the steps, as you will see throughout these lessons.\n",
    "\n",
    "1. Download or otherwise retrieve the data.\n",
    "2. Process / Prepare the data.\n",
    "3. Upload the processed data to S3.\n",
    "4. Train a chosen model.\n",
    "5. Test the trained model (typically using a batch transform job).\n",
    "6. Deploy the trained model.\n",
    "7. Use the deployed model.\n",
    "\n",
    "In this notebook we will progress through each of the steps above. We will also see that the final step, using the deployed model, can be quite challenging."
   ]
  },
  {
   "cell_type": "markdown",
   "metadata": {},
   "source": [
    "## Step 1: Downloading the data\n",
    "\n",
    "The dataset we are going to use is very popular among researchers in Natural Language Processing, usually referred to as the [IMDb dataset](http://ai.stanford.edu/~amaas/data/sentiment/). It consists of movie reviews from the website [imdb.com](http://www.imdb.com/), each labeled as either '**pos**itive', if the reviewer enjoyed the film, or '**neg**ative' otherwise.\n",
    "\n",
    "> Maas, Andrew L., et al. [Learning Word Vectors for Sentiment Analysis](http://ai.stanford.edu/~amaas/data/sentiment/). In _Proceedings of the 49th Annual Meeting of the Association for Computational Linguistics: Human Language Technologies_. Association for Computational Linguistics, 2011.\n",
    "\n",
    "We begin by using some Jupyter Notebook magic to download and extract the dataset."
   ]
  },
  {
   "cell_type": "code",
   "execution_count": 1,
   "metadata": {},
   "outputs": [
    {
     "name": "stdout",
     "output_type": "stream",
     "text": [
      "mkdir: cannot create directory ‘../data’: File exists\n",
      "--2020-05-10 18:57:00--  http://ai.stanford.edu/~amaas/data/sentiment/aclImdb_v1.tar.gz\n",
      "Resolving ai.stanford.edu (ai.stanford.edu)... 171.64.68.10\n",
      "Connecting to ai.stanford.edu (ai.stanford.edu)|171.64.68.10|:80... connected.\n",
      "HTTP request sent, awaiting response... 200 OK\n",
      "Length: 84125825 (80M) [application/x-gzip]\n",
      "Saving to: ‘../data/aclImdb_v1.tar.gz’\n",
      "\n",
      "../data/aclImdb_v1. 100%[===================>]  80.23M  47.5MB/s    in 1.7s    \n",
      "\n",
      "2020-05-10 18:57:02 (47.5 MB/s) - ‘../data/aclImdb_v1.tar.gz’ saved [84125825/84125825]\n",
      "\n"
     ]
    }
   ],
   "source": [
    "%mkdir ../data\n",
    "!wget -O ../data/aclImdb_v1.tar.gz http://ai.stanford.edu/~amaas/data/sentiment/aclImdb_v1.tar.gz\n",
    "!tar -zxf ../data/aclImdb_v1.tar.gz -C ../data"
   ]
  },
  {
   "cell_type": "markdown",
   "metadata": {},
   "source": [
    "## Step 2: Preparing and Processing the data\n",
    "\n",
    "The data we have downloaded is split into various files, each of which contains a single review. It will be much easier going forward if we combine these individual files into two large files, one for training and one for testing."
   ]
  },
  {
   "cell_type": "code",
   "execution_count": 2,
   "metadata": {},
   "outputs": [],
   "source": [
    "import os\n",
    "import glob\n",
    "\n",
    "def read_imdb_data(data_dir='../data/aclImdb'):\n",
    "    data = {}\n",
    "    labels = {}\n",
    "    \n",
    "    for data_type in ['train', 'test']:\n",
    "        data[data_type] = {}\n",
    "        labels[data_type] = {}\n",
    "        \n",
    "        for sentiment in ['pos', 'neg']:\n",
    "            data[data_type][sentiment] = []\n",
    "            labels[data_type][sentiment] = []\n",
    "            \n",
    "            path = os.path.join(data_dir, data_type, sentiment, '*.txt')\n",
    "            files = glob.glob(path)\n",
    "            \n",
    "            for f in files:\n",
    "                with open(f) as review:\n",
    "                    data[data_type][sentiment].append(review.read())\n",
    "                    # Here we represent a positive review by '1' and a negative review by '0'\n",
    "                    labels[data_type][sentiment].append(1 if sentiment == 'pos' else 0)\n",
    "                    \n",
    "            assert len(data[data_type][sentiment]) == len(labels[data_type][sentiment]), \\\n",
    "                    \"{}/{} data size does not match labels size\".format(data_type, sentiment)\n",
    "                \n",
    "    return data, labels"
   ]
  },
  {
   "cell_type": "code",
   "execution_count": 3,
   "metadata": {},
   "outputs": [
    {
     "name": "stdout",
     "output_type": "stream",
     "text": [
      "IMDB reviews: train = 12500 pos / 12500 neg, test = 12500 pos / 12500 neg\n"
     ]
    }
   ],
   "source": [
    "data, labels = read_imdb_data()\n",
    "print(\"IMDB reviews: train = {} pos / {} neg, test = {} pos / {} neg\".format(\n",
    "            len(data['train']['pos']), len(data['train']['neg']),\n",
    "            len(data['test']['pos']), len(data['test']['neg'])))"
   ]
  },
  {
   "cell_type": "code",
   "execution_count": 4,
   "metadata": {},
   "outputs": [],
   "source": [
    "from sklearn.utils import shuffle\n",
    "\n",
    "def prepare_imdb_data(data, labels):\n",
    "    \"\"\"Prepare training and test sets from IMDb movie reviews.\"\"\"\n",
    "    \n",
    "    #Combine positive and negative reviews and labels\n",
    "    data_train = data['train']['pos'] + data['train']['neg']\n",
    "    data_test = data['test']['pos'] + data['test']['neg']\n",
    "    labels_train = labels['train']['pos'] + labels['train']['neg']\n",
    "    labels_test = labels['test']['pos'] + labels['test']['neg']\n",
    "    \n",
    "    #Shuffle reviews and corresponding labels within training and test sets\n",
    "    data_train, labels_train = shuffle(data_train, labels_train)\n",
    "    data_test, labels_test = shuffle(data_test, labels_test)\n",
    "    \n",
    "    # Return a unified training data, test data, training labels, test labets\n",
    "    return data_train, data_test, labels_train, labels_test"
   ]
  },
  {
   "cell_type": "code",
   "execution_count": 5,
   "metadata": {},
   "outputs": [
    {
     "name": "stdout",
     "output_type": "stream",
     "text": [
      "IMDb reviews (combined): train = 25000, test = 25000\n"
     ]
    }
   ],
   "source": [
    "train_X, test_X, train_y, test_y = prepare_imdb_data(data, labels)\n",
    "print(\"IMDb reviews (combined): train = {}, test = {}\".format(len(train_X), len(test_X)))"
   ]
  },
  {
   "cell_type": "code",
   "execution_count": 6,
   "metadata": {},
   "outputs": [
    {
     "data": {
      "text/plain": [
       "'Somebody owes Ang Lee an apology. Actually, a lot of people do. And I\\'ll start. I was never interested in the Ang Lee film Hulk, because of the near unanimous bad reviews. Even the premium cable channels seemed to rarely show it. I finally decided to watch it yesterday on USA network and, wow....<br /><br />SPOILERS FOR ANG LEE\\'S HULK AND THE INCREDIBLE HULK <br /><br />Was it boring! I almost didn\\'t make it through Ang Lee\\'s Hulk. Eric Bana was expressionless, Nick Nolte was horrible, Sam Elliott was unlikeable (and that\\'s no fun, he\\'s usually a cool character). In fact, I honestly think they chose Eric Bana because his non-descript face was the easiest to mimic with computer graphics - and it was clear that the Ang Lee Hulk was meant to facially resemble Bruce Banner in his non-angry state. When Hulk fought a mutant poodle I was ready to concede Hulk as the worst superhero movie ever.<br /><br />But then something happened. About 3/4 of the way through this tedious movie, there was a genuinely exciting and - dare I say it - reasonably convincing - extended action scene that starts with Hulk breaking out of a containment chamber in a military base, fighting M1 tanks and Comanche helicopters in the desert, then riding an F22 Raptor into the stratosphere, only to be captured on the streets of San Francisco. This was one of the best action sequences ever made for a superhero movie. And I have to say, the CGI was quite good. That\\'s not to say that the Hulk was totally convincing. But it didn\\'t require much more suspension of disbelief than is required in a lot of non-superhero action movies. And that\\'s quite a feat.<br /><br />Of course, the ending got really stupid with Bruce Banner\\'s father turning into some sort of shape-shifting villain but the earlier long action sequence put any of Iron Man\\'s brief heroics to shame. And overall, apart from the animated mutant dogs, it really did seem like the CGI in Hulk tried hard to convince you that he was real and really interacting with his environment. It was certainly better than I expected.<br /><br />OK, but what about The Incredible Hulk? Guess what... It\\'s boring too! It has just a few appearances by the Hulk and here\\'s the thing - the CGI in this movie is horrible. Maybe the Hulk in Ang Lee\\'s version looked fake at times and cartoonish at others - but it had its convincing moments also. The Incredible Hulk looked positively ridiculous. It had skin tone and muscle tone that didn\\'t even look like a living creature, just some sort of computer-generated texture. It was really preposterous. The lighting, environment and facial effects didn\\'t look 5 years newer than Ang Lee\\'s, they looked 10 years older. And there really is no excuse for that. We truly are living in an era where computer programmers can ruin a movie just as thoroughly as any director, actor or cinematographer ever could.<br /><br />Worse, the writer and director of this movie seemed to learn almost nothing from Ang Lee\\'s \"failure\". All the same mistakes are made. Bruce Banner is practically emotionless. The general is so relentlessly, implausibly one-dimensional that he seems faker than the Hulk. The love interest is unconvincing (I have to give Liv Tyler credit for being more emotional than Jennifer Connelly, though both are quite easy on the eyes). Tim Blake Nelson overacts almost as much as Nick Nolte, even though he\\'s only in the movie for a few minutes. The Hulk really doesn\\'t do much in this movie, certainly not any more than in Ang Lee\\'s version. The Incredible Hulk was slightly more fast-paced, but since nothing really happened anyway that\\'s not worth much. Oh yeah, the villain is every bit as phony looking as the Hulk. He\\'s actually much more interesting as a human than as a monster. <br /><br />This is how I can definitively say Ang Lee\\'s version was better: if I ever have the chance to see Ang Lee\\'s version again, I might be able to sit through it to see the good action sequences, or else to try to appreciate the dialogue a little more (more likely I\\'d just fast forward to the good parts). But there is absolutely not a single scene in The Incredible Hulk that is worth seeing once, let alone twice. It is truly at the bottom of the heap of superhero movies. The cartoonish CGI is an insult to the audience - at least in Ang Lee\\'s version it seems like they were trying to make it realistic (except for the giant poodle, of course).<br /><br />It is absolutely mind-boggling how the filmmakers intended to erase the bad feelings associated with Ang Lee\\'s Hulk by making almost exactly the same movie. <br /><br />It is to Edward Norton\\'s credit that he seems to be distancing himself from this film.'"
      ]
     },
     "execution_count": 6,
     "metadata": {},
     "output_type": "execute_result"
    }
   ],
   "source": [
    "train_X[100]"
   ]
  },
  {
   "cell_type": "markdown",
   "metadata": {},
   "source": [
    "## Processing the data\n",
    "\n",
    "Now that we have our training and testing datasets merged and ready to use, we need to start processing the raw data into something that will be useable by our machine learning algorithm. To begin with, we remove any html formatting and any non-alpha numeric characters that may appear in the reviews. We will do this in a very simplistic way using Python's regular expression module. We will discuss the reason for this rather simplistic pre-processing later on."
   ]
  },
  {
   "cell_type": "code",
   "execution_count": 7,
   "metadata": {},
   "outputs": [],
   "source": [
    "import re\n",
    "\n",
    "REPLACE_NO_SPACE = re.compile(\"(\\.)|(\\;)|(\\:)|(\\!)|(\\')|(\\?)|(\\,)|(\\\")|(\\()|(\\))|(\\[)|(\\])\")\n",
    "REPLACE_WITH_SPACE = re.compile(\"(<br\\s*/><br\\s*/>)|(\\-)|(\\/)\")\n",
    "\n",
    "def review_to_words(review):\n",
    "    words = REPLACE_NO_SPACE.sub(\"\", review.lower())\n",
    "    words = REPLACE_WITH_SPACE.sub(\" \", words)\n",
    "    return words"
   ]
  },
  {
   "cell_type": "code",
   "execution_count": 8,
   "metadata": {},
   "outputs": [
    {
     "data": {
      "text/plain": [
       "'somebody owes ang lee an apology actually a lot of people do and ill start i was never interested in the ang lee film hulk because of the near unanimous bad reviews even the premium cable channels seemed to rarely show it i finally decided to watch it yesterday on usa network and wow spoilers for ang lees hulk and the incredible hulk  was it boring i almost didnt make it through ang lees hulk eric bana was expressionless nick nolte was horrible sam elliott was unlikeable and thats no fun hes usually a cool character in fact i honestly think they chose eric bana because his non descript face was the easiest to mimic with computer graphics   and it was clear that the ang lee hulk was meant to facially resemble bruce banner in his non angry state when hulk fought a mutant poodle i was ready to concede hulk as the worst superhero movie ever but then something happened about 3 4 of the way through this tedious movie there was a genuinely exciting and   dare i say it   reasonably convincing   extended action scene that starts with hulk breaking out of a containment chamber in a military base fighting m1 tanks and comanche helicopters in the desert then riding an f22 raptor into the stratosphere only to be captured on the streets of san francisco this was one of the best action sequences ever made for a superhero movie and i have to say the cgi was quite good thats not to say that the hulk was totally convincing but it didnt require much more suspension of disbelief than is required in a lot of non superhero action movies and thats quite a feat of course the ending got really stupid with bruce banners father turning into some sort of shape shifting villain but the earlier long action sequence put any of iron mans brief heroics to shame and overall apart from the animated mutant dogs it really did seem like the cgi in hulk tried hard to convince you that he was real and really interacting with his environment it was certainly better than i expected ok but what about the incredible hulk guess what its boring too it has just a few appearances by the hulk and heres the thing   the cgi in this movie is horrible maybe the hulk in ang lees version looked fake at times and cartoonish at others   but it had its convincing moments also the incredible hulk looked positively ridiculous it had skin tone and muscle tone that didnt even look like a living creature just some sort of computer generated texture it was really preposterous the lighting environment and facial effects didnt look 5 years newer than ang lees they looked 10 years older and there really is no excuse for that we truly are living in an era where computer programmers can ruin a movie just as thoroughly as any director actor or cinematographer ever could worse the writer and director of this movie seemed to learn almost nothing from ang lees failure all the same mistakes are made bruce banner is practically emotionless the general is so relentlessly implausibly one dimensional that he seems faker than the hulk the love interest is unconvincing i have to give liv tyler credit for being more emotional than jennifer connelly though both are quite easy on the eyes tim blake nelson overacts almost as much as nick nolte even though hes only in the movie for a few minutes the hulk really doesnt do much in this movie certainly not any more than in ang lees version the incredible hulk was slightly more fast paced but since nothing really happened anyway thats not worth much oh yeah the villain is every bit as phony looking as the hulk hes actually much more interesting as a human than as a monster  this is how i can definitively say ang lees version was better if i ever have the chance to see ang lees version again i might be able to sit through it to see the good action sequences or else to try to appreciate the dialogue a little more more likely id just fast forward to the good parts but there is absolutely not a single scene in the incredible hulk that is worth seeing once let alone twice it is truly at the bottom of the heap of superhero movies the cartoonish cgi is an insult to the audience   at least in ang lees version it seems like they were trying to make it realistic except for the giant poodle of course it is absolutely mind boggling how the filmmakers intended to erase the bad feelings associated with ang lees hulk by making almost exactly the same movie  it is to edward nortons credit that he seems to be distancing himself from this film'"
      ]
     },
     "execution_count": 8,
     "metadata": {},
     "output_type": "execute_result"
    }
   ],
   "source": [
    "review_to_words(train_X[100])"
   ]
  },
  {
   "cell_type": "code",
   "execution_count": 9,
   "metadata": {},
   "outputs": [],
   "source": [
    "import pickle\n",
    "\n",
    "cache_dir = os.path.join(\"../cache\", \"sentiment_web_app\")  # where to store cache files\n",
    "os.makedirs(cache_dir, exist_ok=True)  # ensure cache directory exists\n",
    "\n",
    "def preprocess_data(data_train, data_test, labels_train, labels_test,\n",
    "                    cache_dir=cache_dir, cache_file=\"preprocessed_data.pkl\"):\n",
    "    \"\"\"Convert each review to words; read from cache if available.\"\"\"\n",
    "\n",
    "    # If cache_file is not None, try to read from it first\n",
    "    cache_data = None\n",
    "    if cache_file is not None:\n",
    "        try:\n",
    "            with open(os.path.join(cache_dir, cache_file), \"rb\") as f:\n",
    "                cache_data = pickle.load(f)\n",
    "            print(\"Read preprocessed data from cache file:\", cache_file)\n",
    "        except:\n",
    "            pass  # unable to read from cache, but that's okay\n",
    "    \n",
    "    # If cache is missing, then do the heavy lifting\n",
    "    if cache_data is None:\n",
    "        # Preprocess training and test data to obtain words for each review\n",
    "        #words_train = list(map(review_to_words, data_train))\n",
    "        #words_test = list(map(review_to_words, data_test))\n",
    "        words_train = [review_to_words(review) for review in data_train]\n",
    "        words_test = [review_to_words(review) for review in data_test]\n",
    "        \n",
    "        # Write to cache file for future runs\n",
    "        if cache_file is not None:\n",
    "            cache_data = dict(words_train=words_train, words_test=words_test,\n",
    "                              labels_train=labels_train, labels_test=labels_test)\n",
    "            with open(os.path.join(cache_dir, cache_file), \"wb\") as f:\n",
    "                pickle.dump(cache_data, f)\n",
    "            print(\"Wrote preprocessed data to cache file:\", cache_file)\n",
    "    else:\n",
    "        # Unpack data loaded from cache file\n",
    "        words_train, words_test, labels_train, labels_test = (cache_data['words_train'],\n",
    "                cache_data['words_test'], cache_data['labels_train'], cache_data['labels_test'])\n",
    "    \n",
    "    return words_train, words_test, labels_train, labels_test"
   ]
  },
  {
   "cell_type": "code",
   "execution_count": 10,
   "metadata": {},
   "outputs": [
    {
     "name": "stdout",
     "output_type": "stream",
     "text": [
      "Wrote preprocessed data to cache file: preprocessed_data.pkl\n"
     ]
    }
   ],
   "source": [
    "# Preprocess data\n",
    "train_X, test_X, train_y, test_y = preprocess_data(train_X, test_X, train_y, test_y)"
   ]
  },
  {
   "cell_type": "markdown",
   "metadata": {},
   "source": [
    "### Extract Bag-of-Words features\n",
    "\n",
    "For the model we will be implementing, rather than using the reviews directly, we are going to transform each review into a Bag-of-Words feature representation. Keep in mind that 'in the wild' we will only have access to the training set so our transformer can only use the training set to construct a representation."
   ]
  },
  {
   "cell_type": "code",
   "execution_count": 11,
   "metadata": {},
   "outputs": [],
   "source": [
    "import numpy as np\n",
    "from sklearn.feature_extraction.text import CountVectorizer\n",
    "from sklearn.externals import joblib\n",
    "# joblib is an enhanced version of pickle that is more efficient for storing NumPy arrays\n",
    "\n",
    "def extract_BoW_features(words_train, words_test, vocabulary_size=5000,\n",
    "                         cache_dir=cache_dir, cache_file=\"bow_features.pkl\"):\n",
    "    \"\"\"Extract Bag-of-Words for a given set of documents, already preprocessed into words.\"\"\"\n",
    "    \n",
    "    # If cache_file is not None, try to read from it first\n",
    "    cache_data = None\n",
    "    if cache_file is not None:\n",
    "        try:\n",
    "            with open(os.path.join(cache_dir, cache_file), \"rb\") as f:\n",
    "                cache_data = joblib.load(f)\n",
    "            print(\"Read features from cache file:\", cache_file)\n",
    "        except:\n",
    "            pass  # unable to read from cache, but that's okay\n",
    "    \n",
    "    # If cache is missing, then do the heavy lifting\n",
    "    if cache_data is None:\n",
    "        # Fit a vectorizer to training documents and use it to transform them\n",
    "        # NOTE: Training documents have already been preprocessed and tokenized into words;\n",
    "        #       pass in dummy functions to skip those steps, e.g. preprocessor=lambda x: x\n",
    "        vectorizer = CountVectorizer(max_features=vocabulary_size)\n",
    "        features_train = vectorizer.fit_transform(words_train).toarray()\n",
    "\n",
    "        # Apply the same vectorizer to transform the test documents (ignore unknown words)\n",
    "        features_test = vectorizer.transform(words_test).toarray()\n",
    "        \n",
    "        # NOTE: Remember to convert the features using .toarray() for a compact representation\n",
    "        \n",
    "        # Write to cache file for future runs (store vocabulary as well)\n",
    "        if cache_file is not None:\n",
    "            vocabulary = vectorizer.vocabulary_\n",
    "            cache_data = dict(features_train=features_train, features_test=features_test,\n",
    "                             vocabulary=vocabulary)\n",
    "            with open(os.path.join(cache_dir, cache_file), \"wb\") as f:\n",
    "                joblib.dump(cache_data, f)\n",
    "            print(\"Wrote features to cache file:\", cache_file)\n",
    "    else:\n",
    "        # Unpack data loaded from cache file\n",
    "        features_train, features_test, vocabulary = (cache_data['features_train'],\n",
    "                cache_data['features_test'], cache_data['vocabulary'])\n",
    "    \n",
    "    # Return both the extracted features as well as the vocabulary\n",
    "    return features_train, features_test, vocabulary"
   ]
  },
  {
   "cell_type": "code",
   "execution_count": 12,
   "metadata": {},
   "outputs": [
    {
     "name": "stdout",
     "output_type": "stream",
     "text": [
      "Wrote features to cache file: bow_features.pkl\n"
     ]
    }
   ],
   "source": [
    "# Extract Bag of Words features for both training and test datasets\n",
    "train_X, test_X, vocabulary = extract_BoW_features(train_X, test_X)"
   ]
  },
  {
   "cell_type": "code",
   "execution_count": 14,
   "metadata": {},
   "outputs": [
    {
     "data": {
      "text/plain": [
       "array([1, 0, 0, ..., 0, 0, 0], dtype=int64)"
      ]
     },
     "execution_count": 14,
     "metadata": {},
     "output_type": "execute_result"
    }
   ],
   "source": [
    "train_X[100]"
   ]
  },
  {
   "cell_type": "code",
   "execution_count": 13,
   "metadata": {},
   "outputs": [
    {
     "data": {
      "text/plain": [
       "5000"
      ]
     },
     "execution_count": 13,
     "metadata": {},
     "output_type": "execute_result"
    }
   ],
   "source": [
    "len(train_X[100])"
   ]
  },
  {
   "cell_type": "markdown",
   "metadata": {},
   "source": [
    "## Step 3: Upload data to S3\n",
    "\n",
    "Now that we have created the feature representation of our training (and testing) data, it is time to start setting up and using the XGBoost classifier provided by SageMaker.\n",
    "\n",
    "### Writing the datasets\n",
    "\n",
    "The XGBoost classifier that we will be using requires the dataset to be written to a file and stored using Amazon S3. To do this, we will start by splitting the training dataset into two parts, the data we will train the model with and a validation set. Then, we will write those datasets to a file locally and then upload the files to S3. In addition, we will write the test set to a file and upload that file to S3. This is so that we can use SageMakers Batch Transform functionality to test our model once we've fit it."
   ]
  },
  {
   "cell_type": "code",
   "execution_count": 15,
   "metadata": {},
   "outputs": [],
   "source": [
    "import pandas as pd\n",
    "\n",
    "# Earlier we shuffled the training dataset so to make things simple we can just assign\n",
    "# the first 10 000 reviews to the validation set and use the remaining reviews for training.\n",
    "val_X = pd.DataFrame(train_X[:10000])\n",
    "train_X = pd.DataFrame(train_X[10000:])\n",
    "\n",
    "val_y = pd.DataFrame(train_y[:10000])\n",
    "train_y = pd.DataFrame(train_y[10000:])"
   ]
  },
  {
   "cell_type": "markdown",
   "metadata": {},
   "source": [
    "The documentation for the XGBoost algorithm in SageMaker requires that the training and validation datasets should contain no headers or index and that the label should occur first for each sample.\n",
    "\n",
    "For more information about this and other algorithms, the SageMaker developer documentation can be found on __[Amazon's website.](https://docs.aws.amazon.com/sagemaker/latest/dg/)__"
   ]
  },
  {
   "cell_type": "code",
   "execution_count": 16,
   "metadata": {},
   "outputs": [],
   "source": [
    "# First we make sure that the local directory in which we'd like to store the training and validation csv files exists.\n",
    "data_dir = '../data/sentiment_web_app'\n",
    "if not os.path.exists(data_dir):\n",
    "    os.makedirs(data_dir)"
   ]
  },
  {
   "cell_type": "code",
   "execution_count": 17,
   "metadata": {},
   "outputs": [],
   "source": [
    "pd.DataFrame(test_X).to_csv(os.path.join(data_dir, 'test.csv'), header=False, index=False)\n",
    "\n",
    "pd.concat([val_y, val_X], axis=1).to_csv(os.path.join(data_dir, 'validation.csv'), header=False, index=False)\n",
    "pd.concat([train_y, train_X], axis=1).to_csv(os.path.join(data_dir, 'train.csv'), header=False, index=False)"
   ]
  },
  {
   "cell_type": "code",
   "execution_count": 18,
   "metadata": {},
   "outputs": [],
   "source": [
    "# To save a bit of memory we can set text_X, train_X, val_X, train_y and val_y to None.\n",
    "\n",
    "test_X = train_X = val_X = train_y = val_y = None"
   ]
  },
  {
   "cell_type": "markdown",
   "metadata": {},
   "source": [
    "### Uploading Training / Validation files to S3\n",
    "\n",
    "Amazon's S3 service allows us to store files that can be accessed by both the built-in training models such as the XGBoost model we will be using as well as custom models such as the one we will see a little later.\n",
    "\n",
    "For this and most other tasks we will be doing using SageMaker, there are two methods we could use. The first is to use the low level functionality of SageMaker which requires knowing each of the objects involved in the SageMaker environment. The second is to use the high level functionality in which certain choices have been made on the user's behalf. The low level approach benefits from allowing the user a great deal of flexibility while the high level approach makes development much quicker. For our purposes we will opt to use the high level approach although using the low-level approach is certainly an option.\n",
    "\n",
    "Recall the method `upload_data()` which is a member of the object representing our current SageMaker session. What this method does is upload the data to the default bucket (which is created if it does not exist) into the path described by the key_prefix variable. To see this for yourself, once you have uploaded the data files, go to the S3 console and look to see where the files have been uploaded.\n",
    "\n",
    "For additional resources, see the __[SageMaker API documentation](http://sagemaker.readthedocs.io/en/latest/)__ and in addition the __[SageMaker Developer Guide.](https://docs.aws.amazon.com/sagemaker/latest/dg/)__"
   ]
  },
  {
   "cell_type": "code",
   "execution_count": 19,
   "metadata": {},
   "outputs": [],
   "source": [
    "import sagemaker\n",
    "\n",
    "session = sagemaker.Session() # Store the current SageMaker session\n",
    "\n",
    "# S3 prefix (which folder will we use)\n",
    "prefix = 'sentiment-web-app'\n",
    "\n",
    "test_location = session.upload_data(os.path.join(data_dir, 'test.csv'), key_prefix=prefix)\n",
    "val_location = session.upload_data(os.path.join(data_dir, 'validation.csv'), key_prefix=prefix)\n",
    "train_location = session.upload_data(os.path.join(data_dir, 'train.csv'), key_prefix=prefix)"
   ]
  },
  {
   "cell_type": "markdown",
   "metadata": {},
   "source": [
    "## Step 4: Creating the XGBoost model\n",
    "\n",
    "Now that the data has been uploaded it is time to create the XGBoost model. To begin with, we need to do some setup. At this point it is worth discussing what a model is in SageMaker. It is easiest to think of a model of comprising three different objects in the SageMaker ecosystem, which interact with one another.\n",
    "\n",
    "- Model Artifacts\n",
    "- Training Code (Container)\n",
    "- Inference Code (Container)\n",
    "\n",
    "The Model Artifacts are what you might think of as the actual model itself. For example, if you were building a neural network, the model artifacts would be the weights of the various layers. In our case, for an XGBoost model, the artifacts are the actual trees that are created during training.\n",
    "\n",
    "The other two objects, the training code and the inference code are then used to manipulate the training artifacts. More precisely, the training code uses the training data that is provided and creates the model artifacts, while the inference code uses the model artifacts to make predictions on new data.\n",
    "\n",
    "The way that SageMaker runs the training and inference code is by making use of Docker containers. For now, think of a container as being a way of packaging code up so that dependencies aren't an issue."
   ]
  },
  {
   "cell_type": "code",
   "execution_count": 20,
   "metadata": {},
   "outputs": [],
   "source": [
    "from sagemaker import get_execution_role\n",
    "\n",
    "# Our current execution role is required when creating the model as the training\n",
    "# and inference code will need to access the model artifacts.\n",
    "role = get_execution_role()"
   ]
  },
  {
   "cell_type": "code",
   "execution_count": 21,
   "metadata": {},
   "outputs": [
    {
     "name": "stderr",
     "output_type": "stream",
     "text": [
      "WARNING:root:There is a more up to date SageMaker XGBoost image. To use the newer image, please set 'repo_version'='0.90-1'. For example:\n",
      "\tget_image_uri(region, 'xgboost', '0.90-1').\n"
     ]
    }
   ],
   "source": [
    "# We need to retrieve the location of the container which is provided by Amazon for using XGBoost.\n",
    "# As a matter of convenience, the training and inference code both use the same container.\n",
    "from sagemaker.amazon.amazon_estimator import get_image_uri\n",
    "\n",
    "container = get_image_uri(session.boto_region_name, 'xgboost')"
   ]
  },
  {
   "cell_type": "code",
   "execution_count": 22,
   "metadata": {},
   "outputs": [],
   "source": [
    "# First we create a SageMaker estimator object for our model.\n",
    "xgb = sagemaker.estimator.Estimator(container, # The location of the container we wish to use\n",
    "                                    role,                                    # What is our current IAM Role\n",
    "                                    train_instance_count=1,                  # How many compute instances\n",
    "                                    train_instance_type='ml.m4.xlarge',      # What kind of compute instances\n",
    "                                    output_path='s3://{}/{}/output'.format(session.default_bucket(), prefix),\n",
    "                                    sagemaker_session=session)\n",
    "\n",
    "# And then set the algorithm specific parameters.\n",
    "xgb.set_hyperparameters(max_depth=5,\n",
    "                        eta=0.2,\n",
    "                        gamma=4,\n",
    "                        min_child_weight=6,\n",
    "                        subsample=0.8,\n",
    "                        silent=0,\n",
    "                        objective='binary:logistic',\n",
    "                        early_stopping_rounds=10,\n",
    "                        num_round=500)"
   ]
  },
  {
   "cell_type": "markdown",
   "metadata": {},
   "source": [
    "### Fit the XGBoost model\n",
    "\n",
    "Now that our model has been set up we simply need to attach the training and validation datasets and then ask SageMaker to set up the computation."
   ]
  },
  {
   "cell_type": "code",
   "execution_count": 23,
   "metadata": {},
   "outputs": [],
   "source": [
    "s3_input_train = sagemaker.s3_input(s3_data=train_location, content_type='csv')\n",
    "s3_input_validation = sagemaker.s3_input(s3_data=val_location, content_type='csv')"
   ]
  },
  {
   "cell_type": "code",
   "execution_count": 24,
   "metadata": {},
   "outputs": [
    {
     "name": "stdout",
     "output_type": "stream",
     "text": [
      "2020-05-11 05:47:22 Starting - Starting the training job...\n",
      "2020-05-11 05:47:25 Starting - Launching requested ML instances......\n",
      "2020-05-11 05:48:28 Starting - Preparing the instances for training...\n",
      "2020-05-11 05:49:21 Downloading - Downloading input data...\n",
      "2020-05-11 05:49:37 Training - Downloading the training image..\u001b[34mArguments: train\u001b[0m\n",
      "\u001b[34m[2020-05-11:05:49:58:INFO] Running standalone xgboost training.\u001b[0m\n",
      "\u001b[34m[2020-05-11:05:49:58:INFO] File size need to be processed in the node: 238.5mb. Available memory size in the node: 8484.32mb\u001b[0m\n",
      "\u001b[34m[2020-05-11:05:49:58:INFO] Determined delimiter of CSV input is ','\u001b[0m\n",
      "\u001b[34m[05:49:58] S3DistributionType set as FullyReplicated\u001b[0m\n",
      "\u001b[34m[05:50:00] 15000x5000 matrix with 75000000 entries loaded from /opt/ml/input/data/train?format=csv&label_column=0&delimiter=,\u001b[0m\n",
      "\u001b[34m[2020-05-11:05:50:00:INFO] Determined delimiter of CSV input is ','\u001b[0m\n",
      "\u001b[34m[05:50:00] S3DistributionType set as FullyReplicated\u001b[0m\n",
      "\u001b[34m[05:50:01] 10000x5000 matrix with 50000000 entries loaded from /opt/ml/input/data/validation?format=csv&label_column=0&delimiter=,\u001b[0m\n",
      "\u001b[34m[05:50:04] src/tree/updater_prune.cc:74: tree pruning end, 1 roots, 40 extra nodes, 2 pruned nodes, max_depth=5\u001b[0m\n",
      "\u001b[34m[0]#011train-error:0.308133#011validation-error:0.3074\u001b[0m\n",
      "\u001b[34mMultiple eval metrics have been passed: 'validation-error' will be used for early stopping.\n",
      "\u001b[0m\n",
      "\u001b[34mWill train until validation-error hasn't improved in 10 rounds.\u001b[0m\n",
      "\u001b[34m[05:50:06] src/tree/updater_prune.cc:74: tree pruning end, 1 roots, 42 extra nodes, 8 pruned nodes, max_depth=5\u001b[0m\n",
      "\u001b[34m[1]#011train-error:0.303#011validation-error:0.3051\u001b[0m\n",
      "\u001b[34m[05:50:07] src/tree/updater_prune.cc:74: tree pruning end, 1 roots, 46 extra nodes, 4 pruned nodes, max_depth=5\u001b[0m\n",
      "\u001b[34m[2]#011train-error:0.279133#011validation-error:0.2833\u001b[0m\n",
      "\n",
      "2020-05-11 05:49:57 Training - Training image download completed. Training in progress.\u001b[34m[05:50:09] src/tree/updater_prune.cc:74: tree pruning end, 1 roots, 28 extra nodes, 4 pruned nodes, max_depth=5\u001b[0m\n",
      "\u001b[34m[3]#011train-error:0.277533#011validation-error:0.2829\u001b[0m\n",
      "\u001b[34m[05:50:10] src/tree/updater_prune.cc:74: tree pruning end, 1 roots, 38 extra nodes, 2 pruned nodes, max_depth=5\u001b[0m\n",
      "\u001b[34m[4]#011train-error:0.2586#011validation-error:0.2672\u001b[0m\n",
      "\u001b[34m[05:50:11] src/tree/updater_prune.cc:74: tree pruning end, 1 roots, 30 extra nodes, 2 pruned nodes, max_depth=5\u001b[0m\n",
      "\u001b[34m[5]#011train-error:0.258533#011validation-error:0.265\u001b[0m\n",
      "\u001b[34m[05:50:13] src/tree/updater_prune.cc:74: tree pruning end, 1 roots, 30 extra nodes, 10 pruned nodes, max_depth=5\u001b[0m\n",
      "\u001b[34m[6]#011train-error:0.252333#011validation-error:0.2616\u001b[0m\n",
      "\u001b[34m[05:50:14] src/tree/updater_prune.cc:74: tree pruning end, 1 roots, 28 extra nodes, 8 pruned nodes, max_depth=5\u001b[0m\n",
      "\u001b[34m[7]#011train-error:0.2354#011validation-error:0.2485\u001b[0m\n",
      "\u001b[34m[05:50:15] src/tree/updater_prune.cc:74: tree pruning end, 1 roots, 22 extra nodes, 12 pruned nodes, max_depth=5\u001b[0m\n",
      "\u001b[34m[8]#011train-error:0.226067#011validation-error:0.2411\u001b[0m\n",
      "\u001b[34m[05:50:16] src/tree/updater_prune.cc:74: tree pruning end, 1 roots, 32 extra nodes, 10 pruned nodes, max_depth=5\u001b[0m\n",
      "\u001b[34m[9]#011train-error:0.227133#011validation-error:0.2407\u001b[0m\n",
      "\u001b[34m[05:50:18] src/tree/updater_prune.cc:74: tree pruning end, 1 roots, 20 extra nodes, 10 pruned nodes, max_depth=5\u001b[0m\n",
      "\u001b[34m[10]#011train-error:0.219667#011validation-error:0.2328\u001b[0m\n",
      "\u001b[34m[05:50:19] src/tree/updater_prune.cc:74: tree pruning end, 1 roots, 32 extra nodes, 10 pruned nodes, max_depth=5\u001b[0m\n",
      "\u001b[34m[11]#011train-error:0.2186#011validation-error:0.2319\u001b[0m\n",
      "\u001b[34m[05:50:20] src/tree/updater_prune.cc:74: tree pruning end, 1 roots, 34 extra nodes, 4 pruned nodes, max_depth=5\u001b[0m\n",
      "\u001b[34m[12]#011train-error:0.211267#011validation-error:0.226\u001b[0m\n",
      "\u001b[34m[05:50:22] src/tree/updater_prune.cc:74: tree pruning end, 1 roots, 34 extra nodes, 8 pruned nodes, max_depth=5\u001b[0m\n",
      "\u001b[34m[13]#011train-error:0.205733#011validation-error:0.2219\u001b[0m\n",
      "\u001b[34m[05:50:23] src/tree/updater_prune.cc:74: tree pruning end, 1 roots, 30 extra nodes, 6 pruned nodes, max_depth=5\u001b[0m\n",
      "\u001b[34m[14]#011train-error:0.201733#011validation-error:0.2191\u001b[0m\n",
      "\u001b[34m[05:50:24] src/tree/updater_prune.cc:74: tree pruning end, 1 roots, 24 extra nodes, 18 pruned nodes, max_depth=5\u001b[0m\n",
      "\u001b[34m[15]#011train-error:0.201133#011validation-error:0.2175\u001b[0m\n",
      "\u001b[34m[05:50:26] src/tree/updater_prune.cc:74: tree pruning end, 1 roots, 26 extra nodes, 10 pruned nodes, max_depth=5\u001b[0m\n",
      "\u001b[34m[16]#011train-error:0.200933#011validation-error:0.2152\u001b[0m\n",
      "\u001b[34m[05:50:27] src/tree/updater_prune.cc:74: tree pruning end, 1 roots, 22 extra nodes, 12 pruned nodes, max_depth=5\u001b[0m\n",
      "\u001b[34m[17]#011train-error:0.1972#011validation-error:0.2122\u001b[0m\n",
      "\u001b[34m[05:50:28] src/tree/updater_prune.cc:74: tree pruning end, 1 roots, 24 extra nodes, 4 pruned nodes, max_depth=5\u001b[0m\n",
      "\u001b[34m[18]#011train-error:0.193733#011validation-error:0.2083\u001b[0m\n",
      "\u001b[34m[05:50:30] src/tree/updater_prune.cc:74: tree pruning end, 1 roots, 22 extra nodes, 10 pruned nodes, max_depth=5\u001b[0m\n",
      "\u001b[34m[19]#011train-error:0.189467#011validation-error:0.2066\u001b[0m\n",
      "\u001b[34m[05:50:31] src/tree/updater_prune.cc:74: tree pruning end, 1 roots, 32 extra nodes, 6 pruned nodes, max_depth=5\u001b[0m\n",
      "\u001b[34m[20]#011train-error:0.187267#011validation-error:0.2067\u001b[0m\n",
      "\u001b[34m[05:50:32] src/tree/updater_prune.cc:74: tree pruning end, 1 roots, 30 extra nodes, 18 pruned nodes, max_depth=5\u001b[0m\n",
      "\u001b[34m[21]#011train-error:0.184467#011validation-error:0.207\u001b[0m\n",
      "\u001b[34m[05:50:33] src/tree/updater_prune.cc:74: tree pruning end, 1 roots, 32 extra nodes, 6 pruned nodes, max_depth=5\u001b[0m\n",
      "\u001b[34m[22]#011train-error:0.181067#011validation-error:0.2039\u001b[0m\n",
      "\u001b[34m[05:50:35] src/tree/updater_prune.cc:74: tree pruning end, 1 roots, 32 extra nodes, 4 pruned nodes, max_depth=5\u001b[0m\n",
      "\u001b[34m[23]#011train-error:0.1796#011validation-error:0.2046\u001b[0m\n",
      "\u001b[34m[05:50:36] src/tree/updater_prune.cc:74: tree pruning end, 1 roots, 18 extra nodes, 10 pruned nodes, max_depth=5\u001b[0m\n",
      "\u001b[34m[24]#011train-error:0.178333#011validation-error:0.2039\u001b[0m\n",
      "\u001b[34m[05:50:37] src/tree/updater_prune.cc:74: tree pruning end, 1 roots, 34 extra nodes, 4 pruned nodes, max_depth=5\u001b[0m\n",
      "\u001b[34m[25]#011train-error:0.175133#011validation-error:0.2013\u001b[0m\n",
      "\u001b[34m[05:50:39] src/tree/updater_prune.cc:74: tree pruning end, 1 roots, 24 extra nodes, 0 pruned nodes, max_depth=5\u001b[0m\n",
      "\u001b[34m[26]#011train-error:0.1752#011validation-error:0.1978\u001b[0m\n",
      "\u001b[34m[05:50:40] src/tree/updater_prune.cc:74: tree pruning end, 1 roots, 24 extra nodes, 16 pruned nodes, max_depth=5\u001b[0m\n",
      "\u001b[34m[27]#011train-error:0.173333#011validation-error:0.196\u001b[0m\n",
      "\u001b[34m[05:50:41] src/tree/updater_prune.cc:74: tree pruning end, 1 roots, 38 extra nodes, 4 pruned nodes, max_depth=5\u001b[0m\n",
      "\u001b[34m[28]#011train-error:0.1692#011validation-error:0.1976\u001b[0m\n",
      "\u001b[34m[05:50:42] src/tree/updater_prune.cc:74: tree pruning end, 1 roots, 30 extra nodes, 12 pruned nodes, max_depth=5\u001b[0m\n",
      "\u001b[34m[29]#011train-error:0.168#011validation-error:0.1959\u001b[0m\n",
      "\u001b[34m[05:50:44] src/tree/updater_prune.cc:74: tree pruning end, 1 roots, 34 extra nodes, 4 pruned nodes, max_depth=5\u001b[0m\n",
      "\u001b[34m[30]#011train-error:0.165067#011validation-error:0.1929\u001b[0m\n",
      "\u001b[34m[05:50:45] src/tree/updater_prune.cc:74: tree pruning end, 1 roots, 30 extra nodes, 8 pruned nodes, max_depth=5\u001b[0m\n",
      "\u001b[34m[31]#011train-error:0.162933#011validation-error:0.1934\u001b[0m\n",
      "\u001b[34m[05:50:46] src/tree/updater_prune.cc:74: tree pruning end, 1 roots, 18 extra nodes, 6 pruned nodes, max_depth=5\u001b[0m\n",
      "\u001b[34m[32]#011train-error:0.162267#011validation-error:0.1929\u001b[0m\n",
      "\u001b[34m[05:50:48] src/tree/updater_prune.cc:74: tree pruning end, 1 roots, 30 extra nodes, 12 pruned nodes, max_depth=5\u001b[0m\n",
      "\u001b[34m[33]#011train-error:0.160133#011validation-error:0.1927\u001b[0m\n",
      "\u001b[34m[05:50:49] src/tree/updater_prune.cc:74: tree pruning end, 1 roots, 20 extra nodes, 10 pruned nodes, max_depth=5\u001b[0m\n",
      "\u001b[34m[34]#011train-error:0.1588#011validation-error:0.192\u001b[0m\n",
      "\u001b[34m[05:50:50] src/tree/updater_prune.cc:74: tree pruning end, 1 roots, 12 extra nodes, 14 pruned nodes, max_depth=5\u001b[0m\n",
      "\u001b[34m[35]#011train-error:0.158533#011validation-error:0.1902\u001b[0m\n",
      "\u001b[34m[05:50:51] src/tree/updater_prune.cc:74: tree pruning end, 1 roots, 26 extra nodes, 6 pruned nodes, max_depth=5\u001b[0m\n",
      "\u001b[34m[36]#011train-error:0.1568#011validation-error:0.1881\u001b[0m\n",
      "\u001b[34m[05:50:53] src/tree/updater_prune.cc:74: tree pruning end, 1 roots, 24 extra nodes, 2 pruned nodes, max_depth=5\u001b[0m\n",
      "\u001b[34m[37]#011train-error:0.1544#011validation-error:0.1882\u001b[0m\n",
      "\u001b[34m[05:50:54] src/tree/updater_prune.cc:74: tree pruning end, 1 roots, 28 extra nodes, 6 pruned nodes, max_depth=5\u001b[0m\n",
      "\u001b[34m[38]#011train-error:0.154#011validation-error:0.1884\u001b[0m\n",
      "\u001b[34m[05:50:55] src/tree/updater_prune.cc:74: tree pruning end, 1 roots, 22 extra nodes, 10 pruned nodes, max_depth=5\u001b[0m\n",
      "\u001b[34m[39]#011train-error:0.1522#011validation-error:0.1886\u001b[0m\n",
      "\u001b[34m[05:50:57] src/tree/updater_prune.cc:74: tree pruning end, 1 roots, 24 extra nodes, 12 pruned nodes, max_depth=5\u001b[0m\n",
      "\u001b[34m[40]#011train-error:0.150333#011validation-error:0.1884\u001b[0m\n",
      "\u001b[34m[05:50:58] src/tree/updater_prune.cc:74: tree pruning end, 1 roots, 16 extra nodes, 10 pruned nodes, max_depth=5\u001b[0m\n",
      "\u001b[34m[41]#011train-error:0.148667#011validation-error:0.1874\u001b[0m\n",
      "\u001b[34m[05:50:59] src/tree/updater_prune.cc:74: tree pruning end, 1 roots, 30 extra nodes, 4 pruned nodes, max_depth=5\u001b[0m\n",
      "\u001b[34m[42]#011train-error:0.148533#011validation-error:0.187\u001b[0m\n"
     ]
    },
    {
     "name": "stdout",
     "output_type": "stream",
     "text": [
      "\u001b[34m[05:51:00] src/tree/updater_prune.cc:74: tree pruning end, 1 roots, 42 extra nodes, 6 pruned nodes, max_depth=5\u001b[0m\n",
      "\u001b[34m[43]#011train-error:0.147467#011validation-error:0.1856\u001b[0m\n",
      "\u001b[34m[05:51:02] src/tree/updater_prune.cc:74: tree pruning end, 1 roots, 22 extra nodes, 12 pruned nodes, max_depth=5\u001b[0m\n",
      "\u001b[34m[44]#011train-error:0.146133#011validation-error:0.1842\u001b[0m\n",
      "\u001b[34m[05:51:03] src/tree/updater_prune.cc:74: tree pruning end, 1 roots, 28 extra nodes, 6 pruned nodes, max_depth=5\u001b[0m\n",
      "\u001b[34m[45]#011train-error:0.1446#011validation-error:0.1839\u001b[0m\n",
      "\u001b[34m[05:51:04] src/tree/updater_prune.cc:74: tree pruning end, 1 roots, 40 extra nodes, 8 pruned nodes, max_depth=5\u001b[0m\n",
      "\u001b[34m[46]#011train-error:0.1424#011validation-error:0.1832\u001b[0m\n",
      "\u001b[34m[05:51:06] src/tree/updater_prune.cc:74: tree pruning end, 1 roots, 20 extra nodes, 6 pruned nodes, max_depth=5\u001b[0m\n",
      "\u001b[34m[47]#011train-error:0.141733#011validation-error:0.1828\u001b[0m\n",
      "\u001b[34m[05:51:07] src/tree/updater_prune.cc:74: tree pruning end, 1 roots, 18 extra nodes, 6 pruned nodes, max_depth=5\u001b[0m\n",
      "\u001b[34m[48]#011train-error:0.140867#011validation-error:0.1827\u001b[0m\n",
      "\u001b[34m[05:51:08] src/tree/updater_prune.cc:74: tree pruning end, 1 roots, 20 extra nodes, 6 pruned nodes, max_depth=5\u001b[0m\n",
      "\u001b[34m[49]#011train-error:0.1388#011validation-error:0.1818\u001b[0m\n",
      "\u001b[34m[05:51:09] src/tree/updater_prune.cc:74: tree pruning end, 1 roots, 26 extra nodes, 6 pruned nodes, max_depth=5\u001b[0m\n",
      "\u001b[34m[50]#011train-error:0.137067#011validation-error:0.1816\u001b[0m\n",
      "\u001b[34m[05:51:11] src/tree/updater_prune.cc:74: tree pruning end, 1 roots, 18 extra nodes, 8 pruned nodes, max_depth=5\u001b[0m\n",
      "\u001b[34m[51]#011train-error:0.136733#011validation-error:0.1815\u001b[0m\n",
      "\u001b[34m[05:51:12] src/tree/updater_prune.cc:74: tree pruning end, 1 roots, 18 extra nodes, 8 pruned nodes, max_depth=5\u001b[0m\n",
      "\u001b[34m[52]#011train-error:0.136067#011validation-error:0.1806\u001b[0m\n",
      "\u001b[34m[05:51:13] src/tree/updater_prune.cc:74: tree pruning end, 1 roots, 20 extra nodes, 6 pruned nodes, max_depth=5\u001b[0m\n",
      "\u001b[34m[53]#011train-error:0.1354#011validation-error:0.1803\u001b[0m\n",
      "\u001b[34m[05:51:14] src/tree/updater_prune.cc:74: tree pruning end, 1 roots, 14 extra nodes, 6 pruned nodes, max_depth=5\u001b[0m\n",
      "\u001b[34m[54]#011train-error:0.134933#011validation-error:0.1802\u001b[0m\n",
      "\u001b[34m[05:51:16] src/tree/updater_prune.cc:74: tree pruning end, 1 roots, 22 extra nodes, 10 pruned nodes, max_depth=5\u001b[0m\n",
      "\u001b[34m[55]#011train-error:0.1328#011validation-error:0.1791\u001b[0m\n",
      "\u001b[34m[05:51:17] src/tree/updater_prune.cc:74: tree pruning end, 1 roots, 28 extra nodes, 10 pruned nodes, max_depth=5\u001b[0m\n",
      "\u001b[34m[56]#011train-error:0.131133#011validation-error:0.1768\u001b[0m\n",
      "\u001b[34m[05:51:18] src/tree/updater_prune.cc:74: tree pruning end, 1 roots, 18 extra nodes, 6 pruned nodes, max_depth=5\u001b[0m\n",
      "\u001b[34m[57]#011train-error:0.1292#011validation-error:0.1758\u001b[0m\n",
      "\u001b[34m[05:51:20] src/tree/updater_prune.cc:74: tree pruning end, 1 roots, 26 extra nodes, 4 pruned nodes, max_depth=5\u001b[0m\n",
      "\u001b[34m[58]#011train-error:0.1282#011validation-error:0.1753\u001b[0m\n",
      "\u001b[34m[05:51:21] src/tree/updater_prune.cc:74: tree pruning end, 1 roots, 20 extra nodes, 8 pruned nodes, max_depth=5\u001b[0m\n",
      "\u001b[34m[59]#011train-error:0.127933#011validation-error:0.1744\u001b[0m\n",
      "\u001b[34m[05:51:22] src/tree/updater_prune.cc:74: tree pruning end, 1 roots, 18 extra nodes, 12 pruned nodes, max_depth=5\u001b[0m\n",
      "\u001b[34m[60]#011train-error:0.127267#011validation-error:0.1736\u001b[0m\n",
      "\u001b[34m[05:51:23] src/tree/updater_prune.cc:74: tree pruning end, 1 roots, 42 extra nodes, 2 pruned nodes, max_depth=5\u001b[0m\n",
      "\u001b[34m[61]#011train-error:0.1264#011validation-error:0.1741\u001b[0m\n",
      "\u001b[34m[05:51:25] src/tree/updater_prune.cc:74: tree pruning end, 1 roots, 10 extra nodes, 4 pruned nodes, max_depth=5\u001b[0m\n",
      "\u001b[34m[62]#011train-error:0.125867#011validation-error:0.1739\u001b[0m\n",
      "\u001b[34m[05:51:26] src/tree/updater_prune.cc:74: tree pruning end, 1 roots, 22 extra nodes, 8 pruned nodes, max_depth=5\u001b[0m\n",
      "\u001b[34m[63]#011train-error:0.125067#011validation-error:0.1737\u001b[0m\n",
      "\u001b[34m[05:51:27] src/tree/updater_prune.cc:74: tree pruning end, 1 roots, 32 extra nodes, 2 pruned nodes, max_depth=5\u001b[0m\n",
      "\u001b[34m[64]#011train-error:0.124533#011validation-error:0.173\u001b[0m\n",
      "\u001b[34m[05:51:29] src/tree/updater_prune.cc:74: tree pruning end, 1 roots, 14 extra nodes, 8 pruned nodes, max_depth=5\u001b[0m\n",
      "\u001b[34m[65]#011train-error:0.123867#011validation-error:0.1722\u001b[0m\n",
      "\u001b[34m[05:51:30] src/tree/updater_prune.cc:74: tree pruning end, 1 roots, 14 extra nodes, 14 pruned nodes, max_depth=5\u001b[0m\n",
      "\u001b[34m[66]#011train-error:0.1234#011validation-error:0.1708\u001b[0m\n",
      "\u001b[34m[05:51:31] src/tree/updater_prune.cc:74: tree pruning end, 1 roots, 34 extra nodes, 6 pruned nodes, max_depth=5\u001b[0m\n",
      "\u001b[34m[67]#011train-error:0.121667#011validation-error:0.1703\u001b[0m\n",
      "\u001b[34m[05:51:32] src/tree/updater_prune.cc:74: tree pruning end, 1 roots, 26 extra nodes, 8 pruned nodes, max_depth=5\u001b[0m\n",
      "\u001b[34m[68]#011train-error:0.1198#011validation-error:0.1695\u001b[0m\n",
      "\u001b[34m[05:51:34] src/tree/updater_prune.cc:74: tree pruning end, 1 roots, 30 extra nodes, 6 pruned nodes, max_depth=5\u001b[0m\n",
      "\u001b[34m[69]#011train-error:0.1192#011validation-error:0.1696\u001b[0m\n",
      "\u001b[34m[05:51:35] src/tree/updater_prune.cc:74: tree pruning end, 1 roots, 26 extra nodes, 14 pruned nodes, max_depth=5\u001b[0m\n",
      "\u001b[34m[70]#011train-error:0.1188#011validation-error:0.1697\u001b[0m\n",
      "\u001b[34m[05:51:36] src/tree/updater_prune.cc:74: tree pruning end, 1 roots, 12 extra nodes, 6 pruned nodes, max_depth=5\u001b[0m\n",
      "\u001b[34m[71]#011train-error:0.118267#011validation-error:0.1698\u001b[0m\n",
      "\u001b[34m[05:51:38] src/tree/updater_prune.cc:74: tree pruning end, 1 roots, 16 extra nodes, 8 pruned nodes, max_depth=5\u001b[0m\n",
      "\u001b[34m[72]#011train-error:0.117467#011validation-error:0.1677\u001b[0m\n",
      "\u001b[34m[05:51:39] src/tree/updater_prune.cc:74: tree pruning end, 1 roots, 32 extra nodes, 12 pruned nodes, max_depth=5\u001b[0m\n",
      "\u001b[34m[73]#011train-error:0.116467#011validation-error:0.1659\u001b[0m\n",
      "\u001b[34m[05:51:40] src/tree/updater_prune.cc:74: tree pruning end, 1 roots, 18 extra nodes, 4 pruned nodes, max_depth=5\u001b[0m\n",
      "\u001b[34m[74]#011train-error:0.114533#011validation-error:0.166\u001b[0m\n",
      "\u001b[34m[05:51:41] src/tree/updater_prune.cc:74: tree pruning end, 1 roots, 12 extra nodes, 4 pruned nodes, max_depth=5\u001b[0m\n",
      "\u001b[34m[75]#011train-error:0.114933#011validation-error:0.1655\u001b[0m\n",
      "\u001b[34m[05:51:43] src/tree/updater_prune.cc:74: tree pruning end, 1 roots, 26 extra nodes, 10 pruned nodes, max_depth=5\u001b[0m\n",
      "\u001b[34m[76]#011train-error:0.113667#011validation-error:0.1647\u001b[0m\n",
      "\u001b[34m[05:51:44] src/tree/updater_prune.cc:74: tree pruning end, 1 roots, 14 extra nodes, 16 pruned nodes, max_depth=5\u001b[0m\n",
      "\u001b[34m[77]#011train-error:0.113267#011validation-error:0.1649\u001b[0m\n",
      "\u001b[34m[05:51:45] src/tree/updater_prune.cc:74: tree pruning end, 1 roots, 20 extra nodes, 10 pruned nodes, max_depth=5\u001b[0m\n",
      "\u001b[34m[78]#011train-error:0.112#011validation-error:0.1639\u001b[0m\n",
      "\u001b[34m[05:51:46] src/tree/updater_prune.cc:74: tree pruning end, 1 roots, 18 extra nodes, 6 pruned nodes, max_depth=5\u001b[0m\n",
      "\u001b[34m[79]#011train-error:0.111267#011validation-error:0.1639\u001b[0m\n",
      "\u001b[34m[05:51:48] src/tree/updater_prune.cc:74: tree pruning end, 1 roots, 16 extra nodes, 8 pruned nodes, max_depth=5\u001b[0m\n",
      "\u001b[34m[80]#011train-error:0.1116#011validation-error:0.163\u001b[0m\n",
      "\u001b[34m[05:51:49] src/tree/updater_prune.cc:74: tree pruning end, 1 roots, 22 extra nodes, 4 pruned nodes, max_depth=5\u001b[0m\n",
      "\u001b[34m[81]#011train-error:0.1112#011validation-error:0.1624\u001b[0m\n",
      "\u001b[34m[05:51:50] src/tree/updater_prune.cc:74: tree pruning end, 1 roots, 14 extra nodes, 10 pruned nodes, max_depth=5\u001b[0m\n",
      "\u001b[34m[82]#011train-error:0.111333#011validation-error:0.1619\u001b[0m\n",
      "\u001b[34m[05:51:52] src/tree/updater_prune.cc:74: tree pruning end, 1 roots, 28 extra nodes, 2 pruned nodes, max_depth=5\u001b[0m\n",
      "\u001b[34m[83]#011train-error:0.110533#011validation-error:0.1623\u001b[0m\n",
      "\u001b[34m[05:51:53] src/tree/updater_prune.cc:74: tree pruning end, 1 roots, 12 extra nodes, 4 pruned nodes, max_depth=5\u001b[0m\n",
      "\u001b[34m[84]#011train-error:0.11#011validation-error:0.1613\u001b[0m\n",
      "\u001b[34m[05:51:54] src/tree/updater_prune.cc:74: tree pruning end, 1 roots, 16 extra nodes, 4 pruned nodes, max_depth=5\u001b[0m\n",
      "\u001b[34m[85]#011train-error:0.109133#011validation-error:0.161\u001b[0m\n",
      "\u001b[34m[05:51:55] src/tree/updater_prune.cc:74: tree pruning end, 1 roots, 20 extra nodes, 6 pruned nodes, max_depth=5\u001b[0m\n",
      "\u001b[34m[86]#011train-error:0.109267#011validation-error:0.161\u001b[0m\n",
      "\u001b[34m[05:51:57] src/tree/updater_prune.cc:74: tree pruning end, 1 roots, 12 extra nodes, 14 pruned nodes, max_depth=5\u001b[0m\n",
      "\u001b[34m[87]#011train-error:0.109133#011validation-error:0.1603\u001b[0m\n",
      "\u001b[34m[05:51:58] src/tree/updater_prune.cc:74: tree pruning end, 1 roots, 14 extra nodes, 10 pruned nodes, max_depth=5\u001b[0m\n",
      "\u001b[34m[88]#011train-error:0.108867#011validation-error:0.1608\u001b[0m\n",
      "\u001b[34m[05:51:59] src/tree/updater_prune.cc:74: tree pruning end, 1 roots, 14 extra nodes, 10 pruned nodes, max_depth=5\u001b[0m\n",
      "\u001b[34m[89]#011train-error:0.108067#011validation-error:0.1606\u001b[0m\n",
      "\u001b[34m[05:52:01] src/tree/updater_prune.cc:74: tree pruning end, 1 roots, 16 extra nodes, 4 pruned nodes, max_depth=5\u001b[0m\n",
      "\u001b[34m[90]#011train-error:0.108533#011validation-error:0.1607\u001b[0m\n"
     ]
    },
    {
     "name": "stdout",
     "output_type": "stream",
     "text": [
      "\u001b[34m[05:52:02] src/tree/updater_prune.cc:74: tree pruning end, 1 roots, 22 extra nodes, 16 pruned nodes, max_depth=5\u001b[0m\n",
      "\u001b[34m[91]#011train-error:0.107733#011validation-error:0.159\u001b[0m\n",
      "\u001b[34m[05:52:03] src/tree/updater_prune.cc:74: tree pruning end, 1 roots, 26 extra nodes, 10 pruned nodes, max_depth=5\u001b[0m\n",
      "\u001b[34m[92]#011train-error:0.106133#011validation-error:0.1584\u001b[0m\n",
      "\u001b[34m[05:52:04] src/tree/updater_prune.cc:74: tree pruning end, 1 roots, 22 extra nodes, 6 pruned nodes, max_depth=5\u001b[0m\n",
      "\u001b[34m[93]#011train-error:0.105667#011validation-error:0.1587\u001b[0m\n",
      "\u001b[34m[05:52:06] src/tree/updater_prune.cc:74: tree pruning end, 1 roots, 22 extra nodes, 8 pruned nodes, max_depth=5\u001b[0m\n",
      "\u001b[34m[94]#011train-error:0.104533#011validation-error:0.1595\u001b[0m\n",
      "\u001b[34m[05:52:07] src/tree/updater_prune.cc:74: tree pruning end, 1 roots, 16 extra nodes, 6 pruned nodes, max_depth=5\u001b[0m\n",
      "\u001b[34m[95]#011train-error:0.105#011validation-error:0.1598\u001b[0m\n",
      "\u001b[34m[05:52:08] src/tree/updater_prune.cc:74: tree pruning end, 1 roots, 26 extra nodes, 10 pruned nodes, max_depth=5\u001b[0m\n",
      "\u001b[34m[96]#011train-error:0.103933#011validation-error:0.1595\u001b[0m\n",
      "\u001b[34m[05:52:10] src/tree/updater_prune.cc:74: tree pruning end, 1 roots, 10 extra nodes, 6 pruned nodes, max_depth=5\u001b[0m\n",
      "\u001b[34m[97]#011train-error:0.103933#011validation-error:0.1596\u001b[0m\n",
      "\u001b[34m[05:52:11] src/tree/updater_prune.cc:74: tree pruning end, 1 roots, 16 extra nodes, 6 pruned nodes, max_depth=5\u001b[0m\n",
      "\u001b[34m[98]#011train-error:0.103733#011validation-error:0.1592\u001b[0m\n",
      "\u001b[34m[05:52:12] src/tree/updater_prune.cc:74: tree pruning end, 1 roots, 22 extra nodes, 10 pruned nodes, max_depth=5\u001b[0m\n",
      "\u001b[34m[99]#011train-error:0.103933#011validation-error:0.1581\u001b[0m\n",
      "\u001b[34m[05:52:13] src/tree/updater_prune.cc:74: tree pruning end, 1 roots, 22 extra nodes, 4 pruned nodes, max_depth=5\u001b[0m\n",
      "\u001b[34m[100]#011train-error:0.1022#011validation-error:0.1579\u001b[0m\n",
      "\u001b[34m[05:52:15] src/tree/updater_prune.cc:74: tree pruning end, 1 roots, 20 extra nodes, 2 pruned nodes, max_depth=5\u001b[0m\n",
      "\u001b[34m[101]#011train-error:0.101667#011validation-error:0.1568\u001b[0m\n",
      "\u001b[34m[05:52:16] src/tree/updater_prune.cc:74: tree pruning end, 1 roots, 16 extra nodes, 4 pruned nodes, max_depth=5\u001b[0m\n",
      "\u001b[34m[102]#011train-error:0.101#011validation-error:0.1567\u001b[0m\n",
      "\u001b[34m[05:52:17] src/tree/updater_prune.cc:74: tree pruning end, 1 roots, 22 extra nodes, 12 pruned nodes, max_depth=5\u001b[0m\n",
      "\u001b[34m[103]#011train-error:0.100667#011validation-error:0.1563\u001b[0m\n",
      "\u001b[34m[05:52:19] src/tree/updater_prune.cc:74: tree pruning end, 1 roots, 16 extra nodes, 4 pruned nodes, max_depth=5\u001b[0m\n",
      "\u001b[34m[104]#011train-error:0.1#011validation-error:0.1559\u001b[0m\n",
      "\u001b[34m[05:52:20] src/tree/updater_prune.cc:74: tree pruning end, 1 roots, 12 extra nodes, 2 pruned nodes, max_depth=5\u001b[0m\n",
      "\u001b[34m[105]#011train-error:0.100067#011validation-error:0.1555\u001b[0m\n",
      "\u001b[34m[05:52:21] src/tree/updater_prune.cc:74: tree pruning end, 1 roots, 12 extra nodes, 10 pruned nodes, max_depth=5\u001b[0m\n",
      "\u001b[34m[106]#011train-error:0.0998#011validation-error:0.1546\u001b[0m\n",
      "\u001b[34m[05:52:22] src/tree/updater_prune.cc:74: tree pruning end, 1 roots, 14 extra nodes, 12 pruned nodes, max_depth=5\u001b[0m\n",
      "\u001b[34m[107]#011train-error:0.099133#011validation-error:0.1553\u001b[0m\n",
      "\u001b[34m[05:52:24] src/tree/updater_prune.cc:74: tree pruning end, 1 roots, 18 extra nodes, 2 pruned nodes, max_depth=5\u001b[0m\n",
      "\u001b[34m[108]#011train-error:0.0988#011validation-error:0.1551\u001b[0m\n",
      "\u001b[34m[05:52:25] src/tree/updater_prune.cc:74: tree pruning end, 1 roots, 20 extra nodes, 16 pruned nodes, max_depth=5\u001b[0m\n",
      "\u001b[34m[109]#011train-error:0.098467#011validation-error:0.1551\u001b[0m\n",
      "\u001b[34m[05:52:26] src/tree/updater_prune.cc:74: tree pruning end, 1 roots, 10 extra nodes, 12 pruned nodes, max_depth=5\u001b[0m\n",
      "\u001b[34m[110]#011train-error:0.098267#011validation-error:0.1543\u001b[0m\n",
      "\u001b[34m[05:52:28] src/tree/updater_prune.cc:74: tree pruning end, 1 roots, 22 extra nodes, 16 pruned nodes, max_depth=5\u001b[0m\n",
      "\u001b[34m[111]#011train-error:0.097333#011validation-error:0.1537\u001b[0m\n",
      "\u001b[34m[05:52:29] src/tree/updater_prune.cc:74: tree pruning end, 1 roots, 14 extra nodes, 6 pruned nodes, max_depth=5\u001b[0m\n",
      "\u001b[34m[112]#011train-error:0.096733#011validation-error:0.1539\u001b[0m\n",
      "\u001b[34m[05:52:30] src/tree/updater_prune.cc:74: tree pruning end, 1 roots, 20 extra nodes, 16 pruned nodes, max_depth=5\u001b[0m\n",
      "\u001b[34m[113]#011train-error:0.096867#011validation-error:0.1538\u001b[0m\n",
      "\u001b[34m[05:52:31] src/tree/updater_prune.cc:74: tree pruning end, 1 roots, 14 extra nodes, 2 pruned nodes, max_depth=5\u001b[0m\n",
      "\u001b[34m[114]#011train-error:0.096133#011validation-error:0.1539\u001b[0m\n",
      "\u001b[34m[05:52:33] src/tree/updater_prune.cc:74: tree pruning end, 1 roots, 20 extra nodes, 12 pruned nodes, max_depth=5\u001b[0m\n",
      "\u001b[34m[115]#011train-error:0.0952#011validation-error:0.1532\u001b[0m\n",
      "\u001b[34m[05:52:34] src/tree/updater_prune.cc:74: tree pruning end, 1 roots, 32 extra nodes, 12 pruned nodes, max_depth=5\u001b[0m\n",
      "\u001b[34m[116]#011train-error:0.094667#011validation-error:0.1528\u001b[0m\n",
      "\u001b[34m[05:52:35] src/tree/updater_prune.cc:74: tree pruning end, 1 roots, 18 extra nodes, 6 pruned nodes, max_depth=5\u001b[0m\n",
      "\u001b[34m[117]#011train-error:0.094333#011validation-error:0.1535\u001b[0m\n",
      "\u001b[34m[05:52:37] src/tree/updater_prune.cc:74: tree pruning end, 1 roots, 22 extra nodes, 16 pruned nodes, max_depth=5\u001b[0m\n",
      "\u001b[34m[118]#011train-error:0.0938#011validation-error:0.1534\u001b[0m\n",
      "\u001b[34m[05:52:38] src/tree/updater_prune.cc:74: tree pruning end, 1 roots, 28 extra nodes, 10 pruned nodes, max_depth=5\u001b[0m\n",
      "\u001b[34m[119]#011train-error:0.093133#011validation-error:0.1533\u001b[0m\n",
      "\u001b[34m[05:52:39] src/tree/updater_prune.cc:74: tree pruning end, 1 roots, 30 extra nodes, 16 pruned nodes, max_depth=5\u001b[0m\n",
      "\u001b[34m[120]#011train-error:0.092#011validation-error:0.1537\u001b[0m\n",
      "\u001b[34m[05:52:41] src/tree/updater_prune.cc:74: tree pruning end, 1 roots, 12 extra nodes, 8 pruned nodes, max_depth=5\u001b[0m\n",
      "\u001b[34m[121]#011train-error:0.0914#011validation-error:0.1529\u001b[0m\n",
      "\u001b[34m[05:52:42] src/tree/updater_prune.cc:74: tree pruning end, 1 roots, 14 extra nodes, 14 pruned nodes, max_depth=5\u001b[0m\n",
      "\u001b[34m[122]#011train-error:0.090933#011validation-error:0.1531\u001b[0m\n",
      "\u001b[34m[05:52:43] src/tree/updater_prune.cc:74: tree pruning end, 1 roots, 22 extra nodes, 8 pruned nodes, max_depth=5\u001b[0m\n",
      "\u001b[34m[123]#011train-error:0.091533#011validation-error:0.1544\u001b[0m\n",
      "\u001b[34m[05:52:44] src/tree/updater_prune.cc:74: tree pruning end, 1 roots, 16 extra nodes, 6 pruned nodes, max_depth=5\u001b[0m\n",
      "\u001b[34m[124]#011train-error:0.091667#011validation-error:0.1539\u001b[0m\n",
      "\u001b[34m[05:52:46] src/tree/updater_prune.cc:74: tree pruning end, 1 roots, 14 extra nodes, 2 pruned nodes, max_depth=5\u001b[0m\n",
      "\u001b[34m[125]#011train-error:0.091067#011validation-error:0.1532\u001b[0m\n",
      "\u001b[34m[05:52:47] src/tree/updater_prune.cc:74: tree pruning end, 1 roots, 22 extra nodes, 14 pruned nodes, max_depth=5\u001b[0m\n",
      "\u001b[34m[126]#011train-error:0.090533#011validation-error:0.1522\u001b[0m\n",
      "\u001b[34m[05:52:48] src/tree/updater_prune.cc:74: tree pruning end, 1 roots, 14 extra nodes, 2 pruned nodes, max_depth=5\u001b[0m\n",
      "\u001b[34m[127]#011train-error:0.090667#011validation-error:0.1525\u001b[0m\n",
      "\u001b[34m[05:52:50] src/tree/updater_prune.cc:74: tree pruning end, 1 roots, 10 extra nodes, 4 pruned nodes, max_depth=5\u001b[0m\n",
      "\u001b[34m[128]#011train-error:0.0904#011validation-error:0.1521\u001b[0m\n",
      "\u001b[34m[05:52:51] src/tree/updater_prune.cc:74: tree pruning end, 1 roots, 18 extra nodes, 4 pruned nodes, max_depth=5\u001b[0m\n",
      "\u001b[34m[129]#011train-error:0.0906#011validation-error:0.1519\u001b[0m\n",
      "\u001b[34m[05:52:52] src/tree/updater_prune.cc:74: tree pruning end, 1 roots, 16 extra nodes, 4 pruned nodes, max_depth=5\u001b[0m\n",
      "\u001b[34m[130]#011train-error:0.0898#011validation-error:0.1522\u001b[0m\n",
      "\u001b[34m[05:52:53] src/tree/updater_prune.cc:74: tree pruning end, 1 roots, 20 extra nodes, 6 pruned nodes, max_depth=5\u001b[0m\n",
      "\u001b[34m[131]#011train-error:0.088733#011validation-error:0.1509\u001b[0m\n",
      "\u001b[34m[05:52:55] src/tree/updater_prune.cc:74: tree pruning end, 1 roots, 18 extra nodes, 4 pruned nodes, max_depth=5\u001b[0m\n",
      "\u001b[34m[132]#011train-error:0.088333#011validation-error:0.151\u001b[0m\n",
      "\u001b[34m[05:52:56] src/tree/updater_prune.cc:74: tree pruning end, 1 roots, 20 extra nodes, 4 pruned nodes, max_depth=5\u001b[0m\n",
      "\u001b[34m[133]#011train-error:0.088333#011validation-error:0.151\u001b[0m\n",
      "\u001b[34m[05:52:57] src/tree/updater_prune.cc:74: tree pruning end, 1 roots, 14 extra nodes, 6 pruned nodes, max_depth=5\u001b[0m\n",
      "\u001b[34m[134]#011train-error:0.087733#011validation-error:0.1513\u001b[0m\n"
     ]
    },
    {
     "name": "stdout",
     "output_type": "stream",
     "text": [
      "\u001b[34m[05:52:59] src/tree/updater_prune.cc:74: tree pruning end, 1 roots, 14 extra nodes, 8 pruned nodes, max_depth=5\u001b[0m\n",
      "\u001b[34m[135]#011train-error:0.087333#011validation-error:0.1505\u001b[0m\n",
      "\u001b[34m[05:53:00] src/tree/updater_prune.cc:74: tree pruning end, 1 roots, 10 extra nodes, 20 pruned nodes, max_depth=5\u001b[0m\n",
      "\u001b[34m[136]#011train-error:0.087333#011validation-error:0.1505\u001b[0m\n",
      "\u001b[34m[05:53:01] src/tree/updater_prune.cc:74: tree pruning end, 1 roots, 20 extra nodes, 2 pruned nodes, max_depth=5\u001b[0m\n",
      "\u001b[34m[137]#011train-error:0.0866#011validation-error:0.15\u001b[0m\n",
      "\u001b[34m[05:53:03] src/tree/updater_prune.cc:74: tree pruning end, 1 roots, 12 extra nodes, 0 pruned nodes, max_depth=5\u001b[0m\n",
      "\u001b[34m[138]#011train-error:0.086067#011validation-error:0.1497\u001b[0m\n",
      "\u001b[34m[05:53:04] src/tree/updater_prune.cc:74: tree pruning end, 1 roots, 12 extra nodes, 10 pruned nodes, max_depth=5\u001b[0m\n",
      "\u001b[34m[139]#011train-error:0.085867#011validation-error:0.1491\u001b[0m\n",
      "\u001b[34m[05:53:05] src/tree/updater_prune.cc:74: tree pruning end, 1 roots, 14 extra nodes, 2 pruned nodes, max_depth=5\u001b[0m\n",
      "\u001b[34m[140]#011train-error:0.0852#011validation-error:0.1493\u001b[0m\n",
      "\u001b[34m[05:53:06] src/tree/updater_prune.cc:74: tree pruning end, 1 roots, 16 extra nodes, 14 pruned nodes, max_depth=5\u001b[0m\n",
      "\u001b[34m[141]#011train-error:0.0852#011validation-error:0.1483\u001b[0m\n",
      "\u001b[34m[05:53:08] src/tree/updater_prune.cc:74: tree pruning end, 1 roots, 16 extra nodes, 12 pruned nodes, max_depth=5\u001b[0m\n",
      "\u001b[34m[142]#011train-error:0.085533#011validation-error:0.1487\u001b[0m\n",
      "\u001b[34m[05:53:09] src/tree/updater_prune.cc:74: tree pruning end, 1 roots, 10 extra nodes, 2 pruned nodes, max_depth=5\u001b[0m\n",
      "\u001b[34m[143]#011train-error:0.085333#011validation-error:0.1486\u001b[0m\n",
      "\u001b[34m[05:53:10] src/tree/updater_prune.cc:74: tree pruning end, 1 roots, 12 extra nodes, 14 pruned nodes, max_depth=5\u001b[0m\n",
      "\u001b[34m[144]#011train-error:0.085133#011validation-error:0.1487\u001b[0m\n",
      "\u001b[34m[05:53:12] src/tree/updater_prune.cc:74: tree pruning end, 1 roots, 14 extra nodes, 6 pruned nodes, max_depth=5\u001b[0m\n",
      "\u001b[34m[145]#011train-error:0.084533#011validation-error:0.1478\u001b[0m\n",
      "\u001b[34m[05:53:13] src/tree/updater_prune.cc:74: tree pruning end, 1 roots, 14 extra nodes, 4 pruned nodes, max_depth=5\u001b[0m\n",
      "\u001b[34m[146]#011train-error:0.084267#011validation-error:0.1475\u001b[0m\n",
      "\u001b[34m[05:53:14] src/tree/updater_prune.cc:74: tree pruning end, 1 roots, 12 extra nodes, 18 pruned nodes, max_depth=5\u001b[0m\n",
      "\u001b[34m[147]#011train-error:0.0842#011validation-error:0.1485\u001b[0m\n",
      "\u001b[34m[05:53:16] src/tree/updater_prune.cc:74: tree pruning end, 1 roots, 18 extra nodes, 10 pruned nodes, max_depth=5\u001b[0m\n",
      "\u001b[34m[148]#011train-error:0.083867#011validation-error:0.1483\u001b[0m\n",
      "\u001b[34m[05:53:17] src/tree/updater_prune.cc:74: tree pruning end, 1 roots, 10 extra nodes, 6 pruned nodes, max_depth=5\u001b[0m\n",
      "\u001b[34m[149]#011train-error:0.083533#011validation-error:0.1483\u001b[0m\n",
      "\u001b[34m[05:53:18] src/tree/updater_prune.cc:74: tree pruning end, 1 roots, 10 extra nodes, 4 pruned nodes, max_depth=5\u001b[0m\n",
      "\u001b[34m[150]#011train-error:0.083667#011validation-error:0.148\u001b[0m\n",
      "\u001b[34m[05:53:19] src/tree/updater_prune.cc:74: tree pruning end, 1 roots, 18 extra nodes, 8 pruned nodes, max_depth=5\u001b[0m\n",
      "\u001b[34m[151]#011train-error:0.083133#011validation-error:0.1473\u001b[0m\n",
      "\u001b[34m[05:53:21] src/tree/updater_prune.cc:74: tree pruning end, 1 roots, 20 extra nodes, 10 pruned nodes, max_depth=5\u001b[0m\n",
      "\u001b[34m[152]#011train-error:0.082067#011validation-error:0.148\u001b[0m\n",
      "\u001b[34m[05:53:22] src/tree/updater_prune.cc:74: tree pruning end, 1 roots, 28 extra nodes, 10 pruned nodes, max_depth=5\u001b[0m\n",
      "\u001b[34m[153]#011train-error:0.080867#011validation-error:0.1476\u001b[0m\n",
      "\u001b[34m[05:53:23] src/tree/updater_prune.cc:74: tree pruning end, 1 roots, 18 extra nodes, 14 pruned nodes, max_depth=5\u001b[0m\n",
      "\u001b[34m[154]#011train-error:0.080733#011validation-error:0.1463\u001b[0m\n",
      "\u001b[34m[05:53:25] src/tree/updater_prune.cc:74: tree pruning end, 1 roots, 14 extra nodes, 10 pruned nodes, max_depth=5\u001b[0m\n",
      "\u001b[34m[155]#011train-error:0.080533#011validation-error:0.1465\u001b[0m\n",
      "\u001b[34m[05:53:26] src/tree/updater_prune.cc:74: tree pruning end, 1 roots, 12 extra nodes, 2 pruned nodes, max_depth=5\u001b[0m\n",
      "\u001b[34m[156]#011train-error:0.079933#011validation-error:0.1463\u001b[0m\n",
      "\u001b[34m[05:53:27] src/tree/updater_prune.cc:74: tree pruning end, 1 roots, 26 extra nodes, 6 pruned nodes, max_depth=5\u001b[0m\n",
      "\u001b[34m[157]#011train-error:0.079067#011validation-error:0.1463\u001b[0m\n",
      "\u001b[34m[05:53:28] src/tree/updater_prune.cc:74: tree pruning end, 1 roots, 18 extra nodes, 16 pruned nodes, max_depth=5\u001b[0m\n",
      "\u001b[34m[158]#011train-error:0.078467#011validation-error:0.1459\u001b[0m\n",
      "\u001b[34m[05:53:30] src/tree/updater_prune.cc:74: tree pruning end, 1 roots, 14 extra nodes, 18 pruned nodes, max_depth=5\u001b[0m\n",
      "\u001b[34m[159]#011train-error:0.0782#011validation-error:0.1463\u001b[0m\n",
      "\u001b[34m[05:53:31] src/tree/updater_prune.cc:74: tree pruning end, 1 roots, 14 extra nodes, 10 pruned nodes, max_depth=5\u001b[0m\n",
      "\u001b[34m[160]#011train-error:0.078267#011validation-error:0.1454\u001b[0m\n",
      "\u001b[34m[05:53:32] src/tree/updater_prune.cc:74: tree pruning end, 1 roots, 14 extra nodes, 8 pruned nodes, max_depth=5\u001b[0m\n",
      "\u001b[34m[161]#011train-error:0.078133#011validation-error:0.1449\u001b[0m\n",
      "\u001b[34m[05:53:34] src/tree/updater_prune.cc:74: tree pruning end, 1 roots, 10 extra nodes, 2 pruned nodes, max_depth=5\u001b[0m\n",
      "\u001b[34m[162]#011train-error:0.078067#011validation-error:0.1448\u001b[0m\n",
      "\u001b[34m[05:53:35] src/tree/updater_prune.cc:74: tree pruning end, 1 roots, 10 extra nodes, 10 pruned nodes, max_depth=5\u001b[0m\n",
      "\u001b[34m[163]#011train-error:0.077667#011validation-error:0.1441\u001b[0m\n",
      "\u001b[34m[05:53:36] src/tree/updater_prune.cc:74: tree pruning end, 1 roots, 18 extra nodes, 12 pruned nodes, max_depth=5\u001b[0m\n",
      "\u001b[34m[164]#011train-error:0.077533#011validation-error:0.1449\u001b[0m\n",
      "\u001b[34m[05:53:37] src/tree/updater_prune.cc:74: tree pruning end, 1 roots, 12 extra nodes, 4 pruned nodes, max_depth=5\u001b[0m\n",
      "\u001b[34m[165]#011train-error:0.0774#011validation-error:0.145\u001b[0m\n",
      "\u001b[34m[05:53:39] src/tree/updater_prune.cc:74: tree pruning end, 1 roots, 10 extra nodes, 2 pruned nodes, max_depth=5\u001b[0m\n",
      "\u001b[34m[166]#011train-error:0.077467#011validation-error:0.1454\u001b[0m\n",
      "\u001b[34m[05:53:40] src/tree/updater_prune.cc:74: tree pruning end, 1 roots, 26 extra nodes, 14 pruned nodes, max_depth=5\u001b[0m\n",
      "\u001b[34m[167]#011train-error:0.0774#011validation-error:0.1448\u001b[0m\n",
      "\u001b[34m[05:53:41] src/tree/updater_prune.cc:74: tree pruning end, 1 roots, 12 extra nodes, 10 pruned nodes, max_depth=5\u001b[0m\n",
      "\u001b[34m[168]#011train-error:0.077#011validation-error:0.1448\u001b[0m\n",
      "\u001b[34m[05:53:43] src/tree/updater_prune.cc:74: tree pruning end, 1 roots, 16 extra nodes, 10 pruned nodes, max_depth=5\u001b[0m\n",
      "\u001b[34m[169]#011train-error:0.076733#011validation-error:0.1443\u001b[0m\n",
      "\u001b[34m[05:53:44] src/tree/updater_prune.cc:74: tree pruning end, 1 roots, 14 extra nodes, 10 pruned nodes, max_depth=5\u001b[0m\n",
      "\u001b[34m[170]#011train-error:0.0768#011validation-error:0.1434\u001b[0m\n",
      "\u001b[34m[05:53:45] src/tree/updater_prune.cc:74: tree pruning end, 1 roots, 14 extra nodes, 8 pruned nodes, max_depth=5\u001b[0m\n",
      "\u001b[34m[171]#011train-error:0.076467#011validation-error:0.1435\u001b[0m\n",
      "\u001b[34m[05:53:46] src/tree/updater_prune.cc:74: tree pruning end, 1 roots, 34 extra nodes, 18 pruned nodes, max_depth=5\u001b[0m\n",
      "\u001b[34m[172]#011train-error:0.075733#011validation-error:0.1436\u001b[0m\n",
      "\u001b[34m[05:53:48] src/tree/updater_prune.cc:74: tree pruning end, 1 roots, 10 extra nodes, 2 pruned nodes, max_depth=5\u001b[0m\n",
      "\u001b[34m[173]#011train-error:0.075533#011validation-error:0.1433\u001b[0m\n",
      "\u001b[34m[05:53:49] src/tree/updater_prune.cc:74: tree pruning end, 1 roots, 22 extra nodes, 6 pruned nodes, max_depth=5\u001b[0m\n",
      "\u001b[34m[174]#011train-error:0.075267#011validation-error:0.1434\u001b[0m\n",
      "\u001b[34m[05:53:50] src/tree/updater_prune.cc:74: tree pruning end, 1 roots, 14 extra nodes, 12 pruned nodes, max_depth=5\u001b[0m\n",
      "\u001b[34m[175]#011train-error:0.0748#011validation-error:0.1428\u001b[0m\n",
      "\u001b[34m[05:53:52] src/tree/updater_prune.cc:74: tree pruning end, 1 roots, 12 extra nodes, 24 pruned nodes, max_depth=5\u001b[0m\n",
      "\u001b[34m[176]#011train-error:0.075067#011validation-error:0.1427\u001b[0m\n",
      "\u001b[34m[05:53:53] src/tree/updater_prune.cc:74: tree pruning end, 1 roots, 10 extra nodes, 4 pruned nodes, max_depth=5\u001b[0m\n",
      "\u001b[34m[177]#011train-error:0.0752#011validation-error:0.1427\u001b[0m\n",
      "\u001b[34m[05:53:54] src/tree/updater_prune.cc:74: tree pruning end, 1 roots, 12 extra nodes, 4 pruned nodes, max_depth=5\u001b[0m\n",
      "\u001b[34m[178]#011train-error:0.075267#011validation-error:0.1414\u001b[0m\n",
      "\u001b[34m[05:53:55] src/tree/updater_prune.cc:74: tree pruning end, 1 roots, 16 extra nodes, 20 pruned nodes, max_depth=5\u001b[0m\n",
      "\u001b[34m[179]#011train-error:0.074467#011validation-error:0.1407\u001b[0m\n",
      "\u001b[34m[05:53:57] src/tree/updater_prune.cc:74: tree pruning end, 1 roots, 24 extra nodes, 16 pruned nodes, max_depth=5\u001b[0m\n",
      "\u001b[34m[180]#011train-error:0.074733#011validation-error:0.1413\u001b[0m\n",
      "\u001b[34m[05:53:58] src/tree/updater_prune.cc:74: tree pruning end, 1 roots, 12 extra nodes, 8 pruned nodes, max_depth=5\u001b[0m\n",
      "\u001b[34m[181]#011train-error:0.074467#011validation-error:0.1411\u001b[0m\n",
      "\u001b[34m[05:53:59] src/tree/updater_prune.cc:74: tree pruning end, 1 roots, 16 extra nodes, 2 pruned nodes, max_depth=5\u001b[0m\n",
      "\u001b[34m[182]#011train-error:0.074467#011validation-error:0.1416\u001b[0m\n"
     ]
    },
    {
     "name": "stdout",
     "output_type": "stream",
     "text": [
      "\u001b[34m[05:54:01] src/tree/updater_prune.cc:74: tree pruning end, 1 roots, 18 extra nodes, 4 pruned nodes, max_depth=5\u001b[0m\n",
      "\u001b[34m[183]#011train-error:0.0744#011validation-error:0.1417\u001b[0m\n",
      "\u001b[34m[05:54:02] src/tree/updater_prune.cc:74: tree pruning end, 1 roots, 12 extra nodes, 12 pruned nodes, max_depth=5\u001b[0m\n",
      "\u001b[34m[184]#011train-error:0.073667#011validation-error:0.1411\u001b[0m\n",
      "\u001b[34m[05:54:03] src/tree/updater_prune.cc:74: tree pruning end, 1 roots, 10 extra nodes, 14 pruned nodes, max_depth=5\u001b[0m\n",
      "\u001b[34m[185]#011train-error:0.073533#011validation-error:0.1408\u001b[0m\n",
      "\u001b[34m[05:54:04] src/tree/updater_prune.cc:74: tree pruning end, 1 roots, 10 extra nodes, 10 pruned nodes, max_depth=5\u001b[0m\n",
      "\u001b[34m[186]#011train-error:0.0736#011validation-error:0.1408\u001b[0m\n",
      "\u001b[34m[05:54:06] src/tree/updater_prune.cc:74: tree pruning end, 1 roots, 12 extra nodes, 2 pruned nodes, max_depth=5\u001b[0m\n",
      "\u001b[34m[187]#011train-error:0.0738#011validation-error:0.1408\u001b[0m\n",
      "\u001b[34m[05:54:07] src/tree/updater_prune.cc:74: tree pruning end, 1 roots, 14 extra nodes, 2 pruned nodes, max_depth=5\u001b[0m\n",
      "\u001b[34m[188]#011train-error:0.073867#011validation-error:0.14\u001b[0m\n",
      "\u001b[34m[05:54:08] src/tree/updater_prune.cc:74: tree pruning end, 1 roots, 10 extra nodes, 6 pruned nodes, max_depth=5\u001b[0m\n",
      "\u001b[34m[189]#011train-error:0.0738#011validation-error:0.1403\u001b[0m\n",
      "\u001b[34m[05:54:10] src/tree/updater_prune.cc:74: tree pruning end, 1 roots, 12 extra nodes, 10 pruned nodes, max_depth=5\u001b[0m\n",
      "\u001b[34m[190]#011train-error:0.073533#011validation-error:0.1405\u001b[0m\n",
      "\u001b[34m[05:54:11] src/tree/updater_prune.cc:74: tree pruning end, 1 roots, 20 extra nodes, 12 pruned nodes, max_depth=5\u001b[0m\n",
      "\u001b[34m[191]#011train-error:0.072533#011validation-error:0.1403\u001b[0m\n",
      "\u001b[34m[05:54:12] src/tree/updater_prune.cc:74: tree pruning end, 1 roots, 12 extra nodes, 4 pruned nodes, max_depth=5\u001b[0m\n",
      "\u001b[34m[192]#011train-error:0.0722#011validation-error:0.1404\u001b[0m\n",
      "\u001b[34m[05:54:13] src/tree/updater_prune.cc:74: tree pruning end, 1 roots, 14 extra nodes, 10 pruned nodes, max_depth=5\u001b[0m\n",
      "\u001b[34m[193]#011train-error:0.072133#011validation-error:0.1403\u001b[0m\n",
      "\u001b[34m[05:54:15] src/tree/updater_prune.cc:74: tree pruning end, 1 roots, 12 extra nodes, 4 pruned nodes, max_depth=5\u001b[0m\n",
      "\u001b[34m[194]#011train-error:0.072267#011validation-error:0.1401\u001b[0m\n",
      "\u001b[34m[05:54:16] src/tree/updater_prune.cc:74: tree pruning end, 1 roots, 24 extra nodes, 12 pruned nodes, max_depth=5\u001b[0m\n",
      "\u001b[34m[195]#011train-error:0.070467#011validation-error:0.1396\u001b[0m\n",
      "\u001b[34m[05:54:17] src/tree/updater_prune.cc:74: tree pruning end, 1 roots, 10 extra nodes, 4 pruned nodes, max_depth=5\u001b[0m\n",
      "\u001b[34m[196]#011train-error:0.070533#011validation-error:0.1394\u001b[0m\n",
      "\u001b[34m[05:54:18] src/tree/updater_prune.cc:74: tree pruning end, 1 roots, 14 extra nodes, 4 pruned nodes, max_depth=5\u001b[0m\n",
      "\u001b[34m[197]#011train-error:0.070267#011validation-error:0.1389\u001b[0m\n",
      "\u001b[34m[05:54:20] src/tree/updater_prune.cc:74: tree pruning end, 1 roots, 14 extra nodes, 26 pruned nodes, max_depth=5\u001b[0m\n",
      "\u001b[34m[198]#011train-error:0.0706#011validation-error:0.1389\u001b[0m\n",
      "\u001b[34m[05:54:21] src/tree/updater_prune.cc:74: tree pruning end, 1 roots, 18 extra nodes, 4 pruned nodes, max_depth=5\u001b[0m\n",
      "\u001b[34m[199]#011train-error:0.0704#011validation-error:0.1391\u001b[0m\n",
      "\u001b[34m[05:54:22] src/tree/updater_prune.cc:74: tree pruning end, 1 roots, 12 extra nodes, 8 pruned nodes, max_depth=5\u001b[0m\n",
      "\u001b[34m[200]#011train-error:0.070267#011validation-error:0.1393\u001b[0m\n",
      "\u001b[34m[05:54:24] src/tree/updater_prune.cc:74: tree pruning end, 1 roots, 12 extra nodes, 4 pruned nodes, max_depth=5\u001b[0m\n",
      "\u001b[34m[201]#011train-error:0.070067#011validation-error:0.1389\u001b[0m\n",
      "\u001b[34m[05:54:25] src/tree/updater_prune.cc:74: tree pruning end, 1 roots, 22 extra nodes, 8 pruned nodes, max_depth=5\u001b[0m\n",
      "\u001b[34m[202]#011train-error:0.069267#011validation-error:0.1388\u001b[0m\n",
      "\u001b[34m[05:54:26] src/tree/updater_prune.cc:74: tree pruning end, 1 roots, 14 extra nodes, 6 pruned nodes, max_depth=5\u001b[0m\n",
      "\u001b[34m[203]#011train-error:0.069333#011validation-error:0.1389\u001b[0m\n",
      "\u001b[34m[05:54:27] src/tree/updater_prune.cc:74: tree pruning end, 1 roots, 10 extra nodes, 6 pruned nodes, max_depth=5\u001b[0m\n",
      "\u001b[34m[204]#011train-error:0.069333#011validation-error:0.1392\u001b[0m\n",
      "\u001b[34m[05:54:29] src/tree/updater_prune.cc:74: tree pruning end, 1 roots, 12 extra nodes, 4 pruned nodes, max_depth=5\u001b[0m\n",
      "\u001b[34m[205]#011train-error:0.0692#011validation-error:0.1391\u001b[0m\n",
      "\u001b[34m[05:54:30] src/tree/updater_prune.cc:74: tree pruning end, 1 roots, 16 extra nodes, 10 pruned nodes, max_depth=5\u001b[0m\n",
      "\u001b[34m[206]#011train-error:0.068933#011validation-error:0.1395\u001b[0m\n",
      "\u001b[34m[05:54:31] src/tree/updater_prune.cc:74: tree pruning end, 1 roots, 16 extra nodes, 6 pruned nodes, max_depth=5\u001b[0m\n",
      "\u001b[34m[207]#011train-error:0.068467#011validation-error:0.1385\u001b[0m\n",
      "\u001b[34m[05:54:32] src/tree/updater_prune.cc:74: tree pruning end, 1 roots, 16 extra nodes, 2 pruned nodes, max_depth=5\u001b[0m\n",
      "\u001b[34m[208]#011train-error:0.068467#011validation-error:0.138\u001b[0m\n",
      "\u001b[34m[05:54:34] src/tree/updater_prune.cc:74: tree pruning end, 1 roots, 12 extra nodes, 2 pruned nodes, max_depth=5\u001b[0m\n",
      "\u001b[34m[209]#011train-error:0.067867#011validation-error:0.1386\u001b[0m\n",
      "\u001b[34m[05:54:35] src/tree/updater_prune.cc:74: tree pruning end, 1 roots, 14 extra nodes, 10 pruned nodes, max_depth=5\u001b[0m\n",
      "\u001b[34m[210]#011train-error:0.067467#011validation-error:0.1391\u001b[0m\n",
      "\u001b[34m[05:54:36] src/tree/updater_prune.cc:74: tree pruning end, 1 roots, 24 extra nodes, 14 pruned nodes, max_depth=5\u001b[0m\n",
      "\u001b[34m[211]#011train-error:0.067333#011validation-error:0.139\u001b[0m\n",
      "\u001b[34m[05:54:38] src/tree/updater_prune.cc:74: tree pruning end, 1 roots, 10 extra nodes, 4 pruned nodes, max_depth=5\u001b[0m\n",
      "\u001b[34m[212]#011train-error:0.0672#011validation-error:0.1387\u001b[0m\n",
      "\u001b[34m[05:54:39] src/tree/updater_prune.cc:74: tree pruning end, 1 roots, 14 extra nodes, 20 pruned nodes, max_depth=5\u001b[0m\n",
      "\u001b[34m[213]#011train-error:0.0672#011validation-error:0.1391\u001b[0m\n",
      "\u001b[34m[05:54:40] src/tree/updater_prune.cc:74: tree pruning end, 1 roots, 10 extra nodes, 6 pruned nodes, max_depth=5\u001b[0m\n",
      "\u001b[34m[214]#011train-error:0.067133#011validation-error:0.1386\u001b[0m\n",
      "\u001b[34m[05:54:41] src/tree/updater_prune.cc:74: tree pruning end, 1 roots, 22 extra nodes, 16 pruned nodes, max_depth=5\u001b[0m\n",
      "\u001b[34m[215]#011train-error:0.066933#011validation-error:0.1383\u001b[0m\n",
      "\u001b[34m[05:54:43] src/tree/updater_prune.cc:74: tree pruning end, 1 roots, 10 extra nodes, 4 pruned nodes, max_depth=5\u001b[0m\n",
      "\u001b[34m[216]#011train-error:0.066733#011validation-error:0.1379\u001b[0m\n",
      "\u001b[34m[05:54:44] src/tree/updater_prune.cc:74: tree pruning end, 1 roots, 20 extra nodes, 6 pruned nodes, max_depth=5\u001b[0m\n",
      "\u001b[34m[217]#011train-error:0.0658#011validation-error:0.1377\u001b[0m\n",
      "\u001b[34m[05:54:45] src/tree/updater_prune.cc:74: tree pruning end, 1 roots, 14 extra nodes, 20 pruned nodes, max_depth=5\u001b[0m\n",
      "\u001b[34m[218]#011train-error:0.065933#011validation-error:0.1383\u001b[0m\n",
      "\u001b[34m[05:54:46] src/tree/updater_prune.cc:74: tree pruning end, 1 roots, 16 extra nodes, 6 pruned nodes, max_depth=5\u001b[0m\n",
      "\u001b[34m[219]#011train-error:0.066067#011validation-error:0.1387\u001b[0m\n",
      "\u001b[34m[05:54:48] src/tree/updater_prune.cc:74: tree pruning end, 1 roots, 16 extra nodes, 4 pruned nodes, max_depth=5\u001b[0m\n",
      "\u001b[34m[220]#011train-error:0.0656#011validation-error:0.1383\u001b[0m\n",
      "\u001b[34m[05:54:49] src/tree/updater_prune.cc:74: tree pruning end, 1 roots, 10 extra nodes, 6 pruned nodes, max_depth=5\u001b[0m\n",
      "\u001b[34m[221]#011train-error:0.0648#011validation-error:0.1377\u001b[0m\n",
      "\u001b[34m[05:54:50] src/tree/updater_prune.cc:74: tree pruning end, 1 roots, 12 extra nodes, 2 pruned nodes, max_depth=5\u001b[0m\n",
      "\u001b[34m[222]#011train-error:0.064133#011validation-error:0.1378\u001b[0m\n",
      "\u001b[34m[05:54:52] src/tree/updater_prune.cc:74: tree pruning end, 1 roots, 10 extra nodes, 2 pruned nodes, max_depth=5\u001b[0m\n",
      "\u001b[34m[223]#011train-error:0.064133#011validation-error:0.1376\u001b[0m\n",
      "\u001b[34m[05:54:53] src/tree/updater_prune.cc:74: tree pruning end, 1 roots, 16 extra nodes, 8 pruned nodes, max_depth=5\u001b[0m\n",
      "\u001b[34m[224]#011train-error:0.064#011validation-error:0.1375\u001b[0m\n",
      "\u001b[34m[05:54:54] src/tree/updater_prune.cc:74: tree pruning end, 1 roots, 18 extra nodes, 12 pruned nodes, max_depth=5\u001b[0m\n",
      "\u001b[34m[225]#011train-error:0.064#011validation-error:0.1376\u001b[0m\n",
      "\u001b[34m[05:54:55] src/tree/updater_prune.cc:74: tree pruning end, 1 roots, 10 extra nodes, 6 pruned nodes, max_depth=5\u001b[0m\n",
      "\u001b[34m[226]#011train-error:0.063733#011validation-error:0.1374\u001b[0m\n",
      "\u001b[34m[05:54:57] src/tree/updater_prune.cc:74: tree pruning end, 1 roots, 14 extra nodes, 14 pruned nodes, max_depth=5\u001b[0m\n",
      "\u001b[34m[227]#011train-error:0.063533#011validation-error:0.1375\u001b[0m\n",
      "\u001b[34m[05:54:58] src/tree/updater_prune.cc:74: tree pruning end, 1 roots, 12 extra nodes, 0 pruned nodes, max_depth=5\u001b[0m\n",
      "\u001b[34m[228]#011train-error:0.063733#011validation-error:0.1375\u001b[0m\n",
      "\u001b[34m[05:54:59] src/tree/updater_prune.cc:74: tree pruning end, 1 roots, 10 extra nodes, 18 pruned nodes, max_depth=5\u001b[0m\n",
      "\u001b[34m[229]#011train-error:0.064#011validation-error:0.1377\u001b[0m\n",
      "\u001b[34m[05:55:01] src/tree/updater_prune.cc:74: tree pruning end, 1 roots, 10 extra nodes, 0 pruned nodes, max_depth=5\u001b[0m\n",
      "\u001b[34m[230]#011train-error:0.063867#011validation-error:0.1382\u001b[0m\n"
     ]
    },
    {
     "name": "stdout",
     "output_type": "stream",
     "text": [
      "\u001b[34m[05:55:02] src/tree/updater_prune.cc:74: tree pruning end, 1 roots, 12 extra nodes, 6 pruned nodes, max_depth=5\u001b[0m\n",
      "\u001b[34m[231]#011train-error:0.064067#011validation-error:0.1373\u001b[0m\n",
      "\u001b[34m[05:55:03] src/tree/updater_prune.cc:74: tree pruning end, 1 roots, 18 extra nodes, 4 pruned nodes, max_depth=5\u001b[0m\n",
      "\u001b[34m[232]#011train-error:0.063467#011validation-error:0.1374\u001b[0m\n",
      "\u001b[34m[05:55:04] src/tree/updater_prune.cc:74: tree pruning end, 1 roots, 12 extra nodes, 12 pruned nodes, max_depth=5\u001b[0m\n",
      "\u001b[34m[233]#011train-error:0.063067#011validation-error:0.1372\u001b[0m\n",
      "\u001b[34m[05:55:06] src/tree/updater_prune.cc:74: tree pruning end, 1 roots, 12 extra nodes, 6 pruned nodes, max_depth=5\u001b[0m\n",
      "\u001b[34m[234]#011train-error:0.063333#011validation-error:0.1372\u001b[0m\n",
      "\u001b[34m[05:55:07] src/tree/updater_prune.cc:74: tree pruning end, 1 roots, 22 extra nodes, 0 pruned nodes, max_depth=5\u001b[0m\n",
      "\u001b[34m[235]#011train-error:0.063067#011validation-error:0.1377\u001b[0m\n",
      "\u001b[34m[05:55:08] src/tree/updater_prune.cc:74: tree pruning end, 1 roots, 16 extra nodes, 14 pruned nodes, max_depth=5\u001b[0m\n",
      "\u001b[34m[236]#011train-error:0.062733#011validation-error:0.1377\u001b[0m\n",
      "\u001b[34m[05:55:10] src/tree/updater_prune.cc:74: tree pruning end, 1 roots, 14 extra nodes, 4 pruned nodes, max_depth=5\u001b[0m\n",
      "\u001b[34m[237]#011train-error:0.0624#011validation-error:0.1373\u001b[0m\n",
      "\u001b[34m[05:55:11] src/tree/updater_prune.cc:74: tree pruning end, 1 roots, 20 extra nodes, 18 pruned nodes, max_depth=5\u001b[0m\n",
      "\u001b[34m[238]#011train-error:0.0622#011validation-error:0.1368\u001b[0m\n",
      "\u001b[34m[05:55:12] src/tree/updater_prune.cc:74: tree pruning end, 1 roots, 12 extra nodes, 20 pruned nodes, max_depth=5\u001b[0m\n",
      "\u001b[34m[239]#011train-error:0.062533#011validation-error:0.1366\u001b[0m\n",
      "\u001b[34m[05:55:13] src/tree/updater_prune.cc:74: tree pruning end, 1 roots, 10 extra nodes, 20 pruned nodes, max_depth=5\u001b[0m\n",
      "\u001b[34m[240]#011train-error:0.0622#011validation-error:0.1371\u001b[0m\n",
      "\u001b[34m[05:55:15] src/tree/updater_prune.cc:74: tree pruning end, 1 roots, 20 extra nodes, 12 pruned nodes, max_depth=5\u001b[0m\n",
      "\u001b[34m[241]#011train-error:0.061733#011validation-error:0.1361\u001b[0m\n",
      "\u001b[34m[05:55:16] src/tree/updater_prune.cc:74: tree pruning end, 1 roots, 26 extra nodes, 10 pruned nodes, max_depth=5\u001b[0m\n",
      "\u001b[34m[242]#011train-error:0.061#011validation-error:0.1359\u001b[0m\n",
      "\u001b[34m[05:55:17] src/tree/updater_prune.cc:74: tree pruning end, 1 roots, 16 extra nodes, 10 pruned nodes, max_depth=5\u001b[0m\n",
      "\u001b[34m[243]#011train-error:0.061067#011validation-error:0.1362\u001b[0m\n",
      "\u001b[34m[05:55:18] src/tree/updater_prune.cc:74: tree pruning end, 1 roots, 12 extra nodes, 12 pruned nodes, max_depth=5\u001b[0m\n",
      "\u001b[34m[244]#011train-error:0.061067#011validation-error:0.1354\u001b[0m\n",
      "\u001b[34m[05:55:20] src/tree/updater_prune.cc:74: tree pruning end, 1 roots, 12 extra nodes, 10 pruned nodes, max_depth=5\u001b[0m\n",
      "\u001b[34m[245]#011train-error:0.060733#011validation-error:0.1362\u001b[0m\n",
      "\u001b[34m[05:55:21] src/tree/updater_prune.cc:74: tree pruning end, 1 roots, 14 extra nodes, 4 pruned nodes, max_depth=5\u001b[0m\n",
      "\u001b[34m[246]#011train-error:0.060467#011validation-error:0.1352\u001b[0m\n",
      "\u001b[34m[05:55:22] src/tree/updater_prune.cc:74: tree pruning end, 1 roots, 14 extra nodes, 4 pruned nodes, max_depth=5\u001b[0m\n",
      "\u001b[34m[247]#011train-error:0.0602#011validation-error:0.1359\u001b[0m\n",
      "\u001b[34m[05:55:24] src/tree/updater_prune.cc:74: tree pruning end, 1 roots, 16 extra nodes, 12 pruned nodes, max_depth=5\u001b[0m\n",
      "\u001b[34m[248]#011train-error:0.060667#011validation-error:0.136\u001b[0m\n",
      "\u001b[34m[05:55:25] src/tree/updater_prune.cc:74: tree pruning end, 1 roots, 10 extra nodes, 8 pruned nodes, max_depth=5\u001b[0m\n",
      "\u001b[34m[249]#011train-error:0.060533#011validation-error:0.1355\u001b[0m\n",
      "\u001b[34m[05:55:26] src/tree/updater_prune.cc:74: tree pruning end, 1 roots, 12 extra nodes, 8 pruned nodes, max_depth=5\u001b[0m\n",
      "\u001b[34m[250]#011train-error:0.060267#011validation-error:0.1354\u001b[0m\n",
      "\u001b[34m[05:55:27] src/tree/updater_prune.cc:74: tree pruning end, 1 roots, 20 extra nodes, 6 pruned nodes, max_depth=5\u001b[0m\n",
      "\u001b[34m[251]#011train-error:0.059333#011validation-error:0.1351\u001b[0m\n",
      "\u001b[34m[05:55:29] src/tree/updater_prune.cc:74: tree pruning end, 1 roots, 18 extra nodes, 6 pruned nodes, max_depth=5\u001b[0m\n",
      "\u001b[34m[252]#011train-error:0.0592#011validation-error:0.1348\u001b[0m\n",
      "\u001b[34m[05:55:30] src/tree/updater_prune.cc:74: tree pruning end, 1 roots, 12 extra nodes, 4 pruned nodes, max_depth=5\u001b[0m\n",
      "\u001b[34m[253]#011train-error:0.059267#011validation-error:0.1348\u001b[0m\n",
      "\u001b[34m[05:55:31] src/tree/updater_prune.cc:74: tree pruning end, 1 roots, 10 extra nodes, 4 pruned nodes, max_depth=5\u001b[0m\n",
      "\u001b[34m[254]#011train-error:0.059133#011validation-error:0.1343\u001b[0m\n",
      "\u001b[34m[05:55:33] src/tree/updater_prune.cc:74: tree pruning end, 1 roots, 10 extra nodes, 0 pruned nodes, max_depth=5\u001b[0m\n",
      "\u001b[34m[255]#011train-error:0.059067#011validation-error:0.1338\u001b[0m\n",
      "\u001b[34m[05:55:34] src/tree/updater_prune.cc:74: tree pruning end, 1 roots, 14 extra nodes, 8 pruned nodes, max_depth=5\u001b[0m\n",
      "\u001b[34m[256]#011train-error:0.0592#011validation-error:0.1341\u001b[0m\n",
      "\u001b[34m[05:55:35] src/tree/updater_prune.cc:74: tree pruning end, 1 roots, 14 extra nodes, 8 pruned nodes, max_depth=5\u001b[0m\n",
      "\u001b[34m[257]#011train-error:0.059467#011validation-error:0.1338\u001b[0m\n",
      "\u001b[34m[05:55:36] src/tree/updater_prune.cc:74: tree pruning end, 1 roots, 12 extra nodes, 12 pruned nodes, max_depth=5\u001b[0m\n",
      "\u001b[34m[258]#011train-error:0.058933#011validation-error:0.1342\u001b[0m\n",
      "\u001b[34m[05:55:38] src/tree/updater_prune.cc:74: tree pruning end, 1 roots, 10 extra nodes, 14 pruned nodes, max_depth=5\u001b[0m\n",
      "\u001b[34m[259]#011train-error:0.0588#011validation-error:0.134\u001b[0m\n",
      "\u001b[34m[05:55:39] src/tree/updater_prune.cc:74: tree pruning end, 1 roots, 14 extra nodes, 8 pruned nodes, max_depth=5\u001b[0m\n",
      "\u001b[34m[260]#011train-error:0.059#011validation-error:0.1346\u001b[0m\n",
      "\u001b[34m[05:55:40] src/tree/updater_prune.cc:74: tree pruning end, 1 roots, 16 extra nodes, 2 pruned nodes, max_depth=5\u001b[0m\n",
      "\u001b[34m[261]#011train-error:0.058333#011validation-error:0.1351\u001b[0m\n",
      "\u001b[34m[05:55:42] src/tree/updater_prune.cc:74: tree pruning end, 1 roots, 10 extra nodes, 8 pruned nodes, max_depth=5\u001b[0m\n",
      "\u001b[34m[262]#011train-error:0.0586#011validation-error:0.1353\u001b[0m\n",
      "\n",
      "2020-05-11 05:55:54 Uploading - Uploading generated training model\n",
      "2020-05-11 05:55:54 Completed - Training job completed\n",
      "\u001b[34m[05:55:43] src/tree/updater_prune.cc:74: tree pruning end, 1 roots, 10 extra nodes, 4 pruned nodes, max_depth=5\u001b[0m\n",
      "\u001b[34m[263]#011train-error:0.058867#011validation-error:0.1347\u001b[0m\n",
      "\u001b[34m[05:55:44] src/tree/updater_prune.cc:74: tree pruning end, 1 roots, 10 extra nodes, 6 pruned nodes, max_depth=5\u001b[0m\n",
      "\u001b[34m[264]#011train-error:0.0586#011validation-error:0.135\u001b[0m\n",
      "\u001b[34m[05:55:45] src/tree/updater_prune.cc:74: tree pruning end, 1 roots, 8 extra nodes, 4 pruned nodes, max_depth=4\u001b[0m\n",
      "\u001b[34m[265]#011train-error:0.058533#011validation-error:0.1347\u001b[0m\n",
      "\u001b[34mStopping. Best iteration:\u001b[0m\n",
      "\u001b[34m[255]#011train-error:0.059067#011validation-error:0.1338\n",
      "\u001b[0m\n",
      "Training seconds: 393\n",
      "Billable seconds: 393\n"
     ]
    }
   ],
   "source": [
    "xgb.fit({'train': s3_input_train, 'validation': s3_input_validation})"
   ]
  },
  {
   "cell_type": "markdown",
   "metadata": {},
   "source": [
    "## Step 5: Testing the model\n",
    "\n",
    "Now that we've fit our XGBoost model, it's time to see how well it performs. To do this we will use SageMakers Batch Transform functionality. Batch Transform is a convenient way to perform inference on a large dataset in a way that is not realtime. That is, we don't necessarily need to use our model's results immediately and instead we can perform inference on a large number of samples. An example of this in industry might be performing an end of month report. This method of inference can also be useful to us as it means that we can perform inference on our entire test set. \n",
    "\n",
    "To perform a Batch Transformation we need to first create a transformer objects from our trained estimator object."
   ]
  },
  {
   "cell_type": "code",
   "execution_count": 25,
   "metadata": {},
   "outputs": [],
   "source": [
    "xgb_transformer = xgb.transformer(instance_count = 1, instance_type = 'ml.m4.xlarge')"
   ]
  },
  {
   "cell_type": "markdown",
   "metadata": {},
   "source": [
    "Next we actually perform the transform job. When doing so we need to make sure to specify the type of data we are sending so that it is serialized correctly in the background. In our case we are providing our model with csv data so we specify `text/csv`. Also, if the test data that we have provided is too large to process all at once then we need to specify how the data file should be split up. Since each line is a single entry in our data set we tell SageMaker that it can split the input on each line."
   ]
  },
  {
   "cell_type": "code",
   "execution_count": 26,
   "metadata": {},
   "outputs": [],
   "source": [
    "xgb_transformer.transform(test_location, content_type='text/csv', split_type='Line')"
   ]
  },
  {
   "cell_type": "markdown",
   "metadata": {},
   "source": [
    "Currently the transform job is running but it is doing so in the background. Since we wish to wait until the transform job is done and we would like a bit of feedback we can run the `wait()` method."
   ]
  },
  {
   "cell_type": "code",
   "execution_count": 27,
   "metadata": {},
   "outputs": [
    {
     "name": "stdout",
     "output_type": "stream",
     "text": [
      "...................\u001b[34mArguments: serve\u001b[0m\n",
      "\u001b[34m[2020-05-11 06:03:21 +0000] [1] [INFO] Starting gunicorn 19.7.1\u001b[0m\n",
      "\u001b[34m[2020-05-11 06:03:21 +0000] [1] [INFO] Listening at: http://0.0.0.0:8080 (1)\u001b[0m\n",
      "\u001b[34m[2020-05-11 06:03:21 +0000] [1] [INFO] Using worker: gevent\u001b[0m\n",
      "\u001b[34m[2020-05-11 06:03:21 +0000] [38] [INFO] Booting worker with pid: 38\u001b[0m\n",
      "\u001b[34m[2020-05-11 06:03:21 +0000] [39] [INFO] Booting worker with pid: 39\u001b[0m\n",
      "\u001b[34m[2020-05-11 06:03:21 +0000] [40] [INFO] Booting worker with pid: 40\u001b[0m\n",
      "\u001b[34m[2020-05-11:06:03:21:INFO] Model loaded successfully for worker : 38\u001b[0m\n",
      "\u001b[34m[2020-05-11 06:03:21 +0000] [41] [INFO] Booting worker with pid: 41\u001b[0m\n",
      "\u001b[34m[2020-05-11:06:03:21:INFO] Model loaded successfully for worker : 39\u001b[0m\n",
      "\u001b[34m[2020-05-11:06:03:21:INFO] Model loaded successfully for worker : 40\u001b[0m\n",
      "\u001b[34m[2020-05-11:06:03:21:INFO] Model loaded successfully for worker : 41\u001b[0m\n",
      "\u001b[32m2020-05-11T06:03:56.206:[sagemaker logs]: MaxConcurrentTransforms=4, MaxPayloadInMB=6, BatchStrategy=MULTI_RECORD\u001b[0m\n",
      "\u001b[34m[2020-05-11:06:03:59:INFO] Sniff delimiter as ','\u001b[0m\n",
      "\u001b[35m[2020-05-11:06:03:59:INFO] Sniff delimiter as ','\u001b[0m\n",
      "\u001b[34m[2020-05-11:06:03:59:INFO] Determined delimiter of CSV input is ','\u001b[0m\n",
      "\u001b[34m[2020-05-11:06:03:59:INFO] Sniff delimiter as ','\u001b[0m\n",
      "\u001b[34m[2020-05-11:06:03:59:INFO] Determined delimiter of CSV input is ','\u001b[0m\n",
      "\u001b[34m[2020-05-11:06:03:59:INFO] Sniff delimiter as ','\u001b[0m\n",
      "\u001b[34m[2020-05-11:06:03:59:INFO] Determined delimiter of CSV input is ','\u001b[0m\n",
      "\u001b[35m[2020-05-11:06:03:59:INFO] Determined delimiter of CSV input is ','\u001b[0m\n",
      "\u001b[35m[2020-05-11:06:03:59:INFO] Sniff delimiter as ','\u001b[0m\n",
      "\u001b[35m[2020-05-11:06:03:59:INFO] Determined delimiter of CSV input is ','\u001b[0m\n",
      "\u001b[35m[2020-05-11:06:03:59:INFO] Sniff delimiter as ','\u001b[0m\n",
      "\u001b[35m[2020-05-11:06:03:59:INFO] Determined delimiter of CSV input is ','\u001b[0m\n",
      "\u001b[34m[2020-05-11:06:03:59:INFO] Sniff delimiter as ','\u001b[0m\n",
      "\u001b[34m[2020-05-11:06:03:59:INFO] Determined delimiter of CSV input is ','\u001b[0m\n",
      "\u001b[35m[2020-05-11:06:03:59:INFO] Sniff delimiter as ','\u001b[0m\n",
      "\u001b[35m[2020-05-11:06:03:59:INFO] Determined delimiter of CSV input is ','\u001b[0m\n",
      "\u001b[34m[2020-05-11:06:04:01:INFO] Sniff delimiter as ','\u001b[0m\n",
      "\u001b[34m[2020-05-11:06:04:01:INFO] Determined delimiter of CSV input is ','\u001b[0m\n",
      "\u001b[34m[2020-05-11:06:04:01:INFO] Sniff delimiter as ','\u001b[0m\n",
      "\u001b[34m[2020-05-11:06:04:01:INFO] Determined delimiter of CSV input is ','\u001b[0m\n",
      "\u001b[34m[2020-05-11:06:04:01:INFO] Sniff delimiter as ','\u001b[0m\n",
      "\u001b[34m[2020-05-11:06:04:01:INFO] Determined delimiter of CSV input is ','\u001b[0m\n",
      "\u001b[34m[2020-05-11:06:04:02:INFO] Sniff delimiter as ','\u001b[0m\n",
      "\u001b[35m[2020-05-11:06:04:01:INFO] Sniff delimiter as ','\u001b[0m\n",
      "\u001b[35m[2020-05-11:06:04:01:INFO] Determined delimiter of CSV input is ','\u001b[0m\n",
      "\u001b[35m[2020-05-11:06:04:01:INFO] Sniff delimiter as ','\u001b[0m\n",
      "\u001b[35m[2020-05-11:06:04:01:INFO] Determined delimiter of CSV input is ','\u001b[0m\n",
      "\u001b[35m[2020-05-11:06:04:01:INFO] Sniff delimiter as ','\u001b[0m\n",
      "\u001b[35m[2020-05-11:06:04:01:INFO] Determined delimiter of CSV input is ','\u001b[0m\n",
      "\u001b[35m[2020-05-11:06:04:02:INFO] Sniff delimiter as ','\u001b[0m\n",
      "\u001b[34m[2020-05-11:06:04:02:INFO] Determined delimiter of CSV input is ','\u001b[0m\n",
      "\u001b[35m[2020-05-11:06:04:02:INFO] Determined delimiter of CSV input is ','\u001b[0m\n",
      "\u001b[34m[2020-05-11:06:04:04:INFO] Sniff delimiter as ','\u001b[0m\n",
      "\u001b[34m[2020-05-11:06:04:04:INFO] Determined delimiter of CSV input is ','\u001b[0m\n",
      "\u001b[34m[2020-05-11:06:04:04:INFO] Sniff delimiter as ','\u001b[0m\n",
      "\u001b[35m[2020-05-11:06:04:04:INFO] Sniff delimiter as ','\u001b[0m\n",
      "\u001b[35m[2020-05-11:06:04:04:INFO] Determined delimiter of CSV input is ','\u001b[0m\n",
      "\u001b[35m[2020-05-11:06:04:04:INFO] Sniff delimiter as ','\u001b[0m\n",
      "\u001b[34m[2020-05-11:06:04:04:INFO] Determined delimiter of CSV input is ','\u001b[0m\n",
      "\u001b[34m[2020-05-11:06:04:04:INFO] Sniff delimiter as ','\u001b[0m\n",
      "\u001b[34m[2020-05-11:06:04:04:INFO] Determined delimiter of CSV input is ','\u001b[0m\n",
      "\u001b[35m[2020-05-11:06:04:04:INFO] Determined delimiter of CSV input is ','\u001b[0m\n",
      "\u001b[35m[2020-05-11:06:04:04:INFO] Sniff delimiter as ','\u001b[0m\n",
      "\u001b[35m[2020-05-11:06:04:04:INFO] Determined delimiter of CSV input is ','\u001b[0m\n",
      "\u001b[34m[2020-05-11:06:04:04:INFO] Sniff delimiter as ','\u001b[0m\n",
      "\u001b[34m[2020-05-11:06:04:04:INFO] Determined delimiter of CSV input is ','\u001b[0m\n",
      "\u001b[35m[2020-05-11:06:04:04:INFO] Sniff delimiter as ','\u001b[0m\n",
      "\u001b[35m[2020-05-11:06:04:04:INFO] Determined delimiter of CSV input is ','\u001b[0m\n",
      "\u001b[34m[2020-05-11:06:04:06:INFO] Sniff delimiter as ','\u001b[0m\n",
      "\u001b[34m[2020-05-11:06:04:06:INFO] Determined delimiter of CSV input is ','\u001b[0m\n",
      "\u001b[34m[2020-05-11:06:04:06:INFO] Sniff delimiter as ','\u001b[0m\n",
      "\u001b[34m[2020-05-11:06:04:06:INFO] Determined delimiter of CSV input is ','\u001b[0m\n",
      "\u001b[34m[2020-05-11:06:04:06:INFO] Sniff delimiter as ','\u001b[0m\n",
      "\u001b[34m[2020-05-11:06:04:06:INFO] Determined delimiter of CSV input is ','\u001b[0m\n",
      "\u001b[34m[2020-05-11:06:04:07:INFO] Sniff delimiter as ','\u001b[0m\n",
      "\u001b[34m[2020-05-11:06:04:07:INFO] Determined delimiter of CSV input is ','\u001b[0m\n",
      "\u001b[35m[2020-05-11:06:04:06:INFO] Sniff delimiter as ','\u001b[0m\n",
      "\u001b[35m[2020-05-11:06:04:06:INFO] Determined delimiter of CSV input is ','\u001b[0m\n",
      "\u001b[35m[2020-05-11:06:04:06:INFO] Sniff delimiter as ','\u001b[0m\n",
      "\u001b[35m[2020-05-11:06:04:06:INFO] Determined delimiter of CSV input is ','\u001b[0m\n",
      "\u001b[35m[2020-05-11:06:04:06:INFO] Sniff delimiter as ','\u001b[0m\n",
      "\u001b[35m[2020-05-11:06:04:06:INFO] Determined delimiter of CSV input is ','\u001b[0m\n",
      "\u001b[35m[2020-05-11:06:04:07:INFO] Sniff delimiter as ','\u001b[0m\n",
      "\u001b[35m[2020-05-11:06:04:07:INFO] Determined delimiter of CSV input is ','\u001b[0m\n",
      "\u001b[34m[2020-05-11:06:04:11:INFO] Sniff delimiter as ','\u001b[0m\n",
      "\u001b[34m[2020-05-11:06:04:11:INFO] Determined delimiter of CSV input is ','\u001b[0m\n",
      "\u001b[35m[2020-05-11:06:04:11:INFO] Sniff delimiter as ','\u001b[0m\n",
      "\u001b[35m[2020-05-11:06:04:11:INFO] Determined delimiter of CSV input is ','\u001b[0m\n",
      "\u001b[34m[2020-05-11:06:04:11:INFO] Sniff delimiter as ','\u001b[0m\n",
      "\u001b[34m[2020-05-11:06:04:11:INFO] Determined delimiter of CSV input is ','\u001b[0m\n",
      "\u001b[34m[2020-05-11:06:04:11:INFO] Sniff delimiter as ','\u001b[0m\n",
      "\u001b[34m[2020-05-11:06:04:11:INFO] Determined delimiter of CSV input is ','\u001b[0m\n",
      "\u001b[34m[2020-05-11:06:04:12:INFO] Sniff delimiter as ','\u001b[0m\n",
      "\u001b[34m[2020-05-11:06:04:12:INFO] Determined delimiter of CSV input is ','\u001b[0m\n",
      "\u001b[35m[2020-05-11:06:04:11:INFO] Sniff delimiter as ','\u001b[0m\n",
      "\u001b[35m[2020-05-11:06:04:11:INFO] Determined delimiter of CSV input is ','\u001b[0m\n",
      "\u001b[35m[2020-05-11:06:04:11:INFO] Sniff delimiter as ','\u001b[0m\n",
      "\u001b[35m[2020-05-11:06:04:11:INFO] Determined delimiter of CSV input is ','\u001b[0m\n",
      "\u001b[35m[2020-05-11:06:04:12:INFO] Sniff delimiter as ','\u001b[0m\n",
      "\u001b[35m[2020-05-11:06:04:12:INFO] Determined delimiter of CSV input is ','\u001b[0m\n",
      "\u001b[34m[2020-05-11:06:04:13:INFO] Sniff delimiter as ','\u001b[0m\n",
      "\u001b[34m[2020-05-11:06:04:13:INFO] Determined delimiter of CSV input is ','\u001b[0m\n",
      "\u001b[34m[2020-05-11:06:04:13:INFO] Sniff delimiter as ','\u001b[0m\n",
      "\u001b[34m[2020-05-11:06:04:13:INFO] Determined delimiter of CSV input is ','\u001b[0m\n",
      "\u001b[34m[2020-05-11:06:04:14:INFO] Sniff delimiter as ','\u001b[0m\n",
      "\u001b[34m[2020-05-11:06:04:14:INFO] Determined delimiter of CSV input is ','\u001b[0m\n",
      "\u001b[35m[2020-05-11:06:04:13:INFO] Sniff delimiter as ','\u001b[0m\n",
      "\u001b[35m[2020-05-11:06:04:13:INFO] Determined delimiter of CSV input is ','\u001b[0m\n",
      "\u001b[35m[2020-05-11:06:04:13:INFO] Sniff delimiter as ','\u001b[0m\n",
      "\u001b[35m[2020-05-11:06:04:13:INFO] Determined delimiter of CSV input is ','\u001b[0m\n",
      "\u001b[35m[2020-05-11:06:04:14:INFO] Sniff delimiter as ','\u001b[0m\n",
      "\u001b[35m[2020-05-11:06:04:14:INFO] Determined delimiter of CSV input is ','\u001b[0m\n",
      "\u001b[34m[2020-05-11:06:04:14:INFO] Sniff delimiter as ','\u001b[0m\n",
      "\u001b[34m[2020-05-11:06:04:14:INFO] Determined delimiter of CSV input is ','\u001b[0m\n",
      "\u001b[35m[2020-05-11:06:04:14:INFO] Sniff delimiter as ','\u001b[0m\n",
      "\u001b[35m[2020-05-11:06:04:14:INFO] Determined delimiter of CSV input is ','\u001b[0m\n",
      "\u001b[34m[2020-05-11:06:04:16:INFO] Sniff delimiter as ','\u001b[0m\n",
      "\u001b[34m[2020-05-11:06:04:16:INFO] Determined delimiter of CSV input is ','\u001b[0m\n",
      "\u001b[34m[2020-05-11:06:04:16:INFO] Sniff delimiter as ','\u001b[0m\n",
      "\u001b[34m[2020-05-11:06:04:16:INFO] Determined delimiter of CSV input is ','\u001b[0m\n",
      "\u001b[35m[2020-05-11:06:04:16:INFO] Sniff delimiter as ','\u001b[0m\n",
      "\u001b[35m[2020-05-11:06:04:16:INFO] Determined delimiter of CSV input is ','\u001b[0m\n",
      "\u001b[35m[2020-05-11:06:04:16:INFO] Sniff delimiter as ','\u001b[0m\n",
      "\u001b[35m[2020-05-11:06:04:16:INFO] Determined delimiter of CSV input is ','\u001b[0m\n",
      "\u001b[34m[2020-05-11:06:04:16:INFO] Sniff delimiter as ','\u001b[0m\n",
      "\u001b[34m[2020-05-11:06:04:16:INFO] Determined delimiter of CSV input is ','\u001b[0m\n",
      "\u001b[34m[2020-05-11:06:04:17:INFO] Sniff delimiter as ','\u001b[0m\n",
      "\u001b[34m[2020-05-11:06:04:17:INFO] Determined delimiter of CSV input is ','\u001b[0m\n",
      "\u001b[35m[2020-05-11:06:04:16:INFO] Sniff delimiter as ','\u001b[0m\n",
      "\u001b[35m[2020-05-11:06:04:16:INFO] Determined delimiter of CSV input is ','\u001b[0m\n",
      "\u001b[35m[2020-05-11:06:04:17:INFO] Sniff delimiter as ','\u001b[0m\n",
      "\u001b[35m[2020-05-11:06:04:17:INFO] Determined delimiter of CSV input is ','\u001b[0m\n"
     ]
    },
    {
     "name": "stdout",
     "output_type": "stream",
     "text": [
      "\u001b[34m[2020-05-11:06:04:19:INFO] Sniff delimiter as ','\u001b[0m\n",
      "\u001b[34m[2020-05-11:06:04:19:INFO] Determined delimiter of CSV input is ','\u001b[0m\n",
      "\u001b[34m[2020-05-11:06:04:19:INFO] Sniff delimiter as ','\u001b[0m\n",
      "\u001b[34m[2020-05-11:06:04:19:INFO] Determined delimiter of CSV input is ','\u001b[0m\n",
      "\u001b[35m[2020-05-11:06:04:19:INFO] Sniff delimiter as ','\u001b[0m\n",
      "\u001b[35m[2020-05-11:06:04:19:INFO] Determined delimiter of CSV input is ','\u001b[0m\n",
      "\u001b[35m[2020-05-11:06:04:19:INFO] Sniff delimiter as ','\u001b[0m\n",
      "\u001b[35m[2020-05-11:06:04:19:INFO] Determined delimiter of CSV input is ','\u001b[0m\n",
      "\u001b[34m[2020-05-11:06:04:21:INFO] Sniff delimiter as ','\u001b[0m\n",
      "\u001b[34m[2020-05-11:06:04:21:INFO] Determined delimiter of CSV input is ','\u001b[0m\n",
      "\u001b[34m[2020-05-11:06:04:21:INFO] Sniff delimiter as ','\u001b[0m\n",
      "\u001b[34m[2020-05-11:06:04:21:INFO] Determined delimiter of CSV input is ','\u001b[0m\n",
      "\u001b[35m[2020-05-11:06:04:21:INFO] Sniff delimiter as ','\u001b[0m\n",
      "\u001b[35m[2020-05-11:06:04:21:INFO] Determined delimiter of CSV input is ','\u001b[0m\n",
      "\u001b[35m[2020-05-11:06:04:21:INFO] Sniff delimiter as ','\u001b[0m\n",
      "\u001b[35m[2020-05-11:06:04:21:INFO] Determined delimiter of CSV input is ','\u001b[0m\n",
      "\u001b[34m[2020-05-11:06:04:21:INFO] Sniff delimiter as ','\u001b[0m\n",
      "\u001b[34m[2020-05-11:06:04:21:INFO] Determined delimiter of CSV input is ','\u001b[0m\n",
      "\u001b[34m[2020-05-11:06:04:21:INFO] Sniff delimiter as ','\u001b[0m\n",
      "\u001b[34m[2020-05-11:06:04:21:INFO] Determined delimiter of CSV input is ','\u001b[0m\n",
      "\u001b[35m[2020-05-11:06:04:21:INFO] Sniff delimiter as ','\u001b[0m\n",
      "\u001b[35m[2020-05-11:06:04:21:INFO] Determined delimiter of CSV input is ','\u001b[0m\n",
      "\u001b[35m[2020-05-11:06:04:21:INFO] Sniff delimiter as ','\u001b[0m\n",
      "\u001b[35m[2020-05-11:06:04:21:INFO] Determined delimiter of CSV input is ','\u001b[0m\n",
      "\n"
     ]
    }
   ],
   "source": [
    "xgb_transformer.wait()"
   ]
  },
  {
   "cell_type": "markdown",
   "metadata": {},
   "source": [
    "Now the transform job has executed and the result, the estimated sentiment of each review, has been saved on S3. Since we would rather work on this file locally we can perform a bit of notebook magic to copy the file to the `data_dir`."
   ]
  },
  {
   "cell_type": "code",
   "execution_count": 28,
   "metadata": {},
   "outputs": [
    {
     "name": "stdout",
     "output_type": "stream",
     "text": [
      "Completed 256.0 KiB/371.9 KiB (3.8 MiB/s) with 1 file(s) remaining\r",
      "Completed 371.9 KiB/371.9 KiB (5.5 MiB/s) with 1 file(s) remaining\r",
      "download: s3://sagemaker-us-west-1-371271204223/xgboost-2020-05-11-06-00-09-854/test.csv.out to ../data/sentiment_web_app/test.csv.out\r\n"
     ]
    }
   ],
   "source": [
    "!aws s3 cp --recursive $xgb_transformer.output_path $data_dir"
   ]
  },
  {
   "cell_type": "markdown",
   "metadata": {},
   "source": [
    "The last step is now to read in the output from our model, convert the output to something a little more usable, in this case we want the sentiment to be either `1` (positive) or `0` (negative), and then compare to the ground truth labels."
   ]
  },
  {
   "cell_type": "code",
   "execution_count": 29,
   "metadata": {},
   "outputs": [],
   "source": [
    "predictions = pd.read_csv(os.path.join(data_dir, 'test.csv.out'), header=None)\n",
    "predictions = [round(num) for num in predictions.squeeze().values]"
   ]
  },
  {
   "cell_type": "code",
   "execution_count": 30,
   "metadata": {},
   "outputs": [
    {
     "data": {
      "text/plain": [
       "0.86836"
      ]
     },
     "execution_count": 30,
     "metadata": {},
     "output_type": "execute_result"
    }
   ],
   "source": [
    "from sklearn.metrics import accuracy_score\n",
    "accuracy_score(test_y, predictions)"
   ]
  },
  {
   "cell_type": "markdown",
   "metadata": {},
   "source": [
    "## Step 6: Deploying the model\n",
    "\n",
    "Once we construct and fit our model, SageMaker stores the resulting model artifacts and we can use those to deploy an endpoint (inference code). To see this, look in the SageMaker console and you should see that a model has been created along with a link to the S3 location where the model artifacts have been stored.\n",
    "\n",
    "Deploying an endpoint is a lot like training the model with a few important differences. The first is that a deployed model doesn't change the model artifacts, so as you send it various testing instances the model won't change. Another difference is that since we aren't performing a fixed computation, as we were in the training step or while performing a batch transform, the compute instance that gets started stays running until we tell it to stop. This is important to note as if we forget and leave it running we will be charged the entire time.\n",
    "\n",
    "In other words **If you are no longer using a deployed endpoint, shut it down!**"
   ]
  },
  {
   "cell_type": "code",
   "execution_count": 31,
   "metadata": {},
   "outputs": [
    {
     "name": "stderr",
     "output_type": "stream",
     "text": [
      "WARNING:sagemaker:Using already existing model: xgboost-2020-05-11-05-47-22-565\n"
     ]
    },
    {
     "name": "stdout",
     "output_type": "stream",
     "text": [
      "-------------!"
     ]
    }
   ],
   "source": [
    "xgb_predictor = xgb.deploy(initial_instance_count = 1, instance_type = 'ml.m4.xlarge')"
   ]
  },
  {
   "cell_type": "markdown",
   "metadata": {},
   "source": [
    "### Testing the model (again)\n",
    "\n",
    "Now that we have deployed our endpoint, we can send the testing data to it and get back the inference results. We already did this earlier using the batch transform functionality of SageMaker, however, we will test our model again using the newly deployed endpoint so that we can make sure that it works properly and to get a bit of a feel for how the endpoint works.\n",
    "\n",
    "When using the created endpoint it is important to know that we are limited in the amount of information we can send in each call so we need to break the testing data up into chunks and then send each chunk. Also, we need to serialize our data before we send it to the endpoint to ensure that our data is transmitted properly. Fortunately, SageMaker can do the serialization part for us provided we tell it the format of our data."
   ]
  },
  {
   "cell_type": "code",
   "execution_count": 33,
   "metadata": {},
   "outputs": [],
   "source": [
    "from sagemaker.predictor import csv_serializer\n",
    "\n",
    "# We need to tell the endpoint what format the data we are sending is in so that SageMaker can perform the serialization.\n",
    "xgb_predictor.content_type = 'text/csv'\n",
    "xgb_predictor.serializer = csv_serializer"
   ]
  },
  {
   "cell_type": "code",
   "execution_count": 34,
   "metadata": {},
   "outputs": [],
   "source": [
    "# We split the data into chunks and send each chunk seperately, accumulating the results.\n",
    "\n",
    "def predict(data, rows=512):\n",
    "    split_array = np.array_split(data, int(data.shape[0] / float(rows) + 1))\n",
    "    predictions = ''\n",
    "    for array in split_array:\n",
    "        predictions = ','.join([predictions, xgb_predictor.predict(array).decode('utf-8')])\n",
    "    \n",
    "    return np.fromstring(predictions[1:], sep=',')"
   ]
  },
  {
   "cell_type": "code",
   "execution_count": 35,
   "metadata": {},
   "outputs": [],
   "source": [
    "test_X = pd.read_csv(os.path.join(data_dir, 'test.csv'), header=None).values\n",
    "\n",
    "predictions = predict(test_X)\n",
    "predictions = [round(num) for num in predictions]"
   ]
  },
  {
   "cell_type": "markdown",
   "metadata": {},
   "source": [
    "Lastly, we check to see what the accuracy of our model is."
   ]
  },
  {
   "cell_type": "code",
   "execution_count": 36,
   "metadata": {},
   "outputs": [
    {
     "data": {
      "text/plain": [
       "0.86836"
      ]
     },
     "execution_count": 36,
     "metadata": {},
     "output_type": "execute_result"
    }
   ],
   "source": [
    "from sklearn.metrics import accuracy_score\n",
    "accuracy_score(test_y, predictions)"
   ]
  },
  {
   "cell_type": "markdown",
   "metadata": {},
   "source": [
    "And the results here should agree with the model testing that we did earlier using the batch transform job.\n",
    "\n",
    "### Cleaning up\n",
    "\n",
    "Now that we've determined that deploying our model works as expected, we are going to shut it down. Remember that the longer the endpoint is left running, the greater the cost and since we have a bit more work to do before we are able to use our endpoint with our simple web app, we should shut everything down."
   ]
  },
  {
   "cell_type": "code",
   "execution_count": 37,
   "metadata": {},
   "outputs": [],
   "source": [
    "xgb_predictor.delete_endpoint()"
   ]
  },
  {
   "cell_type": "markdown",
   "metadata": {},
   "source": [
    "## Step 7: Putting our model to work\n",
    "\n",
    "As we've mentioned a few times now, our goal is to have our model deployed and then access it using a very simple web app. The intent is for this web app to take some user submitted data (a review), send it off to our endpoint (the model) and then display the result.\n",
    "\n",
    "However, there is a small catch. Currently the only way we can access the endpoint to send it data is using the SageMaker API. We can, if we wish, expose the actual URL that our model's endpoint is receiving data from, however, if we just send it data ourselves we will not get anything in return. This is because the endpoint created by SageMaker requires the entity accessing it have the correct permissions. So, we would need to somehow authenticate our web app with AWS.\n",
    "\n",
    "Having a website that authenticates to AWS seems a bit beyond the scope of this lesson so we will opt for an alternative approach. Namely, we will create a new endpoint which does not require authentication and which acts as a proxy for the SageMaker endpoint.\n",
    "\n",
    "As an additional constraint, we will try to avoid doing any data processing in the web app itself. Remember that when we constructed and tested our model we started with a movie review, then we simplified it by removing any html formatting and punctuation, then we constructed a bag of words embedding and the resulting vector is what we sent to our model. All of this needs to be done to our user input as well.\n",
    "\n",
    "Fortunately we can do all of this data processing in the backend, using Amazon's Lambda service.\n",
    "\n",
    "<img src=\"Web App Diagram.svg\">\n",
    "\n",
    "The diagram above gives an overview of how the various services will work together. On the far right is the model which we trained above and which will be deployed using SageMaker. On the far left is our web app that collects a user's movie review, sends it off and expects a positive or negative sentiment in return.\n",
    "\n",
    "In the middle is where some of the magic happens. We will construct a Lambda function, which you can think of as a straightforward Python function that can be executed whenever a specified event occurs. This Python function will do the data processing we need to perform on a user submitted review. In addition, we will give this function permission to send and recieve data from a SageMaker endpoint.\n",
    "\n",
    "Lastly, the method we will use to execute the Lambda function is a new endpoint that we will create using API Gateway. This endpoint will be a url that listens for data to be sent to it. Once it gets some data it will pass that data on to the Lambda function and then return whatever the Lambda function returns. Essentially it will act as an interface that lets our web app communicate with the Lambda function.\n",
    "\n",
    "### Processing a single review\n",
    "\n",
    "For now, suppose we are given a movie review by our user in the form of a string, like so:"
   ]
  },
  {
   "cell_type": "code",
   "execution_count": 38,
   "metadata": {},
   "outputs": [],
   "source": [
    "test_review = \"Nothing but a disgusting materialistic pageant of glistening abed remote control greed zombies, totally devoid of any heart or heat. A romantic comedy that has zero romantic chemestry and zero laughs!\""
   ]
  },
  {
   "cell_type": "markdown",
   "metadata": {},
   "source": [
    "How do we go from this string to the bag of words feature vector that is expected by our model?\n",
    "\n",
    "If we recall at the beginning of this notebook, the first step is to remove any unnecessary characters using the `review_to_words` method. Remember that we intentionally did this in a very simplistic way. This is because we are going to have to copy this method to our (eventual) Lambda function (we will go into more detail later) and this means it needs to be rather simplistic."
   ]
  },
  {
   "cell_type": "code",
   "execution_count": 39,
   "metadata": {},
   "outputs": [
    {
     "name": "stdout",
     "output_type": "stream",
     "text": [
      "nothing but a disgusting materialistic pageant of glistening abed remote control greed zombies totally devoid of any heart or heat a romantic comedy that has zero romantic chemestry and zero laughs\n"
     ]
    }
   ],
   "source": [
    "test_words = review_to_words(test_review)\n",
    "print(test_words)"
   ]
  },
  {
   "cell_type": "markdown",
   "metadata": {},
   "source": [
    "Next, we need to construct a bag of words embedding of the `test_words` string. To do this, remember that a bag of words embedding uses a `vocabulary` consisting of the most frequently appearing words in a set of documents. Then, for each word in the vocabulary we record the number of times that word appears in `test_words`. We constructed the `vocabulary` earlier using the training set for our problem so encoding `test_words` is relatively straightforward."
   ]
  },
  {
   "cell_type": "code",
   "execution_count": 40,
   "metadata": {},
   "outputs": [],
   "source": [
    "def bow_encoding(words, vocabulary):\n",
    "    bow = [0] * len(vocabulary) # Start by setting the count for each word in the vocabulary to zero.\n",
    "    for word in words.split():  # For each word in the string\n",
    "        if word in vocabulary:  # If the word is one that occurs in the vocabulary, increase its count.\n",
    "            bow[vocabulary[word]] += 1\n",
    "    return bow"
   ]
  },
  {
   "cell_type": "code",
   "execution_count": 41,
   "metadata": {},
   "outputs": [
    {
     "name": "stdout",
     "output_type": "stream",
     "text": [
      "[0, 0, 0, 0, 0, 0, 0, 0, 0, 0, 0, 0, 0, 0, 0, 0, 0, 0, 0, 0, 0, 0, 0, 0, 0, 0, 0, 0, 0, 0, 0, 0, 0, 0, 0, 0, 0, 0, 0, 0, 0, 0, 0, 0, 0, 0, 0, 0, 0, 0, 0, 0, 0, 0, 0, 0, 0, 0, 0, 0, 0, 0, 0, 0, 0, 0, 0, 0, 0, 0, 0, 0, 0, 0, 0, 0, 0, 0, 0, 0, 0, 0, 0, 0, 0, 0, 0, 0, 0, 0, 0, 0, 0, 0, 0, 0, 0, 0, 0, 0, 0, 0, 0, 0, 0, 0, 0, 0, 0, 0, 0, 0, 0, 0, 0, 0, 0, 0, 0, 0, 0, 0, 0, 0, 0, 0, 0, 0, 0, 0, 0, 0, 0, 0, 0, 0, 0, 0, 0, 0, 0, 0, 0, 0, 0, 0, 0, 0, 0, 0, 0, 0, 0, 0, 0, 0, 0, 0, 0, 0, 0, 0, 0, 0, 0, 0, 0, 0, 0, 0, 0, 0, 0, 0, 0, 0, 0, 0, 0, 0, 0, 0, 0, 0, 0, 0, 0, 0, 0, 0, 0, 0, 0, 0, 0, 0, 0, 0, 0, 0, 0, 0, 0, 0, 0, 0, 0, 0, 0, 0, 0, 0, 0, 0, 0, 0, 0, 0, 0, 0, 0, 0, 0, 0, 0, 0, 1, 0, 0, 0, 0, 0, 0, 0, 0, 0, 0, 0, 0, 0, 0, 0, 0, 0, 0, 0, 0, 0, 0, 0, 0, 0, 0, 0, 0, 0, 1, 0, 0, 0, 0, 0, 0, 0, 0, 0, 0, 0, 0, 0, 0, 0, 0, 0, 0, 0, 0, 0, 0, 0, 0, 0, 0, 0, 0, 0, 0, 0, 0, 0, 0, 0, 0, 0, 0, 0, 0, 0, 0, 0, 0, 0, 0, 0, 0, 0, 0, 0, 0, 0, 0, 0, 0, 0, 0, 0, 0, 0, 0, 0, 0, 0, 0, 0, 0, 0, 0, 0, 0, 0, 0, 0, 0, 0, 0, 0, 0, 0, 0, 0, 0, 0, 0, 0, 0, 0, 0, 0, 0, 0, 0, 0, 0, 0, 0, 0, 0, 0, 0, 0, 0, 0, 0, 0, 0, 0, 0, 0, 0, 0, 0, 0, 0, 0, 0, 0, 0, 0, 0, 0, 0, 0, 0, 0, 0, 0, 0, 0, 0, 0, 0, 0, 0, 0, 0, 0, 0, 0, 0, 0, 0, 0, 0, 0, 0, 0, 0, 0, 0, 0, 0, 0, 0, 0, 0, 0, 0, 0, 0, 0, 0, 0, 0, 0, 0, 0, 0, 0, 0, 0, 0, 0, 0, 0, 0, 0, 0, 0, 0, 0, 0, 0, 0, 0, 0, 0, 0, 0, 0, 0, 0, 0, 0, 0, 0, 0, 0, 0, 0, 0, 0, 0, 0, 0, 0, 0, 0, 0, 0, 0, 0, 0, 0, 0, 0, 0, 0, 0, 0, 0, 0, 0, 0, 0, 0, 0, 0, 0, 0, 0, 0, 0, 0, 0, 0, 0, 0, 0, 0, 0, 0, 0, 0, 0, 0, 0, 0, 0, 0, 0, 0, 0, 0, 0, 0, 0, 0, 0, 0, 0, 0, 0, 0, 0, 0, 0, 0, 0, 0, 0, 0, 0, 0, 0, 0, 0, 0, 0, 0, 0, 0, 0, 0, 0, 0, 0, 0, 0, 0, 0, 0, 0, 0, 0, 0, 0, 0, 0, 0, 0, 0, 0, 0, 0, 0, 0, 0, 0, 0, 0, 0, 0, 0, 0, 0, 0, 0, 0, 0, 0, 0, 0, 0, 0, 0, 0, 0, 0, 0, 0, 0, 0, 0, 0, 0, 0, 0, 0, 0, 0, 0, 0, 0, 0, 0, 0, 0, 0, 0, 0, 0, 0, 0, 0, 0, 0, 0, 0, 0, 0, 0, 0, 0, 0, 0, 0, 0, 0, 0, 0, 0, 0, 0, 0, 0, 0, 1, 0, 0, 0, 0, 0, 0, 0, 0, 0, 0, 0, 0, 0, 0, 0, 0, 0, 0, 0, 0, 0, 0, 0, 0, 0, 0, 0, 0, 0, 0, 0, 0, 0, 0, 0, 0, 0, 0, 0, 0, 0, 0, 0, 0, 0, 0, 0, 0, 0, 0, 0, 0, 0, 0, 0, 0, 0, 0, 0, 0, 0, 0, 0, 0, 0, 0, 0, 0, 0, 0, 0, 0, 0, 0, 0, 0, 0, 0, 0, 0, 0, 0, 0, 0, 0, 0, 0, 0, 0, 0, 0, 0, 0, 0, 0, 0, 0, 0, 0, 0, 0, 0, 0, 0, 0, 0, 0, 0, 0, 0, 0, 0, 0, 0, 0, 0, 0, 0, 0, 0, 0, 0, 0, 0, 0, 0, 0, 0, 0, 0, 0, 0, 0, 0, 0, 0, 0, 0, 0, 0, 0, 0, 0, 0, 0, 0, 0, 0, 0, 0, 0, 0, 0, 0, 0, 0, 0, 0, 0, 0, 0, 0, 0, 0, 0, 0, 0, 0, 0, 0, 0, 0, 0, 0, 0, 0, 0, 0, 0, 0, 0, 0, 0, 0, 0, 0, 0, 0, 0, 0, 0, 0, 0, 0, 0, 0, 0, 0, 0, 0, 0, 0, 0, 0, 0, 0, 0, 0, 0, 0, 0, 0, 0, 0, 0, 0, 0, 0, 0, 0, 0, 0, 0, 0, 0, 0, 0, 0, 0, 0, 0, 0, 0, 0, 0, 0, 0, 0, 0, 0, 0, 0, 0, 0, 0, 0, 0, 0, 0, 0, 0, 0, 0, 1, 0, 0, 0, 0, 0, 0, 0, 0, 0, 0, 0, 0, 0, 0, 0, 0, 0, 0, 0, 0, 0, 0, 0, 0, 0, 0, 0, 0, 0, 0, 0, 0, 0, 0, 0, 0, 0, 0, 0, 0, 0, 0, 0, 0, 0, 0, 0, 0, 0, 0, 0, 0, 0, 0, 0, 0, 0, 0, 0, 0, 0, 0, 0, 0, 0, 0, 0, 0, 0, 0, 0, 0, 0, 0, 0, 0, 0, 0, 0, 0, 0, 0, 0, 0, 0, 0, 1, 0, 0, 0, 0, 0, 0, 0, 0, 0, 0, 0, 0, 0, 0, 0, 0, 0, 0, 0, 0, 0, 0, 0, 0, 0, 0, 0, 0, 0, 0, 0, 0, 0, 0, 0, 0, 0, 0, 0, 0, 0, 0, 0, 0, 0, 0, 0, 0, 0, 0, 0, 0, 0, 0, 0, 0, 0, 0, 0, 0, 0, 0, 0, 0, 0, 0, 0, 0, 0, 0, 0, 0, 0, 0, 0, 0, 0, 0, 0, 0, 0, 0, 0, 0, 0, 0, 0, 0, 0, 0, 0, 0, 0, 0, 0, 0, 0, 0, 0, 0, 0, 0, 0, 0, 0, 0, 0, 0, 0, 0, 0, 0, 0, 0, 0, 0, 0, 0, 0, 0, 0, 0, 0, 0, 0, 0, 0, 0, 0, 0, 0, 0, 0, 0, 0, 0, 0, 0, 0, 0, 0, 0, 0, 0, 0, 0, 0, 0, 0, 0, 0, 0, 0, 0, 0, 0, 0, 0, 0, 0, 0, 0, 0, 0, 0, 0, 0, 0, 0, 0, 0, 0, 0, 0, 0, 0, 0, 0, 0, 0, 0, 0, 0, 0, 0, 0, 0, 0, 0, 0, 0, 0, 0, 0, 0, 0, 0, 0, 0, 0, 0, 0, 0, 0, 0, 0, 0, 0, 0, 0, 0, 0, 0, 0, 0, 0, 0, 0, 0, 0, 0, 0, 0, 0, 0, 0, 0, 0, 0, 0, 0, 0, 0, 0, 0, 0, 0, 0, 0, 0, 0, 0, 0, 0, 0, 0, 0, 0, 0, 0, 0, 0, 1, 0, 0, 0, 0, 0, 0, 0, 0, 0, 0, 0, 0, 0, 0, 0, 0, 0, 0, 0, 0, 0, 0, 0, 0, 0, 0, 0, 0, 0, 0, 0, 0, 0, 0, 0, 0, 0, 0, 0, 0, 0, 0, 0, 0, 0, 0, 0, 0, 0, 0, 0, 0, 0, 0, 0, 1, 0, 0, 0, 0, 0, 0, 0, 0, 0, 0, 0, 0, 0, 0, 0, 0, 0, 0, 0, 0, 0, 0, 0, 0, 0, 0, 0, 0, 0, 0, 0, 0, 0, 0, 0, 0, 0, 0, 0, 0, 0, 0, 0, 0, 0, 0, 0, 0, 0, 0, 0, 0, 0, 0, 0, 0, 0, 0, 0, 0, 0, 0, 0, 0, 0, 0, 0, 0, 0, 0, 0, 0, 0, 0, 0, 0, 0, 0, 0, 0, 0, 0, 0, 0, 0, 0, 0, 0, 0, 0, 0, 0, 0, 0, 0, 0, 0, 0, 0, 0, 0, 0, 0, 0, 0, 0, 0, 0, 0, 0, 0, 0, 0, 0, 0, 0, 0, 0, 0, 0, 0, 0, 0, 0, 0, 0, 0, 0, 0, 0, 0, 0, 0, 0, 0, 0, 0, 0, 0, 0, 0, 0, 0, 0, 0, 0, 0, 0, 0, 0, 0, 0, 0, 0, 0, 0, 0, 0, 0, 0, 0, 0, 0, 0, 0, 0, 0, 0, 0, 0, 0, 0, 0, 0, 0, 0, 0, 0, 0, 0, 0, 0, 0, 0, 0, 0, 0, 0, 0, 0, 0, 0, 0, 0, 0, 0, 0, 0, 0, 0, 0, 0, 0, 0, 0, 0, 0, 0, 0, 0, 0, 0, 0, 0, 0, 0, 0, 0, 0, 0, 0, 0, 0, 0, 0, 0, 0, 0, 0, 0, 0, 0, 0, 0, 0, 0, 0, 0, 0, 0, 0, 0, 0, 0, 0, 0, 0, 0, 0, 0, 0, 0, 0, 0, 0, 0, 0, 0, 0, 0, 0, 0, 0, 0, 0, 0, 0, 0, 0, 0, 0, 0, 0, 0, 0, 0, 0, 0, 0, 0, 0, 0, 0, 0, 0, 0, 0, 0, 0, 0, 0, 0, 0, 0, 0, 0, 0, 0, 0, 0, 0, 0, 0, 0, 0, 0, 0, 0, 0, 0, 0, 0, 0, 0, 0, 0, 0, 0, 0, 0, 0, 0, 0, 0, 0, 0, 0, 0, 0, 0, 0, 0, 0, 0, 0, 0, 0, 0, 0, 0, 0, 0, 0, 0, 0, 0, 0, 0, 0, 0, 0, 0, 0, 0, 0, 0, 0, 0, 0, 0, 0, 0, 0, 0, 0, 0, 0, 0, 0, 0, 0, 0, 0, 0, 0, 0, 0, 0, 0, 0, 0, 0, 0, 0, 0, 0, 0, 0, 0, 0, 0, 0, 0, 0, 0, 0, 0, 0, 0, 0, 0, 0, 0, 0, 0, 0, 0, 0, 0, 0, 0, 0, 0, 0, 0, 0, 0, 0, 0, 0, 0, 0, 0, 0, 0, 0, 0, 0, 0, 0, 0, 0, 0, 0, 0, 0, 0, 0, 0, 0, 0, 0, 0, 0, 0, 0, 0, 0, 0, 0, 0, 0, 0, 0, 0, 0, 0, 0, 0, 0, 0, 0, 0, 0, 0, 0, 0, 0, 0, 0, 0, 0, 0, 0, 0, 0, 0, 0, 0, 0, 0, 0, 0, 0, 0, 0, 0, 0, 0, 0, 0, 0, 0, 0, 0, 0, 0, 0, 0, 0, 0, 0, 0, 0, 0, 0, 0, 0, 0, 0, 0, 0, 0, 0, 0, 0, 0, 0, 0, 0, 0, 0, 0, 0, 0, 0, 0, 0, 0, 0, 0, 0, 0, 0, 0, 0, 0, 0, 0, 0, 0, 0, 0, 0, 0, 0, 0, 0, 0, 0, 0, 0, 0, 0, 0, 0, 0, 0, 0, 0, 0, 0, 0, 0, 0, 0, 0, 0, 0, 0, 0, 0, 0, 0, 0, 0, 0, 0, 0, 0, 0, 0, 0, 0, 0, 0, 0, 0, 0, 0, 0, 0, 0, 0, 0, 0, 0, 0, 0, 0, 0, 0, 0, 0, 0, 0, 0, 0, 0, 0, 0, 0, 0, 0, 0, 0, 0, 0, 0, 0, 0, 0, 0, 0, 0, 0, 0, 0, 0, 0, 0, 0, 0, 0, 0, 0, 0, 0, 0, 0, 0, 0, 0, 0, 0, 0, 0, 0, 0, 0, 0, 0, 0, 0, 0, 0, 0, 0, 0, 0, 0, 0, 0, 0, 0, 0, 0, 0, 0, 0, 0, 0, 0, 0, 0, 0, 0, 0, 0, 0, 0, 1, 0, 0, 0, 0, 0, 0, 0, 0, 0, 0, 0, 0, 0, 0, 0, 0, 0, 0, 0, 0, 0, 0, 0, 0, 0, 0, 0, 0, 0, 0, 0, 0, 0, 0, 0, 0, 0, 0, 0, 0, 0, 0, 0, 0, 0, 0, 0, 0, 0, 0, 0, 0, 0, 0, 0, 0, 0, 0, 0, 0, 0, 0, 0, 0, 0, 0, 0, 0, 0, 0, 0, 0, 0, 0, 1, 0, 0, 0, 0, 0, 0, 0, 0, 0, 0, 0, 0, 0, 0, 0, 0, 0, 0, 0, 0, 1, 0, 0, 1, 0, 0, 0, 0, 0, 0, 0, 0, 0, 0, 0, 0, 0, 0, 0, 0, 0, 0, 0, 0, 0, 0, 0, 0, 0, 0, 0, 0, 0, 0, 0, 0, 0, 0, 0, 0, 0, 0, 0, 0, 0, 0, 0, 0, 0, 0, 0, 0, 0, 0, 0, 0, 0, 0, 0, 0, 0, 0, 0, 0, 0, 0, 0, 0, 0, 0, 0, 0, 0, 0, 0, 0, 0, 0, 0, 0, 0, 0, 0, 0, 0, 0, 0, 0, 0, 0, 0, 0, 0, 0, 0, 0, 0, 0, 0, 0, 0, 0, 0, 0, 0, 0, 0, 0, 0, 0, 0, 0, 0, 0, 0, 0, 0, 0, 0, 0, 0, 0, 0, 0, 0, 0, 0, 0, 0, 0, 0, 0, 0, 0, 0, 0, 0, 0, 0, 0, 0, 0, 0, 0, 0, 0, 0, 0, 0, 0, 0, 0, 0, 0, 0, 0, 0, 0, 0, 0, 0, 0, 0, 0, 0, 0, 0, 0, 0, 0, 0, 0, 0, 0, 0, 0, 0, 0, 0, 0, 0, 0, 0, 0, 0, 0, 0, 0, 0, 0, 0, 0, 0, 0, 0, 0, 0, 0, 0, 0, 0, 0, 0, 0, 0, 0, 0, 0, 0, 0, 0, 0, 0, 0, 0, 0, 0, 0, 0, 0, 0, 0, 0, 0, 0, 0, 0, 0, 0, 0, 0, 0, 0, 0, 0, 0, 0, 0, 0, 0, 0, 0, 0, 0, 0, 0, 0, 0, 0, 0, 0, 0, 0, 0, 0, 0, 0, 0, 0, 0, 0, 0, 0, 0, 0, 0, 0, 0, 0, 0, 0, 0, 0, 0, 0, 0, 0, 0, 0, 0, 0, 0, 0, 0, 0, 0, 0, 0, 0, 0, 0, 0, 0, 0, 0, 0, 0, 0, 0, 0, 0, 0, 0, 0, 0, 0, 0, 0, 0, 0, 0, 0, 0, 0, 0, 0, 0, 0, 0, 0, 0, 0, 0, 0, 0, 0, 0, 0, 0, 0, 0, 0, 0, 0, 0, 0, 0, 0, 0, 0, 0, 0, 0, 0, 0, 0, 0, 0, 0, 0, 0, 0, 0, 0, 0, 0, 0, 0, 0, 0, 0, 0, 0, 0, 0, 0, 0, 0, 0, 0, 0, 0, 0, 0, 0, 0, 0, 0, 0, 0, 0, 0, 0, 0, 0, 0, 0, 0, 0, 0, 0, 0, 0, 0, 0, 0, 0, 0, 0, 0, 0, 0, 0, 0, 0, 0, 0, 0, 0, 0, 0, 0, 0, 0, 0, 0, 0, 0, 0, 0, 0, 0, 0, 0, 0, 0, 0, 0, 0, 0, 0, 0, 0, 0, 0, 0, 0, 0, 0, 0, 0, 0, 0, 0, 0, 0, 0, 0, 0, 0, 0, 0, 0, 0, 0, 0, 0, 0, 0, 0, 0, 0, 0, 0, 0, 0, 0, 0, 0, 0, 1, 0, 0, 0, 0, 0, 0, 0, 0, 0, 0, 0, 0, 0, 0, 0, 0, 0, 0, 0, 0, 0, 0, 0, 0, 0, 0, 0, 0, 0, 0, 0, 0, 0, 0, 0, 0, 0, 0, 0, 0, 0, 0, 0, 0, 0, 0, 0, 0, 0, 0, 0, 0, 0, 0, 0, 0, 0, 0, 0, 0, 0, 0, 0, 0, 0, 0, 0, 0, 0, 0, 0, 0, 0, 0, 0, 0, 0, 0, 0, 0, 0, 0, 0, 0, 0, 0, 0, 0, 0, 0, 0, 0, 0, 0, 0, 0, 0, 0, 0, 0, 0, 0, 0, 0, 0, 0, 0, 0, 0, 0, 0, 0, 0, 0, 0, 0, 0, 0, 0, 0, 0, 0, 0, 0, 0, 0, 0, 0, 0, 0, 0, 0, 0, 0, 0, 0, 0, 0, 0, 0, 0, 0, 0, 0, 0, 0, 0, 0, 0, 0, 0, 0, 0, 0, 0, 0, 0, 0, 0, 0, 0, 0, 0, 0, 0, 0, 0, 0, 0, 0, 0, 0, 0, 0, 0, 0, 0, 0, 0, 0, 0, 0, 0, 0, 0, 0, 0, 0, 0, 0, 0, 0, 0, 0, 0, 0, 0, 0, 0, 0, 0, 0, 0, 0, 0, 0, 0, 0, 0, 0, 0, 0, 0, 0, 0, 0, 0, 0, 0, 0, 0, 0, 0, 0, 0, 0, 0, 0, 0, 0, 0, 0, 0, 0, 0, 0, 0, 0, 0, 0, 0, 0, 0, 0, 0, 0, 0, 0, 0, 0, 0, 0, 0, 0, 0, 0, 0, 0, 0, 0, 0, 0, 0, 0, 0, 0, 0, 0, 0, 0, 0, 0, 0, 0, 0, 0, 0, 0, 0, 0, 0, 0, 0, 0, 0, 0, 0, 0, 0, 0, 0, 0, 0, 0, 0, 0, 0, 0, 0, 0, 0, 0, 0, 0, 0, 0, 0, 0, 0, 0, 0, 0, 0, 0, 0, 0, 0, 0, 0, 0, 0, 0, 0, 0, 0, 0, 0, 0, 0, 0, 0, 0, 0, 0, 0, 0, 0, 0, 0, 0, 0, 0, 0, 0, 0, 0, 0, 0, 0, 0, 0, 0, 0, 0, 0, 0, 0, 0, 0, 0, 0, 0, 0, 0, 0, 0, 0, 0, 0, 0, 0, 0, 0, 0, 0, 0, 0, 0, 0, 0, 0, 0, 0, 0, 0, 0, 0, 0, 0, 0, 0, 0, 0, 0, 0, 0, 0, 0, 0, 0, 0, 0, 0, 0, 0, 0, 0, 0, 0, 0, 0, 0, 0, 0, 0, 0, 0, 0, 0, 0, 0, 0, 0, 0, 0, 0, 0, 0, 0, 0, 0, 0, 0, 0, 0, 0, 0, 0, 0, 0, 0, 0, 0, 0, 0, 0, 0, 0, 0, 0, 0, 0, 0, 0, 0, 0, 0, 0, 0, 0, 0, 0, 0, 0, 0, 0, 0, 0, 0, 0, 0, 0, 0, 0, 0, 0, 0, 0, 0, 0, 0, 0, 0, 0, 0, 0, 0, 0, 0, 0, 0, 0, 0, 0, 0, 0, 0, 0, 0, 0, 0, 0, 0, 0, 0, 0, 0, 0, 0, 0, 0, 0, 1, 0, 0, 0, 0, 0, 0, 0, 0, 0, 0, 0, 0, 0, 0, 0, 0, 0, 0, 0, 0, 0, 0, 0, 0, 0, 0, 0, 0, 0, 0, 0, 0, 0, 0, 0, 2, 0, 0, 0, 0, 0, 0, 0, 0, 0, 0, 0, 0, 0, 0, 0, 0, 0, 0, 0, 0, 0, 0, 0, 0, 0, 0, 0, 0, 0, 0, 0, 0, 0, 0, 0, 0, 0, 0, 0, 0, 1, 0, 0, 0, 0, 0, 0, 0, 0, 0, 0, 0, 0, 0, 0, 0, 0, 0, 0, 0, 0, 0, 0, 0, 0, 0, 0, 0, 0, 0, 0, 0, 0, 0, 0, 0, 0, 0, 0, 0, 0, 0, 0, 0, 0, 0, 0, 0, 0, 0, 0, 0, 0, 0, 0, 0, 0, 0, 0, 0, 0, 0, 0, 0, 0, 0, 0, 0, 0, 0, 0, 0, 0, 0, 0, 0, 0, 0, 0, 0, 0, 0, 0, 0, 0, 0, 0, 0, 0, 0, 0, 0, 0, 0, 0, 0, 0, 0, 0, 0, 0, 0, 0, 0, 0, 0, 0, 0, 0, 0, 0, 0, 0, 0, 0, 0, 0, 0, 0, 0, 0, 0, 0, 0, 0, 0, 0, 0, 0, 0, 0, 0, 0, 0, 0, 0, 0, 0, 0, 0, 0, 0, 0, 0, 0, 0, 0, 0, 0, 0, 0, 0, 0, 0, 0, 0, 0, 0, 0, 0, 0, 0, 0, 0, 0, 0, 0, 0, 0, 0, 0, 0, 0, 0, 0, 0, 0, 0, 0, 0, 0, 0, 0, 0, 0, 0, 0, 0, 0, 0, 0, 0, 0, 0, 0, 0, 0, 0, 0, 0, 0, 0, 0, 0, 0, 0, 0, 0, 0, 0, 0, 0, 0, 0, 0, 0, 0, 0, 0, 0, 0, 0, 0, 0, 0, 0, 0, 0, 0, 0, 0, 0, 0, 0, 0, 0, 0, 0, 0, 0, 0, 0, 0, 0, 0, 0, 0, 0, 0, 0, 0, 0, 0, 0, 0, 0, 0, 0, 0, 0, 0, 0, 0, 0, 0, 0, 0, 0, 0, 0, 0, 0, 0, 0, 0, 0, 0, 0, 0, 0, 0, 0, 0, 0, 0, 0, 0, 0, 0, 0, 0, 0, 0, 0, 0, 0, 0, 0, 0, 0, 0, 0, 0, 0, 0, 0, 0, 0, 0, 0, 0, 0, 0, 0, 0, 0, 0, 0, 0, 0, 0, 0, 0, 0, 0, 0, 0, 0, 0, 0, 0, 0, 0, 0, 0, 0, 0, 0, 0, 0, 0, 0, 0, 0, 0, 0, 0, 0, 0, 0, 0, 0, 0, 0, 0, 0, 0, 0, 0, 0, 0, 0, 0, 0, 0, 0, 0, 0, 0, 0, 0, 0, 0, 0, 0, 0, 0, 0, 0, 0, 0, 0, 0, 0, 0, 0, 0, 0, 0, 0, 0, 0, 0, 0, 0, 0, 0, 0, 0, 0, 0, 0, 0, 0, 0, 0, 0, 0, 0, 0, 0, 0, 0, 0, 0, 0, 0, 0, 0, 0, 0, 0, 0, 0, 0, 0, 0, 0, 0, 0, 0, 0, 0, 0, 0, 0, 0, 0, 0, 0, 0, 0, 0, 0, 0, 0, 0, 0, 0, 0, 0, 0, 0, 0, 0, 0, 0, 0, 0, 0, 0, 0, 0, 0, 0, 0, 0, 0, 0, 0, 0, 0, 0, 0, 0, 0, 0, 0, 0, 0, 0, 0, 0, 0, 0, 0, 0, 0, 0, 0, 0, 0, 0, 0, 0, 0, 0, 0, 1, 0, 0, 0, 0, 0, 0, 0, 0, 0, 0, 0, 0, 0, 0, 0, 0, 0, 0, 0, 0, 0, 0, 0, 0, 0, 0, 0, 0, 0, 0, 0, 0, 0, 0, 0, 0, 0, 0, 0, 0, 0, 0, 0, 0, 0, 0, 0, 0, 0, 0, 0, 0, 0, 0, 0, 0, 0, 0, 0, 0, 0, 0, 0, 0, 0, 0, 0, 0, 0, 0, 0, 0, 0, 0, 0, 0, 0, 0, 0, 0, 0, 0, 0, 0, 0, 0, 0, 0, 0, 0, 0, 0, 0, 0, 0, 0, 0, 0, 0, 0, 0, 0, 0, 0, 0, 0, 0, 0, 0, 0, 2, 0, 0, 0, 0, 0, 0, 0, 0, 0, 0, 0, 0, 0, 0, 0, 0, 0, 0, 0, 0, 0, 0, 0, 0, 0, 0, 0, 0, 0, 0, 0, 0, 0, 0, 0, 0, 0, 0, 0, 0, 0, 0, 0, 0, 0, 0, 0, 0, 0, 0, 0, 0, 0, 0, 0, 0, 0, 0, 0, 0, 0, 0, 0, 0, 0, 0, 0, 0, 0, 0, 0, 0, 0, 0, 0, 0, 0, 0, 0, 0, 0, 0, 0, 0, 0, 0, 0, 0, 0, 0, 0, 0, 0, 0, 0, 0, 0, 0, 0, 0, 0, 0, 0, 0, 0, 0, 0, 0, 0, 0, 0, 0, 0, 0, 0, 0, 0, 0, 0, 0, 0, 0, 0, 0, 0, 0, 0, 0, 0, 0, 0, 0, 0, 0, 0, 0, 0, 0, 0, 0, 0, 0, 0, 0, 0, 0, 0, 0, 0, 0, 0, 0, 0, 0, 0, 0, 0, 0, 0, 0, 0, 0, 0, 0, 0, 0, 0, 0, 0, 0, 0, 0, 0, 0, 0, 0, 0, 0, 0, 0, 0, 0, 0, 0, 0, 0, 0, 0, 0, 0, 0, 0, 0, 0, 0, 0, 0, 0, 0, 0, 0, 0, 0, 0, 0, 0, 0, 0, 0, 0, 0, 0, 0, 0, 0, 0, 0, 0, 0, 0, 0, 0, 0, 0, 0, 0, 0, 0, 0, 0, 0, 0, 0, 0, 0, 0, 0, 0, 0, 0, 0, 0, 0, 0, 0, 0, 0, 0, 0, 0, 0, 0, 0, 0, 0, 0, 0, 0, 0, 0, 0, 0, 0, 0, 0, 0, 0, 0, 0, 0, 0, 0, 0, 0, 0, 0, 0, 0, 0, 0, 0, 0, 0, 0, 0, 0, 0, 0, 0, 0, 0, 0, 0, 0, 0, 0, 0, 0, 0, 0, 0, 0, 0, 0, 0, 0, 0, 0, 0, 0, 0, 0, 0, 0, 0, 0, 0, 0, 0, 0, 0, 0, 0, 0, 0, 0, 0, 0, 0, 0, 0, 0, 0, 0, 0, 0, 0, 0, 0, 0, 0, 0, 0, 0, 0, 0, 0, 0, 0, 0, 0, 0, 0, 0, 0, 0, 0, 0, 0, 0, 0, 0, 0, 0, 0, 0, 0, 0, 0, 0, 0, 0, 0, 0, 0, 0, 0, 0, 0, 0, 0, 0, 0, 0, 0, 0, 0, 0, 0, 0, 0, 0, 0, 0, 0, 0, 0, 0, 0, 0, 0, 0, 0, 0, 0, 0, 0, 0, 0, 0, 0, 0, 0, 0, 0, 0, 0, 0, 0, 0, 0, 0, 0, 0, 0, 0, 0, 0, 0, 0, 0, 0, 0, 0, 0, 0, 0, 0, 0, 0, 0, 0, 0, 0, 0, 0, 0, 0, 0, 0, 0, 0, 0, 0, 0, 0, 0, 0, 0, 0, 0, 0, 0, 0, 0, 0, 0, 0, 0, 0, 0, 0, 0, 0, 0, 0, 0, 0, 0, 0, 0, 0, 0, 0, 0, 0, 0, 0, 0, 0, 0, 0, 0, 0, 0, 0, 0, 0, 0, 0, 0, 0, 0, 0, 0, 0, 0, 0, 0, 0, 0, 0, 0, 0, 0, 0, 0, 0, 0, 0, 0, 0, 0, 0, 0, 0, 0, 0, 0, 0, 0, 0, 0, 0, 0, 0, 0, 0, 0, 0, 0, 0, 0, 0, 0, 0, 0, 0, 0, 0, 0, 0, 0, 0, 0, 0, 0, 0, 0, 0, 0, 0, 0, 0, 0, 0, 0, 0, 0, 0, 0, 0, 0, 0, 0, 0, 0, 0, 0, 0, 0, 0, 0, 0, 0, 0, 0, 0, 0, 0, 0, 0, 0, 0, 0, 0, 0, 0, 0, 0, 0, 0, 0, 0, 0, 0, 0, 0, 0, 0, 0, 0, 0, 0, 0, 0, 0, 0, 0, 0, 0, 0, 0, 0, 0, 0, 0, 0, 0, 0, 0, 0, 0, 0, 0, 0, 0, 0, 0, 0, 0, 0, 0, 0, 0, 0, 0, 0, 0, 0, 0, 0, 0, 0, 0, 0, 0, 0, 0, 0, 0, 0, 0, 0, 0, 0, 0, 0, 0, 0, 0, 0, 0, 0, 0, 0, 0, 0, 0, 0, 0, 0, 0, 0, 0, 0, 0, 0, 0, 0, 1, 0, 0, 0, 0, 0, 0, 0, 0, 0, 0, 0, 0, 0, 0, 0, 0, 0, 0, 0, 0, 0, 0, 0, 0, 0, 0, 0, 0, 0, 0, 0, 0, 0, 0, 0, 0, 0, 0, 0, 0, 0, 0, 0, 0, 0, 0, 0, 0, 0, 0, 0, 0, 0, 0, 0, 0, 0, 0, 0, 0, 0, 0, 0, 0, 0, 0, 0, 0, 0, 0, 0, 0, 0, 0, 0, 0, 0, 0, 0, 0, 0, 0, 0, 0, 0, 0, 0, 0, 0, 0, 0, 0, 0, 0, 0, 0, 0, 0, 0, 0, 0, 0, 0, 0, 0, 0, 0, 1, 0, 0, 0, 0, 0, 0, 0, 0, 0, 0, 0, 0, 0, 0, 0, 0, 0, 0, 0, 0, 0, 0, 0, 0, 0, 0, 0, 0, 0, 0, 0, 0, 0, 0, 0, 0, 0, 0, 0, 0, 0, 0, 0, 0, 0, 0, 0, 0, 0, 0, 0, 0, 0, 0, 0, 0, 0, 0, 0, 0, 0, 0, 0, 0, 0, 0, 0, 0, 0, 0, 0, 0, 0, 0, 0, 0, 0, 0, 0, 0, 0, 0, 0, 0, 0, 0, 0, 0, 0, 0, 0, 0, 0, 0, 0, 0, 0, 0, 0, 0, 0, 0, 0, 0, 0, 0, 0, 0, 0, 0, 0, 0, 0, 0, 0, 0, 0, 0, 0, 0, 0, 0, 0, 0, 0, 0, 0, 0, 0, 0, 0, 0, 0, 0, 0, 0, 0, 0, 0, 0, 0, 0, 0, 0, 0, 0, 0, 0, 0, 0, 0, 0, 0, 0, 0, 0, 0, 0, 0, 0, 0, 0, 0, 0, 0, 0, 0, 0, 0, 0, 0, 0, 0, 0, 0, 0, 0, 0, 0, 0, 0, 0, 0, 0, 0, 0, 0, 0, 0, 0, 0, 0, 0, 0, 0, 0, 0, 0, 0, 0, 0, 0, 0, 0, 0, 0, 0, 0, 0, 0, 0, 0, 0, 0, 0, 0, 0, 0, 0, 0, 0, 0, 0, 0, 0, 0, 0, 0, 0, 0, 0, 0, 0, 0, 0, 0, 0, 0, 0, 0, 0, 0, 0, 0, 0, 0, 0, 0, 0, 0, 0, 0, 0, 0, 0, 0, 0, 0, 0, 0, 0, 0, 0, 0, 0, 0, 0, 0, 0, 0, 0, 0, 0, 0, 0, 0, 0, 0, 0, 0, 0, 0, 0, 0, 0, 0, 0, 0, 0, 0, 0, 0, 0, 0, 0, 0, 0, 0, 0, 0, 0, 0, 0, 0, 0, 0, 0, 0, 0, 0, 0, 0, 0, 0, 0, 0, 0, 0, 0, 0, 0, 0, 0, 0, 0, 0, 0, 0, 0, 0, 0, 0, 0, 0, 0, 0, 0, 0, 0, 0, 0, 0, 0, 0, 0, 0, 0, 0, 0, 0, 0, 0, 0, 0, 0, 0, 0, 0, 0, 0, 0, 0, 0, 0, 0, 0, 0, 0, 0, 0, 0, 0, 0, 0, 0, 0, 0, 0, 0, 0, 0, 0, 0, 0, 0, 0, 0, 0, 0, 0, 0, 0, 0, 0, 0, 0, 0, 0, 0, 0, 0, 0, 0, 0, 0, 0, 0, 0, 0, 0, 0, 0, 0, 0, 0, 0, 0, 0, 0, 0, 0, 0, 0, 0, 0, 0, 0, 0, 0, 0, 0, 0, 0, 0, 0, 0, 0, 0, 0, 0, 0, 0, 0, 0, 0, 0, 0, 0, 0, 0, 0, 0, 0, 0, 0, 0, 0, 0, 0, 0, 0, 0, 0, 2, 0, 1, 0]\n"
     ]
    }
   ],
   "source": [
    "test_bow = bow_encoding(test_words, vocabulary)\n",
    "print(test_bow)"
   ]
  },
  {
   "cell_type": "code",
   "execution_count": 42,
   "metadata": {},
   "outputs": [
    {
     "data": {
      "text/plain": [
       "5000"
      ]
     },
     "execution_count": 42,
     "metadata": {},
     "output_type": "execute_result"
    }
   ],
   "source": [
    "len(test_bow)"
   ]
  },
  {
   "cell_type": "markdown",
   "metadata": {},
   "source": [
    "So now we know how to construct a bag of words encoding of a user provided review, how to we send it to our endpoint? First, we need to start the endpoint back up."
   ]
  },
  {
   "cell_type": "code",
   "execution_count": 43,
   "metadata": {},
   "outputs": [
    {
     "name": "stderr",
     "output_type": "stream",
     "text": [
      "WARNING:sagemaker:Using already existing model: xgboost-2020-05-11-05-47-22-565\n"
     ]
    },
    {
     "name": "stdout",
     "output_type": "stream",
     "text": [
      "-------------!"
     ]
    }
   ],
   "source": [
    "xgb_predictor = xgb.deploy(initial_instance_count = 1, instance_type = 'ml.m4.xlarge')"
   ]
  },
  {
   "cell_type": "markdown",
   "metadata": {},
   "source": [
    "At this point we could just do the same thing that we did earlier when we tested our deployed model and send `test_bow` to our endpoint using the `xgb_predictor` object. However, when we eventually construct our Lambda function we won't have access to this object, so how do we call a SageMaker endpoint?\n",
    "\n",
    "It turns out that Python functions that are used in Lambda have access to another Amazon library called `boto3`. This library provides an API for working with Amazon services, including SageMaker. To start with, we need to get a handle to the SageMaker runtime."
   ]
  },
  {
   "cell_type": "code",
   "execution_count": 44,
   "metadata": {},
   "outputs": [],
   "source": [
    "import boto3\n",
    "\n",
    "runtime = boto3.Session().client('sagemaker-runtime')"
   ]
  },
  {
   "cell_type": "markdown",
   "metadata": {},
   "source": [
    "And now that we have access to the SageMaker runtime, we can ask it to make use of (invoke) an endpoint that has already been created. However, we need to provide SageMaker with the name of the deployed endpoint. To find this out we can print it out using the `xgb_predictor` object."
   ]
  },
  {
   "cell_type": "code",
   "execution_count": 45,
   "metadata": {},
   "outputs": [
    {
     "data": {
      "text/plain": [
       "'xgboost-2020-05-11-05-47-22-565'"
      ]
     },
     "execution_count": 45,
     "metadata": {},
     "output_type": "execute_result"
    }
   ],
   "source": [
    "xgb_predictor.endpoint"
   ]
  },
  {
   "cell_type": "markdown",
   "metadata": {},
   "source": [
    "Using the SageMaker runtime and the name of our endpoint, we can invoke the endpoint and send it the `test_bow` data."
   ]
  },
  {
   "cell_type": "code",
   "execution_count": 46,
   "metadata": {},
   "outputs": [
    {
     "ename": "ParamValidationError",
     "evalue": "Parameter validation failed:\nInvalid type for parameter Body, value: [0, 0, 0, 0, 0, 0, 0, 0, 0, 0, 0, 0, 0, 0, 0, 0, 0, 0, 0, 0, 0, 0, 0, 0, 0, 0, 0, 0, 0, 0, 0, 0, 0, 0, 0, 0, 0, 0, 0, 0, 0, 0, 0, 0, 0, 0, 0, 0, 0, 0, 0, 0, 0, 0, 0, 0, 0, 0, 0, 0, 0, 0, 0, 0, 0, 0, 0, 0, 0, 0, 0, 0, 0, 0, 0, 0, 0, 0, 0, 0, 0, 0, 0, 0, 0, 0, 0, 0, 0, 0, 0, 0, 0, 0, 0, 0, 0, 0, 0, 0, 0, 0, 0, 0, 0, 0, 0, 0, 0, 0, 0, 0, 0, 0, 0, 0, 0, 0, 0, 0, 0, 0, 0, 0, 0, 0, 0, 0, 0, 0, 0, 0, 0, 0, 0, 0, 0, 0, 0, 0, 0, 0, 0, 0, 0, 0, 0, 0, 0, 0, 0, 0, 0, 0, 0, 0, 0, 0, 0, 0, 0, 0, 0, 0, 0, 0, 0, 0, 0, 0, 0, 0, 0, 0, 0, 0, 0, 0, 0, 0, 0, 0, 0, 0, 0, 0, 0, 0, 0, 0, 0, 0, 0, 0, 0, 0, 0, 0, 0, 0, 0, 0, 0, 0, 0, 0, 0, 0, 0, 0, 0, 0, 0, 0, 0, 0, 0, 0, 0, 0, 0, 0, 0, 0, 0, 0, 1, 0, 0, 0, 0, 0, 0, 0, 0, 0, 0, 0, 0, 0, 0, 0, 0, 0, 0, 0, 0, 0, 0, 0, 0, 0, 0, 0, 0, 0, 1, 0, 0, 0, 0, 0, 0, 0, 0, 0, 0, 0, 0, 0, 0, 0, 0, 0, 0, 0, 0, 0, 0, 0, 0, 0, 0, 0, 0, 0, 0, 0, 0, 0, 0, 0, 0, 0, 0, 0, 0, 0, 0, 0, 0, 0, 0, 0, 0, 0, 0, 0, 0, 0, 0, 0, 0, 0, 0, 0, 0, 0, 0, 0, 0, 0, 0, 0, 0, 0, 0, 0, 0, 0, 0, 0, 0, 0, 0, 0, 0, 0, 0, 0, 0, 0, 0, 0, 0, 0, 0, 0, 0, 0, 0, 0, 0, 0, 0, 0, 0, 0, 0, 0, 0, 0, 0, 0, 0, 0, 0, 0, 0, 0, 0, 0, 0, 0, 0, 0, 0, 0, 0, 0, 0, 0, 0, 0, 0, 0, 0, 0, 0, 0, 0, 0, 0, 0, 0, 0, 0, 0, 0, 0, 0, 0, 0, 0, 0, 0, 0, 0, 0, 0, 0, 0, 0, 0, 0, 0, 0, 0, 0, 0, 0, 0, 0, 0, 0, 0, 0, 0, 0, 0, 0, 0, 0, 0, 0, 0, 0, 0, 0, 0, 0, 0, 0, 0, 0, 0, 0, 0, 0, 0, 0, 0, 0, 0, 0, 0, 0, 0, 0, 0, 0, 0, 0, 0, 0, 0, 0, 0, 0, 0, 0, 0, 0, 0, 0, 0, 0, 0, 0, 0, 0, 0, 0, 0, 0, 0, 0, 0, 0, 0, 0, 0, 0, 0, 0, 0, 0, 0, 0, 0, 0, 0, 0, 0, 0, 0, 0, 0, 0, 0, 0, 0, 0, 0, 0, 0, 0, 0, 0, 0, 0, 0, 0, 0, 0, 0, 0, 0, 0, 0, 0, 0, 0, 0, 0, 0, 0, 0, 0, 0, 0, 0, 0, 0, 0, 0, 0, 0, 0, 0, 0, 0, 0, 0, 0, 0, 0, 0, 0, 0, 0, 0, 0, 0, 0, 0, 0, 0, 0, 0, 0, 0, 0, 0, 0, 0, 0, 0, 0, 0, 0, 0, 0, 0, 0, 0, 0, 0, 0, 0, 0, 0, 0, 0, 0, 0, 0, 0, 0, 0, 0, 0, 0, 0, 0, 0, 0, 0, 0, 0, 0, 0, 0, 0, 0, 0, 0, 0, 0, 0, 0, 0, 0, 0, 0, 0, 0, 0, 0, 0, 0, 0, 0, 0, 0, 0, 1, 0, 0, 0, 0, 0, 0, 0, 0, 0, 0, 0, 0, 0, 0, 0, 0, 0, 0, 0, 0, 0, 0, 0, 0, 0, 0, 0, 0, 0, 0, 0, 0, 0, 0, 0, 0, 0, 0, 0, 0, 0, 0, 0, 0, 0, 0, 0, 0, 0, 0, 0, 0, 0, 0, 0, 0, 0, 0, 0, 0, 0, 0, 0, 0, 0, 0, 0, 0, 0, 0, 0, 0, 0, 0, 0, 0, 0, 0, 0, 0, 0, 0, 0, 0, 0, 0, 0, 0, 0, 0, 0, 0, 0, 0, 0, 0, 0, 0, 0, 0, 0, 0, 0, 0, 0, 0, 0, 0, 0, 0, 0, 0, 0, 0, 0, 0, 0, 0, 0, 0, 0, 0, 0, 0, 0, 0, 0, 0, 0, 0, 0, 0, 0, 0, 0, 0, 0, 0, 0, 0, 0, 0, 0, 0, 0, 0, 0, 0, 0, 0, 0, 0, 0, 0, 0, 0, 0, 0, 0, 0, 0, 0, 0, 0, 0, 0, 0, 0, 0, 0, 0, 0, 0, 0, 0, 0, 0, 0, 0, 0, 0, 0, 0, 0, 0, 0, 0, 0, 0, 0, 0, 0, 0, 0, 0, 0, 0, 0, 0, 0, 0, 0, 0, 0, 0, 0, 0, 0, 0, 0, 0, 0, 0, 0, 0, 0, 0, 0, 0, 0, 0, 0, 0, 0, 0, 0, 0, 0, 0, 0, 0, 0, 0, 0, 0, 0, 0, 0, 0, 0, 0, 0, 0, 0, 0, 0, 0, 0, 0, 0, 0, 0, 0, 1, 0, 0, 0, 0, 0, 0, 0, 0, 0, 0, 0, 0, 0, 0, 0, 0, 0, 0, 0, 0, 0, 0, 0, 0, 0, 0, 0, 0, 0, 0, 0, 0, 0, 0, 0, 0, 0, 0, 0, 0, 0, 0, 0, 0, 0, 0, 0, 0, 0, 0, 0, 0, 0, 0, 0, 0, 0, 0, 0, 0, 0, 0, 0, 0, 0, 0, 0, 0, 0, 0, 0, 0, 0, 0, 0, 0, 0, 0, 0, 0, 0, 0, 0, 0, 0, 0, 1, 0, 0, 0, 0, 0, 0, 0, 0, 0, 0, 0, 0, 0, 0, 0, 0, 0, 0, 0, 0, 0, 0, 0, 0, 0, 0, 0, 0, 0, 0, 0, 0, 0, 0, 0, 0, 0, 0, 0, 0, 0, 0, 0, 0, 0, 0, 0, 0, 0, 0, 0, 0, 0, 0, 0, 0, 0, 0, 0, 0, 0, 0, 0, 0, 0, 0, 0, 0, 0, 0, 0, 0, 0, 0, 0, 0, 0, 0, 0, 0, 0, 0, 0, 0, 0, 0, 0, 0, 0, 0, 0, 0, 0, 0, 0, 0, 0, 0, 0, 0, 0, 0, 0, 0, 0, 0, 0, 0, 0, 0, 0, 0, 0, 0, 0, 0, 0, 0, 0, 0, 0, 0, 0, 0, 0, 0, 0, 0, 0, 0, 0, 0, 0, 0, 0, 0, 0, 0, 0, 0, 0, 0, 0, 0, 0, 0, 0, 0, 0, 0, 0, 0, 0, 0, 0, 0, 0, 0, 0, 0, 0, 0, 0, 0, 0, 0, 0, 0, 0, 0, 0, 0, 0, 0, 0, 0, 0, 0, 0, 0, 0, 0, 0, 0, 0, 0, 0, 0, 0, 0, 0, 0, 0, 0, 0, 0, 0, 0, 0, 0, 0, 0, 0, 0, 0, 0, 0, 0, 0, 0, 0, 0, 0, 0, 0, 0, 0, 0, 0, 0, 0, 0, 0, 0, 0, 0, 0, 0, 0, 0, 0, 0, 0, 0, 0, 0, 0, 0, 0, 0, 0, 0, 0, 0, 0, 0, 0, 0, 0, 0, 0, 0, 1, 0, 0, 0, 0, 0, 0, 0, 0, 0, 0, 0, 0, 0, 0, 0, 0, 0, 0, 0, 0, 0, 0, 0, 0, 0, 0, 0, 0, 0, 0, 0, 0, 0, 0, 0, 0, 0, 0, 0, 0, 0, 0, 0, 0, 0, 0, 0, 0, 0, 0, 0, 0, 0, 0, 0, 1, 0, 0, 0, 0, 0, 0, 0, 0, 0, 0, 0, 0, 0, 0, 0, 0, 0, 0, 0, 0, 0, 0, 0, 0, 0, 0, 0, 0, 0, 0, 0, 0, 0, 0, 0, 0, 0, 0, 0, 0, 0, 0, 0, 0, 0, 0, 0, 0, 0, 0, 0, 0, 0, 0, 0, 0, 0, 0, 0, 0, 0, 0, 0, 0, 0, 0, 0, 0, 0, 0, 0, 0, 0, 0, 0, 0, 0, 0, 0, 0, 0, 0, 0, 0, 0, 0, 0, 0, 0, 0, 0, 0, 0, 0, 0, 0, 0, 0, 0, 0, 0, 0, 0, 0, 0, 0, 0, 0, 0, 0, 0, 0, 0, 0, 0, 0, 0, 0, 0, 0, 0, 0, 0, 0, 0, 0, 0, 0, 0, 0, 0, 0, 0, 0, 0, 0, 0, 0, 0, 0, 0, 0, 0, 0, 0, 0, 0, 0, 0, 0, 0, 0, 0, 0, 0, 0, 0, 0, 0, 0, 0, 0, 0, 0, 0, 0, 0, 0, 0, 0, 0, 0, 0, 0, 0, 0, 0, 0, 0, 0, 0, 0, 0, 0, 0, 0, 0, 0, 0, 0, 0, 0, 0, 0, 0, 0, 0, 0, 0, 0, 0, 0, 0, 0, 0, 0, 0, 0, 0, 0, 0, 0, 0, 0, 0, 0, 0, 0, 0, 0, 0, 0, 0, 0, 0, 0, 0, 0, 0, 0, 0, 0, 0, 0, 0, 0, 0, 0, 0, 0, 0, 0, 0, 0, 0, 0, 0, 0, 0, 0, 0, 0, 0, 0, 0, 0, 0, 0, 0, 0, 0, 0, 0, 0, 0, 0, 0, 0, 0, 0, 0, 0, 0, 0, 0, 0, 0, 0, 0, 0, 0, 0, 0, 0, 0, 0, 0, 0, 0, 0, 0, 0, 0, 0, 0, 0, 0, 0, 0, 0, 0, 0, 0, 0, 0, 0, 0, 0, 0, 0, 0, 0, 0, 0, 0, 0, 0, 0, 0, 0, 0, 0, 0, 0, 0, 0, 0, 0, 0, 0, 0, 0, 0, 0, 0, 0, 0, 0, 0, 0, 0, 0, 0, 0, 0, 0, 0, 0, 0, 0, 0, 0, 0, 0, 0, 0, 0, 0, 0, 0, 0, 0, 0, 0, 0, 0, 0, 0, 0, 0, 0, 0, 0, 0, 0, 0, 0, 0, 0, 0, 0, 0, 0, 0, 0, 0, 0, 0, 0, 0, 0, 0, 0, 0, 0, 0, 0, 0, 0, 0, 0, 0, 0, 0, 0, 0, 0, 0, 0, 0, 0, 0, 0, 0, 0, 0, 0, 0, 0, 0, 0, 0, 0, 0, 0, 0, 0, 0, 0, 0, 0, 0, 0, 0, 0, 0, 0, 0, 0, 0, 0, 0, 0, 0, 0, 0, 0, 0, 0, 0, 0, 0, 0, 0, 0, 0, 0, 0, 0, 0, 0, 0, 0, 0, 0, 0, 0, 0, 0, 0, 0, 0, 0, 0, 0, 0, 0, 0, 0, 0, 0, 0, 0, 0, 0, 0, 0, 0, 0, 0, 0, 0, 0, 0, 0, 0, 0, 0, 0, 0, 0, 0, 0, 0, 0, 0, 0, 0, 0, 0, 0, 0, 0, 0, 0, 0, 0, 0, 0, 0, 0, 0, 0, 0, 0, 0, 0, 0, 0, 0, 0, 0, 0, 0, 0, 0, 0, 0, 0, 0, 0, 0, 0, 0, 0, 0, 0, 0, 0, 0, 0, 0, 0, 0, 0, 0, 0, 0, 0, 0, 0, 0, 0, 0, 0, 0, 0, 0, 0, 0, 0, 0, 0, 0, 0, 0, 0, 0, 0, 0, 0, 0, 0, 0, 0, 0, 0, 0, 0, 0, 0, 0, 0, 0, 0, 0, 0, 0, 0, 0, 0, 0, 0, 0, 0, 0, 0, 0, 0, 0, 0, 0, 0, 0, 0, 0, 0, 0, 0, 0, 0, 0, 0, 0, 0, 0, 0, 0, 0, 0, 0, 0, 0, 0, 0, 0, 0, 0, 0, 0, 0, 0, 0, 0, 0, 0, 0, 0, 0, 0, 0, 0, 0, 0, 0, 0, 0, 0, 0, 0, 0, 0, 0, 0, 0, 0, 0, 0, 0, 0, 0, 0, 0, 0, 0, 0, 0, 0, 0, 0, 0, 1, 0, 0, 0, 0, 0, 0, 0, 0, 0, 0, 0, 0, 0, 0, 0, 0, 0, 0, 0, 0, 0, 0, 0, 0, 0, 0, 0, 0, 0, 0, 0, 0, 0, 0, 0, 0, 0, 0, 0, 0, 0, 0, 0, 0, 0, 0, 0, 0, 0, 0, 0, 0, 0, 0, 0, 0, 0, 0, 0, 0, 0, 0, 0, 0, 0, 0, 0, 0, 0, 0, 0, 0, 0, 0, 1, 0, 0, 0, 0, 0, 0, 0, 0, 0, 0, 0, 0, 0, 0, 0, 0, 0, 0, 0, 0, 1, 0, 0, 1, 0, 0, 0, 0, 0, 0, 0, 0, 0, 0, 0, 0, 0, 0, 0, 0, 0, 0, 0, 0, 0, 0, 0, 0, 0, 0, 0, 0, 0, 0, 0, 0, 0, 0, 0, 0, 0, 0, 0, 0, 0, 0, 0, 0, 0, 0, 0, 0, 0, 0, 0, 0, 0, 0, 0, 0, 0, 0, 0, 0, 0, 0, 0, 0, 0, 0, 0, 0, 0, 0, 0, 0, 0, 0, 0, 0, 0, 0, 0, 0, 0, 0, 0, 0, 0, 0, 0, 0, 0, 0, 0, 0, 0, 0, 0, 0, 0, 0, 0, 0, 0, 0, 0, 0, 0, 0, 0, 0, 0, 0, 0, 0, 0, 0, 0, 0, 0, 0, 0, 0, 0, 0, 0, 0, 0, 0, 0, 0, 0, 0, 0, 0, 0, 0, 0, 0, 0, 0, 0, 0, 0, 0, 0, 0, 0, 0, 0, 0, 0, 0, 0, 0, 0, 0, 0, 0, 0, 0, 0, 0, 0, 0, 0, 0, 0, 0, 0, 0, 0, 0, 0, 0, 0, 0, 0, 0, 0, 0, 0, 0, 0, 0, 0, 0, 0, 0, 0, 0, 0, 0, 0, 0, 0, 0, 0, 0, 0, 0, 0, 0, 0, 0, 0, 0, 0, 0, 0, 0, 0, 0, 0, 0, 0, 0, 0, 0, 0, 0, 0, 0, 0, 0, 0, 0, 0, 0, 0, 0, 0, 0, 0, 0, 0, 0, 0, 0, 0, 0, 0, 0, 0, 0, 0, 0, 0, 0, 0, 0, 0, 0, 0, 0, 0, 0, 0, 0, 0, 0, 0, 0, 0, 0, 0, 0, 0, 0, 0, 0, 0, 0, 0, 0, 0, 0, 0, 0, 0, 0, 0, 0, 0, 0, 0, 0, 0, 0, 0, 0, 0, 0, 0, 0, 0, 0, 0, 0, 0, 0, 0, 0, 0, 0, 0, 0, 0, 0, 0, 0, 0, 0, 0, 0, 0, 0, 0, 0, 0, 0, 0, 0, 0, 0, 0, 0, 0, 0, 0, 0, 0, 0, 0, 0, 0, 0, 0, 0, 0, 0, 0, 0, 0, 0, 0, 0, 0, 0, 0, 0, 0, 0, 0, 0, 0, 0, 0, 0, 0, 0, 0, 0, 0, 0, 0, 0, 0, 0, 0, 0, 0, 0, 0, 0, 0, 0, 0, 0, 0, 0, 0, 0, 0, 0, 0, 0, 0, 0, 0, 0, 0, 0, 0, 0, 0, 0, 0, 0, 0, 0, 0, 0, 0, 0, 0, 0, 0, 0, 0, 0, 0, 0, 0, 0, 0, 0, 0, 0, 0, 0, 0, 0, 0, 0, 0, 0, 0, 0, 0, 0, 0, 0, 0, 0, 0, 0, 0, 0, 0, 0, 0, 0, 0, 0, 0, 0, 0, 0, 0, 0, 0, 0, 0, 0, 0, 0, 0, 0, 0, 0, 0, 0, 0, 0, 0, 0, 0, 0, 1, 0, 0, 0, 0, 0, 0, 0, 0, 0, 0, 0, 0, 0, 0, 0, 0, 0, 0, 0, 0, 0, 0, 0, 0, 0, 0, 0, 0, 0, 0, 0, 0, 0, 0, 0, 0, 0, 0, 0, 0, 0, 0, 0, 0, 0, 0, 0, 0, 0, 0, 0, 0, 0, 0, 0, 0, 0, 0, 0, 0, 0, 0, 0, 0, 0, 0, 0, 0, 0, 0, 0, 0, 0, 0, 0, 0, 0, 0, 0, 0, 0, 0, 0, 0, 0, 0, 0, 0, 0, 0, 0, 0, 0, 0, 0, 0, 0, 0, 0, 0, 0, 0, 0, 0, 0, 0, 0, 0, 0, 0, 0, 0, 0, 0, 0, 0, 0, 0, 0, 0, 0, 0, 0, 0, 0, 0, 0, 0, 0, 0, 0, 0, 0, 0, 0, 0, 0, 0, 0, 0, 0, 0, 0, 0, 0, 0, 0, 0, 0, 0, 0, 0, 0, 0, 0, 0, 0, 0, 0, 0, 0, 0, 0, 0, 0, 0, 0, 0, 0, 0, 0, 0, 0, 0, 0, 0, 0, 0, 0, 0, 0, 0, 0, 0, 0, 0, 0, 0, 0, 0, 0, 0, 0, 0, 0, 0, 0, 0, 0, 0, 0, 0, 0, 0, 0, 0, 0, 0, 0, 0, 0, 0, 0, 0, 0, 0, 0, 0, 0, 0, 0, 0, 0, 0, 0, 0, 0, 0, 0, 0, 0, 0, 0, 0, 0, 0, 0, 0, 0, 0, 0, 0, 0, 0, 0, 0, 0, 0, 0, 0, 0, 0, 0, 0, 0, 0, 0, 0, 0, 0, 0, 0, 0, 0, 0, 0, 0, 0, 0, 0, 0, 0, 0, 0, 0, 0, 0, 0, 0, 0, 0, 0, 0, 0, 0, 0, 0, 0, 0, 0, 0, 0, 0, 0, 0, 0, 0, 0, 0, 0, 0, 0, 0, 0, 0, 0, 0, 0, 0, 0, 0, 0, 0, 0, 0, 0, 0, 0, 0, 0, 0, 0, 0, 0, 0, 0, 0, 0, 0, 0, 0, 0, 0, 0, 0, 0, 0, 0, 0, 0, 0, 0, 0, 0, 0, 0, 0, 0, 0, 0, 0, 0, 0, 0, 0, 0, 0, 0, 0, 0, 0, 0, 0, 0, 0, 0, 0, 0, 0, 0, 0, 0, 0, 0, 0, 0, 0, 0, 0, 0, 0, 0, 0, 0, 0, 0, 0, 0, 0, 0, 0, 0, 0, 0, 0, 0, 0, 0, 0, 0, 0, 0, 0, 0, 0, 0, 0, 0, 0, 0, 0, 0, 0, 0, 0, 0, 0, 0, 0, 0, 0, 0, 0, 0, 0, 0, 0, 0, 0, 0, 0, 0, 0, 0, 0, 0, 0, 0, 0, 0, 0, 0, 0, 0, 0, 0, 0, 0, 0, 0, 0, 0, 0, 0, 0, 0, 0, 0, 0, 0, 0, 0, 0, 0, 0, 0, 0, 0, 0, 0, 0, 0, 0, 0, 0, 0, 0, 0, 0, 0, 0, 0, 0, 0, 0, 0, 0, 0, 0, 0, 0, 0, 0, 0, 0, 0, 0, 0, 0, 0, 0, 0, 0, 0, 0, 0, 0, 0, 0, 0, 0, 0, 1, 0, 0, 0, 0, 0, 0, 0, 0, 0, 0, 0, 0, 0, 0, 0, 0, 0, 0, 0, 0, 0, 0, 0, 0, 0, 0, 0, 0, 0, 0, 0, 0, 0, 0, 0, 2, 0, 0, 0, 0, 0, 0, 0, 0, 0, 0, 0, 0, 0, 0, 0, 0, 0, 0, 0, 0, 0, 0, 0, 0, 0, 0, 0, 0, 0, 0, 0, 0, 0, 0, 0, 0, 0, 0, 0, 0, 1, 0, 0, 0, 0, 0, 0, 0, 0, 0, 0, 0, 0, 0, 0, 0, 0, 0, 0, 0, 0, 0, 0, 0, 0, 0, 0, 0, 0, 0, 0, 0, 0, 0, 0, 0, 0, 0, 0, 0, 0, 0, 0, 0, 0, 0, 0, 0, 0, 0, 0, 0, 0, 0, 0, 0, 0, 0, 0, 0, 0, 0, 0, 0, 0, 0, 0, 0, 0, 0, 0, 0, 0, 0, 0, 0, 0, 0, 0, 0, 0, 0, 0, 0, 0, 0, 0, 0, 0, 0, 0, 0, 0, 0, 0, 0, 0, 0, 0, 0, 0, 0, 0, 0, 0, 0, 0, 0, 0, 0, 0, 0, 0, 0, 0, 0, 0, 0, 0, 0, 0, 0, 0, 0, 0, 0, 0, 0, 0, 0, 0, 0, 0, 0, 0, 0, 0, 0, 0, 0, 0, 0, 0, 0, 0, 0, 0, 0, 0, 0, 0, 0, 0, 0, 0, 0, 0, 0, 0, 0, 0, 0, 0, 0, 0, 0, 0, 0, 0, 0, 0, 0, 0, 0, 0, 0, 0, 0, 0, 0, 0, 0, 0, 0, 0, 0, 0, 0, 0, 0, 0, 0, 0, 0, 0, 0, 0, 0, 0, 0, 0, 0, 0, 0, 0, 0, 0, 0, 0, 0, 0, 0, 0, 0, 0, 0, 0, 0, 0, 0, 0, 0, 0, 0, 0, 0, 0, 0, 0, 0, 0, 0, 0, 0, 0, 0, 0, 0, 0, 0, 0, 0, 0, 0, 0, 0, 0, 0, 0, 0, 0, 0, 0, 0, 0, 0, 0, 0, 0, 0, 0, 0, 0, 0, 0, 0, 0, 0, 0, 0, 0, 0, 0, 0, 0, 0, 0, 0, 0, 0, 0, 0, 0, 0, 0, 0, 0, 0, 0, 0, 0, 0, 0, 0, 0, 0, 0, 0, 0, 0, 0, 0, 0, 0, 0, 0, 0, 0, 0, 0, 0, 0, 0, 0, 0, 0, 0, 0, 0, 0, 0, 0, 0, 0, 0, 0, 0, 0, 0, 0, 0, 0, 0, 0, 0, 0, 0, 0, 0, 0, 0, 0, 0, 0, 0, 0, 0, 0, 0, 0, 0, 0, 0, 0, 0, 0, 0, 0, 0, 0, 0, 0, 0, 0, 0, 0, 0, 0, 0, 0, 0, 0, 0, 0, 0, 0, 0, 0, 0, 0, 0, 0, 0, 0, 0, 0, 0, 0, 0, 0, 0, 0, 0, 0, 0, 0, 0, 0, 0, 0, 0, 0, 0, 0, 0, 0, 0, 0, 0, 0, 0, 0, 0, 0, 0, 0, 0, 0, 0, 0, 0, 0, 0, 0, 0, 0, 0, 0, 0, 0, 0, 0, 0, 0, 0, 0, 0, 0, 0, 0, 0, 0, 0, 0, 0, 0, 0, 0, 0, 0, 0, 0, 0, 0, 0, 0, 0, 0, 0, 0, 0, 0, 0, 0, 0, 0, 0, 0, 0, 0, 0, 0, 0, 0, 0, 0, 0, 0, 0, 0, 0, 0, 0, 0, 0, 0, 0, 0, 0, 0, 0, 0, 0, 0, 0, 0, 0, 0, 1, 0, 0, 0, 0, 0, 0, 0, 0, 0, 0, 0, 0, 0, 0, 0, 0, 0, 0, 0, 0, 0, 0, 0, 0, 0, 0, 0, 0, 0, 0, 0, 0, 0, 0, 0, 0, 0, 0, 0, 0, 0, 0, 0, 0, 0, 0, 0, 0, 0, 0, 0, 0, 0, 0, 0, 0, 0, 0, 0, 0, 0, 0, 0, 0, 0, 0, 0, 0, 0, 0, 0, 0, 0, 0, 0, 0, 0, 0, 0, 0, 0, 0, 0, 0, 0, 0, 0, 0, 0, 0, 0, 0, 0, 0, 0, 0, 0, 0, 0, 0, 0, 0, 0, 0, 0, 0, 0, 0, 0, 0, 2, 0, 0, 0, 0, 0, 0, 0, 0, 0, 0, 0, 0, 0, 0, 0, 0, 0, 0, 0, 0, 0, 0, 0, 0, 0, 0, 0, 0, 0, 0, 0, 0, 0, 0, 0, 0, 0, 0, 0, 0, 0, 0, 0, 0, 0, 0, 0, 0, 0, 0, 0, 0, 0, 0, 0, 0, 0, 0, 0, 0, 0, 0, 0, 0, 0, 0, 0, 0, 0, 0, 0, 0, 0, 0, 0, 0, 0, 0, 0, 0, 0, 0, 0, 0, 0, 0, 0, 0, 0, 0, 0, 0, 0, 0, 0, 0, 0, 0, 0, 0, 0, 0, 0, 0, 0, 0, 0, 0, 0, 0, 0, 0, 0, 0, 0, 0, 0, 0, 0, 0, 0, 0, 0, 0, 0, 0, 0, 0, 0, 0, 0, 0, 0, 0, 0, 0, 0, 0, 0, 0, 0, 0, 0, 0, 0, 0, 0, 0, 0, 0, 0, 0, 0, 0, 0, 0, 0, 0, 0, 0, 0, 0, 0, 0, 0, 0, 0, 0, 0, 0, 0, 0, 0, 0, 0, 0, 0, 0, 0, 0, 0, 0, 0, 0, 0, 0, 0, 0, 0, 0, 0, 0, 0, 0, 0, 0, 0, 0, 0, 0, 0, 0, 0, 0, 0, 0, 0, 0, 0, 0, 0, 0, 0, 0, 0, 0, 0, 0, 0, 0, 0, 0, 0, 0, 0, 0, 0, 0, 0, 0, 0, 0, 0, 0, 0, 0, 0, 0, 0, 0, 0, 0, 0, 0, 0, 0, 0, 0, 0, 0, 0, 0, 0, 0, 0, 0, 0, 0, 0, 0, 0, 0, 0, 0, 0, 0, 0, 0, 0, 0, 0, 0, 0, 0, 0, 0, 0, 0, 0, 0, 0, 0, 0, 0, 0, 0, 0, 0, 0, 0, 0, 0, 0, 0, 0, 0, 0, 0, 0, 0, 0, 0, 0, 0, 0, 0, 0, 0, 0, 0, 0, 0, 0, 0, 0, 0, 0, 0, 0, 0, 0, 0, 0, 0, 0, 0, 0, 0, 0, 0, 0, 0, 0, 0, 0, 0, 0, 0, 0, 0, 0, 0, 0, 0, 0, 0, 0, 0, 0, 0, 0, 0, 0, 0, 0, 0, 0, 0, 0, 0, 0, 0, 0, 0, 0, 0, 0, 0, 0, 0, 0, 0, 0, 0, 0, 0, 0, 0, 0, 0, 0, 0, 0, 0, 0, 0, 0, 0, 0, 0, 0, 0, 0, 0, 0, 0, 0, 0, 0, 0, 0, 0, 0, 0, 0, 0, 0, 0, 0, 0, 0, 0, 0, 0, 0, 0, 0, 0, 0, 0, 0, 0, 0, 0, 0, 0, 0, 0, 0, 0, 0, 0, 0, 0, 0, 0, 0, 0, 0, 0, 0, 0, 0, 0, 0, 0, 0, 0, 0, 0, 0, 0, 0, 0, 0, 0, 0, 0, 0, 0, 0, 0, 0, 0, 0, 0, 0, 0, 0, 0, 0, 0, 0, 0, 0, 0, 0, 0, 0, 0, 0, 0, 0, 0, 0, 0, 0, 0, 0, 0, 0, 0, 0, 0, 0, 0, 0, 0, 0, 0, 0, 0, 0, 0, 0, 0, 0, 0, 0, 0, 0, 0, 0, 0, 0, 0, 0, 0, 0, 0, 0, 0, 0, 0, 0, 0, 0, 0, 0, 0, 0, 0, 0, 0, 0, 0, 0, 0, 0, 0, 0, 0, 0, 0, 0, 0, 0, 0, 0, 0, 0, 0, 0, 0, 0, 0, 0, 0, 0, 0, 0, 0, 0, 0, 0, 0, 0, 0, 0, 0, 0, 0, 0, 0, 0, 0, 0, 0, 0, 0, 0, 0, 0, 0, 0, 0, 0, 0, 0, 0, 0, 0, 0, 0, 0, 0, 0, 0, 0, 0, 0, 0, 0, 0, 0, 0, 0, 0, 0, 0, 0, 0, 0, 0, 0, 0, 0, 0, 0, 0, 0, 0, 0, 0, 0, 0, 0, 0, 0, 0, 0, 0, 0, 0, 0, 0, 0, 0, 0, 0, 0, 0, 0, 0, 0, 0, 0, 0, 0, 0, 0, 0, 0, 0, 0, 0, 0, 0, 0, 0, 0, 0, 0, 0, 0, 0, 0, 0, 0, 0, 0, 0, 0, 0, 0, 0, 0, 0, 0, 0, 0, 0, 0, 0, 0, 0, 0, 0, 0, 0, 1, 0, 0, 0, 0, 0, 0, 0, 0, 0, 0, 0, 0, 0, 0, 0, 0, 0, 0, 0, 0, 0, 0, 0, 0, 0, 0, 0, 0, 0, 0, 0, 0, 0, 0, 0, 0, 0, 0, 0, 0, 0, 0, 0, 0, 0, 0, 0, 0, 0, 0, 0, 0, 0, 0, 0, 0, 0, 0, 0, 0, 0, 0, 0, 0, 0, 0, 0, 0, 0, 0, 0, 0, 0, 0, 0, 0, 0, 0, 0, 0, 0, 0, 0, 0, 0, 0, 0, 0, 0, 0, 0, 0, 0, 0, 0, 0, 0, 0, 0, 0, 0, 0, 0, 0, 0, 0, 0, 1, 0, 0, 0, 0, 0, 0, 0, 0, 0, 0, 0, 0, 0, 0, 0, 0, 0, 0, 0, 0, 0, 0, 0, 0, 0, 0, 0, 0, 0, 0, 0, 0, 0, 0, 0, 0, 0, 0, 0, 0, 0, 0, 0, 0, 0, 0, 0, 0, 0, 0, 0, 0, 0, 0, 0, 0, 0, 0, 0, 0, 0, 0, 0, 0, 0, 0, 0, 0, 0, 0, 0, 0, 0, 0, 0, 0, 0, 0, 0, 0, 0, 0, 0, 0, 0, 0, 0, 0, 0, 0, 0, 0, 0, 0, 0, 0, 0, 0, 0, 0, 0, 0, 0, 0, 0, 0, 0, 0, 0, 0, 0, 0, 0, 0, 0, 0, 0, 0, 0, 0, 0, 0, 0, 0, 0, 0, 0, 0, 0, 0, 0, 0, 0, 0, 0, 0, 0, 0, 0, 0, 0, 0, 0, 0, 0, 0, 0, 0, 0, 0, 0, 0, 0, 0, 0, 0, 0, 0, 0, 0, 0, 0, 0, 0, 0, 0, 0, 0, 0, 0, 0, 0, 0, 0, 0, 0, 0, 0, 0, 0, 0, 0, 0, 0, 0, 0, 0, 0, 0, 0, 0, 0, 0, 0, 0, 0, 0, 0, 0, 0, 0, 0, 0, 0, 0, 0, 0, 0, 0, 0, 0, 0, 0, 0, 0, 0, 0, 0, 0, 0, 0, 0, 0, 0, 0, 0, 0, 0, 0, 0, 0, 0, 0, 0, 0, 0, 0, 0, 0, 0, 0, 0, 0, 0, 0, 0, 0, 0, 0, 0, 0, 0, 0, 0, 0, 0, 0, 0, 0, 0, 0, 0, 0, 0, 0, 0, 0, 0, 0, 0, 0, 0, 0, 0, 0, 0, 0, 0, 0, 0, 0, 0, 0, 0, 0, 0, 0, 0, 0, 0, 0, 0, 0, 0, 0, 0, 0, 0, 0, 0, 0, 0, 0, 0, 0, 0, 0, 0, 0, 0, 0, 0, 0, 0, 0, 0, 0, 0, 0, 0, 0, 0, 0, 0, 0, 0, 0, 0, 0, 0, 0, 0, 0, 0, 0, 0, 0, 0, 0, 0, 0, 0, 0, 0, 0, 0, 0, 0, 0, 0, 0, 0, 0, 0, 0, 0, 0, 0, 0, 0, 0, 0, 0, 0, 0, 0, 0, 0, 0, 0, 0, 0, 0, 0, 0, 0, 0, 0, 0, 0, 0, 0, 0, 0, 0, 0, 0, 0, 0, 0, 0, 0, 0, 0, 0, 0, 0, 0, 0, 0, 0, 0, 0, 0, 0, 0, 0, 0, 0, 0, 0, 0, 0, 0, 0, 0, 0, 0, 0, 0, 0, 0, 0, 0, 0, 0, 0, 0, 0, 0, 0, 0, 0, 0, 0, 0, 0, 0, 0, 0, 0, 0, 0, 0, 0, 0, 0, 0, 0, 0, 0, 0, 0, 0, 0, 0, 0, 0, 0, 0, 0, 0, 0, 2, 0, 1, 0], type: <class 'list'>, valid types: <class 'bytes'>, <class 'bytearray'>, file-like object",
     "output_type": "error",
     "traceback": [
      "\u001b[0;31m---------------------------------------------------------------------------\u001b[0m",
      "\u001b[0;31mParamValidationError\u001b[0m                      Traceback (most recent call last)",
      "\u001b[0;32m<ipython-input-46-c9ab54ae3a48>\u001b[0m in \u001b[0;36m<module>\u001b[0;34m()\u001b[0m\n\u001b[1;32m      1\u001b[0m response = runtime.invoke_endpoint(EndpointName = xgb_predictor.endpoint, # The name of the endpoint we created\n\u001b[1;32m      2\u001b[0m                                        \u001b[0mContentType\u001b[0m \u001b[0;34m=\u001b[0m \u001b[0;34m'text/csv'\u001b[0m\u001b[0;34m,\u001b[0m                     \u001b[0;31m# The data format that is expected\u001b[0m\u001b[0;34m\u001b[0m\u001b[0m\n\u001b[0;32m----> 3\u001b[0;31m                                        Body = test_bow)\n\u001b[0m",
      "\u001b[0;32m~/anaconda3/envs/python3/lib/python3.6/site-packages/botocore/client.py\u001b[0m in \u001b[0;36m_api_call\u001b[0;34m(self, *args, **kwargs)\u001b[0m\n\u001b[1;32m    314\u001b[0m                     \"%s() only accepts keyword arguments.\" % py_operation_name)\n\u001b[1;32m    315\u001b[0m             \u001b[0;31m# The \"self\" in this scope is referring to the BaseClient.\u001b[0m\u001b[0;34m\u001b[0m\u001b[0;34m\u001b[0m\u001b[0m\n\u001b[0;32m--> 316\u001b[0;31m             \u001b[0;32mreturn\u001b[0m \u001b[0mself\u001b[0m\u001b[0;34m.\u001b[0m\u001b[0m_make_api_call\u001b[0m\u001b[0;34m(\u001b[0m\u001b[0moperation_name\u001b[0m\u001b[0;34m,\u001b[0m \u001b[0mkwargs\u001b[0m\u001b[0;34m)\u001b[0m\u001b[0;34m\u001b[0m\u001b[0m\n\u001b[0m\u001b[1;32m    317\u001b[0m \u001b[0;34m\u001b[0m\u001b[0m\n\u001b[1;32m    318\u001b[0m         \u001b[0m_api_call\u001b[0m\u001b[0;34m.\u001b[0m\u001b[0m__name__\u001b[0m \u001b[0;34m=\u001b[0m \u001b[0mstr\u001b[0m\u001b[0;34m(\u001b[0m\u001b[0mpy_operation_name\u001b[0m\u001b[0;34m)\u001b[0m\u001b[0;34m\u001b[0m\u001b[0m\n",
      "\u001b[0;32m~/anaconda3/envs/python3/lib/python3.6/site-packages/botocore/client.py\u001b[0m in \u001b[0;36m_make_api_call\u001b[0;34m(self, operation_name, api_params)\u001b[0m\n\u001b[1;32m    597\u001b[0m         }\n\u001b[1;32m    598\u001b[0m         request_dict = self._convert_to_request_dict(\n\u001b[0;32m--> 599\u001b[0;31m             api_params, operation_model, context=request_context)\n\u001b[0m\u001b[1;32m    600\u001b[0m \u001b[0;34m\u001b[0m\u001b[0m\n\u001b[1;32m    601\u001b[0m         \u001b[0mservice_id\u001b[0m \u001b[0;34m=\u001b[0m \u001b[0mself\u001b[0m\u001b[0;34m.\u001b[0m\u001b[0m_service_model\u001b[0m\u001b[0;34m.\u001b[0m\u001b[0mservice_id\u001b[0m\u001b[0;34m.\u001b[0m\u001b[0mhyphenize\u001b[0m\u001b[0;34m(\u001b[0m\u001b[0;34m)\u001b[0m\u001b[0;34m\u001b[0m\u001b[0m\n",
      "\u001b[0;32m~/anaconda3/envs/python3/lib/python3.6/site-packages/botocore/client.py\u001b[0m in \u001b[0;36m_convert_to_request_dict\u001b[0;34m(self, api_params, operation_model, context)\u001b[0m\n\u001b[1;32m    645\u001b[0m             api_params, operation_model, context)\n\u001b[1;32m    646\u001b[0m         request_dict = self._serializer.serialize_to_request(\n\u001b[0;32m--> 647\u001b[0;31m             api_params, operation_model)\n\u001b[0m\u001b[1;32m    648\u001b[0m         \u001b[0;32mif\u001b[0m \u001b[0;32mnot\u001b[0m \u001b[0mself\u001b[0m\u001b[0;34m.\u001b[0m\u001b[0m_client_config\u001b[0m\u001b[0;34m.\u001b[0m\u001b[0minject_host_prefix\u001b[0m\u001b[0;34m:\u001b[0m\u001b[0;34m\u001b[0m\u001b[0m\n\u001b[1;32m    649\u001b[0m             \u001b[0mrequest_dict\u001b[0m\u001b[0;34m.\u001b[0m\u001b[0mpop\u001b[0m\u001b[0;34m(\u001b[0m\u001b[0;34m'host_prefix'\u001b[0m\u001b[0;34m,\u001b[0m \u001b[0;32mNone\u001b[0m\u001b[0;34m)\u001b[0m\u001b[0;34m\u001b[0m\u001b[0m\n",
      "\u001b[0;32m~/anaconda3/envs/python3/lib/python3.6/site-packages/botocore/validate.py\u001b[0m in \u001b[0;36mserialize_to_request\u001b[0;34m(self, parameters, operation_model)\u001b[0m\n\u001b[1;32m    295\u001b[0m                                                     operation_model.input_shape)\n\u001b[1;32m    296\u001b[0m             \u001b[0;32mif\u001b[0m \u001b[0mreport\u001b[0m\u001b[0;34m.\u001b[0m\u001b[0mhas_errors\u001b[0m\u001b[0;34m(\u001b[0m\u001b[0;34m)\u001b[0m\u001b[0;34m:\u001b[0m\u001b[0;34m\u001b[0m\u001b[0m\n\u001b[0;32m--> 297\u001b[0;31m                 \u001b[0;32mraise\u001b[0m \u001b[0mParamValidationError\u001b[0m\u001b[0;34m(\u001b[0m\u001b[0mreport\u001b[0m\u001b[0;34m=\u001b[0m\u001b[0mreport\u001b[0m\u001b[0;34m.\u001b[0m\u001b[0mgenerate_report\u001b[0m\u001b[0;34m(\u001b[0m\u001b[0;34m)\u001b[0m\u001b[0;34m)\u001b[0m\u001b[0;34m\u001b[0m\u001b[0m\n\u001b[0m\u001b[1;32m    298\u001b[0m         return self._serializer.serialize_to_request(parameters,\n\u001b[1;32m    299\u001b[0m                                                      operation_model)\n",
      "\u001b[0;31mParamValidationError\u001b[0m: Parameter validation failed:\nInvalid type for parameter Body, value: [0, 0, 0, 0, 0, 0, 0, 0, 0, 0, 0, 0, 0, 0, 0, 0, 0, 0, 0, 0, 0, 0, 0, 0, 0, 0, 0, 0, 0, 0, 0, 0, 0, 0, 0, 0, 0, 0, 0, 0, 0, 0, 0, 0, 0, 0, 0, 0, 0, 0, 0, 0, 0, 0, 0, 0, 0, 0, 0, 0, 0, 0, 0, 0, 0, 0, 0, 0, 0, 0, 0, 0, 0, 0, 0, 0, 0, 0, 0, 0, 0, 0, 0, 0, 0, 0, 0, 0, 0, 0, 0, 0, 0, 0, 0, 0, 0, 0, 0, 0, 0, 0, 0, 0, 0, 0, 0, 0, 0, 0, 0, 0, 0, 0, 0, 0, 0, 0, 0, 0, 0, 0, 0, 0, 0, 0, 0, 0, 0, 0, 0, 0, 0, 0, 0, 0, 0, 0, 0, 0, 0, 0, 0, 0, 0, 0, 0, 0, 0, 0, 0, 0, 0, 0, 0, 0, 0, 0, 0, 0, 0, 0, 0, 0, 0, 0, 0, 0, 0, 0, 0, 0, 0, 0, 0, 0, 0, 0, 0, 0, 0, 0, 0, 0, 0, 0, 0, 0, 0, 0, 0, 0, 0, 0, 0, 0, 0, 0, 0, 0, 0, 0, 0, 0, 0, 0, 0, 0, 0, 0, 0, 0, 0, 0, 0, 0, 0, 0, 0, 0, 0, 0, 0, 0, 0, 0, 1, 0, 0, 0, 0, 0, 0, 0, 0, 0, 0, 0, 0, 0, 0, 0, 0, 0, 0, 0, 0, 0, 0, 0, 0, 0, 0, 0, 0, 0, 1, 0, 0, 0, 0, 0, 0, 0, 0, 0, 0, 0, 0, 0, 0, 0, 0, 0, 0, 0, 0, 0, 0, 0, 0, 0, 0, 0, 0, 0, 0, 0, 0, 0, 0, 0, 0, 0, 0, 0, 0, 0, 0, 0, 0, 0, 0, 0, 0, 0, 0, 0, 0, 0, 0, 0, 0, 0, 0, 0, 0, 0, 0, 0, 0, 0, 0, 0, 0, 0, 0, 0, 0, 0, 0, 0, 0, 0, 0, 0, 0, 0, 0, 0, 0, 0, 0, 0, 0, 0, 0, 0, 0, 0, 0, 0, 0, 0, 0, 0, 0, 0, 0, 0, 0, 0, 0, 0, 0, 0, 0, 0, 0, 0, 0, 0, 0, 0, 0, 0, 0, 0, 0, 0, 0, 0, 0, 0, 0, 0, 0, 0, 0, 0, 0, 0, 0, 0, 0, 0, 0, 0, 0, 0, 0, 0, 0, 0, 0, 0, 0, 0, 0, 0, 0, 0, 0, 0, 0, 0, 0, 0, 0, 0, 0, 0, 0, 0, 0, 0, 0, 0, 0, 0, 0, 0, 0, 0, 0, 0, 0, 0, 0, 0, 0, 0, 0, 0, 0, 0, 0, 0, 0, 0, 0, 0, 0, 0, 0, 0, 0, 0, 0, 0, 0, 0, 0, 0, 0, 0, 0, 0, 0, 0, 0, 0, 0, 0, 0, 0, 0, 0, 0, 0, 0, 0, 0, 0, 0, 0, 0, 0, 0, 0, 0, 0, 0, 0, 0, 0, 0, 0, 0, 0, 0, 0, 0, 0, 0, 0, 0, 0, 0, 0, 0, 0, 0, 0, 0, 0, 0, 0, 0, 0, 0, 0, 0, 0, 0, 0, 0, 0, 0, 0, 0, 0, 0, 0, 0, 0, 0, 0, 0, 0, 0, 0, 0, 0, 0, 0, 0, 0, 0, 0, 0, 0, 0, 0, 0, 0, 0, 0, 0, 0, 0, 0, 0, 0, 0, 0, 0, 0, 0, 0, 0, 0, 0, 0, 0, 0, 0, 0, 0, 0, 0, 0, 0, 0, 0, 0, 0, 0, 0, 0, 0, 0, 0, 0, 0, 0, 0, 0, 0, 0, 0, 0, 0, 0, 0, 0, 0, 0, 0, 0, 0, 0, 0, 0, 0, 0, 0, 0, 0, 0, 0, 0, 0, 0, 0, 0, 0, 0, 0, 0, 0, 0, 0, 0, 0, 0, 1, 0, 0, 0, 0, 0, 0, 0, 0, 0, 0, 0, 0, 0, 0, 0, 0, 0, 0, 0, 0, 0, 0, 0, 0, 0, 0, 0, 0, 0, 0, 0, 0, 0, 0, 0, 0, 0, 0, 0, 0, 0, 0, 0, 0, 0, 0, 0, 0, 0, 0, 0, 0, 0, 0, 0, 0, 0, 0, 0, 0, 0, 0, 0, 0, 0, 0, 0, 0, 0, 0, 0, 0, 0, 0, 0, 0, 0, 0, 0, 0, 0, 0, 0, 0, 0, 0, 0, 0, 0, 0, 0, 0, 0, 0, 0, 0, 0, 0, 0, 0, 0, 0, 0, 0, 0, 0, 0, 0, 0, 0, 0, 0, 0, 0, 0, 0, 0, 0, 0, 0, 0, 0, 0, 0, 0, 0, 0, 0, 0, 0, 0, 0, 0, 0, 0, 0, 0, 0, 0, 0, 0, 0, 0, 0, 0, 0, 0, 0, 0, 0, 0, 0, 0, 0, 0, 0, 0, 0, 0, 0, 0, 0, 0, 0, 0, 0, 0, 0, 0, 0, 0, 0, 0, 0, 0, 0, 0, 0, 0, 0, 0, 0, 0, 0, 0, 0, 0, 0, 0, 0, 0, 0, 0, 0, 0, 0, 0, 0, 0, 0, 0, 0, 0, 0, 0, 0, 0, 0, 0, 0, 0, 0, 0, 0, 0, 0, 0, 0, 0, 0, 0, 0, 0, 0, 0, 0, 0, 0, 0, 0, 0, 0, 0, 0, 0, 0, 0, 0, 0, 0, 0, 0, 0, 0, 0, 0, 0, 0, 0, 0, 0, 0, 0, 1, 0, 0, 0, 0, 0, 0, 0, 0, 0, 0, 0, 0, 0, 0, 0, 0, 0, 0, 0, 0, 0, 0, 0, 0, 0, 0, 0, 0, 0, 0, 0, 0, 0, 0, 0, 0, 0, 0, 0, 0, 0, 0, 0, 0, 0, 0, 0, 0, 0, 0, 0, 0, 0, 0, 0, 0, 0, 0, 0, 0, 0, 0, 0, 0, 0, 0, 0, 0, 0, 0, 0, 0, 0, 0, 0, 0, 0, 0, 0, 0, 0, 0, 0, 0, 0, 0, 1, 0, 0, 0, 0, 0, 0, 0, 0, 0, 0, 0, 0, 0, 0, 0, 0, 0, 0, 0, 0, 0, 0, 0, 0, 0, 0, 0, 0, 0, 0, 0, 0, 0, 0, 0, 0, 0, 0, 0, 0, 0, 0, 0, 0, 0, 0, 0, 0, 0, 0, 0, 0, 0, 0, 0, 0, 0, 0, 0, 0, 0, 0, 0, 0, 0, 0, 0, 0, 0, 0, 0, 0, 0, 0, 0, 0, 0, 0, 0, 0, 0, 0, 0, 0, 0, 0, 0, 0, 0, 0, 0, 0, 0, 0, 0, 0, 0, 0, 0, 0, 0, 0, 0, 0, 0, 0, 0, 0, 0, 0, 0, 0, 0, 0, 0, 0, 0, 0, 0, 0, 0, 0, 0, 0, 0, 0, 0, 0, 0, 0, 0, 0, 0, 0, 0, 0, 0, 0, 0, 0, 0, 0, 0, 0, 0, 0, 0, 0, 0, 0, 0, 0, 0, 0, 0, 0, 0, 0, 0, 0, 0, 0, 0, 0, 0, 0, 0, 0, 0, 0, 0, 0, 0, 0, 0, 0, 0, 0, 0, 0, 0, 0, 0, 0, 0, 0, 0, 0, 0, 0, 0, 0, 0, 0, 0, 0, 0, 0, 0, 0, 0, 0, 0, 0, 0, 0, 0, 0, 0, 0, 0, 0, 0, 0, 0, 0, 0, 0, 0, 0, 0, 0, 0, 0, 0, 0, 0, 0, 0, 0, 0, 0, 0, 0, 0, 0, 0, 0, 0, 0, 0, 0, 0, 0, 0, 0, 0, 0, 0, 0, 0, 0, 1, 0, 0, 0, 0, 0, 0, 0, 0, 0, 0, 0, 0, 0, 0, 0, 0, 0, 0, 0, 0, 0, 0, 0, 0, 0, 0, 0, 0, 0, 0, 0, 0, 0, 0, 0, 0, 0, 0, 0, 0, 0, 0, 0, 0, 0, 0, 0, 0, 0, 0, 0, 0, 0, 0, 0, 1, 0, 0, 0, 0, 0, 0, 0, 0, 0, 0, 0, 0, 0, 0, 0, 0, 0, 0, 0, 0, 0, 0, 0, 0, 0, 0, 0, 0, 0, 0, 0, 0, 0, 0, 0, 0, 0, 0, 0, 0, 0, 0, 0, 0, 0, 0, 0, 0, 0, 0, 0, 0, 0, 0, 0, 0, 0, 0, 0, 0, 0, 0, 0, 0, 0, 0, 0, 0, 0, 0, 0, 0, 0, 0, 0, 0, 0, 0, 0, 0, 0, 0, 0, 0, 0, 0, 0, 0, 0, 0, 0, 0, 0, 0, 0, 0, 0, 0, 0, 0, 0, 0, 0, 0, 0, 0, 0, 0, 0, 0, 0, 0, 0, 0, 0, 0, 0, 0, 0, 0, 0, 0, 0, 0, 0, 0, 0, 0, 0, 0, 0, 0, 0, 0, 0, 0, 0, 0, 0, 0, 0, 0, 0, 0, 0, 0, 0, 0, 0, 0, 0, 0, 0, 0, 0, 0, 0, 0, 0, 0, 0, 0, 0, 0, 0, 0, 0, 0, 0, 0, 0, 0, 0, 0, 0, 0, 0, 0, 0, 0, 0, 0, 0, 0, 0, 0, 0, 0, 0, 0, 0, 0, 0, 0, 0, 0, 0, 0, 0, 0, 0, 0, 0, 0, 0, 0, 0, 0, 0, 0, 0, 0, 0, 0, 0, 0, 0, 0, 0, 0, 0, 0, 0, 0, 0, 0, 0, 0, 0, 0, 0, 0, 0, 0, 0, 0, 0, 0, 0, 0, 0, 0, 0, 0, 0, 0, 0, 0, 0, 0, 0, 0, 0, 0, 0, 0, 0, 0, 0, 0, 0, 0, 0, 0, 0, 0, 0, 0, 0, 0, 0, 0, 0, 0, 0, 0, 0, 0, 0, 0, 0, 0, 0, 0, 0, 0, 0, 0, 0, 0, 0, 0, 0, 0, 0, 0, 0, 0, 0, 0, 0, 0, 0, 0, 0, 0, 0, 0, 0, 0, 0, 0, 0, 0, 0, 0, 0, 0, 0, 0, 0, 0, 0, 0, 0, 0, 0, 0, 0, 0, 0, 0, 0, 0, 0, 0, 0, 0, 0, 0, 0, 0, 0, 0, 0, 0, 0, 0, 0, 0, 0, 0, 0, 0, 0, 0, 0, 0, 0, 0, 0, 0, 0, 0, 0, 0, 0, 0, 0, 0, 0, 0, 0, 0, 0, 0, 0, 0, 0, 0, 0, 0, 0, 0, 0, 0, 0, 0, 0, 0, 0, 0, 0, 0, 0, 0, 0, 0, 0, 0, 0, 0, 0, 0, 0, 0, 0, 0, 0, 0, 0, 0, 0, 0, 0, 0, 0, 0, 0, 0, 0, 0, 0, 0, 0, 0, 0, 0, 0, 0, 0, 0, 0, 0, 0, 0, 0, 0, 0, 0, 0, 0, 0, 0, 0, 0, 0, 0, 0, 0, 0, 0, 0, 0, 0, 0, 0, 0, 0, 0, 0, 0, 0, 0, 0, 0, 0, 0, 0, 0, 0, 0, 0, 0, 0, 0, 0, 0, 0, 0, 0, 0, 0, 0, 0, 0, 0, 0, 0, 0, 0, 0, 0, 0, 0, 0, 0, 0, 0, 0, 0, 0, 0, 0, 0, 0, 0, 0, 0, 0, 0, 0, 0, 0, 0, 0, 0, 0, 0, 0, 0, 0, 0, 0, 0, 0, 0, 0, 0, 0, 0, 0, 0, 0, 0, 0, 0, 0, 0, 0, 0, 0, 0, 0, 0, 0, 0, 0, 0, 0, 0, 0, 0, 0, 0, 0, 0, 0, 0, 0, 0, 0, 0, 0, 0, 0, 0, 0, 0, 0, 0, 0, 0, 0, 0, 0, 0, 0, 0, 0, 0, 0, 0, 0, 0, 0, 0, 0, 0, 0, 0, 0, 0, 0, 0, 0, 0, 0, 0, 0, 0, 0, 0, 0, 0, 0, 0, 0, 0, 0, 0, 0, 0, 0, 0, 0, 0, 0, 0, 0, 0, 0, 0, 0, 0, 0, 0, 0, 0, 0, 0, 0, 0, 0, 0, 0, 0, 0, 0, 0, 0, 0, 0, 0, 0, 0, 0, 0, 0, 0, 0, 0, 0, 0, 0, 0, 0, 0, 0, 0, 0, 0, 0, 0, 0, 0, 0, 0, 0, 0, 0, 0, 0, 0, 0, 0, 0, 0, 0, 0, 0, 1, 0, 0, 0, 0, 0, 0, 0, 0, 0, 0, 0, 0, 0, 0, 0, 0, 0, 0, 0, 0, 0, 0, 0, 0, 0, 0, 0, 0, 0, 0, 0, 0, 0, 0, 0, 0, 0, 0, 0, 0, 0, 0, 0, 0, 0, 0, 0, 0, 0, 0, 0, 0, 0, 0, 0, 0, 0, 0, 0, 0, 0, 0, 0, 0, 0, 0, 0, 0, 0, 0, 0, 0, 0, 0, 1, 0, 0, 0, 0, 0, 0, 0, 0, 0, 0, 0, 0, 0, 0, 0, 0, 0, 0, 0, 0, 1, 0, 0, 1, 0, 0, 0, 0, 0, 0, 0, 0, 0, 0, 0, 0, 0, 0, 0, 0, 0, 0, 0, 0, 0, 0, 0, 0, 0, 0, 0, 0, 0, 0, 0, 0, 0, 0, 0, 0, 0, 0, 0, 0, 0, 0, 0, 0, 0, 0, 0, 0, 0, 0, 0, 0, 0, 0, 0, 0, 0, 0, 0, 0, 0, 0, 0, 0, 0, 0, 0, 0, 0, 0, 0, 0, 0, 0, 0, 0, 0, 0, 0, 0, 0, 0, 0, 0, 0, 0, 0, 0, 0, 0, 0, 0, 0, 0, 0, 0, 0, 0, 0, 0, 0, 0, 0, 0, 0, 0, 0, 0, 0, 0, 0, 0, 0, 0, 0, 0, 0, 0, 0, 0, 0, 0, 0, 0, 0, 0, 0, 0, 0, 0, 0, 0, 0, 0, 0, 0, 0, 0, 0, 0, 0, 0, 0, 0, 0, 0, 0, 0, 0, 0, 0, 0, 0, 0, 0, 0, 0, 0, 0, 0, 0, 0, 0, 0, 0, 0, 0, 0, 0, 0, 0, 0, 0, 0, 0, 0, 0, 0, 0, 0, 0, 0, 0, 0, 0, 0, 0, 0, 0, 0, 0, 0, 0, 0, 0, 0, 0, 0, 0, 0, 0, 0, 0, 0, 0, 0, 0, 0, 0, 0, 0, 0, 0, 0, 0, 0, 0, 0, 0, 0, 0, 0, 0, 0, 0, 0, 0, 0, 0, 0, 0, 0, 0, 0, 0, 0, 0, 0, 0, 0, 0, 0, 0, 0, 0, 0, 0, 0, 0, 0, 0, 0, 0, 0, 0, 0, 0, 0, 0, 0, 0, 0, 0, 0, 0, 0, 0, 0, 0, 0, 0, 0, 0, 0, 0, 0, 0, 0, 0, 0, 0, 0, 0, 0, 0, 0, 0, 0, 0, 0, 0, 0, 0, 0, 0, 0, 0, 0, 0, 0, 0, 0, 0, 0, 0, 0, 0, 0, 0, 0, 0, 0, 0, 0, 0, 0, 0, 0, 0, 0, 0, 0, 0, 0, 0, 0, 0, 0, 0, 0, 0, 0, 0, 0, 0, 0, 0, 0, 0, 0, 0, 0, 0, 0, 0, 0, 0, 0, 0, 0, 0, 0, 0, 0, 0, 0, 0, 0, 0, 0, 0, 0, 0, 0, 0, 0, 0, 0, 0, 0, 0, 0, 0, 0, 0, 0, 0, 0, 0, 0, 0, 0, 0, 0, 0, 0, 0, 0, 0, 0, 0, 0, 0, 0, 0, 0, 0, 0, 0, 0, 0, 0, 0, 0, 0, 0, 0, 0, 0, 0, 0, 0, 0, 0, 0, 0, 0, 0, 0, 0, 0, 0, 0, 0, 0, 0, 0, 0, 0, 0, 0, 0, 0, 0, 0, 0, 0, 0, 0, 0, 0, 0, 0, 0, 0, 0, 0, 0, 0, 0, 0, 0, 0, 0, 0, 0, 0, 0, 0, 0, 0, 0, 0, 0, 0, 0, 1, 0, 0, 0, 0, 0, 0, 0, 0, 0, 0, 0, 0, 0, 0, 0, 0, 0, 0, 0, 0, 0, 0, 0, 0, 0, 0, 0, 0, 0, 0, 0, 0, 0, 0, 0, 0, 0, 0, 0, 0, 0, 0, 0, 0, 0, 0, 0, 0, 0, 0, 0, 0, 0, 0, 0, 0, 0, 0, 0, 0, 0, 0, 0, 0, 0, 0, 0, 0, 0, 0, 0, 0, 0, 0, 0, 0, 0, 0, 0, 0, 0, 0, 0, 0, 0, 0, 0, 0, 0, 0, 0, 0, 0, 0, 0, 0, 0, 0, 0, 0, 0, 0, 0, 0, 0, 0, 0, 0, 0, 0, 0, 0, 0, 0, 0, 0, 0, 0, 0, 0, 0, 0, 0, 0, 0, 0, 0, 0, 0, 0, 0, 0, 0, 0, 0, 0, 0, 0, 0, 0, 0, 0, 0, 0, 0, 0, 0, 0, 0, 0, 0, 0, 0, 0, 0, 0, 0, 0, 0, 0, 0, 0, 0, 0, 0, 0, 0, 0, 0, 0, 0, 0, 0, 0, 0, 0, 0, 0, 0, 0, 0, 0, 0, 0, 0, 0, 0, 0, 0, 0, 0, 0, 0, 0, 0, 0, 0, 0, 0, 0, 0, 0, 0, 0, 0, 0, 0, 0, 0, 0, 0, 0, 0, 0, 0, 0, 0, 0, 0, 0, 0, 0, 0, 0, 0, 0, 0, 0, 0, 0, 0, 0, 0, 0, 0, 0, 0, 0, 0, 0, 0, 0, 0, 0, 0, 0, 0, 0, 0, 0, 0, 0, 0, 0, 0, 0, 0, 0, 0, 0, 0, 0, 0, 0, 0, 0, 0, 0, 0, 0, 0, 0, 0, 0, 0, 0, 0, 0, 0, 0, 0, 0, 0, 0, 0, 0, 0, 0, 0, 0, 0, 0, 0, 0, 0, 0, 0, 0, 0, 0, 0, 0, 0, 0, 0, 0, 0, 0, 0, 0, 0, 0, 0, 0, 0, 0, 0, 0, 0, 0, 0, 0, 0, 0, 0, 0, 0, 0, 0, 0, 0, 0, 0, 0, 0, 0, 0, 0, 0, 0, 0, 0, 0, 0, 0, 0, 0, 0, 0, 0, 0, 0, 0, 0, 0, 0, 0, 0, 0, 0, 0, 0, 0, 0, 0, 0, 0, 0, 0, 0, 0, 0, 0, 0, 0, 0, 0, 0, 0, 0, 0, 0, 0, 0, 0, 0, 0, 0, 0, 0, 0, 0, 0, 0, 0, 0, 0, 0, 0, 0, 0, 0, 0, 0, 0, 0, 0, 0, 0, 0, 0, 0, 0, 0, 0, 0, 0, 0, 0, 0, 0, 0, 0, 0, 0, 0, 0, 0, 0, 0, 0, 0, 0, 0, 0, 0, 0, 0, 0, 0, 0, 0, 0, 0, 0, 0, 0, 0, 0, 0, 0, 0, 0, 0, 0, 0, 0, 0, 0, 0, 0, 0, 0, 0, 0, 0, 0, 0, 0, 0, 0, 0, 0, 0, 0, 0, 0, 0, 0, 0, 0, 0, 0, 0, 0, 0, 0, 0, 0, 0, 0, 0, 0, 0, 0, 0, 0, 0, 0, 0, 0, 0, 0, 0, 0, 0, 0, 0, 0, 0, 0, 0, 1, 0, 0, 0, 0, 0, 0, 0, 0, 0, 0, 0, 0, 0, 0, 0, 0, 0, 0, 0, 0, 0, 0, 0, 0, 0, 0, 0, 0, 0, 0, 0, 0, 0, 0, 0, 2, 0, 0, 0, 0, 0, 0, 0, 0, 0, 0, 0, 0, 0, 0, 0, 0, 0, 0, 0, 0, 0, 0, 0, 0, 0, 0, 0, 0, 0, 0, 0, 0, 0, 0, 0, 0, 0, 0, 0, 0, 1, 0, 0, 0, 0, 0, 0, 0, 0, 0, 0, 0, 0, 0, 0, 0, 0, 0, 0, 0, 0, 0, 0, 0, 0, 0, 0, 0, 0, 0, 0, 0, 0, 0, 0, 0, 0, 0, 0, 0, 0, 0, 0, 0, 0, 0, 0, 0, 0, 0, 0, 0, 0, 0, 0, 0, 0, 0, 0, 0, 0, 0, 0, 0, 0, 0, 0, 0, 0, 0, 0, 0, 0, 0, 0, 0, 0, 0, 0, 0, 0, 0, 0, 0, 0, 0, 0, 0, 0, 0, 0, 0, 0, 0, 0, 0, 0, 0, 0, 0, 0, 0, 0, 0, 0, 0, 0, 0, 0, 0, 0, 0, 0, 0, 0, 0, 0, 0, 0, 0, 0, 0, 0, 0, 0, 0, 0, 0, 0, 0, 0, 0, 0, 0, 0, 0, 0, 0, 0, 0, 0, 0, 0, 0, 0, 0, 0, 0, 0, 0, 0, 0, 0, 0, 0, 0, 0, 0, 0, 0, 0, 0, 0, 0, 0, 0, 0, 0, 0, 0, 0, 0, 0, 0, 0, 0, 0, 0, 0, 0, 0, 0, 0, 0, 0, 0, 0, 0, 0, 0, 0, 0, 0, 0, 0, 0, 0, 0, 0, 0, 0, 0, 0, 0, 0, 0, 0, 0, 0, 0, 0, 0, 0, 0, 0, 0, 0, 0, 0, 0, 0, 0, 0, 0, 0, 0, 0, 0, 0, 0, 0, 0, 0, 0, 0, 0, 0, 0, 0, 0, 0, 0, 0, 0, 0, 0, 0, 0, 0, 0, 0, 0, 0, 0, 0, 0, 0, 0, 0, 0, 0, 0, 0, 0, 0, 0, 0, 0, 0, 0, 0, 0, 0, 0, 0, 0, 0, 0, 0, 0, 0, 0, 0, 0, 0, 0, 0, 0, 0, 0, 0, 0, 0, 0, 0, 0, 0, 0, 0, 0, 0, 0, 0, 0, 0, 0, 0, 0, 0, 0, 0, 0, 0, 0, 0, 0, 0, 0, 0, 0, 0, 0, 0, 0, 0, 0, 0, 0, 0, 0, 0, 0, 0, 0, 0, 0, 0, 0, 0, 0, 0, 0, 0, 0, 0, 0, 0, 0, 0, 0, 0, 0, 0, 0, 0, 0, 0, 0, 0, 0, 0, 0, 0, 0, 0, 0, 0, 0, 0, 0, 0, 0, 0, 0, 0, 0, 0, 0, 0, 0, 0, 0, 0, 0, 0, 0, 0, 0, 0, 0, 0, 0, 0, 0, 0, 0, 0, 0, 0, 0, 0, 0, 0, 0, 0, 0, 0, 0, 0, 0, 0, 0, 0, 0, 0, 0, 0, 0, 0, 0, 0, 0, 0, 0, 0, 0, 0, 0, 0, 0, 0, 0, 0, 0, 0, 0, 0, 0, 0, 0, 0, 0, 0, 0, 0, 0, 0, 0, 0, 0, 0, 0, 0, 0, 0, 0, 0, 0, 0, 0, 0, 0, 0, 0, 0, 0, 0, 0, 0, 0, 0, 0, 0, 0, 0, 0, 0, 0, 0, 0, 0, 0, 0, 0, 0, 0, 0, 0, 0, 0, 0, 0, 0, 0, 0, 0, 0, 0, 1, 0, 0, 0, 0, 0, 0, 0, 0, 0, 0, 0, 0, 0, 0, 0, 0, 0, 0, 0, 0, 0, 0, 0, 0, 0, 0, 0, 0, 0, 0, 0, 0, 0, 0, 0, 0, 0, 0, 0, 0, 0, 0, 0, 0, 0, 0, 0, 0, 0, 0, 0, 0, 0, 0, 0, 0, 0, 0, 0, 0, 0, 0, 0, 0, 0, 0, 0, 0, 0, 0, 0, 0, 0, 0, 0, 0, 0, 0, 0, 0, 0, 0, 0, 0, 0, 0, 0, 0, 0, 0, 0, 0, 0, 0, 0, 0, 0, 0, 0, 0, 0, 0, 0, 0, 0, 0, 0, 0, 0, 0, 2, 0, 0, 0, 0, 0, 0, 0, 0, 0, 0, 0, 0, 0, 0, 0, 0, 0, 0, 0, 0, 0, 0, 0, 0, 0, 0, 0, 0, 0, 0, 0, 0, 0, 0, 0, 0, 0, 0, 0, 0, 0, 0, 0, 0, 0, 0, 0, 0, 0, 0, 0, 0, 0, 0, 0, 0, 0, 0, 0, 0, 0, 0, 0, 0, 0, 0, 0, 0, 0, 0, 0, 0, 0, 0, 0, 0, 0, 0, 0, 0, 0, 0, 0, 0, 0, 0, 0, 0, 0, 0, 0, 0, 0, 0, 0, 0, 0, 0, 0, 0, 0, 0, 0, 0, 0, 0, 0, 0, 0, 0, 0, 0, 0, 0, 0, 0, 0, 0, 0, 0, 0, 0, 0, 0, 0, 0, 0, 0, 0, 0, 0, 0, 0, 0, 0, 0, 0, 0, 0, 0, 0, 0, 0, 0, 0, 0, 0, 0, 0, 0, 0, 0, 0, 0, 0, 0, 0, 0, 0, 0, 0, 0, 0, 0, 0, 0, 0, 0, 0, 0, 0, 0, 0, 0, 0, 0, 0, 0, 0, 0, 0, 0, 0, 0, 0, 0, 0, 0, 0, 0, 0, 0, 0, 0, 0, 0, 0, 0, 0, 0, 0, 0, 0, 0, 0, 0, 0, 0, 0, 0, 0, 0, 0, 0, 0, 0, 0, 0, 0, 0, 0, 0, 0, 0, 0, 0, 0, 0, 0, 0, 0, 0, 0, 0, 0, 0, 0, 0, 0, 0, 0, 0, 0, 0, 0, 0, 0, 0, 0, 0, 0, 0, 0, 0, 0, 0, 0, 0, 0, 0, 0, 0, 0, 0, 0, 0, 0, 0, 0, 0, 0, 0, 0, 0, 0, 0, 0, 0, 0, 0, 0, 0, 0, 0, 0, 0, 0, 0, 0, 0, 0, 0, 0, 0, 0, 0, 0, 0, 0, 0, 0, 0, 0, 0, 0, 0, 0, 0, 0, 0, 0, 0, 0, 0, 0, 0, 0, 0, 0, 0, 0, 0, 0, 0, 0, 0, 0, 0, 0, 0, 0, 0, 0, 0, 0, 0, 0, 0, 0, 0, 0, 0, 0, 0, 0, 0, 0, 0, 0, 0, 0, 0, 0, 0, 0, 0, 0, 0, 0, 0, 0, 0, 0, 0, 0, 0, 0, 0, 0, 0, 0, 0, 0, 0, 0, 0, 0, 0, 0, 0, 0, 0, 0, 0, 0, 0, 0, 0, 0, 0, 0, 0, 0, 0, 0, 0, 0, 0, 0, 0, 0, 0, 0, 0, 0, 0, 0, 0, 0, 0, 0, 0, 0, 0, 0, 0, 0, 0, 0, 0, 0, 0, 0, 0, 0, 0, 0, 0, 0, 0, 0, 0, 0, 0, 0, 0, 0, 0, 0, 0, 0, 0, 0, 0, 0, 0, 0, 0, 0, 0, 0, 0, 0, 0, 0, 0, 0, 0, 0, 0, 0, 0, 0, 0, 0, 0, 0, 0, 0, 0, 0, 0, 0, 0, 0, 0, 0, 0, 0, 0, 0, 0, 0, 0, 0, 0, 0, 0, 0, 0, 0, 0, 0, 0, 0, 0, 0, 0, 0, 0, 0, 0, 0, 0, 0, 0, 0, 0, 0, 0, 0, 0, 0, 0, 0, 0, 0, 0, 0, 0, 0, 0, 0, 0, 0, 0, 0, 0, 0, 0, 0, 0, 0, 0, 0, 0, 0, 0, 0, 0, 0, 0, 0, 0, 0, 0, 0, 0, 0, 0, 0, 0, 0, 0, 0, 0, 0, 0, 0, 0, 0, 0, 0, 0, 0, 0, 0, 0, 0, 0, 0, 0, 0, 0, 0, 0, 0, 0, 0, 0, 0, 0, 0, 0, 0, 0, 0, 0, 0, 0, 0, 0, 0, 0, 0, 0, 0, 0, 0, 0, 0, 0, 0, 0, 0, 0, 0, 0, 0, 0, 0, 0, 0, 0, 0, 0, 0, 0, 0, 0, 0, 0, 0, 0, 0, 0, 0, 0, 0, 0, 0, 0, 0, 0, 0, 0, 0, 0, 0, 0, 0, 0, 0, 0, 0, 0, 0, 0, 0, 0, 0, 0, 0, 0, 0, 0, 0, 0, 0, 0, 0, 0, 0, 0, 0, 0, 0, 0, 0, 0, 0, 0, 0, 0, 0, 0, 0, 0, 0, 0, 0, 0, 0, 0, 0, 0, 0, 0, 0, 0, 1, 0, 0, 0, 0, 0, 0, 0, 0, 0, 0, 0, 0, 0, 0, 0, 0, 0, 0, 0, 0, 0, 0, 0, 0, 0, 0, 0, 0, 0, 0, 0, 0, 0, 0, 0, 0, 0, 0, 0, 0, 0, 0, 0, 0, 0, 0, 0, 0, 0, 0, 0, 0, 0, 0, 0, 0, 0, 0, 0, 0, 0, 0, 0, 0, 0, 0, 0, 0, 0, 0, 0, 0, 0, 0, 0, 0, 0, 0, 0, 0, 0, 0, 0, 0, 0, 0, 0, 0, 0, 0, 0, 0, 0, 0, 0, 0, 0, 0, 0, 0, 0, 0, 0, 0, 0, 0, 0, 1, 0, 0, 0, 0, 0, 0, 0, 0, 0, 0, 0, 0, 0, 0, 0, 0, 0, 0, 0, 0, 0, 0, 0, 0, 0, 0, 0, 0, 0, 0, 0, 0, 0, 0, 0, 0, 0, 0, 0, 0, 0, 0, 0, 0, 0, 0, 0, 0, 0, 0, 0, 0, 0, 0, 0, 0, 0, 0, 0, 0, 0, 0, 0, 0, 0, 0, 0, 0, 0, 0, 0, 0, 0, 0, 0, 0, 0, 0, 0, 0, 0, 0, 0, 0, 0, 0, 0, 0, 0, 0, 0, 0, 0, 0, 0, 0, 0, 0, 0, 0, 0, 0, 0, 0, 0, 0, 0, 0, 0, 0, 0, 0, 0, 0, 0, 0, 0, 0, 0, 0, 0, 0, 0, 0, 0, 0, 0, 0, 0, 0, 0, 0, 0, 0, 0, 0, 0, 0, 0, 0, 0, 0, 0, 0, 0, 0, 0, 0, 0, 0, 0, 0, 0, 0, 0, 0, 0, 0, 0, 0, 0, 0, 0, 0, 0, 0, 0, 0, 0, 0, 0, 0, 0, 0, 0, 0, 0, 0, 0, 0, 0, 0, 0, 0, 0, 0, 0, 0, 0, 0, 0, 0, 0, 0, 0, 0, 0, 0, 0, 0, 0, 0, 0, 0, 0, 0, 0, 0, 0, 0, 0, 0, 0, 0, 0, 0, 0, 0, 0, 0, 0, 0, 0, 0, 0, 0, 0, 0, 0, 0, 0, 0, 0, 0, 0, 0, 0, 0, 0, 0, 0, 0, 0, 0, 0, 0, 0, 0, 0, 0, 0, 0, 0, 0, 0, 0, 0, 0, 0, 0, 0, 0, 0, 0, 0, 0, 0, 0, 0, 0, 0, 0, 0, 0, 0, 0, 0, 0, 0, 0, 0, 0, 0, 0, 0, 0, 0, 0, 0, 0, 0, 0, 0, 0, 0, 0, 0, 0, 0, 0, 0, 0, 0, 0, 0, 0, 0, 0, 0, 0, 0, 0, 0, 0, 0, 0, 0, 0, 0, 0, 0, 0, 0, 0, 0, 0, 0, 0, 0, 0, 0, 0, 0, 0, 0, 0, 0, 0, 0, 0, 0, 0, 0, 0, 0, 0, 0, 0, 0, 0, 0, 0, 0, 0, 0, 0, 0, 0, 0, 0, 0, 0, 0, 0, 0, 0, 0, 0, 0, 0, 0, 0, 0, 0, 0, 0, 0, 0, 0, 0, 0, 0, 0, 0, 0, 0, 0, 0, 0, 0, 0, 0, 0, 0, 0, 0, 0, 0, 0, 0, 0, 0, 0, 0, 0, 0, 0, 0, 0, 0, 0, 0, 0, 0, 0, 0, 0, 0, 0, 0, 0, 0, 0, 0, 0, 0, 0, 0, 0, 0, 0, 0, 0, 0, 0, 0, 0, 0, 0, 0, 0, 0, 0, 0, 0, 0, 0, 0, 0, 0, 0, 0, 0, 0, 0, 0, 0, 0, 0, 0, 0, 0, 0, 2, 0, 1, 0], type: <class 'list'>, valid types: <class 'bytes'>, <class 'bytearray'>, file-like object"
     ]
    }
   ],
   "source": [
    "response = runtime.invoke_endpoint(EndpointName = xgb_predictor.endpoint, # The name of the endpoint we created\n",
    "                                       ContentType = 'text/csv',                     # The data format that is expected\n",
    "                                       Body = test_bow)"
   ]
  },
  {
   "cell_type": "markdown",
   "metadata": {},
   "source": [
    "So why did we get an error?\n",
    "\n",
    "Because we tried to send the endpoint a list of integers but it expected us to send data of type `text/csv`. So, we need to convert it."
   ]
  },
  {
   "cell_type": "code",
   "execution_count": 47,
   "metadata": {},
   "outputs": [],
   "source": [
    "response = runtime.invoke_endpoint(EndpointName = xgb_predictor.endpoint, # The name of the endpoint we created\n",
    "                                       ContentType = 'text/csv',                     # The data format that is expected\n",
    "                                       Body = ','.join([str(val) for val in test_bow]).encode('utf-8'))"
   ]
  },
  {
   "cell_type": "code",
   "execution_count": 48,
   "metadata": {},
   "outputs": [
    {
     "name": "stdout",
     "output_type": "stream",
     "text": [
      "{'ResponseMetadata': {'RequestId': '6e9a09d1-7f50-48bc-ad49-f8c441fd3b21', 'HTTPStatusCode': 200, 'HTTPHeaders': {'x-amzn-requestid': '6e9a09d1-7f50-48bc-ad49-f8c441fd3b21', 'x-amzn-invoked-production-variant': 'AllTraffic', 'date': 'Mon, 11 May 2020 06:25:57 GMT', 'content-type': 'text/csv; charset=utf-8', 'content-length': '13'}, 'RetryAttempts': 0}, 'ContentType': 'text/csv; charset=utf-8', 'InvokedProductionVariant': 'AllTraffic', 'Body': <botocore.response.StreamingBody object at 0x7fbfdffa2828>}\n"
     ]
    }
   ],
   "source": [
    "print(response)"
   ]
  },
  {
   "cell_type": "markdown",
   "metadata": {},
   "source": [
    "As we can see, the response from our model is a somewhat complicated looking dict that contains a bunch of information. The bit that we are most interested in is `'Body'` object which is a streaming object that we need to `read` in order to make use of."
   ]
  },
  {
   "cell_type": "code",
   "execution_count": 49,
   "metadata": {},
   "outputs": [
    {
     "name": "stdout",
     "output_type": "stream",
     "text": [
      "0.45488268137\n"
     ]
    }
   ],
   "source": [
    "response = response['Body'].read().decode('utf-8')\n",
    "print(response)"
   ]
  },
  {
   "cell_type": "markdown",
   "metadata": {},
   "source": [
    "Now that we know how to process the incoming user data we can start setting up the infrastructure to make our simple web app work. To do this we will make use of two different services. Amazon's Lambda and API Gateway services.\n",
    "\n",
    "Lambda is a service which allows someone to write some relatively simple code and have it executed whenever a chosen trigger occurs. For example, you may want to update a database whenever new data is uploaded to a folder stored on S3.\n",
    "\n",
    "API Gateway is a service that allows you to create HTTP endpoints (url addresses) which are connected to other AWS services. One of the benefits to this is that you get to decide what credentials, if any, are required to access these endpoints.\n",
    "\n",
    "In our case we are going to set up an HTTP endpoint through API Gateway which is open to the public. Then, whenever anyone sends data to our public endpoint we will trigger a Lambda function which will send the input (in our case a review) to our model's endpoint and then return the result."
   ]
  },
  {
   "cell_type": "markdown",
   "metadata": {},
   "source": [
    "### Setting up a Lambda function\n",
    "\n",
    "The first thing we are going to do is set up a Lambda function. This Lambda function will be executed whenever our public API has data sent to it. When it is executed it will receive the data, perform any sort of processing that is required, send the data (the review) to the SageMaker endpoint we've created and then return the result.\n",
    "\n",
    "#### Part A: Create an IAM Role for the Lambda function\n",
    "\n",
    "Since we want the Lambda function to call a SageMaker endpoint, we need to make sure that it has permission to do so. To do this, we will construct a role that we can later give the Lambda function.\n",
    "\n",
    "Using the AWS Console, navigate to the **IAM** page and click on **Roles**. Then, click on **Create role**. Make sure that the **AWS service** is the type of trusted entity selected and choose **Lambda** as the service that will use this role, then click **Next: Permissions**.\n",
    "\n",
    "In the search box type `sagemaker` and select the check box next to the **AmazonSageMakerFullAccess** policy. Then, click on **Next: Review**.\n",
    "\n",
    "Lastly, give this role a name. Make sure you use a name that you will remember later on, for example `LambdaSageMakerRole`. Then, click on **Create role**."
   ]
  },
  {
   "cell_type": "markdown",
   "metadata": {},
   "source": [
    "#### Part B: Create a Lambda function\n",
    "\n",
    "Now it is time to actually create the Lambda function. Remember from earlier that in order to process the user provided input and send it to our endpoint we need to gather two pieces of information:\n",
    "\n",
    " - The name of the endpoint, and\n",
    " - the vocabulary object.\n",
    "\n",
    "We will copy these pieces of information to our Lambda function after we create it.\n",
    "\n",
    "To start, using the AWS Console, navigate to the AWS Lambda page and click on **Create a function**. When you get to the next page, make sure that **Author from scratch** is selected. Now, name your Lambda function, using a name that you will remember later on, for example `sentiment_analysis_xgboost_func`. Make sure that the **Python 3.6** runtime is selected and then choose the role that you created in the previous part. Then, click on **Create Function**.\n",
    "\n",
    "On the next page you will see some information about the Lambda function you've just created. If you scroll down you should see an editor in which you can write the code that will be executed when your Lambda function is triggered. Collecting the code we wrote above to process a single review and adding it to the provided example `lambda_handler` we arrive at the following.\n",
    "\n",
    "```python\n",
    "# We need to use the low-level library to interact with SageMaker since the SageMaker API\n",
    "# is not available natively through Lambda.\n",
    "import boto3\n",
    "\n",
    "# And we need the regular expression library to do some of the data processing\n",
    "import re\n",
    "\n",
    "REPLACE_NO_SPACE = re.compile(\"(\\.)|(\\;)|(\\:)|(\\!)|(\\')|(\\?)|(\\,)|(\\\")|(\\()|(\\))|(\\[)|(\\])\")\n",
    "REPLACE_WITH_SPACE = re.compile(\"(<br\\s*/><br\\s*/>)|(\\-)|(\\/)\")\n",
    "\n",
    "def review_to_words(review):\n",
    "    words = REPLACE_NO_SPACE.sub(\"\", review.lower())\n",
    "    words = REPLACE_WITH_SPACE.sub(\" \", words)\n",
    "    return words\n",
    "    \n",
    "def bow_encoding(words, vocabulary):\n",
    "    bow = [0] * len(vocabulary) # Start by setting the count for each word in the vocabulary to zero.\n",
    "    for word in words.split():  # For each word in the string\n",
    "        if word in vocabulary:  # If the word is one that occurs in the vocabulary, increase its count.\n",
    "            bow[vocabulary[word]] += 1\n",
    "    return bow\n",
    "\n",
    "\n",
    "def lambda_handler(event, context):\n",
    "    \n",
    "    vocab = \"*** ACTUAL VOCABULARY GOES HERE ***\"\n",
    "    \n",
    "    words = review_to_words(event['body'])\n",
    "    bow = bow_encoding(words, vocab)\n",
    "\n",
    "    # The SageMaker runtime is what allows us to invoke the endpoint that we've created.\n",
    "    runtime = boto3.Session().client('sagemaker-runtime')\n",
    "\n",
    "    # Now we use the SageMaker runtime to invoke our endpoint, sending the review we were given\n",
    "    response = runtime.invoke_endpoint(EndpointName = '***ENDPOINT NAME HERE***',# The name of the endpoint we created\n",
    "                                       ContentType = 'text/csv',                 # The data format that is expected\n",
    "                                       Body = ','.join([str(val) for val in bow]).encode('utf-8')) # The actual review\n",
    "\n",
    "    # The response is an HTTP response whose body contains the result of our inference\n",
    "    result = response['Body'].read().decode('utf-8')\n",
    "    \n",
    "    # Round the result so that our web app only gets '1' or '0' as a response.\n",
    "    result = round(float(result))\n",
    "\n",
    "    return {\n",
    "        'statusCode' : 200,\n",
    "        'headers' : { 'Content-Type' : 'text/plain', 'Access-Control-Allow-Origin' : '*' },\n",
    "        'body' : str(result)\n",
    "    }\n",
    "```"
   ]
  },
  {
   "cell_type": "markdown",
   "metadata": {},
   "source": [
    "Once you have copy and pasted the code above into the Lambda code editor, replace the `**ENDPOINT NAME HERE**` portion with the name of the endpoint that we deployed earlier. You can determine the name of the endpoint using the code cell below."
   ]
  },
  {
   "cell_type": "code",
   "execution_count": 50,
   "metadata": {},
   "outputs": [
    {
     "data": {
      "text/plain": [
       "'xgboost-2020-05-11-05-47-22-565'"
      ]
     },
     "execution_count": 50,
     "metadata": {},
     "output_type": "execute_result"
    }
   ],
   "source": [
    "xgb_predictor.endpoint"
   ]
  },
  {
   "cell_type": "markdown",
   "metadata": {},
   "source": [
    "In addition, you will need to copy the vocabulary dict to the appropriate place in the code at the beginning of the `lambda_handler` method. The cell below prints out the vocabulary dict in a way that is easy to copy and paste."
   ]
  },
  {
   "cell_type": "code",
   "execution_count": 51,
   "metadata": {},
   "outputs": [
    {
     "name": "stdout",
     "output_type": "stream",
     "text": [
      "{'life': 2592, 'begins': 444, 'and': 226, 'ends': 1474, 'in': 2257, 'typical': 4623, '1930s': 11, 'ward': 4793, 'where': 4864, 'we': 4823, 'view': 4736, 'hours': 2177, 'the': 4426, 'lives': 2628, 'of': 3083, 'several': 3905, 'high': 2100, 'risk': 3704, 'pregnant': 3369, 'women': 4923, 'played': 3297, 'by': 642, 'young': 4989, 'em': 1452, 'dorothy': 1330, 'tree': 4576, 'as': 311, 'they': 4442, 'to': 4507, 'give': 1912, 'birth': 486, 'while': 4868, 'film': 1716, 'features': 1680, 'plot': 3309, 'which': 4867, 'seem': 3861, 'far': 1653, 'fetched': 1698, 'today': 4508, 'when': 4862, 'are': 285, 'much': 2934, 'more': 2904, 'it': 2366, 'does': 1308, 'offer': 3087, 'us': 4690, 'look': 2646, 'back': 378, 'time': 4495, 'see': 3855, 'what': 4858, 'giving': 1915, 'city': 825, 'hospital': 2172, 'was': 4805, 'like': 2599, 'for': 1784, 'our': 3139, 'great': 1964, 'found': 1811, 'fascinating': 1658, 'exceptionally': 1559, 'moving': 2928, 'oddly': 3081, 'enough': 1491, 'most': 2909, 'outstanding': 3147, 'performance': 3228, 'this': 4457, 'comes': 891, 'from': 1840, 'male': 2719, 'cast': 710, 'member': 2800, 'eric': 1514, 'husband': 2204, 'an': 223, 'actor': 103, 'first': 1736, 'father': 1666, 'is': 2360, 'with': 4911, 'staff': 4138, 'who': 4871, 'off': 3084, 'his': 2118, 'concerns': 934, 'about': 67, 'wife': 4884, 'might': 2835, 'table': 4346, 'felt': 1692, 'every': 1539, 'concern': 931, 'id': 2212, 'actors': 104, 'work': 4940, 'he': 2056, 'had': 2003, 'very': 4723, 'emotional': 1459, 'voice': 4761, 'used': 4693, 'unforgettable': 4652, 'effect': 1428, 'gone': 1935, 'wind': 4893, 'that': 4424, 'soldier': 4053, 'whose': 4877, 'leg': 2562, 'without': 4913, 'dont': 1324, 'cut': 1089, 'horror': 2168, 'chilling': 794, 'another': 250, 'plays': 3301, 'miss': 2866, 'nurse': 3063, 'her': 2085, 'character': 758, 'earth': 1403, 'type': 4621, 'kind': 2476, 'all': 187, 'hope': 2155, 'get': 1899, 'stays': 4169, 'breaks': 571, 'rules': 3754, 'constantly': 958, 'order': 3126, 'show': 3953, 'side': 3965, 'medical': 2790, 'did': 1241, 'superb': 4296, 'acting': 99, 'job': 2405, 'here': 2086, 'well': 4843, 'authentic': 358, 'deeply': 1156, 'grace': 1950, 'my': 2951, 'she': 3923, 'these': 4441, 'ive': 2372, 'really': 3556, 'grown': 1984, 'appreciate': 279, 'actress': 105, 'last': 2521, 'few': 1700, 'months': 2897, 'role': 3726, 'mother': 2911, 'little': 2624, 'over': 3148, 'top': 4525, 'taste': 4369, 'didnt': 1242, 'anyone': 259, 'know': 2489, 'hot': 2174, 'water': 4816, 'bottle': 550, 'be': 418, 'health': 2060, 'but': 636, 'herself': 2092, 'end': 1468, 'also': 199, 'silent': 3975, 'movie': 2926, 'star': 4150, 'italian': 2367, 'screen': 3829, 'brief': 579, 'notable': 3041, 'must': 2950, 'try': 4600, 'catch': 714, 'on': 3105, 'remember': 3616, 'bring': 585, 'cry': 1073, 'into': 2332, 'out': 3141, '10': 0, 'no': 3020, 'wonder': 4926, 'won': 4925, 'any': 256, 'soul': 4079, 'isnt': 2362, 'why': 4878, 'took': 4523, 'paul': 3214, '20': 29, 'years': 4979, 'finally': 1724, 'talk': 4358, 'peter': 3247, 'falk': 1636, 'idea': 2213, 'can': 665, 'understand': 4643, 'part': 3193, 'will': 4886, 'make': 2713, 'you': 4986, 'just': 2437, 'tear': 4379, 'or': 3124, 'thousands': 4466, 'story': 4207, 'sam': 3777, 'gets': 1900, 'letter': 2581, 'leaving': 2557, 'him': 2110, 'find': 1726, 'something': 4066, 'else': 1448, 'son': 4070, 'take': 4349, 'road': 3709, 'trip': 4588, 'do': 1302, 'lost': 2660, 'friendship': 1838, 'family': 1645, 'each': 1395, 'other': 3135, 'at': 331, 'beginning': 443, 'whats': 4860, 'going': 1931, 'happen': 2026, 'none': 3028, 'not': 3040, 'easy': 1410, 'figure': 1711, 'ride': 3692, 'between': 475, 'write': 4967, 'beautiful': 428, 'romance': 3732, 'comedy': 890, 'cant': 671, 'say': 3799, 'anything': 260, 'hey': 2095, 'legend': 2564, 'everything': 1544, 'movies': 2927, 'magic': 2703, 'use': 4692, 'think': 4452, 'perfect': 3224, 'outcome': 3142, 'many': 2732, 'excellent': 1555, 'although': 201, 'always': 203, 'doesnt': 1309, 'mean': 2779, 'actually': 109, 'rest': 3657, 'good': 1937, 'them': 4432, 'so': 4046, 'shall': 3916, 'shine': 3931, 'even': 1533, 'music': 2946, 'using': 4698, 'sometimes': 4067, 'fit': 1740, 'thing': 4450, 'tune': 4602, 'makes': 2716, 'compelling': 916, 'parts': 3199, 'soundtrack': 4085, 'thats': 4425, 'sure': 4308, 'overall': 3150, 'there': 4438, 'dvds': 1392, 'ray': 3533, 'one': 3107, 'special': 4097, 'ones': 3108, 'everyday': 1541, 'create': 1036, 'takes': 4351, 'thinking': 4453, 'fact': 1621, 'piece': 3272, 'should': 3951, 'bought': 552, 'kept': 2456, 'human': 2188, 'old': 3100, 'your': 4991, 'age': 148, 'then': 4436, 'ever': 1538, 'made': 2697, 'warning': 4800, 'contains': 964, 'spoiler': 4123, 'corny': 997, 'cases': 708, 'terrible': 4407, 'some': 4061, 'others': 3136, 'particularly': 3195, 'richard': 3686, 'wooden': 4934, 'lies': 2591, 'bed': 436, 'dying': 1393, 'hair': 2005, 'place': 3282, 'yet': 4984, 'suspenseful': 4331, 'faithful': 1634, 'book': 535, 'than': 4420, 'its': 2370, 'era': 1513, 'casting': 711, 'joan': 2404, 'shocking': 3940, 'im': 2232, 'kidding': 2465, 'kids': 2467, 'masterful': 2758, 'shes': 3930, 'usual': 4699, 'self': 3869, 'were': 4848, 'supposed': 4306, 'dies': 1245, 'falling': 1639, 'feet': 1688, 'through': 4477, 'floor': 1759, 'empty': 1465, 'space': 4090, 'seen': 3865, 'different': 1248, 'funniest': 1851, 'things': 4451, 'watch': 4811, 'reactions': 3542, 'types': 4622, 'people': 3221, 'go': 1924, 'lot': 2661, 'japanese': 2382, 'men': 2805, 'because': 432, 'honest': 2146, 'goodness': 1938, 'samurai': 3779, 'lots': 2662, 'dialogue': 1234, 'soon': 4074, 'two': 4620, 'protagonists': 3442, 'begin': 442, 'almost': 193, 'randomly': 3515, 'throughout': 4478, 'their': 4431, 'walk': 4775, 'usually': 4700, 'bears': 421, 'independent': 2272, 'load': 2631, 'hard': 2033, 'follow': 1772, 'crap': 1031, 'may': 2775, 'english': 1483, 'anyway': 261, 'sing': 3992, 'later': 2525, 'intelligent': 2314, 'surprise': 4312, 'blood': 512, 'anime': 243, 'inspired': 2301, 'sword': 4340, 'battles': 415, 'villain': 4744, 'dog': 1310, 'during': 1387, 'phone': 3255, 'conversation': 980, 'stay': 4166, 'how': 2181, 'bad': 382, 'theyll': 4444, 'horrible': 2163, 'friends': 1837, 'expecting': 1578, 'live': 2625, 'action': 100, 'matrix': 2767, 'effects': 1431, 'sorry': 4076, 'folks': 1771, 'martial': 2747, 'arts': 310, 'pretty': 3384, 'solid': 4057, 'director': 1264, 'have': 2052, 'budget': 610, 'expectations': 1576, 'enjoy': 1484, 'whether': 4866, 'only': 3110, 'heard': 2062, 'picked': 3266, 'random': 3514, 'wrong': 4973, 'theater': 4427, 'alcoholic': 177, 'laugh': 2529, 'jokes': 2415, 'ultimately': 4628, 'entertainment': 1500, 'deep': 1154, 'spiritual': 4116, 'thought': 4462, 'meant': 2784, 'if': 2222, 'line': 2610, 'kick': 2460, 'ass': 323, 'person': 3238, 'however': 2183, 'laughs': 2534, 'audience': 352, 'members': 2801, 'support': 4303, 'me': 2778, 'since': 3990, 'big': 478, 'fat': 1663, 'greek': 1970, 'wedding': 4836, '2002': 32, 'has': 2043, 'laughter': 2535, 'been': 438, 'intense': 2316, 'easily': 1406, 'mr': 2929, 'mrs': 2930, 'smith': 4038, '2005': 35, 'parody': 3192, 'sex': 3907, 'super': 4295, 'ex': 1549, 'girlfriend': 1910, 'directors': 1266, 'balance': 387, 'drama': 1346, 'crazy': 1035, 'downright': 1337, 'ludicrous': 2685, 'never': 3001, 'shock': 3938, 'dramatic': 1348, 'serious': 3891, 'crack': 1027, 'rule': 3753, 'same': 3778, 'predictable': 3367, 'romantic': 3733, 'loses': 2657, 'touching': 4536, 'elements': 1443, 'ending': 1471, 'broadcast': 591, 'advance': 127, 'ways': 4822, 'evident': 1547, 'real': 3547, 'truth': 4599, 'eight': 1436, 'ten': 4399, 'stars': 4155, 'up': 4683, 'possibly': 3351, 'nine': 3017, 'appears': 278, 'second': 3846, 'viewing': 4740, 'third': 4455, 'installment': 2303, 'gabriel': 1859, 'games': 1865, 'series': 3890, 'adventure': 130, 'writer': 4968, 'detective': 1220, 'companion': 909, 'asked': 317, 'prince': 3396, 'james': 2378, 'investigate': 2342, 'mysterious': 2955, 'attacks': 339, 'called': 652, 'night': 3013, 'kidnapped': 2466, 'le': 2544, 'together': 4511, 'mystery': 2956, 'holy': 2140, 'despite': 1211, 'marketing': 2741, 'game': 1864, 'vampires': 4712, 'appearance': 274, 'command': 897, 'center': 732, 'stage': 4139, 'fathers': 1667, 'beast': 422, 'within': 4912, 'attempt': 340, 'true': 4596, 'nature': 2975, 'research': 3644, 'murder': 2939, 'three': 4469, 'course': 1019, 'victims': 4730, 'chosen': 805, 'nothing': 3047, 'main': 2707, 'large': 2517, 'charm': 767, 'relationships': 3598, 'villains': 4745, 'player': 3298, 'could': 1007, 'help': 2079, 'thus': 4486, 'less': 2575, 'monster': 2892, 'interaction': 2322, 'single': 3996, 'cheesy': 781, 'interview': 2329, 'roles': 3727, 'play': 3296, 'fairly': 1631, 'spends': 4107, 'treasure': 4571, 'hunter': 2199, 'tour': 4538, 'group': 1980, 'staying': 4168, 'hotel': 2175, 'amounts': 220, 'red': 3576, 'presence': 3373, 'known': 2492, 'answer': 251, 'actions': 101, 'opposite': 3123, 'vampire': 4711, 'leader': 2546, 'leaves': 2556, 'hints': 2113, 'broad': 590, 'hunters': 2200, 'revealed': 3671, 'day': 1129, 'instead': 2307, 'putting': 3482, 'child': 789, 'simply': 3986, 'tells': 4397, 'meanwhile': 2785, 'fails': 1628, 'achieve': 92, 'chooses': 800, 'days': 1130, 'after': 143, 'reason': 3557, 'given': 1913, 'decision': 1151, 'wants': 4791, 'would': 4957, 'better': 472, 'purely': 3472, 'focused': 1767, 'replaced': 3634, 'race': 3499, 'against': 147, 'portrayed': 3342, 'once': 3106, 'catholic': 720, 'conflict': 939, 'opportunities': 3120, 'development': 1225, 'disappointing': 1274, 'improved': 2255, 'return': 3665, 'tim': 4494, 'youd': 4987, 'choose': 799, 'watched': 4813, 'sad': 3767, 'least': 2554, 'still': 4188, 'best': 469, 'done': 1322, 'badly': 383, 'fighting': 1709, 'stunts': 4246, 'properly': 3437, 'mostly': 2910, 'hong': 2149, 'kong': 2494, 'jackie': 2374, 'chan': 746, 'clever': 841, 'wild': 4885, 'likes': 2602, 'start': 4156, 'team': 4378, 'down': 1335, 'hill': 2108, 'car': 680, 'chase': 769, 'town': 4541, 'amazing': 209, 'fight': 1707, 'put': 3480, 'stunt': 4245, 'glass': 1917, 'hurt': 2202, 'four': 1812, 'france': 1816, 'christmas': 810, 'season': 3843, 'uninspired': 4657, 'black': 493, 'nearly': 2981, 'surprisingly': 4316, 'effective': 1429, 'lady': 2507, 'oscar': 3133, 'splendid': 4119, 'too': 4522, 'long': 2644, 'ago': 154, 'late': 2523, 'tv': 4610, 'recall': 3562, 'being': 448, 'especially': 1520, 'genuinely': 1892, 'surprised': 4313, 'enjoyed': 1486, 'around': 297, 'mind': 2849, 'lack': 2502, 'enthusiasm': 1501, 'shown': 3959, 'towards': 4540, 'elsewhere': 1449, 'dvd': 1391, 'release': 3602, 'la': 2500, 'quite': 3495, 'bit': 488, 'common': 906, 'mentioned': 2811, 'crew': 1053, 'producers': 3416, 'georges': 1894, 'cinematographer': 819, 'christian': 808, 'wise': 4903, 'hero': 2088, 'jean': 2389, 'military': 2844, 'spell': 4104, 'whos': 4876, 'loved': 2670, 'girl': 1909, 'case': 707, 'hes': 2093, 'himself': 2111, 'obsessed': 3069, 'impossible': 2249, 'love': 2669, 'kings': 2481, 'daughter': 1121, 'gerard': 1895, 'ironically': 2356, 'full': 1846, 'finds': 1728, 'believe': 454, 'fun': 1848, 'loving': 2675, 'superior': 4300, 'officer': 3092, 'own': 3158, 'opposed': 3122, 'ranks': 3519, 'whom': 4875, 'eventually': 1537, 'designs': 1204, 'record': 3573, 'next': 3007, 'delightful': 1168, 'fantasy': 1652, 'de': 1131, 'proved': 3446, 'box': 555, 'office': 3091, 'hit': 2122, 'home': 2142, 'ground': 1979, 'surprising': 4315, 'deserved': 1200, 'direction': 1261, 'award': 366, 'films': 1721, 'american': 213, 'paris': 3189, 'popularity': 3334, 're': 3535, 'computer': 927, 'version': 4720, 'presumably': 3380, 'benefit': 465, 'viewers': 4739, 'wouldnt': 4958, 'touch': 4533, 'white': 4870, 'product': 3418, 'foot': 1781, 'itself': 2371, 'obviously': 3072, 'foreign': 1790, 'language': 2516, 'title': 4504, 'theres': 4440, 'choice': 797, 'dubbed': 1379, 'painful': 3171, 'sit': 4003, 'considering': 952, 'said': 3774, 'original': 3129, 'page': 3167, 'expected': 1577, 'overwhelming': 3157, 'agree': 155, 'myself': 2953, 'narration': 2965, 'whole': 4873, 'combination': 883, 'equally': 1510, 'adventures': 131, 'remarkably': 3614, 'essentially': 1523, 'enterprise': 1495, 'woods': 4935, 'rather': 3528, 'adult': 125, 'times': 4497, 'numerous': 3062, 'sexuality': 3909, 'viewed': 4737, 'hollywood': 2137, 'fare': 1655, 'now': 3054, 'climax': 849, 'enemy': 1477, 'forces': 1788, 'speak': 4094, 'heroic': 2090, 'trio': 4587, 'alone': 194, 'children': 792, 'ps': 3453, 'channel': 753, 'threatening': 4468, 'promising': 3433, 'already': 197, 'fourth': 1813, 'week': 4837, 'vhs': 4725, 'pile': 3275, 'hour': 2176, 'epic': 1506, 'starring': 4154, 'twin': 4615, 'king': 2479, 'finished': 1733, 'watching': 4815, 'upset': 4687, 'greatly': 1967, 'south': 4087, 'africa': 141, 'twice': 4613, 'set': 3898, 'certainly': 738, 'hitting': 2126, 'opening': 3114, 'scenes': 3811, 'tend': 4400, 'scene': 3809, 'slow': 4031, 'pace': 3161, 'hardly': 2036, 'allows': 192, 'break': 569, 'light': 2595, 'moments': 2887, 'able': 66, 'again': 146, 'came': 656, 'across': 96, 'twisted': 4618, 'individual': 2277, 'appeared': 276, 'totally': 4532, 'steve': 4181, 'comments': 901, 'reading': 3544, 'summary': 4290, 'actual': 108, 'became': 431, 'maybe': 2776, 'fell': 1690, 'asleep': 320, 'baby': 376, 'forest': 1791, 'drive': 1363, '11': 2, 'miles': 2843, 'stop': 4201, 'purpose': 3474, 'occasional': 3074, 'zombies': 4998, 'come': 886, 'nowhere': 3056, 'pure': 3471, 'hearted': 2065, 'way': 4820, 'save': 3794, 'world': 4946, 'neither': 2996, 'zombie': 4997, 'nor': 3032, 'notably': 3042, 'encounter': 1466, 'getting': 1901, 'stretched': 4222, 'lazy': 2543, 'change': 749, 'native': 2972, 'resolution': 3649, 'entertaining': 1499, 'conclusion': 936, 'continuity': 972, 'subject': 4253, 'matter': 2769, 'citizen': 824, 'kane': 2442, 'delivers': 1172, 'extraordinary': 1607, 'successful': 4266, 'winds': 4895, 'recently': 3567, 'breaking': 570, 'neck': 2985, 'accident': 84, 'learning': 2552, 'new': 3003, 'limited': 2606, 'physical': 3262, 'condition': 937, 'slick': 4026, 'fast': 1661, 'talking': 4360, 'charming': 768, 'raymond': 3534, 'racist': 3503, 'terrific': 4409, 'william': 4887, 'feels': 1687, 'multi': 2935, 'fellow': 1691, 'patients': 3212, 'forced': 1787, 'share': 3920, 'room': 3735, 'receives': 3565, 'loyal': 2679, 'married': 2744, 'anna': 245, 'helen': 2075, 'hunt': 2198, 'terms': 4406, 'remarkable': 3613, 'key': 2458, 'triumph': 4590, 'neil': 2995, 'wrote': 4974, 'thoughtful': 4463, 'script': 3834, 'relate': 3593, 'exceptional': 1558, 'wit': 4908, 'warmth': 4796, 'specifically': 4100, 'lifestyle': 2593, 'including': 2264, 'point': 3316, 'striking': 4226, 'sequence': 3887, 'fail': 1625, 'besides': 468, 'further': 1853, 'provides': 3450, 'funny': 1852, 'raw': 3532, 'humor': 2192, 'making': 2718, 'secret': 3849, 'strip': 4228, 'club': 863, 'significant': 3972, 'plus': 3311, 'stand': 4143, 'supporting': 4304, 'turns': 4609, 'allen': 188, 'grim': 1974, 'proves': 3447, 'positive': 3346, 'cinematic': 818, 'testament': 4417, 'strength': 4219, 'spirit': 4113, 'wonderful': 4928, 'gem': 1877, 'fifteen': 1706, 'let': 2579, 'feelings': 1686, 'having': 2054, 'normal': 3033, 'such': 4268, 'knew': 2486, 'disney': 1289, 'brilliant': 583, 'brought': 600, 'tell': 4395, 'meet': 2793, 'needed': 2988, 'shows': 3960, 'lived': 2626, 'before': 440, 'setting': 3900, 'dream': 1354, 'meets': 2795, 'search': 3841, 'repeatedly': 3632, 'childhood': 790, 'previous': 3387, 'am': 204, 'amazed': 208, 'reviews': 3679, 'seems': 3864, 'awful': 372, 'extremely': 1610, 'scary': 3807, 'either': 1438, 'sarah': 3785, 'michelle': 2830, 'somehow': 4063, 'forget': 1793, 'dark': 1115, 'except': 1556, 'disappointed': 1273, 'scare': 3803, 'interest': 2323, 'lets': 2580, 'face': 1616, 'death': 1141, 'eg': 1434, 'dead': 1132, 'trying': 4601, 'contact': 961, 'living': 2629, 'beneath': 464, 'ghost': 1902, 'darkness': 1117, 'writing': 4971, 'nowadays': 3055, 'coming': 896, 'cynical': 1093, 'money': 2888, 'respect': 3652, 'viewer': 4738, 'theyre': 4445, 'number': 3060, 'rated': 3527, 'lower': 2677, 'couple': 1016, 'lines': 2612, 'looked': 2647, 'weekend': 4838, 'resort': 3650, 'somewhere': 4069, 'joe': 2407, 'join': 2412, 'directing': 1260, 'forever': 1792, 'tales': 4357, 'taylor': 4372, 'inside': 2297, 'themselves': 4435, 'unknown': 4668, 'left': 2561, 'damage': 1099, 'waiting': 4772, 'right': 3696, 'moment': 2886, 'tale': 4353, 'woman': 4921, 'died': 1244, 'torn': 4528, 'apart': 264, 'suspect': 4327, 'man': 2721, 'existed': 1570, 'project': 3427, 'inner': 2292, 'demon': 1177, 'sister': 4001, 'killed': 2469, 'attempts': 343, 'reporter': 3636, 'jump': 2429, 'skin': 4015, 'speed': 4103, 'freak': 1824, 'sent': 3880, 'psychiatrist': 3455, 'happens': 2029, 'former': 1800, 'results': 3662, 'doctor': 1304, 'helping': 2081, 'realize': 3552, 'desire': 1205, 'probably': 3407, 'segments': 3868, 'loose': 2650, 'wonders': 4931, 'survive': 4321, 'longer': 2645, 'creepy': 1052, 'youre': 4992, 'expect': 1575, 'premise': 3370, 'settings': 3901, 'unlike': 4670, 'those': 4460, 'conventional': 979, 'adds': 119, 'sort': 4077, 'low': 2676, 'feel': 1684, 'manages': 2725, 'atmosphere': 333, 'credit': 1049, 'mouth': 2920, 'hanging': 2023, 'open': 3112, 'portion': 3338, 'scares': 3806, 'gore': 1941, 'interesting': 2325, 'disturbing': 1300, 'liked': 2600, 'cheap': 774, 'exploitation': 1592, 'mothers': 2912, 'porno': 3337, 'trail': 4553, 'leads': 2548, 'europe': 1529, 'struggle': 4234, 'countless': 1012, 'soft': 4051, 'core': 995, 'want': 4788, 'excitement': 1562, 'danger': 1109, 'showing': 3958, 'card': 681, 'seeing': 3857, 'suppose': 4305, 'sexy': 3911, 'thriller': 4472, 'followed': 1773, 'walking': 4779, 'lead': 2545, 'various': 4715, 'proceedings': 3410, 'violence': 4747, 'material': 2766, 'incredibly': 2270, 'fake': 1635, 'worse': 4951, 'nudity': 3059, 'keep': 2449, 'basically': 407, 'par': 3184, 'youll': 4988, 'forgive': 1795, 'details': 1219, 'dull': 1384, 'boring': 543, 'stayed': 4167, 'hoping': 2160, 'remotely': 3623, 'occur': 3076, 'blonde': 511, 'huge': 2185, 'bite': 489, 'nose': 3037, 'size': 4012, 'wondering': 4930, 'plastic': 3294, 'gripping': 1976, 'avoid': 363, 'cash': 709, 'franchise': 1817, 'generic': 1885, 'superhero': 4299, 'flick': 1754, 'cgi': 740, 'showcase': 3954, 'events': 1536, 'inane': 2258, 'shakespeare': 3915, 'cliché': 844, 'per': 3223, 'minute': 2858, 'scream': 3826, 'looking': 2648, 'murdered': 2940, 'double': 1331, 'revenge': 3675, 'lover': 2672, 'memories': 2803, 'evil': 1548, 'morality': 2903, 'spy': 4135, 'falls': 1640, 'protagonist': 3441, 'honor': 2150, 'promises': 3432, 'care': 684, 'troubles': 4594, 'certain': 737, 'deaths': 1142, 'parties': 3196, 'arrive': 300, 'government': 1948, 'slaughter': 4021, 'scientists': 3819, 'unable': 4631, 'control': 977, 'killing': 2472, 'machine': 2693, 'creation': 1040, 'lovable': 2668, 'weapon': 4828, 'kills': 2474, 'designed': 1203, 'away': 369, 'wreck': 4965, 'lights': 2597, 'behind': 447, 'everyone': 1542, 'heart': 2064, 'picks': 3268, 'explains': 1589, 'plans': 3292, 'sees': 3866, 'threat': 4467, 'refuses': 3587, 'kill': 2468, 'comic': 893, 'relief': 3605, 'hilarious': 2106, 'murderous': 2942, 'walls': 4783, 'mere': 2814, 'dozens': 1339, 'gun': 1996, 'enemies': 1476, 'sense': 3877, 'laws': 2540, 'chemistry': 782, 'abandoned': 62, 'twelve': 4611, 'basement': 405, 'written': 4972, 'genre': 1888, 'simple': 3983, 'aspects': 322, 'humanity': 2189, 'truly': 4597, 'minor': 2857, 'object': 3066, 'pacing': 3163, 'points': 3319, 'middle': 2833, 'breathtaking': 574, 'gorgeous': 1942, 'feeling': 1685, 'heaven': 2068, 'beauty': 430, 'appeal': 271, 'chief': 788, 'enjoyable': 1485, 'dances': 1106, 'horse': 2170, 'loves': 2674, 'length': 2569, 'directed': 1259, 'future': 1856, 'winner': 4897, 'victor': 4731, 'moves': 2925, 'quickly': 3491, 'plan': 3287, 'landscapes': 2514, 'animals': 240, 'animal': 239, 'documentary': 1307, 'brosnan': 597, 'indian': 2274, 'recognize': 3569, 'someone': 4064, 'plain': 3286, 'sight': 3969, 'hello': 2078, 'mary': 2751, 'lou': 2663, 'prom': 3429, 'ii': 2226, 'starts': 4159, 'hamilton': 2012, 'school': 3813, 'lisa': 2616, 'cheating': 776, 'date': 1118, 'bill': 481, 'bud': 607, 'cooper': 990, 'robert': 3713, 'lewis': 2586, 'queen': 3485, 'accept': 80, 'decides': 1150, 'joke': 2414, 'throws': 4482, 'lit': 2621, 'catches': 715, 'dress': 1357, 'fire': 1734, 'seconds': 3848, '30': 42, 'hold': 2129, 'principal': 3398, 'teenage': 4389, 'named': 2961, 'craig': 1030, 'justin': 2440, 'louis': 2665, 'dating': 1120, 'carpenter': 694, 'wendy': 4846, 'both': 547, 'planning': 3291, 'priest': 3392, 'schools': 3814, 'discovers': 1281, 'opens': 3115, 'move': 2921, 'free': 1827, 'intent': 2318, 'spare': 4093, 'sets': 3899, 'suicide': 4283, 'body': 527, 'draws': 1352, 'competition': 918, 'shape': 3919, 'kelly': 2452, 'tries': 4585, 'fix': 1744, 'wins': 4899, 'unexpected': 4650, 'party': 3200, 'absolutely': 72, 'connection': 946, '1980': 20, 'bruce': 602, 'wasnt': 4807, 'ron': 3734, 'oliver': 3102, 'supernatural': 4302, 'teen': 4388, 'slasher': 4020, 'themes': 4434, 'personally': 3243, 'until': 4680, 'half': 2007, 'mark': 2739, 'along': 195, 'possessed': 3347, 'supposedly': 4307, 'fans': 1650, 'clichéd': 845, 'killer': 2470, 'ready': 3546, 'sequel': 3885, 'count': 1010, 'five': 1743, 'entire': 1502, 'graphic': 1958, 'tried': 4584, 'hide': 2097, 'shower': 3957, 'resulting': 3661, 'poor': 3328, 'depicted': 1183, 'latter': 2528, 'shots': 3950, 'hands': 2020, 'drag': 1342, 'liners': 2611, 'oh': 3096, 'yes': 4982, 'running': 3756, 'characters': 760, 'names': 2963, 'nice': 3008, 'ok': 3098, 'normally': 3034, 'looks': 2649, 'asking': 318, 'doing': 1312, 'hell': 2077, 'goes': 1930, 'someones': 4065, 'cool': 989, 'girls': 1911, 'reasonable': 3558, 'production': 3419, 'values': 4710, 'generally': 1881, 'maintain': 2710, '100': 1, 'minutes': 2859, 'deserves': 1201, 'rating': 3529, 'ill': 2228, 'sat': 3786, 'afraid': 140, 'wake': 4774, 'morning': 2906, 'warm': 4794, 'leave': 2555, 'smile': 4036, 'fed': 1682, 'stereotype': 4178, 'stories': 4205, 'trick': 4582, 'entertain': 1497, 'react': 3540, 'die': 1243, 'larger': 2519, 'somewhat': 4068, 'elaborate': 1439, 'imagination': 2236, 'closest': 857, 'ask': 316, 'yourself': 4993, 'indeed': 2271, 'daniel': 1111, 'rural': 3758, 'michael': 2829, 'genius': 1887, 'unique': 4662, 'important': 2247, 'hate': 2046, 'identify': 2216, 'guys': 2001, 'often': 3095, 'dolph': 1317, 'vehicle': 4718, 'win': 4892, 'awards': 367, 'teacher': 4375, 'tough': 4537, 'taken': 4350, 'terrorists': 4414, 'oscars': 3134, 'fair': 1630, 'gives': 1914, 'alive': 186, 'youve': 4995, 'million': 2847, 'robots': 3718, 'discovered': 1280, 'source': 4086, 'vicious': 4728, 'force': 1786, 'march': 2734, 'destroy': 1213, 'army': 295, 'ruins': 3752, 'village': 4743, 'parents': 3188, 'earlier': 1399, 'strike': 4224, 'train': 4556, 'boxing': 556, 'plenty': 3307, 'gary': 1873, 'david': 1124, 'scott': 3824, 'simon': 3982, 'mainly': 2708, 'war': 4792, 'worlds': 4947, 'god': 1926, 'please': 3304, 'favorite': 1671, 'ship': 3934, 'bunch': 623, 'recommend': 3571, 'ho': 2127, 'read': 3543, 'awesome': 371, 'machines': 2694, 'london': 2641, 'perhaps': 3235, 'imagery': 2234, 'cinematography': 820, 'profound': 3423, 'emotions': 1461, 'angle': 236, 'fond': 1776, 'moved': 2922, 'toward': 4539, 'close': 853, 'rate': 3526, 'below': 462, 'originally': 3131, 'excited': 1561, 'trailer': 4554, 'saw': 3798, 'available': 361, 'demand': 1174, 'got': 1944, 'popcorn': 3331, 'storyline': 4208, 'seemed': 3862, 'intriguing': 2335, 'dude': 1381, 'photographer': 3259, 'missing': 2869, 'happening': 2028, 'photos': 3261, 'becomes': 434, 'following': 1774, 'though': 4461, 'highly': 2105, 'bored': 541, 'thrills': 4475, 'silly': 3976, 'says': 3801, 'message': 2819, 'fully': 1847, 'spoilers': 4124, 'mad': 2696, 'psychotic': 3459, 'society': 4050, 'keeping': 2450, 'creatures': 1046, 'unrealistic': 4677, 'gory': 1943, 'guy': 2000, 'pain': 3170, 'calls': 654, 'weak': 4824, 'skip': 4016, '40': 48, 'impressive': 2253, 'stupid': 4247, 'dub': 1378, 'hits': 2125, 'sound': 4081, 'check': 777, 'rape': 3521, 'yeah': 4977, 'weird': 4841, 'mtv': 2933, 'photographed': 3258, 'talented': 4355, 'picture': 3269, 'trailers': 4555, 'turned': 4606, 'appreciation': 281, 'professional': 3421, 'theyve': 4446, 'india': 2273, 'shot': 3949, 'beautifully': 429, 'color': 877, 'alright': 198, 'nevertheless': 3002, 'places': 3284, 'exactly': 1551, 'sequences': 3888, 'head': 2057, 'couldve': 1009, 'animation': 242, 'worst': 4952, 'recent': 3566, 'flying': 1764, 'word': 4937, 'lake': 2509, 'name': 2960, 'audiences': 353, 'guess': 1989, 'incredible': 2269, 'depth': 1190, 'couldnt': 1008, 'happy': 2032, 'confused': 941, 'trust': 4598, 'thank': 4421, 'step': 4175, 'worked': 4941, 'central': 735, 'become': 433, 'buy': 640, 'restaurant': 3658, 'fall': 1637, 'friend': 1835, 'lawyer': 2541, 'boyfriend': 558, 'marry': 2745, 'sleeping': 4025, 'desperately': 1209, 'brother': 598, 'involved': 2346, 'reveals': 3673, 'sexually': 3910, 'odd': 3080, 'allowed': 190, 'fine': 1729, 'equal': 1509, 'result': 3660, 'developed': 1223, 'instance': 2304, 'hand': 2015, 'semi': 3874, 'depressed': 1187, 'desperate': 1208, 'jerk': 2395, 'clearly': 840, 'drawn': 1351, 'problems': 3409, 'exception': 1557, 'eccentric': 1414, 'spend': 4105, 'prison': 3401, 'stealing': 4171, 'relatively': 3600, 'crime': 1055, 'manage': 2722, 'questions': 3489, 'screenplay': 3831, 'sadly': 3769, 'assume': 328, 'novel': 3052, 'need': 2987, 'include': 2261, 'mistake': 2871, 'losing': 2658, 'subplots': 4256, 'develop': 1222, 'underlying': 4641, 'add': 115, 'style': 4249, 'outside': 3146, 'average': 362, 'soap': 4047, 'opera': 3116, 'missed': 2867, 'opportunity': 3121, 'fox': 1814, 'rise': 3702, 'above': 68, 'effort': 1432, 'evidence': 1546, 'visual': 4757, 'ability': 65, '25': 40, 'obvious': 3071, 'parker': 3191, 'matt': 2768, 'stone': 4197, 'creators': 1044, 'park': 3190, 'masterpiece': 2759, 'america': 212, 'sir': 4000, 'reminds': 3620, 'corrupt': 1001, 'sports': 4130, 'quote': 3496, 'playing': 3300, 'england': 1482, 'san': 3780, 'year': 4978, 'greater': 1965, 'desert': 1198, 'agent': 150, 'reunion': 3669, 'sport': 4129, 'basketball': 409, 'heroes': 2089, 'pro': 3406, 'mate': 2765, 'follows': 1775, 'absurd': 73, 'itll': 2369, 'crying': 1074, 'produced': 3414, 'del': 1165, 'shouldnt': 3952, 'accent': 78, 'steven': 4182, 'revolution': 3680, 'che': 773, 'camera': 659, 'working': 4944, 'experience': 1580, 'shooting': 3943, 'recommended': 3572, 'wasting': 4810, 'front': 1841, 'whatever': 4859, 'misery': 2865, 'gundam': 1997, 'wing': 4896, 'general': 1880, 'suit': 4284, 'aspect': 321, 'held': 2074, 'grow': 1982, 'personalities': 3241, 'achieved': 93, 'purposes': 3475, 'suddenly': 4273, 'apparent': 269, 'consider': 949, 'oz': 3160, 'classic': 835, 'suits': 4287, 'sweet': 4336, 'shallow': 3917, 'critical': 1062, 'financial': 1725, 'flop': 1760, 'critics': 1064, 'stated': 4161, 'develops': 1226, 'ben': 463, 'john': 2409, 'ritter': 3705, 'quirky': 3493, 'camp': 662, 'ad': 110, 'dropping': 1371, 'singer': 3993, 'driver': 1366, 'immediately': 2242, 'chasing': 772, 'elizabeth': 1445, 'performances': 3229, 'inspiring': 2302, 'country': 1014, 'miller': 2846, 'delight': 1167, 'rat': 3525, 'delivery': 1173, 'imdb': 2240, 'terribly': 4408, 'unfunny': 4655, 'biggest': 480, 'problem': 3408, 'mel': 2796, 'brooks': 596, 'call': 651, 'words': 4938, 'frankenstein': 1822, 'barely': 399, 'stinks': 4192, 'balls': 390, 'mental': 2808, 'topic': 4526, 'leslie': 2574, 'ann': 244, 'warren': 4801, 'dance': 1103, 'japan': 2381, 'attracted': 349, 'studio': 4240, 'daily': 1097, 'lessons': 2578, 'dancing': 1107, 'poignant': 3315, 'utterly': 4702, 'winning': 4898, 'worth': 4953, 'mature': 2773, 'thoroughly': 4459, 'ryan': 3765, 'albert': 174, 'skills': 4014, 'robbins': 3712, 'shop': 3945, 'walter': 4784, 'matthau': 2771, 'possible': 3350, 'beyond': 476, 'humour': 2194, 'television': 4394, 'studios': 4241, 'carol': 693, 'released': 3603, 'theaters': 4428, 'personal': 3240, 'highest': 2102, 'quality': 3484, 'ghosts': 1903, 'visit': 4755, 'scrooge': 3837, 'existence': 1571, 'mistakes': 2873, 'stellar': 4174, 'pleasure': 3306, 'location': 2635, 'winter': 4900, 'backdrop': 379, 'musical': 2947, 'score': 3822, 'endearing': 1469, 'warming': 4795, 'flawless': 1751, 'considered': 951, 'holiday': 2134, 'hasnt': 2044, 'tradition': 4549, 'meaning': 2780, 'selfish': 3870, 'greedy': 1969, 'lose': 2654, 'ourselves': 3140, 'george': 1893, 'irritating': 2359, 'writers': 4969, 'decided': 1149, 'completely': 922, 'reveal': 3670, 'knows': 2493, 'cube': 1076, '80s': 59, 'roots': 3738, 'developing': 1224, 'anywhere': 263, 'act': 97, 'unnecessary': 4672, 'importantly': 2248, 'monsters': 2893, 'honestly': 2147, 'amount': 219, 'minimal': 2855, 'equipment': 1511, 'makers': 2715, 'embarrassment': 1455, 'ended': 1470, 'clue': 864, 'showed': 3956, 'comment': 898, 'minimum': 2856, 'post': 3352, 'remarks': 3615, 'remake': 3612, 'border': 539, 'porn': 3336, 'started': 4157, 'angel': 231, 'six': 4010, 'dumb': 1385, 'situations': 4009, 'sacrifice': 3766, 'bull': 619, 'irish': 2353, 'mighty': 2836, 'british': 589, 'empire': 1464, 'troops': 4591, 'wanted': 4789, 'rebel': 3561, 'wallace': 4782, 'ford': 1789, 'luck': 2681, 'turn': 4605, 'tricks': 4583, 'pay': 3216, 'rent': 3626, 'potential': 3355, 'angry': 238, 'bright': 581, 'reality': 3551, 'situation': 4008, 'telling': 4396, 'cost': 1003, 'poverty': 3357, 'ireland': 2352, 'poster': 3353, 'travel': 4567, 'local': 2634, 'house': 2178, 'kitchen': 2485, 'run': 3755, 'safe': 3771, 'unit': 4663, 'police': 3322, 'secretly': 3851, 'thirty': 4456, 'pieces': 3273, 'silver': 3977, 'door': 1328, 'station': 4164, 'utter': 4701, 'finger': 1731, 'guilty': 1995, 'drunk': 1375, 'admit': 122, 'trial': 4580, 'drinking': 1362, 'minded': 2850, 'strong': 4229, 'total': 4531, 'desperation': 1210, 'innocent': 2294, 'donald': 1321, 'exposed': 1598, 'non': 3027, 'guilt': 1994, 'ridden': 3691, 'bullet': 620, 'final': 1722, 'chapter': 757, 'punishment': 3467, 'african': 142, 'liberal': 2588, 'kevin': 2457, 'convincing': 985, 'portrayal': 3341, 'denzel': 1181, 'washington': 4806, 'urge': 4689, 'happened': 2027, 'demons': 1178, '60s': 54, 'early': 1400, '70s': 56, 'included': 2262, 'omen': 3104, 'addition': 118, 'albeit': 173, 'overlooked': 3154, 'measure': 2786, 'york': 4985, 'model': 2880, 'commit': 904, 'initially': 2291, 'neighbor': 2992, 'awake': 365, 'loud': 2664, 'apartment': 265, 'otherwise': 3137, 'building': 615, 'wish': 4904, 'kicks': 2463, 'heroine': 2091, 'ensemble': 1492, 'subtle': 4260, 'makeup': 2717, 'fx': 1858, 'dick': 1239, 'kid': 2464, 'garbage': 1870, 'raised': 3508, 'academy': 77, 'college': 875, 'championship': 745, 'mess': 2818, 'soccer': 4048, 'focus': 1766, 'finish': 1732, 'shame': 3918, 'amusing': 221, 'pass': 3201, 'fan': 1648, 'claims': 830, 'based': 404, 'buddy': 609, 'famous': 1647, 'sold': 4052, 'becoming': 435, 'fiction': 1702, 'behavior': 446, 'escape': 1517, 'cage': 645, 'storm': 4206, 'seek': 3858, 'selling': 3873, 'surrounded': 4318, 'trees': 4577, 'thrown': 4481, 'historically': 2120, 'notice': 3048, 'grows': 1985, 'older': 3101, 'alert': 178, 'extended': 1604, 'dragged': 1343, 'passed': 3202, 'generation': 1883, 'added': 116, 'collection': 874, 'remembered': 3617, 'farm': 1656, 'clark': 832, 'attacked': 338, 'dr': 1340, 'hudson': 2184, 'believing': 457, 'succeeds': 4264, 'insane': 2296, 'fights': 1710, 'personality': 3242, 'undoubtedly': 4648, 'episode': 1507, 'powerful': 3360, 'boy': 557, 'annoying': 249, 'identity': 2217, 'vote': 4766, 'brazil': 568, '12': 3, 'endure': 1475, 'event': 1535, 'blown': 516, 'scientist': 3818, 'under': 4639, 'investigation': 2343, 'melodramatic': 2798, 'fashion': 1659, 'mid': 2832, 'eighties': 1437, 'realized': 3553, '1990': 24, 'mediocre': 2791, 'competent': 917, 'arent': 288, 'mildly': 2840, 'charismatic': 763, 'attempting': 342, 'tom': 4514, 'cruise': 1071, 'christopher': 811, 'reminded': 3619, 'female': 1693, 'decide': 1148, 'battle': 414, 'power': 3359, 'bizarre': 492, 'overacting': 3149, 'decent': 1147, 'mill': 2845, '50': 51, 'pack': 3165, 'songs': 4072, 'familys': 1646, 'track': 4544, 'video': 4733, 'listening': 2620, 'chance': 747, 'versions': 4721, 'compare': 911, 'heat': 2067, 'performers': 3232, 'images': 2235, 'glad': 1916, 'traditional': 4550, 'favorites': 1672, 'tunes': 4603, 'innocence': 2293, 'deal': 1135, 'eyes': 1613, 'slightly': 4029, 'wonderfully': 4929, 'past': 3207, 'humans': 2190, 'treat': 4572, 'territory': 4411, 'author': 359, 'jim': 2402, 'works': 4945, 'rendition': 3625, 'noir': 3023, 'closely': 855, 'justice': 2438, 'text': 4419, 'jason': 2383, 'patrick': 3213, 'rachel': 3500, 'careers': 687, 'creates': 1038, 'surreal': 4317, 'passion': 3205, 'logic': 2638, 'cross': 1066, 'seriously': 3892, 'cup': 1080, 'tea': 4373, 'kate': 2446, 'ashley': 313, 'rich': 3685, 'sisters': 4002, 'amanda': 205, 'okay': 3099, 'definitely': 1162, 'gotten': 1947, 'sick': 3963, 'singing': 3995, 'worthy': 4956, 'arthur': 305, 'bottom': 551, 'example': 1553, 'wound': 4960, 'contrast': 975, 'intended': 2315, 'attack': 337, 'rights': 3697, 'hatred': 2049, 'ugly': 4625, 'creating': 1039, 'realistic': 3550, 'portrait': 3339, 'gay': 1876, 'couples': 1017, 'largely': 2518, 'tired': 4501, 'stereotypes': 4179, 'crude': 1069, 'cardboard': 682, 'allow': 189, 'christians': 809, 'violent': 4748, 'kicked': 2461, 'dreadful': 1353, 'havent': 2053, 'credibility': 1047, 'saying': 3800, 'brando': 566, 'saved': 3795, 'inducing': 2279, 'awkward': 374, 'complain': 919, 'brothers': 599, 'portraying': 3343, 'confusing': 942, 'sounding': 4083, 'ed': 1415, 'complete': 921, 'aint': 163, 'amateur': 206, 'editing': 1421, 'cake': 648, 'suffice': 4279, 'forward': 1808, 'waste': 4808, '17': 9, 'straight': 4210, 'curious': 1083, 'pathetic': 3210, 'redeeming': 3577, 'jeffrey': 2391, 'wont': 4932, 'sexual': 3908, 'fly': 1763, 'creative': 1041, 'faces': 1618, 'concept': 930, 'destiny': 1212, 'question': 3487, 'asks': 319, 'chaos': 755, 'theory': 4437, 'states': 4163, 'china': 795, 'chain': 741, 'reaction': 3541, 'baseball': 403, 'motion': 2913, 'uses': 4697, 'fresh': 1833, 'philosophical': 3253, 'likely': 2601, 'fear': 1676, 'dentist': 1180, 'dennis': 1179, 'gordon': 1940, 'charles': 764, 'seat': 3845, 'value': 4709, 'nicely': 3009, 'alan': 171, 'dedicated': 1153, 'jumps': 2432, 'tracks': 4545, 'thoughts': 4464, 'corruption': 1002, 'witnessed': 4915, 'linda': 2609, 'hoffman': 2128, 'pool': 3327, 'earl': 1398, 'favor': 1670, 'shut': 3961, 'everybody': 1540, 'welcome': 4842, 'ken': 2453, 'brian': 576, 'nasty': 2968, 'sympathy': 4343, 'thrilling': 4474, 'dialog': 1232, 'pitch': 3279, 'victim': 4729, 'tongue': 4518, 'torture': 4529, 'perfection': 3225, 'respected': 3653, 'wasted': 4809, 'standard': 4144, 'issue': 2364, 'enjoyment': 1488, 'provide': 3448, 'appealing': 272, 'eye': 1611, 'candy': 668, 'pre': 3365, 'fame': 1642, 'small': 4033, 'teeth': 4393, 'expression': 1602, 'leading': 2547, '1990s': 25, 'mentions': 2813, 'jewish': 2401, 'jumped': 2430, 'pointed': 3317, 'account': 89, 'university': 4667, 'fitting': 1742, 'surface': 4310, 'portray': 3340, 'ice': 2210, 'provoking': 3452, 'student': 4238, 'path': 3209, 'extreme': 1609, 'raped': 3522, 'cult': 1077, 'broadway': 592, 'waited': 4771, 'eddie': 1416, 'murphy': 2944, 'jamie': 2379, 'danny': 1112, 'glover': 1923, 'match': 2762, 'hype': 2207, 'saving': 3797, 'rose': 3739, 'jennifer': 2392, 'multiple': 2936, 'attention': 345, 'reviewers': 3678, 'steals': 4172, 'experienced': 1581, 'comedic': 888, 'talent': 4354, 'photo': 3257, 'shoot': 3942, 'song': 4071, 'solo': 4058, 'cause': 723, 'required': 3641, 'haunting': 2051, 'treatment': 4574, '1st': 28, 'class': 833, 'turner': 4607, 'promise': 3430, 'string': 4227, 'jones': 2418, 'wrap': 4963, '90': 60, 'service': 3896, 'sake': 3775, 'sun': 4292, 'nights': 3016, 'gags': 1862, 'rob': 3710, 'spot': 4131, 'kicking': 2462, 'taking': 4352, 'shirt': 3937, 'finding': 1727, 'timing': 4498, 'aunt': 355, 'jack': 2373, 'scientific': 3817, 'causing': 726, 'stole': 4194, 'continue': 969, 'quit': 3494, 'tiny': 4500, 'nancy': 2964, 'cover': 1022, 'guide': 1993, 'press': 3379, 'major': 2711, 'museum': 2945, 'nyc': 3065, 'episodes': 1508, 'realizes': 3554, 'lovely': 2671, 'solution': 4059, 'growing': 1983, 'neighbors': 2994, 'user': 4696, 'smoke': 4039, 'stuff': 4243, 'smoking': 4040, 'ridiculous': 3693, 'slapstick': 4019, 'pity': 3281, 'theatre': 4429, 'mainstream': 2709, 'interested': 2324, 'minds': 2852, 'album': 175, 'saga': 3773, 'continues': 971, 'emotionally': 1460, 'manner': 2729, 'whereas': 4865, 'acts': 107, 'depiction': 1185, 'grand': 1953, 'scale': 3802, 'dynamic': 1394, 'complexity': 924, 'rising': 3703, 'tone': 4517, 'demands': 1175, 'pictures': 3270, 'note': 3044, 'fortunately': 1805, 'mass': 2753, 'presented': 3376, 'constructed': 959, 'flow': 1762, 'level': 2584, 'witness': 4914, 'presents': 3377, 'tragedy': 4551, 'keeps': 2451, 'allowing': 191, 'involving': 2349, 'theatrical': 4430, 'holds': 2131, 'sides': 3967, 'climactic': 848, 'hitler': 2124, 'co': 867, 'eyed': 1612, 'reputation': 3640, 'racial': 3501, 'nazis': 2978, 'nazi': 2977, 'realise': 3548, 'believable': 453, 'poetic': 3313, 'extra': 1606, 'mile': 2842, 'insult': 2309, 'alike': 185, 'alex': 179, 'ted': 4386, 'near': 2979, 'rock': 3720, 'present': 3374, 'public': 3460, 'popular': 3333, 'history': 2121, 'spirits': 4115, 'redemption': 3578, 'transfer': 4559, 'digital': 1251, 'sequels': 3886, 'briefly': 580, 'angles': 237, 'ups': 4686, 'avoided': 364, 'gruesome': 1986, 'particular': 3194, 'stick': 4185, 'disappointment': 1275, 'needs': 2990, 'slowly': 4032, 'pull': 3461, 'aged': 149, 'expressed': 1601, 'express': 1600, 'distance': 1294, 'accepted': 82, 'due': 1382, 'issues': 2365, 'graphics': 1959, 'adults': 126, 'montana': 2895, 'ultra': 4629, 'united': 4664, 'trade': 4547, 'tony': 4521, 'strongly': 4231, 'criminal': 1057, 'enjoying': 1487, 'heights': 2073, 'freedom': 1828, 'rival': 3706, 'confidence': 938, 'drug': 1373, 'lord': 2652, 'gang': 1867, 'boss': 546, 'levels': 2585, 'pacino': 3164, 'greed': 1968, 'lust': 2689, 'guns': 1998, 'streets': 4217, 'imagine': 2238, 'ruthless': 3764, 'waters': 4817, 'anti': 254, 'faced': 1617, 'ambitious': 211, 'position': 3345, 'shines': 3932, 'scripted': 3835, 'gangster': 1868, 'modern': 2882, 'psychological': 3458, 'social': 4049, 'reasons': 3560, 'favourite': 1673, 'vegas': 4717, 'stupidity': 4248, 'cringe': 1059, 'credits': 1050, 'rolling': 3730, 'atrocious': 335, 'revolves': 3682, 'remote': 3622, 'ensues': 1493, 'similar': 3978, 'executed': 1565, 'unpleasant': 4674, 'hoped': 2156, 'nail': 2957, 'bird': 484, 'providing': 3451, 'judging': 2425, 'toy': 4542, 'scooby': 3820, 'doo': 1325, 'suck': 4269, 'short': 3946, 'wed': 4835, 'mountain': 2917, 'magical': 2704, 'toys': 4543, 'talked': 4359, 'hated': 2047, '1970s': 17, 'partly': 3197, 'filmed': 1717, 'underground': 4640, 'aforementioned': 139, 'originality': 3130, 'lacking': 2504, 'whilst': 4869, 'sub': 4252, 'explained': 1587, 'device': 1227, 'thin': 4449, 'acted': 98, 'tame': 4363, 'rats': 3531, 'bag': 384, 'pick': 3265, 'bargain': 400, 'bin': 483, 'dig': 1250, 'copy': 994, 'aka': 168, 'meat': 2787, 'river': 3707, 'rain': 3506, 'regret': 3591, 'checking': 778, 'sits': 4006, 'toilet': 4512, 'sleep': 4024, 'mountains': 2918, 'rubbish': 3748, 'agreed': 156, 'thumbs': 4485, 'deserve': 1199, 'hopefully': 2157, 'attend': 344, 'saturday': 3792, 'forgotten': 1797, 'shorts': 3948, 'blew': 505, 'heck': 2071, 'accomplished': 87, 'understanding': 4645, 'fish': 1738, 'cats': 721, 'weeks': 4839, 'noted': 3045, 'cable': 644, 'don': 1320, 'facts': 1624, 'scared': 3805, 'hooked': 2153, 'month': 2896, 'eve': 1532, 'beer': 439, 'kinda': 2477, 'pet': 3246, 'superficial': 4298, 'compared': 912, 'intelligence': 2313, 'connected': 945, 'granted': 1957, 'ordinary': 3128, 'commentary': 899, 'workers': 4943, 'owner': 3159, 'factory': 1623, 'stands': 4147, 'complicated': 925, 'access': 83, 'associated': 327, 'born': 544, 'ahead': 159, 'bringing': 586, 'lame': 2510, 'flicks': 1755, 'starred': 4153, 'killers': 2471, 'gray': 1963, 'stilted': 4190, 'everywhere': 1545, 'false': 1641, 'newly': 3004, 'sheriff': 3929, 'hired': 2117, 'hadnt': 2004, 'hed': 2072, 'land': 2511, 'shell': 3927, 'steal': 4170, 'armed': 293, 'west': 4852, 'bank': 394, 'bullets': 621, 'dangerous': 1110, 'folk': 1770, 'pointless': 3318, 'riding': 3695, 'lacks': 2505, 'moral': 2902, 'adaptation': 113, 'stephen': 4176, 'molly': 2884, 'joseph': 2419, 'june': 2433, '16': 8, 'screenwriter': 3833, 'recognized': 3570, 'buck': 605, 'viewings': 4741, '15': 7, 'princess': 3397, 'racism': 3502, 'baker': 385, 'savage': 3793, 'ruin': 3750, 'careful': 688, 'eastern': 1408, 'western': 4853, 'culture': 1079, 'offensive': 3086, 'thankfully': 4422, 'french': 1830, 'areas': 287, 'chris': 806, 'european': 1530, 'reflect': 3584, 'attitudes': 347, 'career': 686, 'efforts': 1433, 'captivating': 675, 'incoherent': 2265, 'dialogues': 1235, 'tremendous': 4579, 'elvira': 1450, 'somebody': 4062, 'explain': 1586, 'etc': 1527, 'prostitute': 3440, 'pleasant': 3302, 'difficult': 1249, 'symbolism': 4341, 'suffered': 4276, 'encounters': 1467, 'performing': 3233, 'choreography': 802, 'necessary': 2984, 'ideas': 2215, 'vague': 4705, 'shadow': 3912, 'italy': 2368, 'spin': 4112, 'dimensional': 1253, 'led': 2558, 'daughters': 1122, 'boys': 559, 'scope': 3821, 'exercise': 1568, 'students': 4239, 'guts': 1999, 'went': 4847, 'bare': 398, 'roll': 3728, 'spent': 4108, 'jay': 2386, 'kung': 2498, 'fu': 1844, 'impress': 2250, 'differences': 1247, 'luckily': 2682, 'contain': 962, 'hopper': 2161, 'killings': 2473, 'serial': 3889, 'caught': 722, 'unbelievable': 4634, 'warned': 4798, 'accused': 91, 'korean': 2495, 'court': 1020, 'remain': 3609, 'jail': 2376, 'defense': 1159, 'attorney': 348, 'doomed': 1327, 'pride': 3391, 'feature': 1678, 'review': 3676, 'east': 1407, 'industry': 2280, 'vaguely': 4706, 'hart': 2041, 'test': 4416, 'poorly': 3329, 'form': 1798, 'radio': 3504, 'speaking': 4095, 'abuse': 74, 'aids': 161, 'partner': 3198, 'survivor': 4324, 'secrets': 3852, 'prepared': 3371, 'terry': 4415, 'clear': 839, 'holes': 2133, 'detail': 1217, 'familiar': 1643, 'williams': 4888, 'wouldve': 4959, 'waitress': 4773, 'donna': 1323, 'notch': 3043, 'mood': 2898, 'established': 1524, 'tie': 4488, 'divorce': 1301, 'photography': 3260, 'memorable': 2802, 'network': 3000, 'changes': 751, 'lion': 2614, 'cute': 1090, 'twists': 4619, 'worthwhile': 4955, 'ideal': 2214, 'searching': 3842, 'wide': 4880, 'plane': 3288, 'crash': 1033, 'eat': 1411, 'flesh': 1753, 'difference': 1246, 'drunken': 1376, 'hunting': 2201, 'air': 164, 'survived': 4322, 'sci': 3815, 'fi': 1701, 'cold': 872, 'burning': 627, 'nearby': 2980, 'pilot': 3276, 'matches': 2764, 'staring': 4152, 'sticks': 4186, 'notorious': 3051, 'structure': 4233, 'sitting': 4007, 'doubt': 1332, 'mans': 2730, 'arm': 292, 'trap': 4563, 'mindless': 2851, 'helps': 2082, 'corpse': 999, 'standing': 4146, 'ripped': 3701, 'occurs': 3078, 'appearing': 277, 'lacked': 2503, 'mention': 2810, 'lighting': 2596, 'shocked': 3939, 'received': 3564, 'gave': 1875, 'blockbuster': 509, 'target': 4366, 'german': 1896, 'accurate': 90, 'filled': 1715, 'content': 966, 'technically': 4382, 'dust': 1388, 'spoil': 4121, 'flaw': 1749, 'individuals': 2278, 'metal': 2823, 'kinds': 2478, 'forms': 1801, 'nobody': 3022, 'teenagers': 4391, 'iron': 2354, 'bands': 392, 'wait': 4770, 'artificial': 306, 'treated': 4573, 'bat': 410, 'grade': 1951, 'attempted': 341, 'narrator': 2967, 'scenery': 3810, 'reminiscent': 3621, 'drags': 1345, 'success': 4265, 'abc': 63, 'prime': 3395, 'prior': 3400, 'wanting': 4790, 'canadian': 667, 'margaret': 2735, 'ellen': 1446, 'proud': 3444, 'wishes': 4906, 'placed': 3283, 'canada': 666, 'fictional': 1703, 'interpretation': 2328, 'classes': 834, 'century': 736, 'grave': 1962, 'serves': 3895, 'emotion': 1458, 'lifetime': 2594, 'brings': 587, 'likable': 2598, 'ego': 1435, 'driven': 1365, 'managed': 2723, 'wealthy': 4827, 'sons': 4073, 'carried': 698, 'spread': 4133, 'touched': 4534, 'failed': 1626, 'flashbacks': 1747, 'previously': 3388, 'cole': 873, 'population': 3335, 'relationship': 3597, 'marriage': 2743, 'activities': 102, 'prevent': 3385, 'upper': 4685, 'joy': 2422, 'mine': 2853, 'proper': 3436, 'appearances': 275, 'hearts': 2066, 'returns': 3668, 'runs': 3757, 'ocean': 3079, 'leo': 2571, 'luke': 2687, 'responsibility': 3655, 'pulls': 3464, 'stops': 4203, 'spirited': 4114, 'devoted': 1231, 'naive': 2958, 'energy': 1478, 'absolute': 71, 'pretending': 3382, 'pig': 3274, 'company': 910, 'cinema': 816, 'werent': 4849, 'beat': 423, 'pushed': 3478, 'anybody': 257, 'told': 4513, 'lee': 2559, 'channels': 754, 'rarely': 3524, 'yesterday': 4983, 'usa': 4691, 'wow': 4962, 'lees': 2560, 'nick': 3012, 'chose': 804, 'state': 4160, 'tedious': 4387, 'exciting': 1563, 'dare': 1113, 'reasonably': 3559, 'base': 402, 'captured': 677, 'francisco': 1819, 'disbelief': 1277, 'turning': 4608, 'animated': 241, 'dogs': 1311, 'convince': 983, 'environment': 1505, 'heres': 2087, 'creature': 1045, 'generated': 1882, 'facial': 1619, 'excuse': 1564, 'learn': 2550, 'failure': 1629, 'practically': 3362, 'unconvincing': 4638, 'blake': 498, 'nelson': 2997, 'paced': 3162, 'phony': 3256, 'giant': 1905, 'filmmakers': 1720, 'edward': 1426, 'fred': 1825, 'lips': 2615, 'apparently': 270, 'football': 1783, 'directions': 1262, 'store': 4204, 'accidentally': 85, 'screaming': 3827, 'cat': 713, 'mouse': 2919, 'womans': 4922, 'rage': 3505, 'unfortunately': 4654, 'wounded': 4961, 'passing': 3204, 'mini': 2854, 'van': 4713, 'gas': 1874, '80': 58, 'worried': 4949, 'ears': 1402, 'necessarily': 2983, 'reviewer': 3677, 'painfully': 3172, 'pages': 3168, 'dealing': 1136, '2001': 31, 'featuring': 1681, 'humorous': 2193, 'costumes': 1006, 'lesson': 2577, 'handled': 2019, 'tommy': 4516, 'screams': 3828, 'wizard': 4919, 'crowd': 1067, 'mirror': 2861, 'gonna': 1936, 'band': 391, 'deliver': 1169, 'cameras': 660, 'rare': 3523, 'numbers': 3061, 'master': 2757, 'convinced': 984, 'field': 1704, 'dubbing': 1380, 'ruined': 3751, 'jet': 2400, 'li': 2587, 'artist': 307, 'judy': 2426, 'struck': 4232, 'gold': 1932, 'lemmon': 2567, 'virtually': 4751, 'bother': 548, 'closing': 859, 'technical': 4381, 'visuals': 4759, 'comparison': 914, 'bay': 416, 'von': 4765, 'waves': 4819, 'dancer': 1104, 'un': 4630, 'noticed': 3049, 'overrated': 3156, 'tiger': 4491, 'hidden': 2096, 'dragon': 1344, 'clean': 838, 'substance': 4258, 'element': 1442, 'perspective': 3245, 'draw': 1349, 'max': 2774, 'background': 380, 'colour': 880, 'distracting': 1297, 'round': 3742, 'fantastic': 1651, 'blind': 506, 'warn': 4797, 'nightmare': 3014, 'fate': 1665, 'filming': 1718, 'wealth': 4826, 'design': 1202, 'argue': 290, 'imaginative': 2237, 'sadistic': 3768, 'dislike': 1288, 'uwe': 4703, 'boll': 529, 'lately': 2524, 'absence': 70, 'art': 304, 'seed': 3856, 'voices': 4763, 'pit': 3278, 'survival': 4320, 'instinct': 2308, 'removed': 3624, 'obscure': 3068, 'disc': 1278, 'alternate': 200, 'row': 3744, 'edition': 1422, 'spoken': 4126, 'restored': 3659, 'bonus': 534, 'frank': 1821, 'mafia': 2700, 'admittedly': 123, 'witty': 4917, 'arrives': 302, 'offering': 3089, 'unlikely': 4671, 'gritty': 1977, 'suspense': 4330, 'headed': 2058, 'bits': 490, 'build': 614, 'execution': 1566, 'tense': 4403, 'amazingly': 210, 'responsible': 3656, 'hear': 2061, 'entirely': 1503, 'strange': 4211, 'philosophy': 3254, 'religion': 3607, 'fairy': 1632, 'perfectly': 3226, 'vision': 4754, 'experiences': 1582, 'dean': 1139, 'colonel': 876, 'roy': 3745, 'gain': 1863, 'knowledge': 2491, 'anymore': 258, 'heads': 2059, 'claire': 831, 'engaged': 1480, 'pleased': 3305, 'howard': 2182, 'lloyd': 2630, 'paint': 3173, 'dry': 1377, 'ages': 152, 'afterwards': 145, 'depicts': 1186, '1968': 16, '70': 55, 'adequate': 120, 'dated': 1119, 'regarding': 3589, 'unfortunate': 4653, 'experiments': 1584, '50s': 52, 'suffer': 4275, 'rough': 3741, 'silence': 3974, 'green': 1971, 'bodies': 526, 'guessing': 1991, 'tragic': 4552, 'intensity': 2317, 'plight': 3308, 'hole': 2132, 'massive': 2756, 'burn': 625, 'portrays': 3344, 'hang': 2022, 'program': 3424, 'calling': 653, 'sounded': 4082, 'uneven': 4649, 'finale': 1723, 'offers': 3090, 'mars': 2746, 'planet': 3289, 'flashback': 1746, 'sixties': 4011, 'ships': 3935, 'orders': 3127, 'hopes': 2159, 'unintentionally': 4659, 'window': 4894, 'blue': 518, 'landscape': 2513, 'resembles': 3646, 'orange': 3125, 'process': 3412, 'surviving': 4323, 'unreal': 4676, 'explore': 1594, 'plant': 3293, 'thinks': 4454, 'spider': 4109, 'technique': 4383, 'terror': 4412, 'teenager': 4390, 'maker': 2714, 'definite': 1161, 'directly': 1263, 'throwing': 4480, 'naked': 2959, 'senseless': 3878, 'murders': 2943, 'wearing': 4831, 'committed': 905, 'talks': 4361, 'crimes': 1056, 'wondered': 4927, 'germans': 1897, 'americans': 214, 'california': 650, 'accents': 79, 'sorts': 4078, 'menace': 2806, 'worthless': 4954, 'list': 2617, 'footage': 1782, 'repeated': 3631, 'consists': 955, 'wives': 4918, 'approach': 282, 'defeat': 1157, 'basic': 406, 'tons': 4520, 'repetitive': 3633, 'sinister': 3998, 'suspicious': 4332, 'mysteries': 2954, 'initial': 2290, 'understood': 4647, 'lonely': 2643, 'influence': 2286, 'polanski': 3321, 'madness': 2698, 'study': 4242, 'paranoia': 3186, 'wears': 4832, 'clothes': 860, 'puts': 3481, 'letting': 2583, 'causes': 725, 'legendary': 2565, 'uninteresting': 4660, 'captures': 678, 'henry': 2084, 'fonda': 1777, 'emphasis': 1463, 'cultural': 1078, 'indians': 2275, 'creativity': 1042, 'nation': 2969, 'amongst': 218, 'tall': 4362, 'lincoln': 2608, 'capturing': 679, 'essence': 1521, 'persona': 3239, 'literally': 2622, 'todd': 4510, 'tribute': 4581, 'widely': 4881, 'greatest': 1966, 'president': 3378, 'quiet': 3492, 'surely': 4309, 'image': 2233, 'ashamed': 312, 'buying': 641, 'renting': 3629, 'festival': 1697, 'junk': 2436, 'mixture': 2878, 'helped': 2080, 'crappy': 1032, 'prequel': 3372, 'adding': 117, 'crucial': 1068, 'books': 536, 'interviews': 2330, 'strangely': 4212, 'appalling': 268, 'buff': 611, 'judge': 2424, 'bland': 500, 'extras': 1608, 'appear': 273, 'weapons': 4829, 'thanks': 4423, 'cinderella': 815, '1999': 27, 'castle': 712, 'anyways': 262, 'remains': 3611, 'map': 2733, 'midnight': 2834, 'aside': 315, 'unless': 4669, 'cure': 1081, 'handsome': 2021, 'motivation': 2914, 'historical': 2119, 'naturally': 2974, 'billy': 482, 'forgettable': 1794, 'martin': 2748, 'punch': 3466, 'adam': 111, 'sandler': 3781, 'comedian': 887, 'jealous': 2388, 'obnoxious': 3067, 'paid': 3169, 'useless': 4695, 'hamlet': 2013, 'enjoys': 1489, 'cell': 730, 'regular': 3592, 'burns': 628, 'guest': 1992, 'spots': 4132, 'commercials': 903, 'refreshing': 3586, 'listed': 2618, 'jane': 2380, '2004': 34, 'aware': 368, 'global': 1920, '2006': 36, 'corner': 996, 'bore': 540, 'ginger': 1908, 'rogers': 3725, 'quick': 3490, 'newspaper': 3006, '1933': 12, 'productions': 3420, 'businessman': 634, 'garden': 1872, 'lovers': 2673, 'secretary': 3850, 'pat': 3208, 'morgan': 2905, 'fired': 1735, 'learns': 2553, 'inspector': 2299, 'clues': 865, 'dropped': 1370, 'relevant': 3604, 'harvey': 2042, 'cards': 683, 'snake': 4042, 'houses': 2180, 'system': 4345, 'rooms': 3736, 'russell': 3761, 'revelation': 3674, 'circumstances': 822, 'buildings': 616, 'assistant': 326, 'satisfying': 3791, 'charlie': 765, 'suspects': 4328, 'deadly': 1133, 'bloody': 513, 'philip': 3252, 'sunday': 4293, 'afternoon': 144, 'texas': 4418, 'seven': 3903, 'bar': 396, 'halloween': 2010, 'fears': 1677, 'nightmares': 3015, 'explanation': 1590, 'isolated': 2363, 'area': 286, 'friday': 1834, '13th': 5, 'breasts': 572, 'motives': 2916, 'trapped': 4564, 'struggling': 4236, 'laid': 2508, 'misses': 2868, 'attraction': 350, 'enters': 1496, 'johnny': 2410, 'artists': 309, 'painting': 3175, 'instant': 2305, 'enter': 1494, 'affair': 135, 'struggles': 4235, 'desired': 1206, 'fatal': 1664, 'describe': 1194, 'genres': 1889, 'erotic': 1515, 'drives': 1367, 'therefore': 4439, 'opinion': 3118, 'current': 1084, 'weight': 4840, 'flat': 1748, 'nicholas': 3010, 'stolen': 4195, 'anderson': 227, 'choices': 798, 'edge': 1418, 'decades': 1145, 'buried': 624, 'church': 813, 'returned': 3666, 'terrifying': 4410, 'haunted': 2050, 'occasionally': 3075, 'generous': 1886, 'split': 4120, 'among': 217, 'involves': 2348, 'pulled': 3462, 'twenty': 4612, 'information': 2288, 'evening': 1534, 'shadows': 3913, 'resemblance': 3645, 'sean': 3840, 'foster': 1809, 'dan': 1102, 'harder': 2035, 'sympathetic': 4342, 'grab': 1949, 'highlight': 2103, 'authority': 360, 'touches': 4535, 'spending': 4106, 'impressed': 2251, 'memory': 2804, 'painted': 3174, 'jackson': 2375, 'bbc': 417, 'instantly': 2306, 'increasingly': 2268, 'bakshi': 386, 'bone': 533, 'understandable': 4644, 'flight': 1757, 'arms': 294, 'mail': 2706, 'created': 1037, 'counter': 1011, 'worn': 4948, 'convincingly': 986, 'movements': 2924, 'introduction': 2339, 'skill': 4013, 'sum': 4289, 'effectively': 1430, 'ring': 3698, 'speech': 4102, 'changed': 750, 'dirty': 1268, 'montage': 2894, 'engaging': 1481, 'jesus': 2399, 'planned': 3290, 'contemporary': 965, 'youth': 4994, 'figures': 1713, 'plausible': 3295, 'illogical': 2231, 'matters': 2770, 'hardcore': 2034, 'feed': 1683, 'sucked': 4270, 'commented': 900, 'media': 2789, 'rip': 3700, 'twist': 4617, 'laughed': 2532, 'sheer': 3925, 'cd': 728, 'deliberately': 1166, 'resident': 3647, 'infamous': 2284, 'documentaries': 1306, 'majority': 2712, 'regardless': 3590, 'internet': 2327, 'strangers': 4214, 'spectacular': 4101, 'stan': 4142, 'inept': 2281, 'unseen': 4678, 'wayne': 4821, 'batman': 413, 'genuine': 1891, 'cave': 727, 'introduces': 2338, 'protect': 3443, 'dawn': 1127, 'gradually': 1952, 'werewolf': 4850, 'theme': 4433, 'plots': 3310, 'locations': 2636, 'catchy': 717, 'listen': 2619, 'stiff': 4187, 'cutting': 1092, 'flawed': 1750, 'escaped': 1518, 'distribution': 1298, 'titles': 4506, 'stooges': 4200, 'wood': 4933, 'stood': 4199, 'flaws': 1752, 'inevitable': 2282, 'nonetheless': 3029, 'cop': 991, 'pot': 3354, 'excessive': 1560, 'melodrama': 2797, 'sentimental': 3882, 'overdone': 3152, 'button': 639, 'hall': 2009, '14': 6, 'guessed': 1990, 'dad': 1095, 'wear': 4830, 'tape': 4365, 'starting': 4158, 'hanks': 2025, 'beloved': 461, 'ran': 3513, 'direct': 1258, 'prove': 3445, 'mixed': 2877, 'aging': 153, 'ms': 2931, 'april': 284, 'chick': 786, 'bell': 458, 'frustration': 1843, 'holmes': 2139, 'unusual': 4681, 'period': 3236, 'cox': 1026, 'cannot': 670, 'locked': 2637, 'chased': 770, 'intentions': 2321, 'veteran': 4724, 'campbell': 663, 'fever': 1699, 'hilariously': 2107, 'comedies': 889, 'zone': 4999, 'heavy': 2070, 'guard': 1988, 'andrews': 229, 'complex': 923, 'loaded': 2632, 'brutal': 603, 'ironic': 2355, 'packed': 3166, 'grew': 1972, 'vietnam': 4735, 'hundred': 2195, 'younger': 4990, 'miserably': 2864, 'goal': 1925, 'poem': 3312, 'impact': 2244, 'exploration': 1593, 'muslim': 2949, 'liking': 2604, 'weakest': 4825, 'link': 2613, 'correct': 1000, 'ridiculously': 3694, 'simplistic': 3985, 'monkey': 2890, 'means': 2783, 'disgusting': 1286, 'dressed': 1358, 'clothing': 861, 'cowboy': 1025, 'hat': 2045, 'stomach': 4196, 'steel': 4173, 'monkeys': 2891, 'sign': 3970, 'references': 3583, 'stress': 4220, 'dolls': 1316, 'reaching': 3539, 'glimpse': 1919, 'wall': 4781, 'species': 4098, 'powell': 3358, 'belief': 451, 'walked': 4776, 'arrogant': 303, 'chair': 742, 'bedroom': 437, 'blunt': 520, 'specific': 4099, 'closet': 858, 'stylish': 4251, 'logical': 2639, 'status': 4165, 'potentially': 3356, 'titled': 4505, 'elderly': 1440, 'ralph': 3510, 'private': 3404, 'ease': 1404, 'noble': 3021, 'explaining': 1588, 'professor': 3422, 'diamond': 1236, 'birds': 485, 'failing': 1627, 'spoof': 4127, 'dire': 1257, 'business': 633, 'peoples': 3222, 'paper': 3183, 'capable': 672, 'bumbling': 622, 'jesse': 2397, 'ethan': 1528, 'julie': 2428, 'backgrounds': 381, 'breath': 573, 'charisma': 762, 'smart': 4035, 'paying': 3217, 'drew': 1360, 'advertising': 132, 'executive': 1567, 'shortly': 3947, 'introduced': 2337, 'suggests': 4282, 'pretend': 3381, 'annoyed': 248, 'caliber': 649, 'loosely': 2651, 'wwii': 4975, 'burned': 626, 'teaching': 4377, 'answers': 252, 'punk': 3468, 'opened': 3113, 'mansion': 2731, 'trouble': 4592, 'lay': 2542, 'mom': 2885, 'centers': 734, 'driving': 1368, 'communist': 907, 'dinner': 1254, 'blacks': 494, 'bigger': 479, 'carrying': 701, 'idiot': 2218, 'rid': 3690, 'arrested': 298, '40s': 49, 'convoluted': 987, 'laughable': 2530, 'talents': 4356, 'suggest': 4280, 'segment': 3867, 'dollar': 1314, 'international': 2326, 'masses': 2755, 'succeeded': 4263, 'exotic': 1574, 'ancient': 225, 'glorious': 1921, 'hence': 2083, 'altogether': 202, 'junior': 2435, 'regard': 3588, 'accompanied': 86, 'term': 4405, 'dollars': 1315, 'rental': 3627, 'grandmother': 1955, 'moore': 2901, 'attached': 336, 'stinker': 4191, 'horrid': 2165, 'needless': 2989, 'frankly': 1823, 'composed': 926, 'news': 3005, 'embarrassing': 1454, 'brains': 563, 'gene': 1879, 'examples': 1554, 'surfing': 4311, 'endless': 1473, 'summer': 4291, 'brown': 601, 'includes': 2263, 'rush': 3759, 'provided': 3449, 'food': 1778, 'magazine': 2701, 'families': 1644, '1960s': 15, 'todays': 4509, 'improve': 2254, 'splatter': 4118, 'promised': 3431, 'countries': 1013, 'pushing': 3479, 'crafted': 1029, 'integrity': 2311, 'walker': 4778, 'description': 1197, 'producer': 3415, 'titanic': 4503, 'exist': 1569, 'complaint': 920, 'perform': 3227, 'rings': 3699, 'trilogy': 4586, 'constant': 957, 'achievement': 94, 'faults': 1669, 'prefer': 3368, 'davis': 1126, 'indie': 2276, 'stretch': 4221, 'underrated': 4642, 'davies': 1125, 'chaplin': 756, 'douglas': 1334, 'wannabe': 4787, 'cameo': 657, 'jerry': 2396, 'extent': 1605, 'appropriate': 283, 'stereotypical': 4180, 'formulaic': 1803, 'seeks': 3860, 'screening': 3830, 'sell': 3871, 'frequently': 1832, 'chinese': 796, 'estate': 1525, 'built': 618, 'merit': 2816, 'gross': 1978, 'propaganda': 3435, 'niro': 3019, 'finest': 1730, 'knowing': 2490, 'brave': 567, 'ball': 388, 'bergman': 466, 'sophisticated': 4075, 'critic': 1061, 'journey': 2421, 'kiss': 2483, 'relation': 3595, 'mask': 2752, 'illegal': 2229, 'frequent': 1831, 'shining': 3933, 'described': 1195, 'ultimate': 4627, 'proof': 3434, 'videos': 4734, 'spain': 4091, 'sea': 3838, 'precious': 3366, 'odds': 3082, 'impression': 2252, 'powers': 3361, 'delivered': 1170, 'figured': 1712, 'formula': 1802, 'wave': 4818, 'snow': 4045, 'betty': 474, 'jr': 2423, 'relations': 3596, 'nostalgia': 3038, 'carry': 700, 'screens': 3832, 'bothered': 549, 'fool': 1779, 'mission': 2870, 'revolutionary': 3681, 'arnold': 296, 'swimming': 4338, 'reduced': 3579, 'teachers': 4376, 'retired': 3664, 'learned': 2551, 'swim': 4337, 'covers': 1024, 'relatives': 3601, 'irony': 2357, 'stewart': 4184, 'range': 3516, 'ie': 2221, 'aliens': 184, 'host': 2173, 'pays': 3218, 'homage': 2141, 'cleverly': 842, 'fallen': 1638, 'picking': 3267, 'fabulous': 1615, 'errors': 1516, 'island': 2361, 'hates': 2048, 'angels': 234, 'costs': 1004, 'whatsoever': 4861, 'vast': 4716, 'aimed': 162, 'civilization': 827, 'website': 4834, 'street': 4216, 'devoid': 1230, 'lynch': 2691, 'hint': 2112, 'innovative': 2295, 'carefully': 689, 'earned': 1401, 'nomination': 3026, 'suitable': 4285, 'cusack': 1088, 'drop': 1369, 'meeting': 2794, 'sappy': 3784, 'deeper': 1155, 'jeremy': 2394, 'onto': 3111, 'curiosity': 1082, 'soldiers': 4054, 'drops': 1372, 'rangers': 3517, 'natural': 2973, 'rubber': 3747, 'section': 3853, 'higher': 2101, 'sounds': 4084, 'september': 3884, 'mexican': 2826, 'filmmaker': 1719, 'criticism': 1063, 'damn': 1100, 'trash': 4565, 'daddy': 1096, 'cook': 988, 'cars': 702, 'purchased': 3470, 'exists': 1573, 'devil': 1228, 'fancy': 1649, 'disaster': 1276, 'woody': 4936, 'retarded': 3663, 'hearing': 2063, 'appreciated': 280, 'rented': 3628, 'began': 441, 'inappropriate': 2259, 'laughing': 2533, 'caused': 724, 'boat': 523, 'golden': 1934, 'nominated': 3025, 'butler': 637, 'burt': 629, 'johnson': 2411, 'susan': 4326, 'fortune': 1806, 'thomas': 4458, 'happily': 2030, 'anne': 246, 'uncle': 4636, 'pearl': 3220, 'perry': 3237, 'humble': 2191, 'anthony': 253, '35': 45, 'scenario': 3808, 'drugs': 1374, 'empathy': 1462, 'incident': 2260, 'creator': 1043, 'seemingly': 3863, 'concerning': 933, 'vengeance': 4719, 'merely': 2815, 'anger': 235, 'justify': 2439, 'argument': 291, 'serve': 3893, 'capital': 673, 'calm': 655, 'served': 3894, 'insight': 2298, 'wilson': 4891, 'jungle': 2434, 'demented': 1176, 'trite': 4589, 'nations': 2971, 'distinct': 1296, 'subjects': 4254, 'afford': 138, 'thousand': 4465, 'sloppy': 4030, 'inferior': 2285, 'meaningful': 2781, 'claim': 828, 'market': 2740, 'brady': 561, 'brand': 565, 'improvement': 2256, 'comparing': 913, 'influenced': 2287, 'latest': 2526, 'decade': 1144, 'likewise': 2603, 'till': 4493, 'contrived': 976, 'helicopter': 2076, 'survivors': 4325, 'fooled': 1780, 'variety': 4714, 'cheek': 779, 'boredom': 542, 'pamela': 3179, 'welles': 4844, 'changing': 752, 'unintentional': 4658, 'unwatchable': 4682, 'rolled': 3729, 'plague': 3285, 'berlin': 467, 'astaire': 330, 'navy': 2976, 'pair': 3176, 'stopped': 4202, 'imitation': 2241, 'sings': 3997, 'satan': 3787, 'moon': 2900, 'hollow': 2135, 'price': 3389, 'explosions': 1597, 'ladies': 2506, 'sutherland': 4333, 'disappeared': 1271, 'turkey': 4604, 'charge': 761, 'techniques': 4384, 'cuts': 1091, 'throw': 4479, 'ticket': 4487, 'blade': 495, 'vivid': 4760, 'storytelling': 4209, 'childrens': 793, 'wars': 4804, 'firstly': 1737, 'cliche': 843, 'combined': 885, 'richards': 3687, 'karen': 2444, 'blair': 497, 'julia': 2427, 'duo': 1386, 'cousin': 1021, 'bathroom': 412, 'consequences': 947, 'pan': 3180, 'tonight': 4519, 'connect': 944, 'law': 2538, 'pants': 3182, 'miscast': 2862, 'fest': 1696, 'pie': 3271, 'gothic': 1945, 'notes': 3046, 'hardy': 2037, 'producing': 3417, 'chases': 771, 'comics': 895, 'web': 4833, 'combat': 882, 'captain': 674, 'challenging': 744, 'beats': 426, 'caring': 691, 'warriors': 4803, 'upon': 4684, 'choreographed': 801, 'stunning': 4244, 'colorful': 878, 'acid': 95, 'subtitles': 4259, '1980s': 21, 'brain': 562, 'virus': 4752, 'frustrated': 1842, 'sends': 3876, 'code': 869, 'patient': 3211, 'reaches': 3538, 'expert': 1585, 'severe': 3906, 'broken': 594, 'dear': 1140, 'manipulative': 2727, 'confusion': 943, 'flies': 1756, 'unbearable': 4633, 'advise': 134, 'hip': 2114, 'robot': 3717, 'maggie': 2702, 'lively': 2627, 'deals': 1137, 'valuable': 4708, 'vacation': 4704, 'harry': 2039, 'possibility': 3349, 'melting': 2799, 'admire': 121, 'eager': 1396, 'intrigued': 2334, 'physically': 3263, 'myers': 2952, 'dealt': 1138, 'aired': 165, 'cried': 1054, 'australian': 357, 'mechanical': 2788, 'basis': 408, 'handful': 2017, 'zero': 4996, 'intentionally': 2320, 'lab': 2501, 'entry': 1504, 'routine': 3743, 'entertained': 1498, 'watchable': 4812, 'pleasantly': 3303, 'stuck': 4237, 'diane': 1238, 'keaton': 2448, 'revealing': 3672, 'neo': 2998, 'negative': 2991, '45': 50, 'cares': 690, 'stale': 4141, 'pretentious': 3383, 'satisfied': 3789, 'cartoons': 705, 'repeat': 3630, 'claimed': 829, 'produce': 3413, 'alas': 172, 'kapoor': 2443, 'khan': 2459, 'whoever': 4872, 'abilities': 64, 'nicholson': 3011, 'bollywood': 530, 'currently': 1085, 'suited': 4286, 'glenn': 1918, 'bound': 553, 'rick': 3689, 'brilliance': 582, 'sucks': 4271, 'covered': 1023, 'handed': 2016, 'seventies': 3904, 'slightest': 4028, 'campy': 664, 'sin': 3988, 'acceptable': 81, 'sensitive': 3879, 'matthew': 2772, 'psycho': 3457, 'hurts': 2203, 'devils': 1229, 'subtlety': 4261, 'elegant': 1441, 'lyrics': 2692, 'artistic': 308, 'lumet': 2688, 'cary': 706, 'grant': 1956, 'tight': 4492, 'construction': 960, 'ian': 2209, 'handle': 2018, 'poetry': 3314, 'pink': 3277, 'ham': 2011, 'reads': 3545, 'panic': 3181, 'colors': 879, 'nonsense': 3030, 'beating': 425, 'urban': 4688, 'goldberg': 1933, 'ruth': 3763, 'warner': 4799, 'delivering': 1171, 'airplane': 166, 'shed': 3924, 'childish': 791, 'females': 1694, '1950s': 14, 'roman': 3731, 'cagney': 646, 'strictly': 4223, 'league': 2549, 'believed': 455, 'rocky': 3723, 'tad': 4347, 'deaf': 1134, 'rescue': 3643, 'thugs': 4484, 'rap': 3520, 'westerns': 4854, 'format': 1799, 'civil': 826, 'destruction': 1216, 'science': 3816, 'literature': 2623, 'lily': 2605, 'wrapped': 4964, 'gift': 1906, 'godfather': 1927, 'topless': 4527, 'neighborhood': 2993, 'mob': 2879, 'suffers': 4278, 'paulie': 3215, 'mistress': 2874, 'edie': 1419, 'ties': 4490, 'response': 3654, 'descent': 1193, 'tortured': 4530, 'existent': 1572, 'alice': 182, 'danes': 1108, 'conservative': 948, 'lucky': 2683, 'reflection': 3585, 'security': 3854, 'recording': 3575, 'willing': 4889, 'bet': 470, 'blank': 501, 'carrey': 696, 'freeman': 1829, 'combine': 884, '2003': 33, 'antics': 255, 'carries': 699, 'goofy': 1939, 'superbly': 4297, 'polished': 3323, 'requires': 3642, 'faith': 1633, 'occasion': 3073, 'politics': 3326, 'behave': 445, 'spanish': 4092, 'horrors': 2169, 'discussion': 1284, 'suggested': 4281, 'cruel': 1070, 'dracula': 1341, 'smaller': 4034, 'invisible': 2344, 'focuses': 1768, 'discovery': 1282, 'strikes': 4225, 'karloff': 2445, 'bela': 450, 'lugosi': 2686, 'relies': 3606, 'context': 968, 'meaningless': 2782, 'stock': 4193, 'offended': 3085, 'dozen': 1338, 'essential': 1522, 'audio': 354, 'germany': 1898, 'kurt': 2499, 'tension': 4404, 'unfolds': 4651, 'degree': 1164, 'affect': 136, 'narrative': 2966, 'unhappy': 4656, 'halfway': 2008, 'incomprehensible': 2267, 'universe': 4666, 'jaws': 2385, 'copies': 992, 'explosion': 1596, 'standards': 4145, 'tap': 4364, 'describes': 1196, '1996': 26, 'attitude': 346, 'beach': 419, 'reach': 3536, 'purple': 3473, 'bible': 477, 'christ': 807, 'vice': 4727, 'legs': 2566, 'religious': 3608, 'virgin': 4749, 'catherine': 719, 'mann': 2728, 'shelley': 3928, 'andy': 230, 'southern': 4088, 'worker': 4942, 'buddies': 608, 'funnier': 1850, 'determined': 1221, 'marvelous': 2750, 'send': 3875, 'horrific': 2166, 'pitt': 3280, 'francis': 1818, 'hire': 2116, 'dignity': 1252, 'adams': 112, 'witch': 4909, 'jon': 2416, '1984': 23, '20th': 38, 'voiced': 4762, 'pokemon': 3320, 'weve': 4856, 'brad': 560, 'bette': 471, 'bridge': 578, 'educational': 1425, 'realism': 3549, 'bleak': 503, 'gratuitous': 1961, 'faster': 1662, 'qualities': 3483, 'pulling': 3463, 'board': 522, 'fill': 1714, 'medium': 2792, 'amateurish': 207, 'lowest': 2678, 'immensely': 2243, 'whenever': 4863, 'imagined': 2239, 'hal': 2006, 'featured': 1679, 'offered': 3088, 'intrigue': 2333, 'political': 3324, 'madonna': 2699, 'spring': 4134, 'alexander': 180, 'expressions': 1603, 'transition': 4561, 'kim': 2475, 'smiling': 4037, 'timothy': 4499, 'uk': 4626, 'recognition': 3568, 'soviet': 4089, 'russian': 3762, 'arrival': 299, 'oil': 3097, 'secondly': 3847, 'kenneth': 2455, 'branagh': 564, 'according': 88, 'happiness': 2031, 'derek': 1192, 'classical': 836, '60': 53, 'robin': 3715, 'adapted': 114, 'whale': 4857, 'shake': 3914, 'jumping': 2431, 'disturbed': 1299, 'believes': 456, 'wolf': 4920, 'universal': 4665, 'threw': 4470, 'thrill': 4471, 'vulnerable': 4768, 'centered': 733, 'wanna': 4786, 'solve': 4060, 'messages': 2820, 'rocket': 3721, 'unsettling': 4679, 'holding': 2130, 'homeless': 2143, 'iraq': 2351, 'succeed': 4262, 'technology': 4385, 'directs': 1267, 'morris': 2908, 'tender': 4401, 'overlook': 3153, 'capture': 676, 'warrior': 4802, 'brenda': 575, 'embarrassed': 1453, 'nuts': 3064, 'hook': 2152, 'shark': 3921, 'reynolds': 3684, 'winters': 4901, 'shirley': 3936, 'temple': 4398, 'menacing': 2807, 'blond': 510, 'belongs': 460, 'piano': 3264, 'britain': 588, 'notion': 3050, 'root': 3737, 'showdown': 3955, 'asian': 314, 'frightening': 1839, 'pop': 3330, 'eerie': 1427, 'marks': 2742, 'kingdom': 2480, 'downhill': 1336, 'husbands': 2205, 'display': 1291, 'site': 4005, 'blame': 499, 'sole': 4055, 'bath': 411, 'domino': 1319, 'tied': 4489, 'bus': 631, 'blow': 514, 'bomb': 531, 'mickey': 2831, 'suffering': 4277, 'drivel': 1364, 'statement': 4162, 'eating': 1413, 'primarily': 3393, 'primary': 3394, 'focusing': 1769, 'cg': 739, 'godzilla': 1929, 'introduce': 2336, 'overly': 3155, 'spoke': 4125, 'borrowed': 545, 'task': 4368, 'buffs': 612, 'actresses': 106, 'fay': 1674, 'angela': 232, 'con': 928, 'chicago': 785, 'superman': 4301, 'cops': 993, 'signs': 3973, 'chest': 784, 'farce': 1654, 'staged': 4140, 'mst3k': 2932, 'mike': 2838, 'wisdom': 4902, 'department': 1182, 'gotta': 1946, 'insulting': 2310, 'juvenile': 2441, 'ignorant': 2223, 'lesbian': 2573, 'idiotic': 2219, 'knock': 2488, 'sleazy': 4023, 'lena': 2568, 'movement': 2923, 'groups': 1981, 'facing': 1620, 'clown': 862, 'safety': 3772, 'nude': 3058, 'ballet': 389, 'slight': 4027, 'builds': 617, 'intention': 2319, 'scarecrow': 3804, 'cared': 685, 'forgot': 1796, 'sunshine': 4294, 'receive': 3563, 'jessica': 2398, 'disagree': 1269, 'hung': 2197, 'overcome': 3151, 'dinosaurs': 1256, 'beings': 449, 'dinosaur': 1255, 'seasons': 3844, 'flash': 1745, 'spoiled': 4122, 'mentally': 2809, 'hollywoods': 2138, '3000': 43, 'cheese': 780, 'yelling': 4980, 'loss': 2659, 'engage': 1479, 'represents': 3639, 'recorded': 3574, 'print': 3399, 'scottish': 3825, 'adorable': 124, 'vs': 4767, 'sentence': 3881, 'hood': 2151, 'gangsters': 1869, 'al': 170, 'masters': 2761, 'legal': 2563, 'destroyed': 1214, 'bobby': 525, 'challenge': 743, 'jimmy': 2403, 'laurel': 2537, 'visits': 4756, 'amitabh': 216, 'invasion': 2340, 'category': 718, 'outer': 3143, 'gag': 1861, 'parallel': 3185, 'hills': 2109, 'ned': 2986, 'petty': 3249, 'advice': 133, 'lousy': 2667, 'inevitably': 2283, 'cliff': 847, 'factor': 1622, 'duty': 1390, 'dreary': 1356, 'irrelevant': 2358, 'praise': 3364, 'questionable': 3488, 'beaten': 424, 'education': 1424, 'satire': 3788, 'womens': 4924, 'coach': 868, 'training': 4558, 'sudden': 4272, 'columbo': 881, 'andrew': 228, 'stevens': 4183, 'abysmal': 76, 'projects': 3428, 'santa': 3783, 'macy': 2695, 'edited': 1420, 'illness': 2230, 'remind': 3618, 'jobs': 2406, 'prisoners': 3403, 'neat': 2982, 'contained': 963, 'merits': 2817, 'ignore': 2224, 'surrounding': 4319, 'der': 1191, 'fulci': 1845, 'spite': 4117, 'comfortable': 892, 'fault': 1668, 'discover': 1279, 'progresses': 3426, 'surprises': 4314, 'kirk': 2482, 'fascinated': 1657, 'intellectual': 2312, 'community': 908, 'edgar': 1417, 'shoots': 3944, 'lie': 2590, 'walks': 4780, 'flynn': 1765, 'realizing': 3555, 'credible': 1048, 'drawing': 1350, 'lol': 2640, 'reached': 3537, 'bond': 532, 'babe': 375, 'clip': 851, 'broke': 593, 'methods': 2825, 'trademark': 4548, 'boom': 537, 'scripts': 3836, 'ingredients': 2289, 'sharp': 3922, 'debut': 1143, 'massacre': 2754, 'online': 3109, 'atmospheric': 334, 'raising': 3509, 'operation': 3117, 'concerned': 932, 'directorial': 1265, 'fits': 1741, 'hysterical': 2208, 'doll': 1313, 'theyd': 4443, 'twilight': 4614, 'beatty': 427, 'voight': 4764, 'reference': 3582, 'carter': 703, 'depression': 1189, 'uncomfortable': 4637, 'freddy': 1826, 'suspend': 4329, 'jenny': 2393, 'widow': 4883, 'closed': 854, 'possibilities': 3348, 'truck': 4595, 'dreams': 1355, 'bitter': 491, 'mentioning': 2812, '18': 10, 'cartoon': 704, 'travesty': 4570, '75': 57, 'loser': 2655, 'controversial': 978, 'bucks': 606, 'hopeless': 2158, 'writes': 4970, 'bo': 521, 'tarzan': 4367, 'ape': 266, 'worry': 4950, 'grinch': 1975, 'circle': 821, 'sky': 4017, 'harsh': 2040, 'alfred': 181, 'awfully': 373, 'olivier': 3103, 'views': 4742, 'burton': 630, 'apes': 267, 'via': 4726, 'rotten': 3740, 'mildred': 2841, 'raise': 3507, 'sally': 3776, 'coffee': 870, 'sadness': 3770, 'blob': 507, 'depicting': 1184, 'performed': 3230, 'drink': 1361, 'classics': 837, 'belong': 459, 'consistently': 954, 'magnificent': 2705, 'lane': 2515, 'mild': 2839, 'forty': 1807, 'messed': 2821, 'felix': 1689, 'kennedy': 2454, 'troubled': 4593, 'corporate': 998, 'quest': 3486, 'equivalent': 1512, 'returning': 3667, 'shelf': 3926, 'forth': 1804, 'incompetent': 2266, 'library': 2589, 'jonathan': 2417, 'barry': 401, 'norman': 3035, 'bob': 524, 'opinions': 3119, 'losers': 2656, 'costume': 1005, 'americas': 215, 'clint': 850, 'eastwood': 1409, 'taxi': 4371, 'friendly': 1836, 'gods': 1928, 'mexico': 2827, 'outfit': 3144, 'contract': 973, 'typically': 4624, 'ah': 158, 'arrived': 301, 'jazz': 2387, 'scores': 3823, 'emily': 1456, 'intimate': 2331, 'bold': 528, 'conflicts': 940, 'chess': 783, 'generations': 1884, 'craft': 1028, 'jeff': 2390, 'wet': 4855, 'eaten': 1412, 'trained': 4557, 'blowing': 515, 'teens': 4392, 'abusive': 75, 'twins': 4616, 'mall': 2720, 'leonard': 2572, 'latin': 2527, 'criminals': 1058, 'implausible': 2245, 'clichés': 846, 'politically': 3325, 'contest': 967, 'murderer': 2941, 'official': 3094, 'matched': 2763, 'alien': 183, 'escapes': 1519, 'national': 2970, 'los': 2653, 'angeles': 233, 'tears': 4380, 'hideous': 2098, 'conversations': 981, 'nuclear': 3057, 'reel': 3581, 'namely': 2962, 'sincere': 3991, 'progress': 3425, 'joined': 2413, 'victoria': 4732, 'frame': 1815, 'rushed': 3760, 'lasted': 2522, 'comical': 894, 'attractive': 351, 'quotes': 3497, 'treats': 4575, 'sullivan': 4288, 'witnesses': 4916, 'deceased': 1146, 'birthday': 487, 'contrary': 974, 'speaks': 4096, 'related': 3594, 'carrie': 697, 'fisher': 1739, 'lucas': 2680, 'rocks': 3722, 'chances': 748, 'consistent': 953, 'nonsensical': 3031, 'convey': 982, 'crush': 1072, 'tiresome': 4502, 'holly': 2136, 'ought': 3138, 'orson': 3132, 'robbery': 3711, 'fbi': 1675, 'trek': 4578, 'union': 4661, '90s': 61, 'cheated': 775, 'analysis': 224, 'moronic': 2907, 'cameos': 658, 'wandering': 4785, 'decisions': 1152, 'pal': 3177, 'manager': 2724, 'exaggerated': 1552, 'monk': 2889, 'giallo': 1904, 'phantom': 3251, 'iran': 2350, 'grasp': 1960, 'subsequent': 4257, 'stronger': 4230, 'darker': 1116, 'charlotte': 766, 'disappear': 1270, 'dutch': 1389, 'iii': 2227, 'creep': 1051, 'wore': 4939, 'wished': 4905, 'blend': 504, 'performer': 3231, 'larry': 2520, 'ignored': 2225, 'gifted': 1907, 'resist': 3648, 'sellers': 3872, 'novels': 3053, 'visually': 4758, 'players': 3299, 'diana': 1237, 'hammer': 2014, 'presentation': 3375, 'translation': 4562, 'similarly': 3980, '2000': 30, 'feminist': 1695, 'idiots': 2220, 'curse': 1086, 'miike': 2837, 'souls': 4080, 'pseudo': 3454, 'honesty': 2148, 'ratings': 3530, 'chuck': 812, 'seagal': 3839, 'sneak': 4043, 'inventive': 2341, 'chorus': 803, 'chicks': 787, 'horrendous': 2162, 'robinson': 3716, 'represented': 3638, 'catching': 716, 'florida': 1761, 'saves': 3796, 'hank': 2024, 'lawrence': 2539, 'disneys': 1290, 'atlantis': 332, 'endings': 1472, 'gentle': 1890, 'dressing': 1359, 'met': 2822, 'gender': 1878, 'officers': 3093, 'switch': 4339, 'push': 3477, 'thick': 4447, 'unaware': 4632, 'lucy': 2684, 'laura': 2536, 'thrillers': 4473, 'dramas': 1347, 'passionate': 3206, '3d': 46, 'celluloid': 731, 'huh': 2187, 'swedish': 4335, 'assault': 324, 'sue': 4274, 'bride': 577, 'blues': 519, 'roger': 3724, 'icon': 2211, 'barbara': 397, 'advantage': 129, 'depressing': 1188, 'exact': 1550, 'property': 3438, 'commercial': 902, 'throat': 4476, 'easier': 1405, 'separate': 3883, 'beliefs': 452, 'rank': 3518, 'harris': 2038, 'wishing': 4907, 'snl': 4044, 'lone': 2642, 'method': 2824, 'relative': 3599, 'scheme': 3812, 'millions': 2848, 'sidekick': 3966, 'journalist': 2420, 'knife': 2487, 'fighter': 1708, 'prisoner': 3402, 'models': 2881, 'elephant': 1444, 'closer': 856, 'blatant': 502, 'stiller': 4189, 'clips': 852, 'conspiracy': 956, 'bush': 632, 'kudos': 2497, 'caine': 647, 'ruby': 3749, 'agrees': 157, 'slave': 4022, 'bear': 420, 'horribly': 2164, 'parent': 3187, 'marty': 2749, 'expensive': 1579, 'explored': 1595, 'involvement': 2347, 'thief': 4448, 'assigned': 325, 'spike': 4111, 'hop': 2154, 'taught': 4370, 'masterpieces': 2760, 'countryside': 1015, 'hundreds': 2196, 'cia': 814, 'walken': 4777, 'mitchell': 2875, 'unbelievably': 4635, 'resources': 3651, 'simpson': 3987, 'lying': 2690, 'alongside': 196, 'elm': 1447, 'celebrity': 729, 'timeless': 4496, 'tends': 4402, 'mix': 2876, 'grey': 1973, 'forbidden': 1785, 'block': 508, 'domestic': 1318, 'dickens': 1240, 'props': 3439, 'terrorist': 4413, 'involve': 2345, 'busy': 635, 'dave': 1123, 'aid': 160, 'vincent': 4746, 'detailed': 1218, 'miserable': 2863, 'floating': 1758, 'inspiration': 2300, 'synopsis': 4344, 'bacall': 377, 'persons': 3244, 'dialogs': 1233, 'experiment': 1583, 'rex': 3683, '1983': 22, 'hbo': 2055, 'singers': 3994, 'maria': 2736, 'st': 4137, 'bugs': 613, 'yellow': 4981, 'similarities': 3979, 'occurred': 3077, 'loads': 2633, 'passes': 3203, 'compelled': 915, 'represent': 3637, 'performs': 3234, 'sink': 3999, 'despair': 1207, 'wrestling': 4966, '1940s': 13, 'brutally': 604, 'funeral': 1849, 'riveting': 3708, 'enormous': 1490, 'australia': 356, 'laughably': 2531, 'louise': 2666, 'pursuit': 3476, 'miracle': 2860, 'blows': 517, 'emma': 1457, 'clumsy': 866, 'ya': 4976, 'teach': 4374, 'dawson': 1128, 'priceless': 3390, 'stanwyck': 4149, 'cuba': 1075, 'understated': 4646, 'distant': 1295, 'abraham': 69, '13': 4, 'subplot': 4255, '3rd': 47, 'sitcom': 4004, 'crisis': 1060, 'discuss': 1283, 'seeking': 3859, 'manhattan': 2726, 'courage': 1018, 'kubrick': 2496, 'heavily': 2069, 'doom': 1326, 'remaining': 3610, 'glory': 1922, 'pops': 3332, 'horses': 2171, 'traveling': 4568, 'square': 4136, 'peace': 3219, 'disappoint': 1272, 'destroying': 1215, 'modesty': 2883, 'kissing': 2484, 'serving': 3897, 'trashy': 4566, 'wholly': 4874, '2nd': 41, 'dancers': 1105, 'conceived': 929, 'mundane': 2938, 'lengthy': 2570, 'transformation': 4560, 'characterization': 759, 'satisfy': 3790, 'boot': 538, 'doctors': 1305, 'curtis': 1087, 'north': 3036, 'stranger': 4213, 'smooth': 4041, '24': 39, 'mayor': 2777, 'highlights': 2104, 'pg': 3250, 'exposure': 1599, 'signed': 3971, 'spooky': 4128, 'wes': 4851, 'airport': 167, 'fashioned': 1660, 'craven': 1034, 'doubts': 1333, 'defend': 1158, 'homosexual': 2145, 'fields': 1705, 'everyones': 1543, 'joey': 2408, 'pulp': 3465, 'alcohol': 176, 'rambo': 3511, 'cameron': 661, 'hugh': 2186, 'disjointed': 1287, 'sandra': 3782, 'hitchcock': 2123, 'franco': 1820, 'brilliantly': 584, 'marie': 2737, 'watches': 4814, 'purchase': 3469, 'tooth': 4524, 'amy': 222, 'carl': 692, 'duke': 1383, 'slap': 4018, 'practice': 3363, '1972': 18, 'bourne': 554, 'travels': 4569, 'crocodile': 1065, 'doors': 1329, 'hippie': 2115, 'wicked': 4879, 'virginia': 4750, 'stones': 4198, 'obsession': 3070, 'tag': 4348, 'psychic': 3456, '2007': 37, 'da': 1094, 'visible': 4753, 'nervous': 2999, 'simplicity': 3984, 'cabin': 643, 'musicals': 2948, 'household': 2179, 'useful': 4694, 'akshay': 169, 'moody': 2899, 'ramones': 3512, 'elvis': 1451, 'settle': 3902, 'sidney': 3968, 'displays': 1293, 'eyre': 1614, 'rochester': 3719, 'furthermore': 1854, 'explicit': 1591, 'displayed': 1292, 'valley': 4707, 'hiding': 2099, 'roberts': 3714, 'damon': 1101, 'nostalgic': 3039, 'sinatra': 3989, 'simmons': 3981, 'mistaken': 2872, 'hyde': 2206, 'thru': 4483, 'carradine': 695, 'definition': 1163, 'brooklyn': 595, 'continued': 970, 'swear': 4334, 'styles': 4250, 'proceeds': 3411, 'considerable': 950, 'horrifying': 2167, 'concert': 935, 'peters': 3248, 'jaw': 2384, '30s': 44, 'gadget': 1860, 'homer': 2144, 'versus': 4722, 'fury': 1855, 'landing': 2512, 'noise': 3024, 'preview': 3386, 'butt': 638, 'cannibal': 669, 'guarantee': 1987, 'dalton': 1098, 'outrageous': 3145, 'cinemas': 817, 'prize': 3405, 'assumed': 329, 'mgm': 2828, 'awe': 370, 'tracy': 4546, 'report': 3635, 'steps': 4177, 'stanley': 4148, 'blah': 496, 'solely': 4056, 'banned': 395, 'sid': 3964, 'unpredictable': 4675, 'coherent': 871, 'cities': 823, 'successfully': 4267, 'rabbit': 3498, 'agents': 151, 'annie': 247, 'arguably': 289, 'letters': 2582, 'doc': 1303, 'streep': 4215, 'heston': 2094, 'disease': 1285, 'motivations': 2915, 'willis': 4890, 'spielberg': 4110, 'et': 1526, 'reed': 3580, 'lesser': 2576, 'kay': 2447, 'eva': 1531, 'jake': 2377, 'ear': 1397, 'royal': 3746, 'daring': 1114, 'bang': 393, 'affected': 137, 'shy': 3962, 'wells': 4845, 'garbo': 1871, 'paltrow': 3178, 'foul': 1810, 'importance': 2246, 'streisand': 4218, 'shoes': 3941, 'futuristic': 1857, 'editor': 1423, 'defined': 1160, 'widmark': 4882, 'stargate': 4151, 'mummy': 2937, 'limits': 2607, 'advanced': 128, '1973': 19, 'mario': 2738, 'wacky': 4769, 'ninja': 3018, 'grandfather': 1954, 'richardson': 3688, 'tomatoes': 4515, 'bettie': 473, 'witches': 4910, 'unoriginal': 4673, 'ha': 2002, 'gandhi': 1866}\n"
     ]
    }
   ],
   "source": [
    "print(str(vocabulary))"
   ]
  },
  {
   "cell_type": "markdown",
   "metadata": {},
   "source": [
    "Once you have added the endpoint name to the Lambda function, click on **Save**. Your Lambda function is now up and running. Next we need to create a way for our web app to execute the Lambda function."
   ]
  },
  {
   "cell_type": "markdown",
   "metadata": {},
   "source": [
    "### Setting up API Gateway\n",
    "\n",
    "Now that our Lambda function is set up, it is time to create a new API using API Gateway that will trigger the Lambda function we have just created.\n",
    "\n",
    "Using AWS Console, navigate to **Amazon API Gateway** and then click on **Get started**.\n",
    "\n",
    "On the next page, make sure that **New API** is selected and give the new api a name, for example, `sentiment_analysis_web_app`. Then, click on **Create API**.\n",
    "\n",
    "Now we have created an API, however it doesn't currently do anything. What we want it to do is to trigger the Lambda function that we created earlier.\n",
    "\n",
    "Select the **Actions** dropdown menu and click **Create Method**. A new blank method will be created, select its dropdown menu and select **POST**, then click on the check mark beside it.\n",
    "\n",
    "For the integration point, make sure that **Lambda Function** is selected and click on the **Use Lambda Proxy integration**. This option makes sure that the data that is sent to the API is then sent directly to the Lambda function with no processing. It also means that the return value must be a proper response object as it will also not be processed by API Gateway.\n",
    "\n",
    "Type the name of the Lambda function you created earlier into the **Lambda Function** text entry box and then click on **Save**. Click on **OK** in the pop-up box that then appears, giving permission to API Gateway to invoke the Lambda function you created.\n",
    "\n",
    "The last step in creating the API Gateway is to select the **Actions** dropdown and click on **Deploy API**. You will need to create a new Deployment stage and name it anything you like, for example `prod`.\n",
    "\n",
    "You have now successfully set up a public API to access your SageMaker model. Make sure to copy or write down the URL provided to invoke your newly created public API as this will be needed in the next step. This URL can be found at the top of the page, highlighted in blue next to the text **Invoke URL**."
   ]
  },
  {
   "cell_type": "markdown",
   "metadata": {},
   "source": [
    "## Step 7: Deploying our web app\n",
    "\n",
    "Now that we have a publicly available API, we can start using it in a web app. For our purposes, we have provided a simple static html file which can make use of the public api you created earlier.\n",
    "\n",
    "In the `website` folder there should be a file called `index.html`. Download the file to your computer and open that file up in a text editor of your choice. There should be a line which contains **\\*\\*REPLACE WITH PUBLIC API URL\\*\\***. Replace this string with the url that you wrote down in the last step and then save the file.\n",
    "\n",
    "Now, if you open `index.html` on your local computer, your browser will behave as a local web server and you can use the provided site to interact with your SageMaker model.\n",
    "\n",
    "If you'd like to go further, you can host this html file anywhere you'd like, for example using github or hosting a static site on Amazon's S3. Once you have done this you can share the link with anyone you'd like and have them play with it too!\n",
    "\n",
    "> **Important Note** In order for the web app to communicate with the SageMaker endpoint, the endpoint has to actually be deployed and running. This means that you are paying for it. Make sure that the endpoint is running when you want to use the web app but that you shut it down when you don't need it, otherwise you will end up with a surprisingly large AWS bill."
   ]
  },
  {
   "cell_type": "markdown",
   "metadata": {},
   "source": [
    "### Delete the endpoint\n",
    "\n",
    "Remember to always shut down your endpoint if you are no longer using it. You are charged for the length of time that the endpoint is running so if you forget and leave it on you could end up with an unexpectedly large bill."
   ]
  },
  {
   "cell_type": "code",
   "execution_count": 52,
   "metadata": {},
   "outputs": [],
   "source": [
    "xgb_predictor.delete_endpoint()"
   ]
  },
  {
   "cell_type": "markdown",
   "metadata": {},
   "source": [
    "## Optional: Clean up\n",
    "\n",
    "The default notebook instance on SageMaker doesn't have a lot of excess disk space available. As you continue to complete and execute notebooks you will eventually fill up this disk space, leading to errors which can be difficult to diagnose. Once you are completely finished using a notebook it is a good idea to remove the files that you created along the way. Of course, you can do this from the terminal or from the notebook hub if you would like. The cell below contains some commands to clean up the created files from within the notebook."
   ]
  },
  {
   "cell_type": "code",
   "execution_count": 53,
   "metadata": {},
   "outputs": [],
   "source": [
    "# First we will remove all of the files contained in the data_dir directory\n",
    "!rm $data_dir/*\n",
    "\n",
    "# And then we delete the directory itself\n",
    "!rmdir $data_dir\n",
    "\n",
    "# Similarly we remove the files in the cache_dir directory and the directory itself\n",
    "!rm $cache_dir/*\n",
    "!rmdir $cache_dir"
   ]
  },
  {
   "cell_type": "code",
   "execution_count": null,
   "metadata": {},
   "outputs": [],
   "source": []
  }
 ],
 "metadata": {
  "kernelspec": {
   "display_name": "Python 3",
   "language": "python",
   "name": "python3"
  },
  "language_info": {
   "codemirror_mode": {
    "name": "ipython",
    "version": 3
   },
   "file_extension": ".py",
   "mimetype": "text/x-python",
   "name": "python",
   "nbconvert_exporter": "python",
   "pygments_lexer": "ipython3",
   "version": "3.7.4"
  }
 },
 "nbformat": 4,
 "nbformat_minor": 2
}
